{
 "cells": [
  {
   "cell_type": "code",
   "execution_count": 16,
   "metadata": {},
   "outputs": [
    {
     "name": "stdout",
     "output_type": "stream",
     "text": [
      "   pose_id    x_nose     y_nose      z_nose  x_left_eye_inner  \\\n",
      "0        0 -5.889507 -57.637520  -45.019750         -4.656085   \n",
      "1        1 -4.255504 -62.935925 -128.907500         -2.977403   \n",
      "2        2 -2.878917 -61.709988 -137.453340         -1.619050   \n",
      "3        3 -4.242575 -60.371220 -135.094830         -3.118133   \n",
      "4        4 -0.805543 -56.178570  -41.124413         -0.055174   \n",
      "\n",
      "   y_left_eye_inner  z_left_eye_inner  x_left_eye  y_left_eye  z_left_eye  \\\n",
      "0        -62.832863        -44.571823   -3.302626  -63.386856  -44.567863   \n",
      "1        -67.035990       -124.258545   -2.215265  -67.198250 -124.263240   \n",
      "2        -65.693750       -132.181660   -0.785822  -65.814340 -132.184070   \n",
      "3        -64.416000       -129.995930   -2.369744  -64.603290 -130.003400   \n",
      "4        -58.501305        -37.938560    0.456936  -58.473960  -37.954430   \n",
      "\n",
      "   ...  z_left_heel  x_right_heel  y_right_heel  z_right_heel  \\\n",
      "0  ...    56.852562     -0.842025     35.037060     50.565020   \n",
      "1  ...   -14.129170     -1.298891     54.733307     -6.886051   \n",
      "2  ...   -19.904400     -2.119770     51.265694    -15.554097   \n",
      "3  ...    -6.855729     -1.485475     59.729427      1.433403   \n",
      "4  ...    47.124107     -2.455719     52.861732     45.936783   \n",
      "\n",
      "   x_left_foot_index  y_left_foot_index  z_left_foot_index  \\\n",
      "0           5.842190          45.971020          50.263714   \n",
      "1           3.980098          65.370830         -49.023930   \n",
      "2           1.994894          62.725025         -57.717957   \n",
      "3           1.950102          68.187256         -42.989098   \n",
      "4           2.699764          57.254112          27.531416   \n",
      "\n",
      "   x_right_foot_index  y_right_foot_index  z_right_foot_index  \n",
      "0            0.092779           45.842150           41.427795  \n",
      "1           -5.090634           65.641780          -42.878056  \n",
      "2           -4.452602           62.494457          -53.804527  \n",
      "3           -4.573338           68.144350          -34.117043  \n",
      "4           -2.288348           57.803005           26.288315  \n",
      "\n",
      "[5 rows x 100 columns]\n"
     ]
    }
   ],
   "source": [
    "# Store the csv as a df\n",
    "import pandas as pd\n",
    "\n",
    "df = pd.read_csv('data/landmarks.csv')\n",
    "print(df.head())"
   ]
  },
  {
   "cell_type": "code",
   "execution_count": 9,
   "metadata": {},
   "outputs": [],
   "source": [
    "import pandas as pd\n",
    "from sklearn.model_selection import train_test_split\n",
    "from tensorflow.keras.utils import to_categorical\n",
    "from sklearn.preprocessing import StandardScaler, LabelEncoder"
   ]
  },
  {
   "cell_type": "code",
   "execution_count": 4,
   "metadata": {},
   "outputs": [],
   "source": [
    "# Select features and target\n",
    "X = df.drop(['pose_id'], axis=1)\n",
    "y = df['pose_id']"
   ]
  },
  {
   "cell_type": "code",
   "execution_count": 12,
   "metadata": {},
   "outputs": [],
   "source": [
    "label_encoder = LabelEncoder()\n",
    "y_encoded = label_encoder.fit_transform(y)\n",
    "y_categorical = to_categorical(y_encoded)"
   ]
  },
  {
   "cell_type": "code",
   "execution_count": 14,
   "metadata": {},
   "outputs": [
    {
     "data": {
      "text/plain": [
       "array([   0,    1,    2, ..., 1369, 1370, 1371], dtype=int64)"
      ]
     },
     "execution_count": 14,
     "metadata": {},
     "output_type": "execute_result"
    }
   ],
   "source": [
    "y_encoded"
   ]
  },
  {
   "cell_type": "code",
   "execution_count": 15,
   "metadata": {},
   "outputs": [
    {
     "name": "stdout",
     "output_type": "stream",
     "text": [
      "(1372,)\n",
      "(1372, 1372)\n"
     ]
    }
   ],
   "source": [
    "print(y.shape)\n",
    "y_categorical\n",
    "print(y_categorical.shape)"
   ]
  },
  {
   "cell_type": "code",
   "execution_count": 17,
   "metadata": {},
   "outputs": [],
   "source": [
    "# Split the dataset\n",
    "X_train, X_test, y_train, y_test = train_test_split(X, y_categorical, test_size=0.2, random_state=42)\n",
    "\n",
    "# Normalize the feature data\n",
    "scaler = StandardScaler()\n",
    "X_train_scaled = scaler.fit_transform(X_train)\n",
    "X_test_scaled = scaler.transform(X_test)"
   ]
  },
  {
   "cell_type": "code",
   "execution_count": 1,
   "metadata": {},
   "outputs": [
    {
     "ename": "NameError",
     "evalue": "name 'X_train_scaled' is not defined",
     "output_type": "error",
     "traceback": [
      "\u001b[1;31m---------------------------------------------------------------------------\u001b[0m",
      "\u001b[1;31mNameError\u001b[0m                                 Traceback (most recent call last)",
      "Cell \u001b[1;32mIn[1], line 1\u001b[0m\n\u001b[1;32m----> 1\u001b[0m \u001b[43mX_train_scaled\u001b[49m[\u001b[38;5;241m0\u001b[39m]\n",
      "\u001b[1;31mNameError\u001b[0m: name 'X_train_scaled' is not defined"
     ]
    }
   ],
   "source": [
    "X_train_scaled[0]"
   ]
  },
  {
   "cell_type": "code",
   "execution_count": 18,
   "metadata": {},
   "outputs": [
    {
     "name": "stdout",
     "output_type": "stream",
     "text": [
      "WARNING:tensorflow:From c:\\Users\\JR\\.conda\\envs\\solol\\Lib\\site-packages\\keras\\src\\backend.py:873: The name tf.get_default_graph is deprecated. Please use tf.compat.v1.get_default_graph instead.\n",
      "\n",
      "WARNING:tensorflow:From c:\\Users\\JR\\.conda\\envs\\solol\\Lib\\site-packages\\keras\\src\\optimizers\\__init__.py:309: The name tf.train.Optimizer is deprecated. Please use tf.compat.v1.train.Optimizer instead.\n",
      "\n"
     ]
    }
   ],
   "source": [
    "from tensorflow.keras.models import Sequential\n",
    "from tensorflow.keras.layers import Dense, Dropout\n",
    "\n",
    "model = Sequential([\n",
    "    Dense(128, activation='relu', input_shape=(X_train_scaled.shape[1],)),\n",
    "    Dropout(0.5),\n",
    "    Dense(64, activation='relu'),\n",
    "    Dropout(0.5),\n",
    "    Dense(y_train.shape[1], activation='softmax')  # Output layer\n",
    "])\n",
    "\n",
    "model.compile(optimizer='adam',\n",
    "              loss='categorical_crossentropy',\n",
    "              metrics=['accuracy'])\n"
   ]
  },
  {
   "cell_type": "code",
   "execution_count": 20,
   "metadata": {},
   "outputs": [
    {
     "name": "stdout",
     "output_type": "stream",
     "text": [
      "Epoch 1/100\n",
      "28/28 [==============================] - 0s 7ms/step - loss: 0.6581 - accuracy: 0.7719 - val_loss: 0.7256 - val_accuracy: 0.7545\n",
      "Epoch 2/100\n",
      "28/28 [==============================] - 0s 3ms/step - loss: 0.7074 - accuracy: 0.7423 - val_loss: 0.7267 - val_accuracy: 0.7682\n",
      "Epoch 3/100\n",
      "28/28 [==============================] - 0s 3ms/step - loss: 0.6865 - accuracy: 0.7526 - val_loss: 0.7379 - val_accuracy: 0.7773\n",
      "Epoch 4/100\n",
      "28/28 [==============================] - 0s 3ms/step - loss: 0.6823 - accuracy: 0.7583 - val_loss: 0.7034 - val_accuracy: 0.8000\n",
      "Epoch 5/100\n",
      "28/28 [==============================] - 0s 5ms/step - loss: 0.6712 - accuracy: 0.7594 - val_loss: 0.7272 - val_accuracy: 0.7636\n",
      "Epoch 6/100\n",
      "28/28 [==============================] - 0s 4ms/step - loss: 0.6817 - accuracy: 0.7605 - val_loss: 0.7382 - val_accuracy: 0.7818\n",
      "Epoch 7/100\n",
      "28/28 [==============================] - 0s 3ms/step - loss: 0.6800 - accuracy: 0.7514 - val_loss: 0.7466 - val_accuracy: 0.7727\n",
      "Epoch 8/100\n",
      "28/28 [==============================] - 0s 3ms/step - loss: 0.7047 - accuracy: 0.7640 - val_loss: 0.7111 - val_accuracy: 0.7773\n",
      "Epoch 9/100\n",
      "28/28 [==============================] - 0s 5ms/step - loss: 0.6633 - accuracy: 0.7366 - val_loss: 0.7352 - val_accuracy: 0.7773\n",
      "Epoch 10/100\n",
      "28/28 [==============================] - 0s 3ms/step - loss: 0.6667 - accuracy: 0.7583 - val_loss: 0.7351 - val_accuracy: 0.7773\n",
      "Epoch 11/100\n",
      "28/28 [==============================] - 0s 3ms/step - loss: 0.6662 - accuracy: 0.7640 - val_loss: 0.7038 - val_accuracy: 0.7727\n",
      "Epoch 12/100\n",
      "28/28 [==============================] - 0s 3ms/step - loss: 0.6132 - accuracy: 0.7674 - val_loss: 0.7682 - val_accuracy: 0.7773\n",
      "Epoch 13/100\n",
      "28/28 [==============================] - 0s 3ms/step - loss: 0.6386 - accuracy: 0.7697 - val_loss: 0.7243 - val_accuracy: 0.7773\n",
      "Epoch 14/100\n",
      "28/28 [==============================] - 0s 3ms/step - loss: 0.6249 - accuracy: 0.7628 - val_loss: 0.7191 - val_accuracy: 0.7909\n",
      "Epoch 15/100\n",
      "28/28 [==============================] - 0s 3ms/step - loss: 0.6865 - accuracy: 0.7469 - val_loss: 0.7355 - val_accuracy: 0.7955\n",
      "Epoch 16/100\n",
      "28/28 [==============================] - 0s 3ms/step - loss: 0.6335 - accuracy: 0.7856 - val_loss: 0.7093 - val_accuracy: 0.7909\n",
      "Epoch 17/100\n",
      "28/28 [==============================] - 0s 4ms/step - loss: 0.5951 - accuracy: 0.7868 - val_loss: 0.7310 - val_accuracy: 0.7818\n",
      "Epoch 18/100\n",
      "28/28 [==============================] - 0s 3ms/step - loss: 0.6170 - accuracy: 0.7879 - val_loss: 0.7234 - val_accuracy: 0.7909\n",
      "Epoch 19/100\n",
      "28/28 [==============================] - 0s 5ms/step - loss: 0.5739 - accuracy: 0.7834 - val_loss: 0.7102 - val_accuracy: 0.8000\n",
      "Epoch 20/100\n",
      "28/28 [==============================] - 0s 3ms/step - loss: 0.5636 - accuracy: 0.7982 - val_loss: 0.7030 - val_accuracy: 0.8091\n",
      "Epoch 21/100\n",
      "28/28 [==============================] - 0s 3ms/step - loss: 0.6204 - accuracy: 0.7970 - val_loss: 0.7155 - val_accuracy: 0.7955\n",
      "Epoch 22/100\n",
      "28/28 [==============================] - 0s 3ms/step - loss: 0.5770 - accuracy: 0.7891 - val_loss: 0.6899 - val_accuracy: 0.8091\n",
      "Epoch 23/100\n",
      "28/28 [==============================] - 0s 3ms/step - loss: 0.5613 - accuracy: 0.8062 - val_loss: 0.6864 - val_accuracy: 0.7955\n",
      "Epoch 24/100\n",
      "28/28 [==============================] - 0s 3ms/step - loss: 0.6041 - accuracy: 0.7628 - val_loss: 0.7066 - val_accuracy: 0.7909\n",
      "Epoch 25/100\n",
      "28/28 [==============================] - 0s 3ms/step - loss: 0.5647 - accuracy: 0.7948 - val_loss: 0.7093 - val_accuracy: 0.8000\n",
      "Epoch 26/100\n",
      "28/28 [==============================] - 0s 3ms/step - loss: 0.5612 - accuracy: 0.7879 - val_loss: 0.6817 - val_accuracy: 0.8000\n",
      "Epoch 27/100\n",
      "28/28 [==============================] - 0s 3ms/step - loss: 0.5448 - accuracy: 0.7891 - val_loss: 0.7111 - val_accuracy: 0.8091\n",
      "Epoch 28/100\n",
      "28/28 [==============================] - 0s 3ms/step - loss: 0.5532 - accuracy: 0.8050 - val_loss: 0.7143 - val_accuracy: 0.8136\n",
      "Epoch 29/100\n",
      "28/28 [==============================] - 0s 3ms/step - loss: 0.5954 - accuracy: 0.7868 - val_loss: 0.7259 - val_accuracy: 0.7909\n",
      "Epoch 30/100\n",
      "28/28 [==============================] - 0s 3ms/step - loss: 0.5612 - accuracy: 0.7959 - val_loss: 0.6930 - val_accuracy: 0.8091\n",
      "Epoch 31/100\n",
      "28/28 [==============================] - 0s 5ms/step - loss: 0.5788 - accuracy: 0.7902 - val_loss: 0.6984 - val_accuracy: 0.8091\n",
      "Epoch 32/100\n",
      "28/28 [==============================] - 0s 3ms/step - loss: 0.5525 - accuracy: 0.8062 - val_loss: 0.6999 - val_accuracy: 0.8000\n",
      "Epoch 33/100\n",
      "28/28 [==============================] - 0s 3ms/step - loss: 0.5509 - accuracy: 0.7982 - val_loss: 0.6924 - val_accuracy: 0.8000\n",
      "Epoch 34/100\n",
      "28/28 [==============================] - 0s 3ms/step - loss: 0.5650 - accuracy: 0.8050 - val_loss: 0.6892 - val_accuracy: 0.7818\n",
      "Epoch 35/100\n",
      "28/28 [==============================] - 0s 3ms/step - loss: 0.5224 - accuracy: 0.8027 - val_loss: 0.6801 - val_accuracy: 0.7864\n",
      "Epoch 36/100\n",
      "28/28 [==============================] - 0s 3ms/step - loss: 0.5654 - accuracy: 0.8005 - val_loss: 0.6935 - val_accuracy: 0.8000\n",
      "Epoch 37/100\n",
      "28/28 [==============================] - 0s 3ms/step - loss: 0.5160 - accuracy: 0.8301 - val_loss: 0.7297 - val_accuracy: 0.7955\n",
      "Epoch 38/100\n",
      "28/28 [==============================] - 0s 4ms/step - loss: 0.5310 - accuracy: 0.8141 - val_loss: 0.6989 - val_accuracy: 0.8091\n",
      "Epoch 39/100\n",
      "28/28 [==============================] - 0s 4ms/step - loss: 0.5089 - accuracy: 0.8290 - val_loss: 0.6943 - val_accuracy: 0.8000\n",
      "Epoch 40/100\n",
      "28/28 [==============================] - 0s 3ms/step - loss: 0.5577 - accuracy: 0.8062 - val_loss: 0.7115 - val_accuracy: 0.7909\n",
      "Epoch 41/100\n",
      "28/28 [==============================] - 0s 3ms/step - loss: 0.5114 - accuracy: 0.8267 - val_loss: 0.6896 - val_accuracy: 0.7955\n",
      "Epoch 42/100\n",
      "28/28 [==============================] - 0s 3ms/step - loss: 0.4907 - accuracy: 0.8278 - val_loss: 0.6728 - val_accuracy: 0.8045\n",
      "Epoch 43/100\n",
      "28/28 [==============================] - 0s 3ms/step - loss: 0.4878 - accuracy: 0.8233 - val_loss: 0.7167 - val_accuracy: 0.8000\n",
      "Epoch 44/100\n",
      "28/28 [==============================] - 0s 3ms/step - loss: 0.5090 - accuracy: 0.8176 - val_loss: 0.7077 - val_accuracy: 0.8000\n",
      "Epoch 45/100\n",
      "28/28 [==============================] - 0s 3ms/step - loss: 0.4937 - accuracy: 0.8221 - val_loss: 0.7029 - val_accuracy: 0.7955\n",
      "Epoch 46/100\n",
      "28/28 [==============================] - 0s 3ms/step - loss: 0.5156 - accuracy: 0.8062 - val_loss: 0.6609 - val_accuracy: 0.8091\n",
      "Epoch 47/100\n",
      "28/28 [==============================] - 0s 3ms/step - loss: 0.4909 - accuracy: 0.8210 - val_loss: 0.6730 - val_accuracy: 0.8273\n",
      "Epoch 48/100\n",
      "28/28 [==============================] - 0s 3ms/step - loss: 0.4923 - accuracy: 0.8312 - val_loss: 0.6707 - val_accuracy: 0.8227\n",
      "Epoch 49/100\n",
      "28/28 [==============================] - 0s 3ms/step - loss: 0.4918 - accuracy: 0.8255 - val_loss: 0.6735 - val_accuracy: 0.8273\n",
      "Epoch 50/100\n",
      "28/28 [==============================] - 0s 3ms/step - loss: 0.4635 - accuracy: 0.8415 - val_loss: 0.6877 - val_accuracy: 0.8273\n",
      "Epoch 51/100\n",
      "28/28 [==============================] - 0s 3ms/step - loss: 0.5244 - accuracy: 0.8130 - val_loss: 0.6720 - val_accuracy: 0.8318\n",
      "Epoch 52/100\n",
      "28/28 [==============================] - 0s 3ms/step - loss: 0.4859 - accuracy: 0.8176 - val_loss: 0.6399 - val_accuracy: 0.8409\n",
      "Epoch 53/100\n",
      "28/28 [==============================] - 0s 5ms/step - loss: 0.4563 - accuracy: 0.8483 - val_loss: 0.6740 - val_accuracy: 0.8364\n",
      "Epoch 54/100\n",
      "28/28 [==============================] - 0s 3ms/step - loss: 0.4900 - accuracy: 0.8210 - val_loss: 0.6554 - val_accuracy: 0.8318\n",
      "Epoch 55/100\n",
      "28/28 [==============================] - 0s 3ms/step - loss: 0.4772 - accuracy: 0.8255 - val_loss: 0.6793 - val_accuracy: 0.8227\n",
      "Epoch 56/100\n",
      "28/28 [==============================] - 0s 3ms/step - loss: 0.4694 - accuracy: 0.8221 - val_loss: 0.6935 - val_accuracy: 0.8273\n",
      "Epoch 57/100\n",
      "28/28 [==============================] - 0s 3ms/step - loss: 0.4633 - accuracy: 0.8369 - val_loss: 0.7126 - val_accuracy: 0.8227\n",
      "Epoch 58/100\n",
      "28/28 [==============================] - 0s 3ms/step - loss: 0.4501 - accuracy: 0.8438 - val_loss: 0.6983 - val_accuracy: 0.8091\n",
      "Epoch 59/100\n",
      "28/28 [==============================] - 0s 3ms/step - loss: 0.4408 - accuracy: 0.8426 - val_loss: 0.6970 - val_accuracy: 0.8227\n",
      "Epoch 60/100\n",
      "28/28 [==============================] - 0s 3ms/step - loss: 0.4671 - accuracy: 0.8449 - val_loss: 0.7284 - val_accuracy: 0.8182\n",
      "Epoch 61/100\n",
      "28/28 [==============================] - 0s 3ms/step - loss: 0.5096 - accuracy: 0.8233 - val_loss: 0.7337 - val_accuracy: 0.8136\n",
      "Epoch 62/100\n",
      "28/28 [==============================] - 0s 3ms/step - loss: 0.4911 - accuracy: 0.8278 - val_loss: 0.6895 - val_accuracy: 0.8318\n",
      "Epoch 63/100\n",
      "28/28 [==============================] - 0s 3ms/step - loss: 0.4502 - accuracy: 0.8438 - val_loss: 0.7430 - val_accuracy: 0.8227\n",
      "Epoch 64/100\n",
      "28/28 [==============================] - 0s 3ms/step - loss: 0.4610 - accuracy: 0.8312 - val_loss: 0.7190 - val_accuracy: 0.8091\n",
      "Epoch 65/100\n",
      "28/28 [==============================] - 0s 3ms/step - loss: 0.4281 - accuracy: 0.8506 - val_loss: 0.7038 - val_accuracy: 0.8273\n",
      "Epoch 66/100\n",
      "28/28 [==============================] - 0s 3ms/step - loss: 0.4603 - accuracy: 0.8392 - val_loss: 0.7257 - val_accuracy: 0.8182\n",
      "Epoch 67/100\n",
      "28/28 [==============================] - 0s 3ms/step - loss: 0.4359 - accuracy: 0.8483 - val_loss: 0.7102 - val_accuracy: 0.8091\n",
      "Epoch 68/100\n",
      "28/28 [==============================] - 0s 3ms/step - loss: 0.4701 - accuracy: 0.8290 - val_loss: 0.6794 - val_accuracy: 0.8182\n",
      "Epoch 69/100\n",
      "28/28 [==============================] - 0s 3ms/step - loss: 0.4221 - accuracy: 0.8438 - val_loss: 0.6833 - val_accuracy: 0.8227\n",
      "Epoch 70/100\n",
      "28/28 [==============================] - 0s 3ms/step - loss: 0.4601 - accuracy: 0.8404 - val_loss: 0.6749 - val_accuracy: 0.8091\n",
      "Epoch 71/100\n",
      "28/28 [==============================] - 0s 3ms/step - loss: 0.4370 - accuracy: 0.8495 - val_loss: 0.6883 - val_accuracy: 0.8136\n",
      "Epoch 72/100\n",
      "28/28 [==============================] - 0s 3ms/step - loss: 0.4275 - accuracy: 0.8495 - val_loss: 0.6865 - val_accuracy: 0.8318\n",
      "Epoch 73/100\n",
      "28/28 [==============================] - 0s 3ms/step - loss: 0.4207 - accuracy: 0.8415 - val_loss: 0.6729 - val_accuracy: 0.8364\n",
      "Epoch 74/100\n",
      "28/28 [==============================] - 0s 3ms/step - loss: 0.4401 - accuracy: 0.8438 - val_loss: 0.6826 - val_accuracy: 0.8182\n",
      "Epoch 75/100\n",
      "28/28 [==============================] - 0s 6ms/step - loss: 0.4126 - accuracy: 0.8404 - val_loss: 0.7135 - val_accuracy: 0.8364\n",
      "Epoch 76/100\n",
      "28/28 [==============================] - 0s 3ms/step - loss: 0.4567 - accuracy: 0.8267 - val_loss: 0.7145 - val_accuracy: 0.8227\n",
      "Epoch 77/100\n",
      "28/28 [==============================] - 0s 3ms/step - loss: 0.3857 - accuracy: 0.8575 - val_loss: 0.7207 - val_accuracy: 0.8182\n",
      "Epoch 78/100\n",
      "28/28 [==============================] - 0s 4ms/step - loss: 0.4462 - accuracy: 0.8347 - val_loss: 0.6946 - val_accuracy: 0.8364\n",
      "Epoch 79/100\n",
      "28/28 [==============================] - 0s 3ms/step - loss: 0.3947 - accuracy: 0.8540 - val_loss: 0.7092 - val_accuracy: 0.8273\n",
      "Epoch 80/100\n",
      "28/28 [==============================] - 0s 3ms/step - loss: 0.3796 - accuracy: 0.8575 - val_loss: 0.7056 - val_accuracy: 0.8273\n",
      "Epoch 81/100\n",
      "28/28 [==============================] - 0s 3ms/step - loss: 0.4114 - accuracy: 0.8461 - val_loss: 0.7005 - val_accuracy: 0.8273\n",
      "Epoch 82/100\n",
      "28/28 [==============================] - 0s 3ms/step - loss: 0.4130 - accuracy: 0.8495 - val_loss: 0.6883 - val_accuracy: 0.8500\n",
      "Epoch 83/100\n",
      "28/28 [==============================] - 0s 3ms/step - loss: 0.4232 - accuracy: 0.8381 - val_loss: 0.6775 - val_accuracy: 0.8318\n",
      "Epoch 84/100\n",
      "28/28 [==============================] - 0s 3ms/step - loss: 0.4135 - accuracy: 0.8404 - val_loss: 0.7012 - val_accuracy: 0.8364\n",
      "Epoch 85/100\n",
      "28/28 [==============================] - 0s 3ms/step - loss: 0.4303 - accuracy: 0.8438 - val_loss: 0.6692 - val_accuracy: 0.8364\n",
      "Epoch 86/100\n",
      "28/28 [==============================] - 0s 3ms/step - loss: 0.4089 - accuracy: 0.8438 - val_loss: 0.6629 - val_accuracy: 0.8318\n",
      "Epoch 87/100\n",
      "28/28 [==============================] - 0s 3ms/step - loss: 0.3883 - accuracy: 0.8620 - val_loss: 0.7070 - val_accuracy: 0.8364\n",
      "Epoch 88/100\n",
      "28/28 [==============================] - 0s 3ms/step - loss: 0.4403 - accuracy: 0.8461 - val_loss: 0.6818 - val_accuracy: 0.8409\n",
      "Epoch 89/100\n",
      "28/28 [==============================] - 0s 4ms/step - loss: 0.4111 - accuracy: 0.8552 - val_loss: 0.7336 - val_accuracy: 0.8273\n",
      "Epoch 90/100\n",
      "28/28 [==============================] - 0s 3ms/step - loss: 0.3809 - accuracy: 0.8643 - val_loss: 0.7407 - val_accuracy: 0.8364\n",
      "Epoch 91/100\n",
      "28/28 [==============================] - 0s 3ms/step - loss: 0.4025 - accuracy: 0.8700 - val_loss: 0.7446 - val_accuracy: 0.8273\n",
      "Epoch 92/100\n",
      "28/28 [==============================] - 0s 5ms/step - loss: 0.4020 - accuracy: 0.8643 - val_loss: 0.7155 - val_accuracy: 0.8364\n",
      "Epoch 93/100\n",
      "28/28 [==============================] - 0s 3ms/step - loss: 0.3897 - accuracy: 0.8655 - val_loss: 0.7201 - val_accuracy: 0.8182\n",
      "Epoch 94/100\n",
      "28/28 [==============================] - 0s 3ms/step - loss: 0.4026 - accuracy: 0.8552 - val_loss: 0.7087 - val_accuracy: 0.8227\n",
      "Epoch 95/100\n",
      "28/28 [==============================] - 0s 3ms/step - loss: 0.4176 - accuracy: 0.8415 - val_loss: 0.7042 - val_accuracy: 0.8409\n",
      "Epoch 96/100\n",
      "28/28 [==============================] - 0s 6ms/step - loss: 0.3865 - accuracy: 0.8597 - val_loss: 0.7063 - val_accuracy: 0.8318\n",
      "Epoch 97/100\n",
      "28/28 [==============================] - 0s 3ms/step - loss: 0.3763 - accuracy: 0.8666 - val_loss: 0.7589 - val_accuracy: 0.8318\n",
      "Epoch 98/100\n",
      "28/28 [==============================] - 0s 3ms/step - loss: 0.4113 - accuracy: 0.8518 - val_loss: 0.7172 - val_accuracy: 0.8318\n",
      "Epoch 99/100\n",
      "28/28 [==============================] - 0s 3ms/step - loss: 0.3730 - accuracy: 0.8677 - val_loss: 0.6997 - val_accuracy: 0.8318\n",
      "Epoch 100/100\n",
      "28/28 [==============================] - 0s 3ms/step - loss: 0.3774 - accuracy: 0.8620 - val_loss: 0.6921 - val_accuracy: 0.8409\n"
     ]
    }
   ],
   "source": [
    "history = model.fit(X_train_scaled, y_train,\n",
    "                    validation_split=0.2,\n",
    "                    epochs=100,\n",
    "                    batch_size=32)"
   ]
  },
  {
   "cell_type": "code",
   "execution_count": 21,
   "metadata": {},
   "outputs": [
    {
     "name": "stdout",
     "output_type": "stream",
     "text": [
      "9/9 [==============================] - 0s 2ms/step - loss: 0.5933 - accuracy: 0.8509\n",
      "Test Loss: 0.593292772769928, Test Accuracy: 0.8509091138839722\n"
     ]
    }
   ],
   "source": [
    "# Evaluate the model on the test set\n",
    "loss, accuracy = model.evaluate(X_test_scaled, y_test)\n",
    "print(f'Test Loss: {loss}, Test Accuracy: {accuracy}')"
   ]
  },
  {
   "cell_type": "code",
   "execution_count": 24,
   "metadata": {},
   "outputs": [
    {
     "data": {
      "text/plain": [
       "['saves/scaler.save']"
      ]
     },
     "execution_count": 24,
     "metadata": {},
     "output_type": "execute_result"
    }
   ],
   "source": [
    "import joblib\n",
    "\n",
    "model.save('saves/exercise_recognition_model.keras')\n",
    "joblib.dump(label_encoder, 'saves/label_encoder.joblib')\n",
    "joblib.dump(scaler, 'saves/scaler.save')"
   ]
  }
 ],
 "metadata": {
  "kernelspec": {
   "display_name": "solol",
   "language": "python",
   "name": "python3"
  },
  "language_info": {
   "codemirror_mode": {
    "name": "ipython",
    "version": 3
   },
   "file_extension": ".py",
   "mimetype": "text/x-python",
   "name": "python",
   "nbconvert_exporter": "python",
   "pygments_lexer": "ipython3",
   "version": "3.11.7"
  }
 },
 "nbformat": 4,
 "nbformat_minor": 2
}
