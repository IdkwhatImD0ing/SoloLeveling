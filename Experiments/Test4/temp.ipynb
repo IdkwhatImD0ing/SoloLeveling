{
 "cells": [
  {
   "cell_type": "code",
   "execution_count": 2,
   "metadata": {},
   "outputs": [],
   "source": [
    "import pandas as pd\n",
    "\n",
    "df = pd.read_csv('landmarks_and_labels.csv')\n",
    "\n",
    "# Increment labels column all by 10\n",
    "df['label'] = df['label'] + 10\n",
    "\n",
    "# Overwrite the file with the new data\n",
    "df.to_csv('landmarks_and_labels.csv', index=False)"
   ]
  }
 ],
 "metadata": {
  "kernelspec": {
   "display_name": "tf",
   "language": "python",
   "name": "python3"
  },
  "language_info": {
   "codemirror_mode": {
    "name": "ipython",
    "version": 3
   },
   "file_extension": ".py",
   "mimetype": "text/x-python",
   "name": "python",
   "nbconvert_exporter": "python",
   "pygments_lexer": "ipython3",
   "version": "3.11.7"
  }
 },
 "nbformat": 4,
 "nbformat_minor": 2
}
