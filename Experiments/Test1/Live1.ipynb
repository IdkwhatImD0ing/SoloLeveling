{
 "cells": [
  {
   "cell_type": "code",
   "execution_count": 14,
   "metadata": {},
   "outputs": [
    {
     "name": "stdout",
     "output_type": "stream",
     "text": [
      "^C\n",
      "Note: you may need to restart the kernel to use updated packages.\n",
      "Requirement already satisfied: mediapipe in c:\\users\\jr\\.conda\\envs\\solol\\lib\\site-packages (0.10.9)\n",
      "Requirement already satisfied: absl-py in c:\\users\\jr\\.conda\\envs\\solol\\lib\\site-packages (from mediapipe) (2.1.0)\n",
      "Requirement already satisfied: attrs>=19.1.0 in c:\\users\\jr\\.conda\\envs\\solol\\lib\\site-packages (from mediapipe) (23.2.0)\n",
      "Requirement already satisfied: flatbuffers>=2.0 in c:\\users\\jr\\.conda\\envs\\solol\\lib\\site-packages (from mediapipe) (23.5.26)\n",
      "Requirement already satisfied: matplotlib in c:\\users\\jr\\.conda\\envs\\solol\\lib\\site-packages (from mediapipe) (3.8.2)\n",
      "Requirement already satisfied: numpy in c:\\users\\jr\\.conda\\envs\\solol\\lib\\site-packages (from mediapipe) (1.26.4)\n",
      "Requirement already satisfied: opencv-contrib-python in c:\\users\\jr\\.conda\\envs\\solol\\lib\\site-packages (from mediapipe) (4.9.0.80)\n",
      "Requirement already satisfied: protobuf<4,>=3.11 in c:\\users\\jr\\.conda\\envs\\solol\\lib\\site-packages (from mediapipe) (3.20.3)\n",
      "Requirement already satisfied: sounddevice>=0.4.4 in c:\\users\\jr\\.conda\\envs\\solol\\lib\\site-packages (from mediapipe) (0.4.6)\n",
      "Requirement already satisfied: CFFI>=1.0 in c:\\users\\jr\\.conda\\envs\\solol\\lib\\site-packages (from sounddevice>=0.4.4->mediapipe) (1.16.0)\n",
      "Requirement already satisfied: contourpy>=1.0.1 in c:\\users\\jr\\.conda\\envs\\solol\\lib\\site-packages (from matplotlib->mediapipe) (1.2.0)\n",
      "Requirement already satisfied: cycler>=0.10 in c:\\users\\jr\\.conda\\envs\\solol\\lib\\site-packages (from matplotlib->mediapipe) (0.12.1)\n",
      "Requirement already satisfied: fonttools>=4.22.0 in c:\\users\\jr\\.conda\\envs\\solol\\lib\\site-packages (from matplotlib->mediapipe) (4.48.1)\n",
      "Requirement already satisfied: kiwisolver>=1.3.1 in c:\\users\\jr\\.conda\\envs\\solol\\lib\\site-packages (from matplotlib->mediapipe) (1.4.5)\n",
      "Requirement already satisfied: packaging>=20.0 in c:\\users\\jr\\appdata\\roaming\\python\\python311\\site-packages (from matplotlib->mediapipe) (23.2)\n",
      "Requirement already satisfied: pillow>=8 in c:\\users\\jr\\.conda\\envs\\solol\\lib\\site-packages (from matplotlib->mediapipe) (10.2.0)\n",
      "Requirement already satisfied: pyparsing>=2.3.1 in c:\\users\\jr\\.conda\\envs\\solol\\lib\\site-packages (from matplotlib->mediapipe) (3.1.1)\n",
      "Requirement already satisfied: python-dateutil>=2.7 in c:\\users\\jr\\.conda\\envs\\solol\\lib\\site-packages (from matplotlib->mediapipe) (2.8.2)\n",
      "Requirement already satisfied: pycparser in c:\\users\\jr\\.conda\\envs\\solol\\lib\\site-packages (from CFFI>=1.0->sounddevice>=0.4.4->mediapipe) (2.21)\n",
      "Requirement already satisfied: six>=1.5 in c:\\users\\jr\\.conda\\envs\\solol\\lib\\site-packages (from python-dateutil>=2.7->matplotlib->mediapipe) (1.16.0)\n",
      "Requirement already satisfied: opencv-python in c:\\users\\jr\\.conda\\envs\\solol\\lib\\site-packages (4.9.0.80)\n",
      "Requirement already satisfied: numpy>=1.21.2 in c:\\users\\jr\\.conda\\envs\\solol\\lib\\site-packages (from opencv-python) (1.26.4)\n",
      "Note: you may need to restart the kernel to use updated packages.\n",
      "Requirement already satisfied: numpy in c:\\users\\jr\\.conda\\envs\\solol\\lib\\site-packages (1.26.4)\n",
      "Note: you may need to restart the kernel to use updated packages.\n"
     ]
    }
   ],
   "source": [
    "%pip install mediapipe\n",
    "%pip install opencv-python\n",
    "%pip install numpy"
   ]
  },
  {
   "cell_type": "code",
   "execution_count": null,
   "metadata": {},
   "outputs": [],
   "source": [
    "import mediapipe as mp\n",
    "mp_pose = mp.solutions.pose\n",
    "pose = mp_pose.Pose()"
   ]
  },
  {
   "cell_type": "code",
   "execution_count": null,
   "metadata": {},
   "outputs": [],
   "source": [
    "import cv2"
   ]
  },
  {
   "cell_type": "code",
   "execution_count": 23,
   "metadata": {},
   "outputs": [],
   "source": [
    "import cv2\n",
    "import mediapipe as mp\n",
    "import numpy as np\n",
    "import tensorflow as tf\n",
    "from tensorflow.keras.models import load_model\n",
    "import joblib\n",
    "from sklearn.preprocessing import StandardScaler"
   ]
  },
  {
   "cell_type": "code",
   "execution_count": 35,
   "metadata": {},
   "outputs": [],
   "source": [
    "# Load the Keras model\n",
    "model = load_model('exercise_recognition_model1.keras')\n",
    "label_encoder = joblib.load('label_encoder.joblib')\n",
    "scaler = joblib.load('scaler.save')"
   ]
  },
  {
   "cell_type": "code",
   "execution_count": 32,
   "metadata": {},
   "outputs": [],
   "source": [
    "# Load the Keras model\n",
    "model = load_model('exercise_recognition_model2.keras')\n",
    "label_encoder = joblib.load('label_encoder2.joblib')\n",
    "scaler = joblib.load('scaler2.save')"
   ]
  },
  {
   "cell_type": "code",
   "execution_count": 36,
   "metadata": {},
   "outputs": [
    {
     "name": "stdout",
     "output_type": "stream",
     "text": [
      "['jumping_jacks_down' 'jumping_jacks_up' 'pullups_down' 'pullups_up'\n",
      " 'pushups_down' 'pushups_up' 'situp_down' 'situp_up' 'squats_down'\n",
      " 'squats_up']\n"
     ]
    },
    {
     "name": "stderr",
     "output_type": "stream",
     "text": [
      "c:\\Users\\JR\\.conda\\envs\\solol\\Lib\\site-packages\\sklearn\\base.py:493: UserWarning: X does not have valid feature names, but StandardScaler was fitted with feature names\n",
      "  warnings.warn(\n"
     ]
    },
    {
     "name": "stdout",
     "output_type": "stream",
     "text": [
      "1/1 [==============================] - 1s 1s/step\n",
      "[[0.00622607 0.04560218 0.84167594 0.03592629 0.03651116 0.00501412\n",
      "  0.00993505 0.00912661 0.00111702 0.00886555]]\n",
      "['pullups_down']\n",
      "1/1 [==============================] - 0s 30ms/step\n"
     ]
    },
    {
     "name": "stderr",
     "output_type": "stream",
     "text": [
      "c:\\Users\\JR\\.conda\\envs\\solol\\Lib\\site-packages\\sklearn\\base.py:493: UserWarning: X does not have valid feature names, but StandardScaler was fitted with feature names\n",
      "  warnings.warn(\n",
      "c:\\Users\\JR\\.conda\\envs\\solol\\Lib\\site-packages\\sklearn\\base.py:493: UserWarning: X does not have valid feature names, but StandardScaler was fitted with feature names\n",
      "  warnings.warn(\n"
     ]
    },
    {
     "name": "stdout",
     "output_type": "stream",
     "text": [
      "[[0.0061348  0.04526953 0.84287524 0.03567619 0.03664996 0.00477859\n",
      "  0.00981238 0.00891415 0.00111447 0.00877471]]\n",
      "['pullups_down']\n",
      "1/1 [==============================] - 0s 21ms/step\n",
      "[[0.00611756 0.04522008 0.8431222  0.03563598 0.036607   0.00474664\n",
      "  0.00979    0.00889279 0.00111302 0.00875473]]\n",
      "['pullups_down']\n",
      "1/1 [==============================] - 0s 31ms/step\n",
      "[[0.00611034 0.04520164 0.8432272  0.03563598 0.0365646  0.00473455\n",
      "  0.00978031 0.00888573 0.00111208 0.00874755]]\n",
      "['pullups_down']\n",
      "1/1 [==============================] - ETA: 0s"
     ]
    },
    {
     "name": "stderr",
     "output_type": "stream",
     "text": [
      "c:\\Users\\JR\\.conda\\envs\\solol\\Lib\\site-packages\\sklearn\\base.py:493: UserWarning: X does not have valid feature names, but StandardScaler was fitted with feature names\n",
      "  warnings.warn(\n",
      "c:\\Users\\JR\\.conda\\envs\\solol\\Lib\\site-packages\\sklearn\\base.py:493: UserWarning: X does not have valid feature names, but StandardScaler was fitted with feature names\n",
      "  warnings.warn(\n"
     ]
    },
    {
     "name": "stdout",
     "output_type": "stream",
     "text": [
      "1/1 [==============================] - 0s 31ms/step\n",
      "[[0.00610518 0.04522488 0.84332263 0.03566475 0.0364382  0.00473259\n",
      "  0.00976719 0.00888618 0.00111007 0.00874829]]\n",
      "['pullups_down']\n",
      "1/1 [==============================] - 0s 27ms/step\n",
      "[[0.00614357 0.04530191 0.84273183 0.03582576 0.03661267 0.00477396\n",
      "  0.00978269 0.00891064 0.00111547 0.00880149]]\n",
      "['pullups_down']\n",
      "1/1 [==============================] - 0s 30ms/step\n"
     ]
    },
    {
     "name": "stderr",
     "output_type": "stream",
     "text": [
      "c:\\Users\\JR\\.conda\\envs\\solol\\Lib\\site-packages\\sklearn\\base.py:493: UserWarning: X does not have valid feature names, but StandardScaler was fitted with feature names\n",
      "  warnings.warn(\n",
      "c:\\Users\\JR\\.conda\\envs\\solol\\Lib\\site-packages\\sklearn\\base.py:493: UserWarning: X does not have valid feature names, but StandardScaler was fitted with feature names\n",
      "  warnings.warn(\n"
     ]
    },
    {
     "name": "stdout",
     "output_type": "stream",
     "text": [
      "[[0.00613336 0.04528524 0.84287226 0.03580443 0.03656287 0.00475975\n",
      "  0.00977138 0.00890576 0.00111459 0.00879033]]\n",
      "['pullups_down']\n",
      "1/1 [==============================] - 0s 30ms/step\n",
      "[[0.00613886 0.0452753  0.8427866  0.03583328 0.03662519 0.00475815\n",
      "  0.00976848 0.00890028 0.00111573 0.00879812]]\n",
      "['pullups_down']\n"
     ]
    },
    {
     "name": "stderr",
     "output_type": "stream",
     "text": [
      "c:\\Users\\JR\\.conda\\envs\\solol\\Lib\\site-packages\\sklearn\\base.py:493: UserWarning: X does not have valid feature names, but StandardScaler was fitted with feature names\n",
      "  warnings.warn(\n",
      "c:\\Users\\JR\\.conda\\envs\\solol\\Lib\\site-packages\\sklearn\\base.py:493: UserWarning: X does not have valid feature names, but StandardScaler was fitted with feature names\n",
      "  warnings.warn(\n"
     ]
    },
    {
     "name": "stdout",
     "output_type": "stream",
     "text": [
      "1/1 [==============================] - 0s 30ms/step\n",
      "[[0.00613795 0.04527679 0.8427963  0.03582884 0.03661898 0.00475801\n",
      "  0.00976908 0.0089014  0.00111568 0.00879692]]\n",
      "['pullups_down']\n",
      "1/1 [==============================] - 0s 26ms/step\n",
      "[[0.00612497 0.0452952  0.84299695 0.03579783 0.036475   0.00475208\n",
      "  0.0097543  0.00890589 0.00111333 0.00878446]]\n",
      "['pullups_down']\n",
      "1/1 [==============================] - ETA: 0s"
     ]
    },
    {
     "name": "stderr",
     "output_type": "stream",
     "text": [
      "c:\\Users\\JR\\.conda\\envs\\solol\\Lib\\site-packages\\sklearn\\base.py:493: UserWarning: X does not have valid feature names, but StandardScaler was fitted with feature names\n",
      "  warnings.warn(\n",
      "c:\\Users\\JR\\.conda\\envs\\solol\\Lib\\site-packages\\sklearn\\base.py:493: UserWarning: X does not have valid feature names, but StandardScaler was fitted with feature names\n",
      "  warnings.warn(\n"
     ]
    },
    {
     "name": "stdout",
     "output_type": "stream",
     "text": [
      "1/1 [==============================] - 0s 21ms/step\n",
      "[[0.0061231  0.04530319 0.84302753 0.03579831 0.03643864 0.00475226\n",
      "  0.00975161 0.0089089  0.00111289 0.00878351]]\n",
      "['pullups_down']\n",
      "1/1 [==============================] - 0s 28ms/step\n"
     ]
    },
    {
     "name": "stderr",
     "output_type": "stream",
     "text": [
      "c:\\Users\\JR\\.conda\\envs\\solol\\Lib\\site-packages\\sklearn\\base.py:493: UserWarning: X does not have valid feature names, but StandardScaler was fitted with feature names\n",
      "  warnings.warn(\n",
      "c:\\Users\\JR\\.conda\\envs\\solol\\Lib\\site-packages\\sklearn\\base.py:493: UserWarning: X does not have valid feature names, but StandardScaler was fitted with feature names\n",
      "  warnings.warn(\n"
     ]
    },
    {
     "name": "stdout",
     "output_type": "stream",
     "text": [
      "[[0.00613162 0.04539333 0.8429193  0.03584777 0.03633747 0.00477814\n",
      "  0.0097472  0.00893222 0.00111254 0.00880043]]\n",
      "['pullups_down']\n",
      "1/1 [==============================] - 0s 30ms/step\n",
      "[[0.00609605 0.04538516 0.8435004  0.0357672  0.03599565 0.00474974\n",
      "  0.00971375 0.00892367 0.00110531 0.0087631 ]]\n",
      "['pullups_down']\n",
      "1/1 [==============================] - 0s 30ms/step\n",
      "[[0.00609826 0.04537326 0.8434595  0.03575818 0.03604782 0.00475088\n",
      "  0.00972006 0.00892296 0.00110604 0.00876302]]\n",
      "['pullups_down']\n",
      "1/1 [==============================] - ETA: 0s"
     ]
    },
    {
     "name": "stderr",
     "output_type": "stream",
     "text": [
      "c:\\Users\\JR\\.conda\\envs\\solol\\Lib\\site-packages\\sklearn\\base.py:493: UserWarning: X does not have valid feature names, but StandardScaler was fitted with feature names\n",
      "  warnings.warn(\n",
      "c:\\Users\\JR\\.conda\\envs\\solol\\Lib\\site-packages\\sklearn\\base.py:493: UserWarning: X does not have valid feature names, but StandardScaler was fitted with feature names\n",
      "  warnings.warn(\n"
     ]
    },
    {
     "name": "stdout",
     "output_type": "stream",
     "text": [
      "1/1 [==============================] - 0s 20ms/step\n",
      "[[0.00608467 0.04534284 0.8436709  0.03567456 0.03601019 0.00473808\n",
      "  0.00972092 0.00891506 0.00110421 0.00873853]]\n",
      "['pullups_down']\n",
      "1/1 [==============================] - 0s 25ms/step\n",
      "[[0.00609348 0.0453319  0.8435214  0.03570135 0.03611187 0.00474058\n",
      "  0.00972981 0.00891505 0.00110642 0.008748  ]]\n",
      "['pullups_down']\n"
     ]
    },
    {
     "name": "stderr",
     "output_type": "stream",
     "text": [
      "c:\\Users\\JR\\.conda\\envs\\solol\\Lib\\site-packages\\sklearn\\base.py:493: UserWarning: X does not have valid feature names, but StandardScaler was fitted with feature names\n",
      "  warnings.warn(\n",
      "c:\\Users\\JR\\.conda\\envs\\solol\\Lib\\site-packages\\sklearn\\base.py:493: UserWarning: X does not have valid feature names, but StandardScaler was fitted with feature names\n",
      "  warnings.warn(\n"
     ]
    },
    {
     "name": "stdout",
     "output_type": "stream",
     "text": [
      "1/1 [==============================] - 0s 81ms/step\n",
      "[[0.00609641 0.04534217 0.84348255 0.03571372 0.03611593 0.00474426\n",
      "  0.00972962 0.00891647 0.00110662 0.00875224]]\n",
      "['pullups_down']\n",
      "1/1 [==============================] - 0s 22ms/step\n",
      "[[0.00610422 0.04537371 0.8433672  0.03575096 0.03611895 0.00475632\n",
      "  0.00973108 0.00892574 0.00110738 0.00876436]]\n",
      "['pullups_down']\n",
      "1/1 [==============================] - ETA: 0s"
     ]
    },
    {
     "name": "stderr",
     "output_type": "stream",
     "text": [
      "c:\\Users\\JR\\.conda\\envs\\solol\\Lib\\site-packages\\sklearn\\base.py:493: UserWarning: X does not have valid feature names, but StandardScaler was fitted with feature names\n",
      "  warnings.warn(\n",
      "c:\\Users\\JR\\.conda\\envs\\solol\\Lib\\site-packages\\sklearn\\base.py:493: UserWarning: X does not have valid feature names, but StandardScaler was fitted with feature names\n",
      "  warnings.warn(\n"
     ]
    },
    {
     "name": "stdout",
     "output_type": "stream",
     "text": [
      "1/1 [==============================] - 0s 30ms/step\n",
      "[[0.00611104 0.0453647  0.8432465  0.03576505 0.03620959 0.00475822\n",
      "  0.00973814 0.00892658 0.00110937 0.00877079]]\n",
      "['pullups_down']\n",
      "1/1 [==============================] - 0s 32ms/step\n",
      "[[0.00610614 0.04535875 0.8433172  0.03575062 0.03618293 0.00475226\n",
      "  0.00973349 0.00892423 0.00110885 0.00876546]]\n",
      "['pullups_down']\n"
     ]
    },
    {
     "name": "stderr",
     "output_type": "stream",
     "text": [
      "c:\\Users\\JR\\.conda\\envs\\solol\\Lib\\site-packages\\sklearn\\base.py:493: UserWarning: X does not have valid feature names, but StandardScaler was fitted with feature names\n",
      "  warnings.warn(\n",
      "c:\\Users\\JR\\.conda\\envs\\solol\\Lib\\site-packages\\sklearn\\base.py:493: UserWarning: X does not have valid feature names, but StandardScaler was fitted with feature names\n",
      "  warnings.warn(\n"
     ]
    },
    {
     "name": "stdout",
     "output_type": "stream",
     "text": [
      "1/1 [==============================] - 0s 30ms/step\n",
      "[[0.00609144 0.045388   0.84355    0.03573741 0.03598925 0.00474246\n",
      "  0.00971444 0.00892635 0.00110589 0.00875484]]\n",
      "['pullups_down']\n",
      "1/1 [==============================] - 0s 30ms/step\n",
      "[[0.00609423 0.04542097 0.8435014  0.03576192 0.03595049 0.00475112\n",
      "  0.0097148  0.00893736 0.00110612 0.00876167]]\n",
      "['pullups_down']\n",
      "1/1 [==============================] - ETA: 0s"
     ]
    },
    {
     "name": "stderr",
     "output_type": "stream",
     "text": [
      "c:\\Users\\JR\\.conda\\envs\\solol\\Lib\\site-packages\\sklearn\\base.py:493: UserWarning: X does not have valid feature names, but StandardScaler was fitted with feature names\n",
      "  warnings.warn(\n",
      "c:\\Users\\JR\\.conda\\envs\\solol\\Lib\\site-packages\\sklearn\\base.py:493: UserWarning: X does not have valid feature names, but StandardScaler was fitted with feature names\n",
      "  warnings.warn(\n"
     ]
    },
    {
     "name": "stdout",
     "output_type": "stream",
     "text": [
      "1/1 [==============================] - 0s 26ms/step\n",
      "[[0.00610644 0.045454   0.84332424 0.03582694 0.03597404 0.00476508\n",
      "  0.00971572 0.00894484 0.00110735 0.00878127]]\n",
      "['pullups_down']\n",
      "1/1 [==============================] - 0s 30ms/step\n",
      "[[0.00611637 0.04540703 0.84313506 0.03582161 0.03618395 0.00476307\n",
      "  0.00973754 0.00894022 0.00111103 0.00878407]]\n",
      "['pullups_down']\n",
      "1/1 [==============================] - 0s 27ms/step\n"
     ]
    },
    {
     "name": "stderr",
     "output_type": "stream",
     "text": [
      "c:\\Users\\JR\\.conda\\envs\\solol\\Lib\\site-packages\\sklearn\\base.py:493: UserWarning: X does not have valid feature names, but StandardScaler was fitted with feature names\n",
      "  warnings.warn(\n",
      "c:\\Users\\JR\\.conda\\envs\\solol\\Lib\\site-packages\\sklearn\\base.py:493: UserWarning: X does not have valid feature names, but StandardScaler was fitted with feature names\n",
      "  warnings.warn(\n"
     ]
    },
    {
     "name": "stdout",
     "output_type": "stream",
     "text": [
      "[[0.00611232 0.04541732 0.84321517 0.03581062 0.03611761 0.00476348\n",
      "  0.00973324 0.00894053 0.0011096  0.00878009]]\n",
      "['pullups_down']\n",
      "1/1 [==============================] - 0s 30ms/step\n",
      "[[0.00610643 0.04541238 0.8433023  0.0357887  0.03608206 0.00475855\n",
      "  0.00972911 0.00893899 0.00110877 0.00877273]]\n",
      "['pullups_down']\n",
      "1/1 [==============================] - ETA: 0s"
     ]
    },
    {
     "name": "stderr",
     "output_type": "stream",
     "text": [
      "c:\\Users\\JR\\.conda\\envs\\solol\\Lib\\site-packages\\sklearn\\base.py:493: UserWarning: X does not have valid feature names, but StandardScaler was fitted with feature names\n",
      "  warnings.warn(\n",
      "c:\\Users\\JR\\.conda\\envs\\solol\\Lib\\site-packages\\sklearn\\base.py:493: UserWarning: X does not have valid feature names, but StandardScaler was fitted with feature names\n",
      "  warnings.warn(\n"
     ]
    },
    {
     "name": "stdout",
     "output_type": "stream",
     "text": [
      "1/1 [==============================] - 0s 29ms/step\n",
      "[[0.00608831 0.04541261 0.84360904 0.03572814 0.03591455 0.00474646\n",
      "  0.00971298 0.00893163 0.00110472 0.00875157]]\n",
      "['pullups_down']\n",
      "1/1 [==============================] - 0s 31ms/step\n",
      "[[0.00608043 0.04536911 0.8437114  0.0356813  0.03595265 0.00473092\n",
      "  0.0097094  0.00892256 0.00110498 0.00873716]]\n",
      "['pullups_down']\n"
     ]
    },
    {
     "name": "stderr",
     "output_type": "stream",
     "text": [
      "c:\\Users\\JR\\.conda\\envs\\solol\\Lib\\site-packages\\sklearn\\base.py:493: UserWarning: X does not have valid feature names, but StandardScaler was fitted with feature names\n",
      "  warnings.warn(\n",
      "c:\\Users\\JR\\.conda\\envs\\solol\\Lib\\site-packages\\sklearn\\base.py:493: UserWarning: X does not have valid feature names, but StandardScaler was fitted with feature names\n",
      "  warnings.warn(\n"
     ]
    },
    {
     "name": "stdout",
     "output_type": "stream",
     "text": [
      "1/1 [==============================] - 0s 41ms/step\n",
      "[[0.00609179 0.0455052  0.8435875  0.03579972 0.0357203  0.00477072\n",
      "  0.00969952 0.00895548 0.00110245 0.00876727]]\n",
      "['pullups_down']\n",
      "1/1 [==============================] - 0s 21ms/step\n",
      "[[0.00608788 0.04550053 0.84361315 0.03579341 0.03569976 0.00476958\n",
      "  0.00970574 0.00896543 0.00110274 0.00876172]]\n",
      "['pullups_down']\n"
     ]
    },
    {
     "name": "stderr",
     "output_type": "stream",
     "text": [
      "c:\\Users\\JR\\.conda\\envs\\solol\\Lib\\site-packages\\sklearn\\base.py:493: UserWarning: X does not have valid feature names, but StandardScaler was fitted with feature names\n",
      "  warnings.warn(\n",
      "c:\\Users\\JR\\.conda\\envs\\solol\\Lib\\site-packages\\sklearn\\base.py:493: UserWarning: X does not have valid feature names, but StandardScaler was fitted with feature names\n",
      "  warnings.warn(\n"
     ]
    },
    {
     "name": "stdout",
     "output_type": "stream",
     "text": [
      "1/1 [==============================] - 0s 29ms/step\n",
      "[[0.00609204 0.04549368 0.84356296 0.03580389 0.03573503 0.0047721\n",
      "  0.00971053 0.00896077 0.00110292 0.00876603]]\n",
      "['pullups_down']\n"
     ]
    },
    {
     "name": "stderr",
     "output_type": "stream",
     "text": [
      "c:\\Users\\JR\\.conda\\envs\\solol\\Lib\\site-packages\\sklearn\\base.py:493: UserWarning: X does not have valid feature names, but StandardScaler was fitted with feature names\n",
      "  warnings.warn(\n"
     ]
    },
    {
     "name": "stdout",
     "output_type": "stream",
     "text": [
      "1/1 [==============================] - 0s 85ms/step\n",
      "[[0.00610867 0.04555745 0.84332097 0.03589806 0.03572624 0.00479766\n",
      "  0.00971378 0.0089799  0.00110416 0.00879307]]\n",
      "['pullups_down']\n",
      "1/1 [==============================] - 0s 30ms/step\n",
      "[[0.00608557 0.04560381 0.8437082  0.0358664  0.03540318 0.00479005\n",
      "  0.00968751 0.00898282 0.00109808 0.00877423]]\n",
      "['pullups_down']\n",
      "1/1 [==============================] - ETA: 0s"
     ]
    },
    {
     "name": "stderr",
     "output_type": "stream",
     "text": [
      "c:\\Users\\JR\\.conda\\envs\\solol\\Lib\\site-packages\\sklearn\\base.py:493: UserWarning: X does not have valid feature names, but StandardScaler was fitted with feature names\n",
      "  warnings.warn(\n",
      "c:\\Users\\JR\\.conda\\envs\\solol\\Lib\\site-packages\\sklearn\\base.py:493: UserWarning: X does not have valid feature names, but StandardScaler was fitted with feature names\n",
      "  warnings.warn(\n"
     ]
    },
    {
     "name": "stdout",
     "output_type": "stream",
     "text": [
      "1/1 [==============================] - 0s 21ms/step\n",
      "[[0.00607547 0.04549757 0.84383583 0.0357843  0.03554393 0.00475914\n",
      "  0.00969452 0.00895849 0.00109917 0.00875155]]\n",
      "['pullups_down']\n",
      "1/1 [==============================] - 0s 20ms/step\n",
      "[[0.00609334 0.0454468  0.8435456  0.03579768 0.0358341  0.0047572\n",
      "  0.00970872 0.00894683 0.00110427 0.00876549]]\n",
      "['pullups_down']\n",
      "1/1 [==============================] - ETA: 0s"
     ]
    },
    {
     "name": "stderr",
     "output_type": "stream",
     "text": [
      "c:\\Users\\JR\\.conda\\envs\\solol\\Lib\\site-packages\\sklearn\\base.py:493: UserWarning: X does not have valid feature names, but StandardScaler was fitted with feature names\n",
      "  warnings.warn(\n",
      "c:\\Users\\JR\\.conda\\envs\\solol\\Lib\\site-packages\\sklearn\\base.py:493: UserWarning: X does not have valid feature names, but StandardScaler was fitted with feature names\n",
      "  warnings.warn(\n"
     ]
    },
    {
     "name": "stdout",
     "output_type": "stream",
     "text": [
      "1/1 [==============================] - 0s 30ms/step\n",
      "[[0.00610279 0.04547542 0.8434001  0.03583065 0.03587248 0.00476905\n",
      "  0.00970656 0.00895856 0.00110592 0.00877851]]\n",
      "['pullups_down']\n",
      "1/1 [==============================] - 0s 21ms/step\n",
      "[[0.00611052 0.04556629 0.8433095  0.03589104 0.03575447 0.00478903\n",
      "  0.00969453 0.00898273 0.00110587 0.00879595]]\n",
      "['pullups_down']\n"
     ]
    },
    {
     "name": "stderr",
     "output_type": "stream",
     "text": [
      "c:\\Users\\JR\\.conda\\envs\\solol\\Lib\\site-packages\\sklearn\\base.py:493: UserWarning: X does not have valid feature names, but StandardScaler was fitted with feature names\n",
      "  warnings.warn(\n",
      "c:\\Users\\JR\\.conda\\envs\\solol\\Lib\\site-packages\\sklearn\\base.py:493: UserWarning: X does not have valid feature names, but StandardScaler was fitted with feature names\n",
      "  warnings.warn(\n"
     ]
    },
    {
     "name": "stdout",
     "output_type": "stream",
     "text": [
      "1/1 [==============================] - 0s 42ms/step\n",
      "[[0.00612537 0.04557985 0.8431164  0.03593396 0.03584807 0.00479882\n",
      "  0.00969419 0.00898103 0.00110756 0.00881474]]\n",
      "['pullups_down']\n",
      "1/1 [==============================] - 0s 47ms/step\n",
      "[[0.00612333 0.04558202 0.84315896 0.03591539 0.03583726 0.0047965\n",
      "  0.00968608 0.00898254 0.00110738 0.00881059]]\n",
      "['pullups_down']\n"
     ]
    },
    {
     "name": "stderr",
     "output_type": "stream",
     "text": [
      "c:\\Users\\JR\\.conda\\envs\\solol\\Lib\\site-packages\\sklearn\\base.py:493: UserWarning: X does not have valid feature names, but StandardScaler was fitted with feature names\n",
      "  warnings.warn(\n",
      "c:\\Users\\JR\\.conda\\envs\\solol\\Lib\\site-packages\\sklearn\\base.py:493: UserWarning: X does not have valid feature names, but StandardScaler was fitted with feature names\n",
      "  warnings.warn(\n"
     ]
    },
    {
     "name": "stdout",
     "output_type": "stream",
     "text": [
      "1/1 [==============================] - 0s 29ms/step\n",
      "[[0.00612146 0.04553274 0.8431655  0.03588339 0.03594821 0.00478105\n",
      "  0.00968504 0.00897008 0.00110891 0.00880362]]\n",
      "['pullups_down']\n",
      "1/1 [==============================] - 0s 20ms/step\n",
      "[[0.00610034 0.04543277 0.8434831  0.03576522 0.03597291 0.0047465\n",
      "  0.00968029 0.00894368 0.0011071  0.00876814]]\n",
      "['pullups_down']\n"
     ]
    },
    {
     "name": "stderr",
     "output_type": "stream",
     "text": [
      "c:\\Users\\JR\\.conda\\envs\\solol\\Lib\\site-packages\\sklearn\\base.py:493: UserWarning: X does not have valid feature names, but StandardScaler was fitted with feature names\n",
      "  warnings.warn(\n",
      "c:\\Users\\JR\\.conda\\envs\\solol\\Lib\\site-packages\\sklearn\\base.py:493: UserWarning: X does not have valid feature names, but StandardScaler was fitted with feature names\n",
      "  warnings.warn(\n"
     ]
    },
    {
     "name": "stdout",
     "output_type": "stream",
     "text": [
      "1/1 [==============================] - 0s 30ms/step\n",
      "[[0.00609413 0.04538356 0.84356445 0.03571527 0.03602745 0.00473316\n",
      "  0.00968749 0.00893359 0.00110722 0.00875371]]\n",
      "['pullups_down']\n",
      "1/1 [==============================] - 0s 28ms/step\n",
      "[[0.00610165 0.04539908 0.84343696 0.03574637 0.03606816 0.004742\n",
      "  0.00969288 0.00894066 0.00110856 0.00876363]]\n",
      "['pullups_down']\n",
      "1/1 [==============================] - ETA: 0s"
     ]
    },
    {
     "name": "stderr",
     "output_type": "stream",
     "text": [
      "c:\\Users\\JR\\.conda\\envs\\solol\\Lib\\site-packages\\sklearn\\base.py:493: UserWarning: X does not have valid feature names, but StandardScaler was fitted with feature names\n",
      "  warnings.warn(\n",
      "c:\\Users\\JR\\.conda\\envs\\solol\\Lib\\site-packages\\sklearn\\base.py:493: UserWarning: X does not have valid feature names, but StandardScaler was fitted with feature names\n",
      "  warnings.warn(\n"
     ]
    },
    {
     "name": "stdout",
     "output_type": "stream",
     "text": [
      "1/1 [==============================] - 0s 20ms/step\n",
      "[[0.00612347 0.04553385 0.8431438  0.0358872  0.03595533 0.00478321\n",
      "  0.00968677 0.00897268 0.00110899 0.00880472]]\n",
      "['pullups_down']\n",
      "1/1 [==============================] - 0s 30ms/step\n",
      "[[0.00612033 0.04552899 0.8431734  0.03589317 0.03593173 0.00477834\n",
      "  0.00968788 0.0089745  0.00110906 0.00880259]]\n",
      "['pullups_down']\n",
      "1/1 [==============================] - ETA: 0s"
     ]
    },
    {
     "name": "stderr",
     "output_type": "stream",
     "text": [
      "c:\\Users\\JR\\.conda\\envs\\solol\\Lib\\site-packages\\sklearn\\base.py:493: UserWarning: X does not have valid feature names, but StandardScaler was fitted with feature names\n",
      "  warnings.warn(\n",
      "c:\\Users\\JR\\.conda\\envs\\solol\\Lib\\site-packages\\sklearn\\base.py:493: UserWarning: X does not have valid feature names, but StandardScaler was fitted with feature names\n",
      "  warnings.warn(\n"
     ]
    },
    {
     "name": "stdout",
     "output_type": "stream",
     "text": [
      "1/1 [==============================] - 0s 21ms/step\n",
      "[[0.00611723 0.04557219 0.84324896 0.03590875 0.03579434 0.00478674\n",
      "  0.0096806  0.00897996 0.00110658 0.00880459]]\n",
      "['pullups_down']\n",
      "1/1 [==============================] - 0s 22ms/step\n",
      "[[0.00611775 0.04559897 0.84325635 0.03592927 0.03573269 0.00479223\n",
      "  0.00967487 0.00898259 0.00110565 0.00880961]]\n",
      "['pullups_down']\n"
     ]
    },
    {
     "name": "stderr",
     "output_type": "stream",
     "text": [
      "c:\\Users\\JR\\.conda\\envs\\solol\\Lib\\site-packages\\sklearn\\base.py:493: UserWarning: X does not have valid feature names, but StandardScaler was fitted with feature names\n",
      "  warnings.warn(\n",
      "c:\\Users\\JR\\.conda\\envs\\solol\\Lib\\site-packages\\sklearn\\base.py:493: UserWarning: X does not have valid feature names, but StandardScaler was fitted with feature names\n",
      "  warnings.warn(\n"
     ]
    },
    {
     "name": "stdout",
     "output_type": "stream",
     "text": [
      "1/1 [==============================] - 0s 32ms/step\n",
      "[[0.00611722 0.04561374 0.84327346 0.03593624 0.03569359 0.00479426\n",
      "  0.00967215 0.00898325 0.00110502 0.00881105]]\n",
      "['pullups_down']\n",
      "1/1 [==============================] - 0s 30ms/step\n",
      "[[0.00611908 0.04554346 0.84319603 0.03588738 0.03589381 0.00478323\n",
      "  0.00969331 0.0089745  0.00110814 0.00880107]]\n",
      "['pullups_down']\n"
     ]
    },
    {
     "name": "stderr",
     "output_type": "stream",
     "text": [
      "c:\\Users\\JR\\.conda\\envs\\solol\\Lib\\site-packages\\sklearn\\base.py:493: UserWarning: X does not have valid feature names, but StandardScaler was fitted with feature names\n",
      "  warnings.warn(\n",
      "c:\\Users\\JR\\.conda\\envs\\solol\\Lib\\site-packages\\sklearn\\base.py:493: UserWarning: X does not have valid feature names, but StandardScaler was fitted with feature names\n",
      "  warnings.warn(\n"
     ]
    },
    {
     "name": "stdout",
     "output_type": "stream",
     "text": [
      "1/1 [==============================] - 0s 41ms/step\n",
      "[[0.0061154  0.04553327 0.84325576 0.035866   0.03588274 0.00477944\n",
      "  0.00969359 0.00897118 0.00110757 0.00879493]]\n",
      "['pullups_down']\n",
      "1/1 [==============================] - 0s 22ms/step\n",
      "[[0.00611386 0.04550534 0.8432576  0.03585342 0.03593697 0.00477147\n",
      "  0.00969565 0.00896665 0.00110847 0.00879052]]\n",
      "['pullups_down']\n"
     ]
    },
    {
     "name": "stderr",
     "output_type": "stream",
     "text": [
      "c:\\Users\\JR\\.conda\\envs\\solol\\Lib\\site-packages\\sklearn\\base.py:493: UserWarning: X does not have valid feature names, but StandardScaler was fitted with feature names\n",
      "  warnings.warn(\n",
      "c:\\Users\\JR\\.conda\\envs\\solol\\Lib\\site-packages\\sklearn\\base.py:493: UserWarning: X does not have valid feature names, but StandardScaler was fitted with feature names\n",
      "  warnings.warn(\n"
     ]
    },
    {
     "name": "stdout",
     "output_type": "stream",
     "text": [
      "1/1 [==============================] - 0s 30ms/step\n",
      "[[0.00611342 0.04550201 0.84325856 0.03584538 0.0359418  0.00477367\n",
      "  0.00969952 0.00896897 0.00110842 0.0087883 ]]\n",
      "['pullups_down']\n",
      "1/1 [==============================] - 0s 20ms/step\n",
      "[[0.00611038 0.04549576 0.8433047  0.03583495 0.03592592 0.00477184\n",
      "  0.00969702 0.00896711 0.00110781 0.00878457]]\n",
      "['pullups_down']\n",
      "1/1 [==============================] - ETA: 0s"
     ]
    },
    {
     "name": "stderr",
     "output_type": "stream",
     "text": [
      "c:\\Users\\JR\\.conda\\envs\\solol\\Lib\\site-packages\\sklearn\\base.py:493: UserWarning: X does not have valid feature names, but StandardScaler was fitted with feature names\n",
      "  warnings.warn(\n",
      "c:\\Users\\JR\\.conda\\envs\\solol\\Lib\\site-packages\\sklearn\\base.py:493: UserWarning: X does not have valid feature names, but StandardScaler was fitted with feature names\n",
      "  warnings.warn(\n"
     ]
    },
    {
     "name": "stdout",
     "output_type": "stream",
     "text": [
      "1/1 [==============================] - 0s 30ms/step\n",
      "[[0.00610879 0.045476   0.8433257  0.03580934 0.03596287 0.00476765\n",
      "  0.00970068 0.00896229 0.00110803 0.00877864]]\n",
      "['pullups_down']\n",
      "1/1 [==============================] - 0s 30ms/step\n",
      "[[0.00610698 0.0454605  0.84335274 0.03578911 0.03598376 0.00476375\n",
      "  0.00970314 0.00895812 0.00110807 0.0087738 ]]\n",
      "['pullups_down']\n"
     ]
    },
    {
     "name": "stderr",
     "output_type": "stream",
     "text": [
      "c:\\Users\\JR\\.conda\\envs\\solol\\Lib\\site-packages\\sklearn\\base.py:493: UserWarning: X does not have valid feature names, but StandardScaler was fitted with feature names\n",
      "  warnings.warn(\n",
      "c:\\Users\\JR\\.conda\\envs\\solol\\Lib\\site-packages\\sklearn\\base.py:493: UserWarning: X does not have valid feature names, but StandardScaler was fitted with feature names\n",
      "  warnings.warn(\n"
     ]
    },
    {
     "name": "stdout",
     "output_type": "stream",
     "text": [
      "1/1 [==============================] - 0s 27ms/step\n",
      "[[0.00610269 0.04546026 0.8434248  0.03577567 0.03594242 0.00476103\n",
      "  0.0097006  0.00895633 0.00110709 0.00876907]]\n",
      "['pullups_down']\n",
      "1/1 [==============================] - 0s 46ms/step\n"
     ]
    },
    {
     "name": "stderr",
     "output_type": "stream",
     "text": [
      "c:\\Users\\JR\\.conda\\envs\\solol\\Lib\\site-packages\\sklearn\\base.py:493: UserWarning: X does not have valid feature names, but StandardScaler was fitted with feature names\n",
      "  warnings.warn(\n",
      "c:\\Users\\JR\\.conda\\envs\\solol\\Lib\\site-packages\\sklearn\\base.py:493: UserWarning: X does not have valid feature names, but StandardScaler was fitted with feature names\n",
      "  warnings.warn(\n"
     ]
    },
    {
     "name": "stdout",
     "output_type": "stream",
     "text": [
      "[[0.00607788 0.04542649 0.84381664 0.03567994 0.03578971 0.0047388\n",
      "  0.00968948 0.00894253 0.00110271 0.0087359 ]]\n",
      "['pullups_down']\n",
      "1/1 [==============================] - 0s 30ms/step\n",
      "[[0.00606571 0.04539819 0.8439965  0.03564326 0.03574554 0.00471921\n",
      "  0.00967982 0.00892872 0.00110144 0.00872155]]\n",
      "['pullups_down']\n",
      "1/1 [==============================] - 0s 20ms/step\n",
      "[[0.00606592 0.04538863 0.8439813  0.03564456 0.03577109 0.00471622\n",
      "  0.00968186 0.00892721 0.00110202 0.00872118]]\n",
      "['pullups_down']\n",
      "1/1 [==============================] - ETA: 0s"
     ]
    },
    {
     "name": "stderr",
     "output_type": "stream",
     "text": [
      "c:\\Users\\JR\\.conda\\envs\\solol\\Lib\\site-packages\\sklearn\\base.py:493: UserWarning: X does not have valid feature names, but StandardScaler was fitted with feature names\n",
      "  warnings.warn(\n",
      "c:\\Users\\JR\\.conda\\envs\\solol\\Lib\\site-packages\\sklearn\\base.py:493: UserWarning: X does not have valid feature names, but StandardScaler was fitted with feature names\n",
      "  warnings.warn(\n"
     ]
    },
    {
     "name": "stdout",
     "output_type": "stream",
     "text": [
      "1/1 [==============================] - 0s 30ms/step\n",
      "[[0.0060653  0.04541023 0.84399354 0.03564917 0.03572233 0.00472119\n",
      "  0.00968098 0.00893398 0.00110149 0.00872179]]\n",
      "['pullups_down']\n",
      "1/1 [==============================] - 0s 27ms/step\n",
      "[[0.00606647 0.04542514 0.84397656 0.03566893 0.03569634 0.00472396\n",
      "  0.00967766 0.00893743 0.00110142 0.00872613]]\n",
      "['pullups_down']\n",
      "1/1 [==============================] - 0s 20ms/step\n"
     ]
    },
    {
     "name": "stderr",
     "output_type": "stream",
     "text": [
      "c:\\Users\\JR\\.conda\\envs\\solol\\Lib\\site-packages\\sklearn\\base.py:493: UserWarning: X does not have valid feature names, but StandardScaler was fitted with feature names\n",
      "  warnings.warn(\n",
      "c:\\Users\\JR\\.conda\\envs\\solol\\Lib\\site-packages\\sklearn\\base.py:493: UserWarning: X does not have valid feature names, but StandardScaler was fitted with feature names\n",
      "  warnings.warn(\n"
     ]
    },
    {
     "name": "stdout",
     "output_type": "stream",
     "text": [
      "[[0.00607025 0.04542492 0.8439147  0.03568286 0.03572783 0.00472707\n",
      "  0.00968048 0.00893942 0.00110213 0.00873037]]\n",
      "['pullups_down']\n",
      "1/1 [==============================] - 0s 22ms/step\n",
      "[[0.00607346 0.04544167 0.8438836  0.0357038  0.03570871 0.00473243\n",
      "  0.00967767 0.00894012 0.00110177 0.00873677]]\n",
      "['pullups_down']\n",
      "1/1 [==============================] - ETA: 0s"
     ]
    },
    {
     "name": "stderr",
     "output_type": "stream",
     "text": [
      "c:\\Users\\JR\\.conda\\envs\\solol\\Lib\\site-packages\\sklearn\\base.py:493: UserWarning: X does not have valid feature names, but StandardScaler was fitted with feature names\n",
      "  warnings.warn(\n",
      "c:\\Users\\JR\\.conda\\envs\\solol\\Lib\\site-packages\\sklearn\\base.py:493: UserWarning: X does not have valid feature names, but StandardScaler was fitted with feature names\n",
      "  warnings.warn(\n"
     ]
    },
    {
     "name": "stdout",
     "output_type": "stream",
     "text": [
      "1/1 [==============================] - 0s 26ms/step\n",
      "[[0.00609579 0.0454769  0.84353703 0.03578979 0.03583737 0.00475287\n",
      "  0.00968722 0.00895112 0.00110547 0.00876654]]\n",
      "['pullups_down']\n",
      "1/1 [==============================] - 0s 24ms/step\n",
      "[[0.00609262 0.04544386 0.843574   0.03576158 0.03588578 0.00474449\n",
      "  0.00968884 0.0089442  0.00110585 0.00875884]]\n",
      "['pullups_down']\n"
     ]
    },
    {
     "name": "stderr",
     "output_type": "stream",
     "text": [
      "c:\\Users\\JR\\.conda\\envs\\solol\\Lib\\site-packages\\sklearn\\base.py:493: UserWarning: X does not have valid feature names, but StandardScaler was fitted with feature names\n",
      "  warnings.warn(\n",
      "c:\\Users\\JR\\.conda\\envs\\solol\\Lib\\site-packages\\sklearn\\base.py:493: UserWarning: X does not have valid feature names, but StandardScaler was fitted with feature names\n",
      "  warnings.warn(\n"
     ]
    },
    {
     "name": "stdout",
     "output_type": "stream",
     "text": [
      "1/1 [==============================] - 0s 92ms/step\n",
      "[[0.00608278 0.04546449 0.84374875 0.0357488  0.03574336 0.00473889\n",
      "  0.00967498 0.00894299 0.00110322 0.00875178]]\n",
      "['pullups_down']\n",
      "1/1 [==============================] - 0s 30ms/step\n",
      "[[0.00608435 0.04541408 0.84368795 0.03571851 0.03588816 0.00473067\n",
      "  0.00968896 0.00893612 0.00110551 0.00874565]]\n",
      "['pullups_down']\n",
      "1/1 [==============================] - ETA: 0s"
     ]
    },
    {
     "name": "stderr",
     "output_type": "stream",
     "text": [
      "c:\\Users\\JR\\.conda\\envs\\solol\\Lib\\site-packages\\sklearn\\base.py:493: UserWarning: X does not have valid feature names, but StandardScaler was fitted with feature names\n",
      "  warnings.warn(\n",
      "c:\\Users\\JR\\.conda\\envs\\solol\\Lib\\site-packages\\sklearn\\base.py:493: UserWarning: X does not have valid feature names, but StandardScaler was fitted with feature names\n",
      "  warnings.warn(\n"
     ]
    },
    {
     "name": "stdout",
     "output_type": "stream",
     "text": [
      "1/1 [==============================] - 0s 30ms/step\n",
      "[[0.00607005 0.04538599 0.8439157  0.03566013 0.03581301 0.00471611\n",
      "  0.00968408 0.00892609 0.0011031  0.00872569]]\n",
      "['pullups_down']\n",
      "1/1 [==============================] - 0s 27ms/step\n",
      "[[0.00607442 0.04539857 0.84384507 0.03568077 0.03582501 0.00472216\n",
      "  0.00968699 0.00893138 0.0011037  0.00873192]]\n",
      "['pullups_down']\n",
      "1/1 [==============================] - 0s 20ms/step\n"
     ]
    },
    {
     "name": "stderr",
     "output_type": "stream",
     "text": [
      "c:\\Users\\JR\\.conda\\envs\\solol\\Lib\\site-packages\\sklearn\\base.py:493: UserWarning: X does not have valid feature names, but StandardScaler was fitted with feature names\n",
      "  warnings.warn(\n",
      "c:\\Users\\JR\\.conda\\envs\\solol\\Lib\\site-packages\\sklearn\\base.py:493: UserWarning: X does not have valid feature names, but StandardScaler was fitted with feature names\n",
      "  warnings.warn(\n"
     ]
    },
    {
     "name": "stdout",
     "output_type": "stream",
     "text": [
      "[[0.00608374 0.04539912 0.84369147 0.03570969 0.03590291 0.00473106\n",
      "  0.00969896 0.00893601 0.00110539 0.00874176]]\n",
      "['pullups_down']\n",
      "1/1 [==============================] - 0s 19ms/step\n",
      "[[0.00609355 0.04541747 0.8435431  0.03575055 0.03595001 0.00474038\n",
      "  0.00970246 0.00894014 0.00110678 0.00875554]]\n",
      "['pullups_down']\n",
      "1/1 [==============================] - 0s 21ms/step\n"
     ]
    },
    {
     "name": "stderr",
     "output_type": "stream",
     "text": [
      "c:\\Users\\JR\\.conda\\envs\\solol\\Lib\\site-packages\\sklearn\\base.py:493: UserWarning: X does not have valid feature names, but StandardScaler was fitted with feature names\n",
      "  warnings.warn(\n",
      "c:\\Users\\JR\\.conda\\envs\\solol\\Lib\\site-packages\\sklearn\\base.py:493: UserWarning: X does not have valid feature names, but StandardScaler was fitted with feature names\n",
      "  warnings.warn(\n"
     ]
    },
    {
     "name": "stdout",
     "output_type": "stream",
     "text": [
      "[[0.00609211 0.04542074 0.84357136 0.03574128 0.03593491 0.00474032\n",
      "  0.00969922 0.00893931 0.00110637 0.00875431]]\n",
      "['pullups_down']\n",
      "1/1 [==============================] - 0s 30ms/step\n",
      "[[0.00608452 0.04537895 0.8436667  0.03570154 0.03595971 0.00472744\n",
      "  0.00970263 0.00893128 0.00110617 0.00874109]]\n",
      "['pullups_down']\n",
      "1/1 [==============================] - ETA: 0s"
     ]
    },
    {
     "name": "stderr",
     "output_type": "stream",
     "text": [
      "c:\\Users\\JR\\.conda\\envs\\solol\\Lib\\site-packages\\sklearn\\base.py:493: UserWarning: X does not have valid feature names, but StandardScaler was fitted with feature names\n",
      "  warnings.warn(\n",
      "c:\\Users\\JR\\.conda\\envs\\solol\\Lib\\site-packages\\sklearn\\base.py:493: UserWarning: X does not have valid feature names, but StandardScaler was fitted with feature names\n",
      "  warnings.warn(\n"
     ]
    },
    {
     "name": "stdout",
     "output_type": "stream",
     "text": [
      "1/1 [==============================] - 0s 27ms/step\n",
      "[[0.0060831  0.04537058 0.84368515 0.03569764 0.03595911 0.00472568\n",
      "  0.00970401 0.0089297  0.00110595 0.0087391 ]]\n",
      "['pullups_down']\n",
      "1/1 [==============================] - 0s 30ms/step\n",
      "[[0.00607739 0.04535924 0.8437684  0.03567336 0.03593245 0.00472112\n",
      "  0.00970449 0.00892808 0.00110511 0.00873042]]\n",
      "['pullups_down']\n",
      "1/1 [==============================] - ETA: 0s"
     ]
    },
    {
     "name": "stderr",
     "output_type": "stream",
     "text": [
      "c:\\Users\\JR\\.conda\\envs\\solol\\Lib\\site-packages\\sklearn\\base.py:493: UserWarning: X does not have valid feature names, but StandardScaler was fitted with feature names\n",
      "  warnings.warn(\n",
      "c:\\Users\\JR\\.conda\\envs\\solol\\Lib\\site-packages\\sklearn\\base.py:493: UserWarning: X does not have valid feature names, but StandardScaler was fitted with feature names\n",
      "  warnings.warn(\n"
     ]
    },
    {
     "name": "stdout",
     "output_type": "stream",
     "text": [
      "1/1 [==============================] - 0s 29ms/step\n",
      "[[0.00606827 0.04534005 0.84391147 0.03564402 0.03588906 0.00470824\n",
      "  0.00969623 0.00891986 0.00110391 0.00871891]]\n",
      "['pullups_down']\n",
      "1/1 [==============================] - 0s 20ms/step\n",
      "[[0.00606693 0.04534759 0.84394276 0.03563042 0.03586087 0.00471238\n",
      "  0.00969868 0.0089216  0.00110301 0.00871572]]\n",
      "['pullups_down']\n"
     ]
    },
    {
     "name": "stderr",
     "output_type": "stream",
     "text": [
      "c:\\Users\\JR\\.conda\\envs\\solol\\Lib\\site-packages\\sklearn\\base.py:493: UserWarning: X does not have valid feature names, but StandardScaler was fitted with feature names\n",
      "  warnings.warn(\n",
      "c:\\Users\\JR\\.conda\\envs\\solol\\Lib\\site-packages\\sklearn\\base.py:493: UserWarning: X does not have valid feature names, but StandardScaler was fitted with feature names\n",
      "  warnings.warn(\n"
     ]
    },
    {
     "name": "stdout",
     "output_type": "stream",
     "text": [
      "1/1 [==============================] - 0s 70ms/step\n",
      "[[0.00607248 0.04536115 0.84385544 0.03565922 0.03587815 0.00471869\n",
      "  0.00970082 0.00892631 0.00110374 0.00872403]]\n",
      "['pullups_down']\n",
      "1/1 [==============================] - 0s 21ms/step\n",
      "[[0.00606686 0.04535113 0.8439354  0.0356471  0.03584475 0.00471211\n",
      "  0.00969696 0.00892476 0.00110311 0.00871771]]\n",
      "['pullups_down']\n",
      "1/1 [==============================] - ETA: 0s"
     ]
    },
    {
     "name": "stderr",
     "output_type": "stream",
     "text": [
      "c:\\Users\\JR\\.conda\\envs\\solol\\Lib\\site-packages\\sklearn\\base.py:493: UserWarning: X does not have valid feature names, but StandardScaler was fitted with feature names\n",
      "  warnings.warn(\n",
      "c:\\Users\\JR\\.conda\\envs\\solol\\Lib\\site-packages\\sklearn\\base.py:493: UserWarning: X does not have valid feature names, but StandardScaler was fitted with feature names\n",
      "  warnings.warn(\n"
     ]
    },
    {
     "name": "stdout",
     "output_type": "stream",
     "text": [
      "1/1 [==============================] - 0s 29ms/step\n",
      "[[0.00606975 0.04536536 0.8438959  0.03565572 0.03584338 0.00471768\n",
      "  0.00969852 0.00892868 0.00110332 0.0087216 ]]\n",
      "['pullups_down']\n",
      "1/1 [==============================] - 0s 28ms/step\n",
      "[[0.00607097 0.04539341 0.8438933  0.03566391 0.03579389 0.00472515\n",
      "  0.00969594 0.00893592 0.00110279 0.00872476]]\n",
      "['pullups_down']\n",
      "1/1 [==============================] - ETA: 0s"
     ]
    },
    {
     "name": "stderr",
     "output_type": "stream",
     "text": [
      "c:\\Users\\JR\\.conda\\envs\\solol\\Lib\\site-packages\\sklearn\\base.py:493: UserWarning: X does not have valid feature names, but StandardScaler was fitted with feature names\n",
      "  warnings.warn(\n",
      "c:\\Users\\JR\\.conda\\envs\\solol\\Lib\\site-packages\\sklearn\\base.py:493: UserWarning: X does not have valid feature names, but StandardScaler was fitted with feature names\n",
      "  warnings.warn(\n"
     ]
    },
    {
     "name": "stdout",
     "output_type": "stream",
     "text": [
      "1/1 [==============================] - 0s 30ms/step\n",
      "[[0.00607341 0.04541591 0.8438651  0.03567712 0.03576922 0.00473223\n",
      "  0.00969496 0.00894026 0.00110249 0.00872924]]\n",
      "['pullups_down']\n",
      "1/1 [==============================] - 0s 30ms/step\n",
      "[[0.006074   0.04539406 0.84384644 0.03568057 0.03581585 0.00472594\n",
      "  0.00969606 0.00893428 0.0011032  0.00872969]]\n",
      "['pullups_down']\n",
      "1/1 [==============================] - ETA: 0s"
     ]
    },
    {
     "name": "stderr",
     "output_type": "stream",
     "text": [
      "c:\\Users\\JR\\.conda\\envs\\solol\\Lib\\site-packages\\sklearn\\base.py:493: UserWarning: X does not have valid feature names, but StandardScaler was fitted with feature names\n",
      "  warnings.warn(\n",
      "c:\\Users\\JR\\.conda\\envs\\solol\\Lib\\site-packages\\sklearn\\base.py:493: UserWarning: X does not have valid feature names, but StandardScaler was fitted with feature names\n",
      "  warnings.warn(\n"
     ]
    },
    {
     "name": "stdout",
     "output_type": "stream",
     "text": [
      "1/1 [==============================] - 0s 27ms/step\n",
      "[[0.00607152 0.04538286 0.8438774  0.03567221 0.03581518 0.0047222\n",
      "  0.00969617 0.00893343 0.0011031  0.00872601]]\n",
      "['pullups_down']\n",
      "1/1 [==============================] - 0s 80ms/step\n"
     ]
    },
    {
     "name": "stderr",
     "output_type": "stream",
     "text": [
      "c:\\Users\\JR\\.conda\\envs\\solol\\Lib\\site-packages\\sklearn\\base.py:493: UserWarning: X does not have valid feature names, but StandardScaler was fitted with feature names\n",
      "  warnings.warn(\n",
      "c:\\Users\\JR\\.conda\\envs\\solol\\Lib\\site-packages\\sklearn\\base.py:493: UserWarning: X does not have valid feature names, but StandardScaler was fitted with feature names\n",
      "  warnings.warn(\n"
     ]
    },
    {
     "name": "stdout",
     "output_type": "stream",
     "text": [
      "[[0.00606844 0.04534389 0.8439057  0.03565582 0.03587069 0.0047096\n",
      "  0.00969784 0.00892415 0.00110385 0.00872002]]\n",
      "['pullups_down']\n",
      "1/1 [==============================] - 0s 26ms/step\n",
      "[[0.00605838 0.04532807 0.8440579  0.03560653 0.03582298 0.00470193\n",
      "  0.00969596 0.00892076 0.00110237 0.00870498]]\n",
      "['pullups_down']\n",
      "1/1 [==============================] - 0s 26ms/step\n",
      "[[0.00606018 0.04533819 0.8440378  0.03561522 0.03581662 0.00470476\n",
      "  0.00969491 0.00892197 0.00110236 0.00870801]]\n",
      "['pullups_down']\n",
      "1/1 [==============================] - ETA: 0s"
     ]
    },
    {
     "name": "stderr",
     "output_type": "stream",
     "text": [
      "c:\\Users\\JR\\.conda\\envs\\solol\\Lib\\site-packages\\sklearn\\base.py:493: UserWarning: X does not have valid feature names, but StandardScaler was fitted with feature names\n",
      "  warnings.warn(\n",
      "c:\\Users\\JR\\.conda\\envs\\solol\\Lib\\site-packages\\sklearn\\base.py:493: UserWarning: X does not have valid feature names, but StandardScaler was fitted with feature names\n",
      "  warnings.warn(\n"
     ]
    },
    {
     "name": "stdout",
     "output_type": "stream",
     "text": [
      "1/1 [==============================] - 0s 30ms/step\n",
      "[[0.0060686  0.0453797  0.8439205  0.03565804 0.03580583 0.00471803\n",
      "  0.00969264 0.00893157 0.001103   0.00872212]]\n",
      "['pullups_down']\n",
      "1/1 [==============================] - 0s 30ms/step\n",
      "[[0.00607272 0.04539448 0.84386605 0.03566844 0.0358128  0.004725\n",
      "  0.00969519 0.00893472 0.00110323 0.00872732]]\n",
      "['pullups_down']\n",
      "1/1 [==============================] - ETA: 0s"
     ]
    },
    {
     "name": "stderr",
     "output_type": "stream",
     "text": [
      "c:\\Users\\JR\\.conda\\envs\\solol\\Lib\\site-packages\\sklearn\\base.py:493: UserWarning: X does not have valid feature names, but StandardScaler was fitted with feature names\n",
      "  warnings.warn(\n",
      "c:\\Users\\JR\\.conda\\envs\\solol\\Lib\\site-packages\\sklearn\\base.py:493: UserWarning: X does not have valid feature names, but StandardScaler was fitted with feature names\n",
      "  warnings.warn(\n"
     ]
    },
    {
     "name": "stdout",
     "output_type": "stream",
     "text": [
      "1/1 [==============================] - 0s 30ms/step\n",
      "[[0.00606446 0.04535475 0.8439835  0.03563448 0.03581968 0.00470944\n",
      "  0.0096923  0.00892378 0.00110273 0.00871488]]\n",
      "['pullups_down']\n",
      "1/1 [==============================] - 0s 26ms/step\n",
      "[[0.00605723 0.04531595 0.84408844 0.03559147 0.03584078 0.004696\n",
      "  0.00969362 0.00891235 0.00110227 0.00870187]]\n",
      "['pullups_down']\n",
      "1/1 [==============================] - ETA: 0s"
     ]
    },
    {
     "name": "stderr",
     "output_type": "stream",
     "text": [
      "c:\\Users\\JR\\.conda\\envs\\solol\\Lib\\site-packages\\sklearn\\base.py:493: UserWarning: X does not have valid feature names, but StandardScaler was fitted with feature names\n",
      "  warnings.warn(\n",
      "c:\\Users\\JR\\.conda\\envs\\solol\\Lib\\site-packages\\sklearn\\base.py:493: UserWarning: X does not have valid feature names, but StandardScaler was fitted with feature names\n",
      "  warnings.warn(\n"
     ]
    },
    {
     "name": "stdout",
     "output_type": "stream",
     "text": [
      "1/1 [==============================] - 0s 30ms/step\n",
      "[[0.00606036 0.04532463 0.84404486 0.03560171 0.03584781 0.00470138\n",
      "  0.00969609 0.0089153  0.00110245 0.00870556]]\n",
      "['pullups_down']\n",
      "1/1 [==============================] - 0s 29ms/step\n",
      "[[0.00606013 0.04534173 0.8440546  0.03560964 0.03580595 0.00470543\n",
      "  0.00969399 0.00891979 0.00110191 0.00870691]]\n",
      "['pullups_down']\n"
     ]
    },
    {
     "name": "stderr",
     "output_type": "stream",
     "text": [
      "c:\\Users\\JR\\.conda\\envs\\solol\\Lib\\site-packages\\sklearn\\base.py:493: UserWarning: X does not have valid feature names, but StandardScaler was fitted with feature names\n",
      "  warnings.warn(\n",
      "c:\\Users\\JR\\.conda\\envs\\solol\\Lib\\site-packages\\sklearn\\base.py:493: UserWarning: X does not have valid feature names, but StandardScaler was fitted with feature names\n",
      "  warnings.warn(\n"
     ]
    },
    {
     "name": "stdout",
     "output_type": "stream",
     "text": [
      "1/1 [==============================] - 0s 34ms/step\n",
      "[[0.00606018 0.04534092 0.8440512  0.03561386 0.03580752 0.00470426\n",
      "  0.00969295 0.00891961 0.00110207 0.00870753]]\n",
      "['pullups_down']\n",
      "1/1 [==============================] - 0s 29ms/step\n",
      "[[0.00606109 0.04535324 0.84404033 0.0356216  0.03578985 0.0047079\n",
      "  0.00969192 0.00892232 0.00110186 0.00870994]]\n",
      "['pullups_down']\n",
      "1/1 [==============================] - ETA: 0s"
     ]
    },
    {
     "name": "stderr",
     "output_type": "stream",
     "text": [
      "c:\\Users\\JR\\.conda\\envs\\solol\\Lib\\site-packages\\sklearn\\base.py:493: UserWarning: X does not have valid feature names, but StandardScaler was fitted with feature names\n",
      "  warnings.warn(\n",
      "c:\\Users\\JR\\.conda\\envs\\solol\\Lib\\site-packages\\sklearn\\base.py:493: UserWarning: X does not have valid feature names, but StandardScaler was fitted with feature names\n",
      "  warnings.warn(\n"
     ]
    },
    {
     "name": "stdout",
     "output_type": "stream",
     "text": [
      "1/1 [==============================] - 0s 30ms/step\n",
      "[[0.00605718 0.04533163 0.84409636 0.03560474 0.0357997  0.00469898\n",
      "  0.00968971 0.008916   0.00110179 0.00870392]]\n",
      "['pullups_down']\n",
      "1/1 [==============================] - 0s 31ms/step\n",
      "[[0.00605892 0.04532718 0.8440609  0.03560887 0.03582714 0.00469889\n",
      "  0.00969339 0.008917   0.00110248 0.00870521]]\n",
      "['pullups_down']\n",
      "1/1 [==============================] - ETA: 0s"
     ]
    },
    {
     "name": "stderr",
     "output_type": "stream",
     "text": [
      "c:\\Users\\JR\\.conda\\envs\\solol\\Lib\\site-packages\\sklearn\\base.py:493: UserWarning: X does not have valid feature names, but StandardScaler was fitted with feature names\n",
      "  warnings.warn(\n",
      "c:\\Users\\JR\\.conda\\envs\\solol\\Lib\\site-packages\\sklearn\\base.py:493: UserWarning: X does not have valid feature names, but StandardScaler was fitted with feature names\n",
      "  warnings.warn(\n"
     ]
    },
    {
     "name": "stdout",
     "output_type": "stream",
     "text": [
      "1/1 [==============================] - 0s 29ms/step\n",
      "[[0.00606218 0.045336   0.84401315 0.03562    0.03584159 0.00470294\n",
      "  0.00969318 0.0089182  0.00110286 0.00870986]]\n",
      "['pullups_down']\n",
      "1/1 [==============================] - 0s 21ms/step\n",
      "[[0.00606036 0.04533682 0.8440422  0.03561454 0.03582423 0.00470179\n",
      "  0.00969145 0.00891827 0.00110254 0.00870781]]\n",
      "['pullups_down']\n"
     ]
    },
    {
     "name": "stderr",
     "output_type": "stream",
     "text": [
      "c:\\Users\\JR\\.conda\\envs\\solol\\Lib\\site-packages\\sklearn\\base.py:493: UserWarning: X does not have valid feature names, but StandardScaler was fitted with feature names\n",
      "  warnings.warn(\n",
      "c:\\Users\\JR\\.conda\\envs\\solol\\Lib\\site-packages\\sklearn\\base.py:493: UserWarning: X does not have valid feature names, but StandardScaler was fitted with feature names\n",
      "  warnings.warn(\n"
     ]
    },
    {
     "name": "stdout",
     "output_type": "stream",
     "text": [
      "1/1 [==============================] - 0s 21ms/step\n",
      "[[0.00606417 0.04533812 0.8439821  0.03563013 0.03585268 0.00470427\n",
      "  0.00969372 0.00891911 0.00110321 0.00871252]]\n",
      "['pullups_down']\n",
      "1/1 [==============================] - 0s 30ms/step\n",
      "[[0.00606871 0.04536556 0.84391916 0.03565475 0.03583355 0.00471418\n",
      "  0.00969463 0.00892611 0.00110318 0.00872012]]\n",
      "['pullups_down']\n",
      "1/1 [==============================] - ETA: 0s"
     ]
    },
    {
     "name": "stderr",
     "output_type": "stream",
     "text": [
      "c:\\Users\\JR\\.conda\\envs\\solol\\Lib\\site-packages\\sklearn\\base.py:493: UserWarning: X does not have valid feature names, but StandardScaler was fitted with feature names\n",
      "  warnings.warn(\n",
      "c:\\Users\\JR\\.conda\\envs\\solol\\Lib\\site-packages\\sklearn\\base.py:493: UserWarning: X does not have valid feature names, but StandardScaler was fitted with feature names\n",
      "  warnings.warn(\n"
     ]
    },
    {
     "name": "stdout",
     "output_type": "stream",
     "text": [
      "1/1 [==============================] - 0s 28ms/step\n",
      "[[0.00607842 0.04540055 0.8437878  0.03570227 0.03583404 0.00472798\n",
      "  0.00969385 0.00893565 0.00110389 0.00873558]]\n",
      "['pullups_down']\n",
      "1/1 [==============================] - 0s 29ms/step\n",
      "[[0.00607846 0.04539227 0.84378463 0.03569531 0.03584979 0.00472758\n",
      "  0.0096978  0.00893653 0.00110413 0.00873346]]\n",
      "['pullups_down']\n"
     ]
    },
    {
     "name": "stderr",
     "output_type": "stream",
     "text": [
      "c:\\Users\\JR\\.conda\\envs\\solol\\Lib\\site-packages\\sklearn\\base.py:493: UserWarning: X does not have valid feature names, but StandardScaler was fitted with feature names\n",
      "  warnings.warn(\n",
      "c:\\Users\\JR\\.conda\\envs\\solol\\Lib\\site-packages\\sklearn\\base.py:493: UserWarning: X does not have valid feature names, but StandardScaler was fitted with feature names\n",
      "  warnings.warn(\n"
     ]
    },
    {
     "name": "stdout",
     "output_type": "stream",
     "text": [
      "1/1 [==============================] - 0s 49ms/step\n",
      "[[0.00607989 0.0453967  0.84376323 0.03569951 0.03585649 0.00472934\n",
      "  0.00969796 0.00893719 0.0011043  0.00873544]]\n",
      "['pullups_down']\n",
      "1/1 [==============================] - 0s 30ms/step\n",
      "[[0.00607936 0.04541291 0.8437723  0.03569835 0.03582057 0.00473418\n",
      "  0.00969969 0.00894337 0.00110388 0.00873537]]\n",
      "['pullups_down']\n"
     ]
    },
    {
     "name": "stderr",
     "output_type": "stream",
     "text": [
      "c:\\Users\\JR\\.conda\\envs\\solol\\Lib\\site-packages\\sklearn\\base.py:493: UserWarning: X does not have valid feature names, but StandardScaler was fitted with feature names\n",
      "  warnings.warn(\n",
      "c:\\Users\\JR\\.conda\\envs\\solol\\Lib\\site-packages\\sklearn\\base.py:493: UserWarning: X does not have valid feature names, but StandardScaler was fitted with feature names\n",
      "  warnings.warn(\n"
     ]
    },
    {
     "name": "stdout",
     "output_type": "stream",
     "text": [
      "1/1 [==============================] - 0s 21ms/step\n",
      "[[0.00609856 0.04542959 0.84345937 0.03578932 0.03594342 0.00474784\n",
      "  0.00970952 0.00895218 0.00110743 0.00876276]]\n",
      "['pullups_down']\n",
      "1/1 [==============================] - 0s 19ms/step\n",
      "[[0.00610543 0.0454024  0.843343   0.03579128 0.03606835 0.00474717\n",
      "  0.00971896 0.00894692 0.00110943 0.0087671 ]]\n",
      "['pullups_down']\n",
      "1/1 [==============================] - ETA: 0s"
     ]
    },
    {
     "name": "stderr",
     "output_type": "stream",
     "text": [
      "c:\\Users\\JR\\.conda\\envs\\solol\\Lib\\site-packages\\sklearn\\base.py:493: UserWarning: X does not have valid feature names, but StandardScaler was fitted with feature names\n",
      "  warnings.warn(\n",
      "c:\\Users\\JR\\.conda\\envs\\solol\\Lib\\site-packages\\sklearn\\base.py:493: UserWarning: X does not have valid feature names, but StandardScaler was fitted with feature names\n",
      "  warnings.warn(\n"
     ]
    },
    {
     "name": "stdout",
     "output_type": "stream",
     "text": [
      "1/1 [==============================] - 0s 29ms/step\n",
      "[[0.00610427 0.0454173  0.84336996 0.03578616 0.0360278  0.00475168\n",
      "  0.00971774 0.00895027 0.00110859 0.00876623]]\n",
      "['pullups_down']\n",
      "1/1 [==============================] - 0s 25ms/step\n"
     ]
    },
    {
     "name": "stderr",
     "output_type": "stream",
     "text": [
      "c:\\Users\\JR\\.conda\\envs\\solol\\Lib\\site-packages\\sklearn\\base.py:493: UserWarning: X does not have valid feature names, but StandardScaler was fitted with feature names\n",
      "  warnings.warn(\n",
      "c:\\Users\\JR\\.conda\\envs\\solol\\Lib\\site-packages\\sklearn\\base.py:493: UserWarning: X does not have valid feature names, but StandardScaler was fitted with feature names\n",
      "  warnings.warn(\n"
     ]
    },
    {
     "name": "stdout",
     "output_type": "stream",
     "text": [
      "[[0.00610289 0.04541732 0.8433975  0.03577792 0.03601843 0.00474993\n",
      "  0.00971426 0.00894864 0.00110836 0.0087647 ]]\n",
      "['pullups_down']\n",
      "1/1 [==============================] - 0s 29ms/step\n",
      "[[0.0060968  0.04541051 0.843488   0.03575336 0.03598095 0.00474578\n",
      "  0.0097132  0.00894752 0.00110739 0.00875657]]\n",
      "['pullups_down']\n",
      "1/1 [==============================] - 0s 21ms/step\n",
      "[[0.00608954 0.04537707 0.8435939  0.03571477 0.03598613 0.00473419\n",
      "  0.00971462 0.00893863 0.00110677 0.00874441]]\n",
      "['pullups_down']\n"
     ]
    },
    {
     "name": "stderr",
     "output_type": "stream",
     "text": [
      "c:\\Users\\JR\\.conda\\envs\\solol\\Lib\\site-packages\\sklearn\\base.py:493: UserWarning: X does not have valid feature names, but StandardScaler was fitted with feature names\n",
      "  warnings.warn(\n",
      "c:\\Users\\JR\\.conda\\envs\\solol\\Lib\\site-packages\\sklearn\\base.py:493: UserWarning: X does not have valid feature names, but StandardScaler was fitted with feature names\n",
      "  warnings.warn(\n"
     ]
    },
    {
     "name": "stdout",
     "output_type": "stream",
     "text": [
      "1/1 [==============================] - 0s 32ms/step\n",
      "[[0.0060897  0.04540319 0.84360373 0.03572357 0.03593098 0.00473996\n",
      "  0.00971169 0.00894397 0.00110607 0.00874714]]\n",
      "['pullups_down']\n",
      "1/1 [==============================] - 0s 33ms/step\n",
      "[[0.00607875 0.04538617 0.8437751  0.03568005 0.03587493 0.00472817\n",
      "  0.00970378 0.00893556 0.00110437 0.00873301]]\n",
      "['pullups_down']\n"
     ]
    },
    {
     "name": "stderr",
     "output_type": "stream",
     "text": [
      "c:\\Users\\JR\\.conda\\envs\\solol\\Lib\\site-packages\\sklearn\\base.py:493: UserWarning: X does not have valid feature names, but StandardScaler was fitted with feature names\n",
      "  warnings.warn(\n",
      "c:\\Users\\JR\\.conda\\envs\\solol\\Lib\\site-packages\\sklearn\\base.py:493: UserWarning: X does not have valid feature names, but StandardScaler was fitted with feature names\n",
      "  warnings.warn(\n"
     ]
    },
    {
     "name": "stdout",
     "output_type": "stream",
     "text": [
      "1/1 [==============================] - 0s 22ms/step\n",
      "[[0.00607035 0.04534379 0.8438813  0.03564787 0.03589142 0.00471158\n",
      "  0.00970311 0.00892643 0.00110434 0.00871981]]\n",
      "['pullups_down']\n",
      "1/1 [==============================] - 0s 20ms/step\n",
      "[[0.00605406 0.04530017 0.844133   0.03559066 0.03582808 0.00468868\n",
      "  0.00969381 0.00891155 0.00110224 0.00869777]]\n",
      "['pullups_down']\n"
     ]
    },
    {
     "name": "stderr",
     "output_type": "stream",
     "text": [
      "c:\\Users\\JR\\.conda\\envs\\solol\\Lib\\site-packages\\sklearn\\base.py:493: UserWarning: X does not have valid feature names, but StandardScaler was fitted with feature names\n",
      "  warnings.warn(\n",
      "c:\\Users\\JR\\.conda\\envs\\solol\\Lib\\site-packages\\sklearn\\base.py:493: UserWarning: X does not have valid feature names, but StandardScaler was fitted with feature names\n",
      "  warnings.warn(\n"
     ]
    },
    {
     "name": "stdout",
     "output_type": "stream",
     "text": [
      "1/1 [==============================] - 0s 21ms/step\n",
      "[[0.00606245 0.04532371 0.8440028  0.03562243 0.03585849 0.00469982\n",
      "  0.00969856 0.00891937 0.0011034  0.00870891]]\n",
      "['pullups_down']\n",
      "1/1 [==============================] - 0s 31ms/step\n",
      "[[0.00605722 0.04534015 0.84408855 0.03560819 0.03578335 0.00470091\n",
      "  0.00969351 0.00892243 0.001102   0.00870365]]\n",
      "['pullups_down']\n",
      "1/1 [==============================] - ETA: 0s"
     ]
    },
    {
     "name": "stderr",
     "output_type": "stream",
     "text": [
      "c:\\Users\\JR\\.conda\\envs\\solol\\Lib\\site-packages\\sklearn\\base.py:493: UserWarning: X does not have valid feature names, but StandardScaler was fitted with feature names\n",
      "  warnings.warn(\n",
      "c:\\Users\\JR\\.conda\\envs\\solol\\Lib\\site-packages\\sklearn\\base.py:493: UserWarning: X does not have valid feature names, but StandardScaler was fitted with feature names\n",
      "  warnings.warn(\n"
     ]
    },
    {
     "name": "stdout",
     "output_type": "stream",
     "text": [
      "1/1 [==============================] - 0s 20ms/step\n",
      "[[0.0060548  0.04534933 0.84412766 0.03560436 0.03574464 0.00470122\n",
      "  0.00969011 0.00892455 0.0011014  0.0087018 ]]\n",
      "['pullups_down']\n",
      "1/1 [==============================] - 0s 30ms/step\n",
      "[[0.00605809 0.04536422 0.8440797  0.03561855 0.03574261 0.00470739\n",
      "  0.00969185 0.00892944 0.00110163 0.00870658]]\n",
      "['pullups_down']\n",
      "1/1 [==============================] - ETA: 0s"
     ]
    },
    {
     "name": "stderr",
     "output_type": "stream",
     "text": [
      "c:\\Users\\JR\\.conda\\envs\\solol\\Lib\\site-packages\\sklearn\\base.py:493: UserWarning: X does not have valid feature names, but StandardScaler was fitted with feature names\n",
      "  warnings.warn(\n",
      "c:\\Users\\JR\\.conda\\envs\\solol\\Lib\\site-packages\\sklearn\\base.py:493: UserWarning: X does not have valid feature names, but StandardScaler was fitted with feature names\n",
      "  warnings.warn(\n"
     ]
    },
    {
     "name": "stdout",
     "output_type": "stream",
     "text": [
      "1/1 [==============================] - 0s 30ms/step\n",
      "[[0.00605795 0.0453624  0.84408754 0.03560995 0.03575002 0.0047069\n",
      "  0.00969119 0.00892708 0.00110157 0.00870536]]\n",
      "['pullups_down']\n",
      "1/1 [==============================] - 0s 30ms/step\n",
      "[[0.00606792 0.04538587 0.84392995 0.03564933 0.0357981  0.00471801\n",
      "  0.00969314 0.00893536 0.00110323 0.00871921]]\n",
      "['pullups_down']\n"
     ]
    },
    {
     "name": "stderr",
     "output_type": "stream",
     "text": [
      "c:\\Users\\JR\\.conda\\envs\\solol\\Lib\\site-packages\\sklearn\\base.py:493: UserWarning: X does not have valid feature names, but StandardScaler was fitted with feature names\n",
      "  warnings.warn(\n",
      "c:\\Users\\JR\\.conda\\envs\\solol\\Lib\\site-packages\\sklearn\\base.py:493: UserWarning: X does not have valid feature names, but StandardScaler was fitted with feature names\n",
      "  warnings.warn(\n"
     ]
    },
    {
     "name": "stdout",
     "output_type": "stream",
     "text": [
      "1/1 [==============================] - 0s 30ms/step\n",
      "[[0.0060646  0.04538301 0.8439864  0.03563634 0.03577664 0.00471491\n",
      "  0.00968893 0.0089314  0.00110248 0.00871528]]\n",
      "['pullups_down']\n",
      "1/1 [==============================] - 0s 28ms/step\n",
      "[[0.00606792 0.0453865  0.84393376 0.0356639  0.03578395 0.00471709\n",
      "  0.00968943 0.00893308 0.00110286 0.00872152]]\n",
      "['pullups_down']\n"
     ]
    },
    {
     "name": "stderr",
     "output_type": "stream",
     "text": [
      "c:\\Users\\JR\\.conda\\envs\\solol\\Lib\\site-packages\\sklearn\\base.py:493: UserWarning: X does not have valid feature names, but StandardScaler was fitted with feature names\n",
      "  warnings.warn(\n",
      "c:\\Users\\JR\\.conda\\envs\\solol\\Lib\\site-packages\\sklearn\\base.py:493: UserWarning: X does not have valid feature names, but StandardScaler was fitted with feature names\n",
      "  warnings.warn(\n"
     ]
    },
    {
     "name": "stdout",
     "output_type": "stream",
     "text": [
      "1/1 [==============================] - 0s 29ms/step\n",
      "[[0.00607671 0.04542273 0.8438131  0.03572293 0.03576779 0.00472763\n",
      "  0.0096854  0.00894151 0.00110352 0.00873851]]\n",
      "['pullups_down']\n",
      "1/1 [==============================] - 0s 30ms/step\n",
      "[[0.00607321 0.0453635  0.8438485  0.03570229 0.0358434  0.00471244\n",
      "  0.00969318 0.00892871 0.00110414 0.0087305 ]]\n",
      "['pullups_down']\n"
     ]
    },
    {
     "name": "stderr",
     "output_type": "stream",
     "text": [
      "c:\\Users\\JR\\.conda\\envs\\solol\\Lib\\site-packages\\sklearn\\base.py:493: UserWarning: X does not have valid feature names, but StandardScaler was fitted with feature names\n",
      "  warnings.warn(\n",
      "c:\\Users\\JR\\.conda\\envs\\solol\\Lib\\site-packages\\sklearn\\base.py:493: UserWarning: X does not have valid feature names, but StandardScaler was fitted with feature names\n",
      "  warnings.warn(\n"
     ]
    },
    {
     "name": "stdout",
     "output_type": "stream",
     "text": [
      "1/1 [==============================] - 0s 30ms/step\n",
      "[[0.00608427 0.0453824  0.84368455 0.03573584 0.03590057 0.00472664\n",
      "  0.00970131 0.00893571 0.00110541 0.00874333]]\n",
      "['pullups_down']\n",
      "1/1 [==============================] - 0s 20ms/step\n",
      "[[0.00608866 0.04539008 0.8436214  0.03574481 0.03592386 0.0047327\n",
      "  0.00970627 0.00893844 0.0011059  0.00874789]]\n",
      "['pullups_down']\n"
     ]
    },
    {
     "name": "stderr",
     "output_type": "stream",
     "text": [
      "c:\\Users\\JR\\.conda\\envs\\solol\\Lib\\site-packages\\sklearn\\base.py:493: UserWarning: X does not have valid feature names, but StandardScaler was fitted with feature names\n",
      "  warnings.warn(\n",
      "c:\\Users\\JR\\.conda\\envs\\solol\\Lib\\site-packages\\sklearn\\base.py:493: UserWarning: X does not have valid feature names, but StandardScaler was fitted with feature names\n",
      "  warnings.warn(\n"
     ]
    },
    {
     "name": "stdout",
     "output_type": "stream",
     "text": [
      "1/1 [==============================] - 0s 26ms/step\n",
      "[[0.00608984 0.04539632 0.84360415 0.03574399 0.03592744 0.00473593\n",
      "  0.00970732 0.00894002 0.00110596 0.00874908]]\n",
      "['pullups_down']\n",
      "1/1 [==============================] - 0s 22ms/step\n",
      "[[0.00609218 0.04540179 0.8435649  0.03574576 0.03594375 0.00474002\n",
      "  0.00971114 0.00894269 0.00110636 0.00875138]]\n",
      "['pullups_down']\n",
      "1/1 [==============================] - ETA: 0s"
     ]
    },
    {
     "name": "stderr",
     "output_type": "stream",
     "text": [
      "c:\\Users\\JR\\.conda\\envs\\solol\\Lib\\site-packages\\sklearn\\base.py:493: UserWarning: X does not have valid feature names, but StandardScaler was fitted with feature names\n",
      "  warnings.warn(\n",
      "c:\\Users\\JR\\.conda\\envs\\solol\\Lib\\site-packages\\sklearn\\base.py:493: UserWarning: X does not have valid feature names, but StandardScaler was fitted with feature names\n",
      "  warnings.warn(\n"
     ]
    },
    {
     "name": "stdout",
     "output_type": "stream",
     "text": [
      "1/1 [==============================] - 0s 19ms/step\n",
      "[[0.00609572 0.04539984 0.8435017  0.03574516 0.03598874 0.00474326\n",
      "  0.00971936 0.00894544 0.00110738 0.00875339]]\n",
      "['pullups_down']\n",
      "1/1 [==============================] - 0s 30ms/step\n",
      "[[0.00609186 0.04539844 0.84355766 0.03573437 0.03596035 0.00473986\n",
      "  0.00971654 0.00894493 0.00110686 0.00874918]]\n",
      "['pullups_down']\n"
     ]
    },
    {
     "name": "stderr",
     "output_type": "stream",
     "text": [
      "c:\\Users\\JR\\.conda\\envs\\solol\\Lib\\site-packages\\sklearn\\base.py:493: UserWarning: X does not have valid feature names, but StandardScaler was fitted with feature names\n",
      "  warnings.warn(\n",
      "c:\\Users\\JR\\.conda\\envs\\solol\\Lib\\site-packages\\sklearn\\base.py:493: UserWarning: X does not have valid feature names, but StandardScaler was fitted with feature names\n",
      "  warnings.warn(\n"
     ]
    },
    {
     "name": "stdout",
     "output_type": "stream",
     "text": [
      "1/1 [==============================] - 0s 32ms/step\n",
      "[[0.00608311 0.04540568 0.8436943  0.03571655 0.03586192 0.00473599\n",
      "  0.00970971 0.00894749 0.00110504 0.00874021]]\n",
      "['pullups_down']\n",
      "1/1 [==============================] - 0s 26ms/step\n",
      "[[0.00607388 0.04539551 0.8438381  0.03567828 0.03580455 0.00472922\n",
      "  0.00970698 0.00894297 0.00110334 0.00872716]]\n",
      "['pullups_down']\n",
      "1/1 [==============================] - ETA: 0s"
     ]
    },
    {
     "name": "stderr",
     "output_type": "stream",
     "text": [
      "c:\\Users\\JR\\.conda\\envs\\solol\\Lib\\site-packages\\sklearn\\base.py:493: UserWarning: X does not have valid feature names, but StandardScaler was fitted with feature names\n",
      "  warnings.warn(\n",
      "c:\\Users\\JR\\.conda\\envs\\solol\\Lib\\site-packages\\sklearn\\base.py:493: UserWarning: X does not have valid feature names, but StandardScaler was fitted with feature names\n",
      "  warnings.warn(\n"
     ]
    },
    {
     "name": "stdout",
     "output_type": "stream",
     "text": [
      "1/1 [==============================] - 0s 25ms/step\n",
      "[[0.00605381 0.04533682 0.8441386  0.03559072 0.03576183 0.00469962\n",
      "  0.00969528 0.00892338 0.00110146 0.0086984 ]]\n",
      "['pullups_down']\n",
      "1/1 [==============================] - 0s 21ms/step\n",
      "[[0.00605387 0.04533637 0.84413284 0.03559775 0.03576186 0.00469896\n",
      "  0.00969423 0.00892338 0.00110154 0.00869926]]\n",
      "['pullups_down']\n",
      "1/1 [==============================] - 0s 19ms/step\n"
     ]
    },
    {
     "name": "stderr",
     "output_type": "stream",
     "text": [
      "c:\\Users\\JR\\.conda\\envs\\solol\\Lib\\site-packages\\sklearn\\base.py:493: UserWarning: X does not have valid feature names, but StandardScaler was fitted with feature names\n",
      "  warnings.warn(\n",
      "c:\\Users\\JR\\.conda\\envs\\solol\\Lib\\site-packages\\sklearn\\base.py:493: UserWarning: X does not have valid feature names, but StandardScaler was fitted with feature names\n",
      "  warnings.warn(\n"
     ]
    },
    {
     "name": "stdout",
     "output_type": "stream",
     "text": [
      "[[0.00605791 0.04535882 0.8440801  0.03561415 0.03574964 0.00470775\n",
      "  0.00969585 0.00892932 0.00110155 0.00870489]]\n",
      "['pullups_down']\n",
      "1/1 [==============================] - 0s 36ms/step\n",
      "[[0.0060607  0.04536988 0.84403795 0.03563248 0.0357445  0.00471218\n",
      "  0.00969774 0.00893309 0.00110177 0.00870969]]\n",
      "['pullups_down']\n",
      "1/1 [==============================] - ETA: 0s"
     ]
    },
    {
     "name": "stderr",
     "output_type": "stream",
     "text": [
      "c:\\Users\\JR\\.conda\\envs\\solol\\Lib\\site-packages\\sklearn\\base.py:493: UserWarning: X does not have valid feature names, but StandardScaler was fitted with feature names\n",
      "  warnings.warn(\n",
      "c:\\Users\\JR\\.conda\\envs\\solol\\Lib\\site-packages\\sklearn\\base.py:493: UserWarning: X does not have valid feature names, but StandardScaler was fitted with feature names\n",
      "  warnings.warn(\n"
     ]
    },
    {
     "name": "stdout",
     "output_type": "stream",
     "text": [
      "1/1 [==============================] - 0s 30ms/step\n",
      "[[0.0060618  0.04536518 0.8440162  0.03564134 0.03575985 0.00471103\n",
      "  0.00969893 0.00893208 0.00110213 0.00871136]]\n",
      "['pullups_down']\n",
      "1/1 [==============================] - 0s 36ms/step\n"
     ]
    },
    {
     "name": "stderr",
     "output_type": "stream",
     "text": [
      "c:\\Users\\JR\\.conda\\envs\\solol\\Lib\\site-packages\\sklearn\\base.py:493: UserWarning: X does not have valid feature names, but StandardScaler was fitted with feature names\n",
      "  warnings.warn(\n",
      "c:\\Users\\JR\\.conda\\envs\\solol\\Lib\\site-packages\\sklearn\\base.py:493: UserWarning: X does not have valid feature names, but StandardScaler was fitted with feature names\n",
      "  warnings.warn(\n"
     ]
    },
    {
     "name": "stdout",
     "output_type": "stream",
     "text": [
      "[[0.00607419 0.04536589 0.8438177  0.03570073 0.0358569  0.00471679\n",
      "  0.00970217 0.0089324  0.00110439 0.00872875]]\n",
      "['pullups_down']\n",
      "1/1 [==============================] - 0s 30ms/step\n",
      "[[0.006078   0.0453661  0.84376806 0.03570859 0.03588356 0.00472049\n",
      "  0.00970383 0.00893314 0.00110476 0.00873354]]\n",
      "['pullups_down']\n",
      "1/1 [==============================] - 0s 20ms/step\n",
      "[[0.00607706 0.0453572  0.8437848  0.03570248 0.03588615 0.00471892\n",
      "  0.00970514 0.00893221 0.0011046  0.00873146]]\n",
      "['pullups_down']\n",
      "1/1 [==============================] - 0s 21ms/step\n"
     ]
    },
    {
     "name": "stderr",
     "output_type": "stream",
     "text": [
      "c:\\Users\\JR\\.conda\\envs\\solol\\Lib\\site-packages\\sklearn\\base.py:493: UserWarning: X does not have valid feature names, but StandardScaler was fitted with feature names\n",
      "  warnings.warn(\n",
      "c:\\Users\\JR\\.conda\\envs\\solol\\Lib\\site-packages\\sklearn\\base.py:493: UserWarning: X does not have valid feature names, but StandardScaler was fitted with feature names\n",
      "  warnings.warn(\n"
     ]
    },
    {
     "name": "stdout",
     "output_type": "stream",
     "text": [
      "[[0.00608968 0.0453921  0.84360397 0.03575413 0.03591636 0.00473595\n",
      "  0.00971123 0.00894204 0.0011058  0.00874883]]\n",
      "['pullups_down']\n",
      "1/1 [==============================] - 0s 28ms/step\n",
      "[[0.00608979 0.04540102 0.8436034  0.03575046 0.03590005 0.00474038\n",
      "  0.00971433 0.00894644 0.00110554 0.0087486 ]]\n",
      "['pullups_down']\n",
      "1/1 [==============================] - ETA: 0s"
     ]
    },
    {
     "name": "stderr",
     "output_type": "stream",
     "text": [
      "c:\\Users\\JR\\.conda\\envs\\solol\\Lib\\site-packages\\sklearn\\base.py:493: UserWarning: X does not have valid feature names, but StandardScaler was fitted with feature names\n",
      "  warnings.warn(\n",
      "c:\\Users\\JR\\.conda\\envs\\solol\\Lib\\site-packages\\sklearn\\base.py:493: UserWarning: X does not have valid feature names, but StandardScaler was fitted with feature names\n",
      "  warnings.warn(\n"
     ]
    },
    {
     "name": "stdout",
     "output_type": "stream",
     "text": [
      "1/1 [==============================] - 0s 30ms/step\n",
      "[[0.00609119 0.04541031 0.8435871  0.03574361 0.03590648 0.00474352\n",
      "  0.00971426 0.0089484  0.0011058  0.00874933]]\n",
      "['pullups_down']\n",
      "1/1 [==============================] - 0s 20ms/step\n",
      "[[0.00608874 0.04541102 0.8436217  0.03573629 0.03588498 0.00474256\n",
      "  0.00971344 0.00894947 0.00110541 0.00874643]]\n",
      "['pullups_down']\n",
      "1/1 [==============================] - ETA: 0s"
     ]
    },
    {
     "name": "stderr",
     "output_type": "stream",
     "text": [
      "c:\\Users\\JR\\.conda\\envs\\solol\\Lib\\site-packages\\sklearn\\base.py:493: UserWarning: X does not have valid feature names, but StandardScaler was fitted with feature names\n",
      "  warnings.warn(\n",
      "c:\\Users\\JR\\.conda\\envs\\solol\\Lib\\site-packages\\sklearn\\base.py:493: UserWarning: X does not have valid feature names, but StandardScaler was fitted with feature names\n",
      "  warnings.warn(\n"
     ]
    },
    {
     "name": "stdout",
     "output_type": "stream",
     "text": [
      "1/1 [==============================] - 0s 29ms/step\n",
      "[[0.00608919 0.04537804 0.843601   0.03572969 0.03595912 0.0047339\n",
      "  0.00971729 0.00894039 0.00110644 0.00874485]]\n",
      "['pullups_down']\n",
      "1/1 [==============================] - 0s 21ms/step\n",
      "[[0.00608229 0.04536015 0.8437044  0.03569914 0.0359372  0.00472618\n",
      "  0.00971572 0.00893445 0.00110544 0.00873498]]\n",
      "['pullups_down']\n",
      "1/1 [==============================] - ETA: 0s"
     ]
    },
    {
     "name": "stderr",
     "output_type": "stream",
     "text": [
      "c:\\Users\\JR\\.conda\\envs\\solol\\Lib\\site-packages\\sklearn\\base.py:493: UserWarning: X does not have valid feature names, but StandardScaler was fitted with feature names\n",
      "  warnings.warn(\n",
      "c:\\Users\\JR\\.conda\\envs\\solol\\Lib\\site-packages\\sklearn\\base.py:493: UserWarning: X does not have valid feature names, but StandardScaler was fitted with feature names\n",
      "  warnings.warn(\n"
     ]
    },
    {
     "name": "stdout",
     "output_type": "stream",
     "text": [
      "1/1 [==============================] - 0s 22ms/step\n",
      "[[0.00607185 0.0453458  0.84386694 0.03565867 0.03588042 0.00471486\n",
      "  0.0097088  0.00892752 0.00110392 0.00872122]]\n",
      "['pullups_down']\n",
      "1/1 [==============================] - 0s 22ms/step\n",
      "[[0.00605979 0.04536436 0.8440602  0.03563016 0.03573954 0.00471039\n",
      "  0.00969498 0.00892964 0.00110136 0.00870959]]\n",
      "['pullups_down']\n",
      "1/1 [==============================] - ETA: 0s"
     ]
    },
    {
     "name": "stderr",
     "output_type": "stream",
     "text": [
      "c:\\Users\\JR\\.conda\\envs\\solol\\Lib\\site-packages\\sklearn\\base.py:493: UserWarning: X does not have valid feature names, but StandardScaler was fitted with feature names\n",
      "  warnings.warn(\n",
      "c:\\Users\\JR\\.conda\\envs\\solol\\Lib\\site-packages\\sklearn\\base.py:493: UserWarning: X does not have valid feature names, but StandardScaler was fitted with feature names\n",
      "  warnings.warn(\n"
     ]
    },
    {
     "name": "stdout",
     "output_type": "stream",
     "text": [
      "1/1 [==============================] - 0s 29ms/step\n",
      "[[0.00605637 0.04537373 0.8441161  0.03562697 0.03568948 0.00470912\n",
      "  0.00968912 0.00893186 0.00110064 0.00870665]]\n",
      "['pullups_down']\n",
      "1/1 [==============================] - 0s 21ms/step\n",
      "[[0.00606526 0.04537931 0.8439703  0.03566775 0.03575148 0.00471568\n",
      "  0.00969376 0.00893573 0.00110222 0.0087185 ]]\n",
      "['pullups_down']\n",
      "1/1 [==============================] - 0s 21ms/step\n"
     ]
    },
    {
     "name": "stderr",
     "output_type": "stream",
     "text": [
      "c:\\Users\\JR\\.conda\\envs\\solol\\Lib\\site-packages\\sklearn\\base.py:493: UserWarning: X does not have valid feature names, but StandardScaler was fitted with feature names\n",
      "  warnings.warn(\n",
      "c:\\Users\\JR\\.conda\\envs\\solol\\Lib\\site-packages\\sklearn\\base.py:493: UserWarning: X does not have valid feature names, but StandardScaler was fitted with feature names\n",
      "  warnings.warn(\n"
     ]
    },
    {
     "name": "stdout",
     "output_type": "stream",
     "text": [
      "[[0.00607152 0.0453641  0.8438681  0.03569078 0.03583258 0.00471478\n",
      "  0.00969766 0.00893116 0.00110371 0.00872571]]\n",
      "['pullups_down']\n",
      "1/1 [==============================] - 0s 35ms/step\n",
      "[[0.00607717 0.04535469 0.8437775  0.03570202 0.03590342 0.00471609\n",
      "  0.00970331 0.00892912 0.00110503 0.00873161]]\n",
      "['pullups_down']\n",
      "1/1 [==============================] - ETA: 0s"
     ]
    },
    {
     "name": "stderr",
     "output_type": "stream",
     "text": [
      "c:\\Users\\JR\\.conda\\envs\\solol\\Lib\\site-packages\\sklearn\\base.py:493: UserWarning: X does not have valid feature names, but StandardScaler was fitted with feature names\n",
      "  warnings.warn(\n",
      "c:\\Users\\JR\\.conda\\envs\\solol\\Lib\\site-packages\\sklearn\\base.py:493: UserWarning: X does not have valid feature names, but StandardScaler was fitted with feature names\n",
      "  warnings.warn(\n"
     ]
    },
    {
     "name": "stdout",
     "output_type": "stream",
     "text": [
      "1/1 [==============================] - 0s 29ms/step\n",
      "[[0.00607847 0.04536814 0.8437677  0.03570952 0.03588414 0.00472008\n",
      "  0.00970156 0.00893124 0.00110473 0.0087344 ]]\n",
      "['pullups_down']\n",
      "1/1 [==============================] - 0s 81ms/step\n",
      "[[0.00607018 0.04533737 0.8438821  0.03567639 0.035879   0.00470707\n",
      "  0.00969838 0.00892274 0.0011041  0.00872271]]\n",
      "['pullups_down']\n"
     ]
    },
    {
     "name": "stderr",
     "output_type": "stream",
     "text": [
      "c:\\Users\\JR\\.conda\\envs\\solol\\Lib\\site-packages\\sklearn\\base.py:493: UserWarning: X does not have valid feature names, but StandardScaler was fitted with feature names\n",
      "  warnings.warn(\n",
      "c:\\Users\\JR\\.conda\\envs\\solol\\Lib\\site-packages\\sklearn\\base.py:493: UserWarning: X does not have valid feature names, but StandardScaler was fitted with feature names\n",
      "  warnings.warn(\n"
     ]
    },
    {
     "name": "stdout",
     "output_type": "stream",
     "text": [
      "1/1 [==============================] - 0s 31ms/step\n",
      "[[0.00605516 0.04535252 0.84412587 0.03563365 0.03571523 0.00470086\n",
      "  0.00968519 0.0089245  0.00110091 0.00870611]]\n",
      "['pullups_down']\n",
      "1/1 [==============================] - 0s 26ms/step\n"
     ]
    },
    {
     "name": "stderr",
     "output_type": "stream",
     "text": [
      "c:\\Users\\JR\\.conda\\envs\\solol\\Lib\\site-packages\\sklearn\\base.py:493: UserWarning: X does not have valid feature names, but StandardScaler was fitted with feature names\n",
      "  warnings.warn(\n",
      "c:\\Users\\JR\\.conda\\envs\\solol\\Lib\\site-packages\\sklearn\\base.py:493: UserWarning: X does not have valid feature names, but StandardScaler was fitted with feature names\n",
      "  warnings.warn(\n"
     ]
    },
    {
     "name": "stdout",
     "output_type": "stream",
     "text": [
      "[[0.00606154 0.04535112 0.84402317 0.03565416 0.03577427 0.00470448\n",
      "  0.00969059 0.00892526 0.00110219 0.00871323]]\n",
      "['pullups_down']\n",
      "1/1 [==============================] - 0s 28ms/step\n",
      "[[0.00607447 0.04538591 0.8438419  0.03570789 0.03580899 0.00472003\n",
      "  0.00969304 0.00893252 0.00110345 0.00873181]]\n",
      "['pullups_down']\n",
      "1/1 [==============================] - 0s 30ms/step\n",
      "[[0.00608286 0.04538183 0.8436998  0.03573333 0.03589273 0.00472547\n",
      "  0.00970224 0.00893475 0.00110528 0.00874163]]\n",
      "['pullups_down']\n"
     ]
    },
    {
     "name": "stderr",
     "output_type": "stream",
     "text": [
      "c:\\Users\\JR\\.conda\\envs\\solol\\Lib\\site-packages\\sklearn\\base.py:493: UserWarning: X does not have valid feature names, but StandardScaler was fitted with feature names\n",
      "  warnings.warn(\n",
      "c:\\Users\\JR\\.conda\\envs\\solol\\Lib\\site-packages\\sklearn\\base.py:493: UserWarning: X does not have valid feature names, but StandardScaler was fitted with feature names\n",
      "  warnings.warn(\n"
     ]
    },
    {
     "name": "stdout",
     "output_type": "stream",
     "text": [
      "1/1 [==============================] - 0s 30ms/step\n",
      "[[0.00607213 0.04532784 0.8438477  0.03568488 0.03591437 0.00470432\n",
      "  0.00969873 0.00892006 0.00110493 0.00872506]]\n",
      "['pullups_down']\n",
      "1/1 [==============================] - 0s 30ms/step\n",
      "[[0.00605618 0.04531411 0.8440945  0.03562541 0.03581109 0.00468983\n",
      "  0.00968771 0.0089144  0.00110251 0.00870438]]\n",
      "['pullups_down']\n",
      "1/1 [==============================] - ETA: 0s"
     ]
    },
    {
     "name": "stderr",
     "output_type": "stream",
     "text": [
      "c:\\Users\\JR\\.conda\\envs\\solol\\Lib\\site-packages\\sklearn\\base.py:493: UserWarning: X does not have valid feature names, but StandardScaler was fitted with feature names\n",
      "  warnings.warn(\n",
      "c:\\Users\\JR\\.conda\\envs\\solol\\Lib\\site-packages\\sklearn\\base.py:493: UserWarning: X does not have valid feature names, but StandardScaler was fitted with feature names\n",
      "  warnings.warn(\n"
     ]
    },
    {
     "name": "stdout",
     "output_type": "stream",
     "text": [
      "1/1 [==============================] - 0s 21ms/step\n",
      "[[0.00605198 0.04534089 0.84418947 0.03562834 0.03570239 0.00469178\n",
      "  0.00967609 0.00891535 0.00110039 0.00870335]]\n",
      "['pullups_down']\n",
      "1/1 [==============================] - 0s 30ms/step\n",
      "[[0.00605144 0.04531794 0.8441808  0.03560578 0.03576525 0.00468641\n",
      "  0.00968123 0.00891153 0.00110139 0.00869828]]\n",
      "['pullups_down']\n",
      "1/1 [==============================] - 0s 20ms/step\n"
     ]
    },
    {
     "name": "stderr",
     "output_type": "stream",
     "text": [
      "c:\\Users\\JR\\.conda\\envs\\solol\\Lib\\site-packages\\sklearn\\base.py:493: UserWarning: X does not have valid feature names, but StandardScaler was fitted with feature names\n",
      "  warnings.warn(\n",
      "c:\\Users\\JR\\.conda\\envs\\solol\\Lib\\site-packages\\sklearn\\base.py:493: UserWarning: X does not have valid feature names, but StandardScaler was fitted with feature names\n",
      "  warnings.warn(\n"
     ]
    },
    {
     "name": "stdout",
     "output_type": "stream",
     "text": [
      "[[0.00605867 0.04532187 0.8440623  0.03563889 0.03581417 0.00469253\n",
      "  0.00968545 0.00891543 0.00110263 0.00870798]]\n",
      "['pullups_down']\n",
      "1/1 [==============================] - 0s 30ms/step\n",
      "[[0.0060772  0.04537713 0.8437945  0.03571284 0.03585435 0.00471984\n",
      "  0.00969491 0.00893081 0.00110421 0.00873416]]\n",
      "['pullups_down']\n"
     ]
    },
    {
     "name": "stderr",
     "output_type": "stream",
     "text": [
      "c:\\Users\\JR\\.conda\\envs\\solol\\Lib\\site-packages\\sklearn\\base.py:493: UserWarning: X does not have valid feature names, but StandardScaler was fitted with feature names\n",
      "  warnings.warn(\n",
      "c:\\Users\\JR\\.conda\\envs\\solol\\Lib\\site-packages\\sklearn\\base.py:493: UserWarning: X does not have valid feature names, but StandardScaler was fitted with feature names\n",
      "  warnings.warn(\n"
     ]
    },
    {
     "name": "stdout",
     "output_type": "stream",
     "text": [
      "1/1 [==============================] - 0s 30ms/step\n",
      "[[0.0060788  0.0453583  0.84375966 0.03571977 0.03589443 0.00471768\n",
      "  0.0097016  0.00892968 0.00110486 0.00873518]]\n",
      "['pullups_down']\n",
      "1/1 [==============================] - 0s 25ms/step\n",
      "[[0.00607946 0.0453537  0.8437454  0.03572125 0.03590699 0.00471753\n",
      "  0.0097052  0.00892981 0.00110511 0.00873553]]\n",
      "['pullups_down']\n"
     ]
    },
    {
     "name": "stderr",
     "output_type": "stream",
     "text": [
      "c:\\Users\\JR\\.conda\\envs\\solol\\Lib\\site-packages\\sklearn\\base.py:493: UserWarning: X does not have valid feature names, but StandardScaler was fitted with feature names\n",
      "  warnings.warn(\n",
      "c:\\Users\\JR\\.conda\\envs\\solol\\Lib\\site-packages\\sklearn\\base.py:493: UserWarning: X does not have valid feature names, but StandardScaler was fitted with feature names\n",
      "  warnings.warn(\n"
     ]
    },
    {
     "name": "stdout",
     "output_type": "stream",
     "text": [
      "1/1 [==============================] - 0s 28ms/step\n",
      "[[0.00607689 0.04534984 0.84378344 0.03571141 0.03589197 0.00471531\n",
      "  0.00970477 0.00892951 0.00110476 0.00873211]]\n",
      "['pullups_down']\n",
      "1/1 [==============================] - 0s 32ms/step\n",
      "[[0.00607935 0.0453584  0.84374654 0.03571685 0.03590161 0.00471906\n",
      "  0.00970616 0.00893171 0.00110509 0.00873513]]\n",
      "['pullups_down']\n",
      "1/1 [==============================] - ETA: 0s"
     ]
    },
    {
     "name": "stderr",
     "output_type": "stream",
     "text": [
      "c:\\Users\\JR\\.conda\\envs\\solol\\Lib\\site-packages\\sklearn\\base.py:493: UserWarning: X does not have valid feature names, but StandardScaler was fitted with feature names\n",
      "  warnings.warn(\n",
      "c:\\Users\\JR\\.conda\\envs\\solol\\Lib\\site-packages\\sklearn\\base.py:493: UserWarning: X does not have valid feature names, but StandardScaler was fitted with feature names\n",
      "  warnings.warn(\n"
     ]
    },
    {
     "name": "stdout",
     "output_type": "stream",
     "text": [
      "1/1 [==============================] - 0s 24ms/step\n",
      "[[0.00607857 0.04536036 0.8437617  0.03571382 0.03589239 0.00471849\n",
      "  0.00970397 0.00893124 0.00110491 0.0087345 ]]\n",
      "['pullups_down']\n",
      "1/1 [==============================] - 0s 30ms/step\n",
      "[[0.00608718 0.04537619 0.8436246  0.03575209 0.0359329  0.00472703\n",
      "  0.00970963 0.00893752 0.00110634 0.00874654]]\n",
      "['pullups_down']\n"
     ]
    },
    {
     "name": "stderr",
     "output_type": "stream",
     "text": [
      "c:\\Users\\JR\\.conda\\envs\\solol\\Lib\\site-packages\\sklearn\\base.py:493: UserWarning: X does not have valid feature names, but StandardScaler was fitted with feature names\n",
      "  warnings.warn(\n"
     ]
    },
    {
     "name": "stdout",
     "output_type": "stream",
     "text": [
      "1/1 [==============================] - 0s 30ms/step\n",
      "[[0.00608373 0.04539273 0.843685   0.03575429 0.03586182 0.00472808\n",
      "  0.00970223 0.00894155 0.00110526 0.00874545]]\n",
      "['pullups_down']\n",
      "1/1 [==============================] - ETA: 0s"
     ]
    },
    {
     "name": "stderr",
     "output_type": "stream",
     "text": [
      "c:\\Users\\JR\\.conda\\envs\\solol\\Lib\\site-packages\\sklearn\\base.py:493: UserWarning: X does not have valid feature names, but StandardScaler was fitted with feature names\n",
      "  warnings.warn(\n",
      "c:\\Users\\JR\\.conda\\envs\\solol\\Lib\\site-packages\\sklearn\\base.py:493: UserWarning: X does not have valid feature names, but StandardScaler was fitted with feature names\n",
      "  warnings.warn(\n"
     ]
    },
    {
     "name": "stdout",
     "output_type": "stream",
     "text": [
      "1/1 [==============================] - 0s 30ms/step\n",
      "[[0.00608885 0.0453981  0.8436058  0.03577502 0.03589171 0.004733\n",
      "  0.00970522 0.00894423 0.00110602 0.0087521 ]]\n",
      "['pullups_down']\n",
      "1/1 [==============================] - 0s 20ms/step\n"
     ]
    },
    {
     "name": "stderr",
     "output_type": "stream",
     "text": [
      "c:\\Users\\JR\\.conda\\envs\\solol\\Lib\\site-packages\\sklearn\\base.py:493: UserWarning: X does not have valid feature names, but StandardScaler was fitted with feature names\n",
      "  warnings.warn(\n",
      "c:\\Users\\JR\\.conda\\envs\\solol\\Lib\\site-packages\\sklearn\\base.py:493: UserWarning: X does not have valid feature names, but StandardScaler was fitted with feature names\n",
      "  warnings.warn(\n"
     ]
    },
    {
     "name": "stdout",
     "output_type": "stream",
     "text": [
      "[[0.00608568 0.04539572 0.8436517  0.03577166 0.03586496 0.00472993\n",
      "  0.00970181 0.00894351 0.0011055  0.00874952]]\n",
      "['pullups_down']\n",
      "1/1 [==============================] - 0s 30ms/step\n",
      "[[0.00608498 0.04539268 0.8436683  0.03576821 0.0358646  0.00472825\n",
      "  0.00969816 0.00894085 0.00110529 0.00874871]]\n",
      "['pullups_down']\n",
      "1/1 [==============================] - 0s 30ms/step\n",
      "[[0.00608499 0.04539996 0.8436648  0.03576802 0.03585389 0.00473122\n",
      "  0.00969872 0.00894435 0.0011052  0.00874887]]\n",
      "['pullups_down']\n",
      "1/1 [==============================] - ETA: 0s"
     ]
    },
    {
     "name": "stderr",
     "output_type": "stream",
     "text": [
      "c:\\Users\\JR\\.conda\\envs\\solol\\Lib\\site-packages\\sklearn\\base.py:493: UserWarning: X does not have valid feature names, but StandardScaler was fitted with feature names\n",
      "  warnings.warn(\n",
      "c:\\Users\\JR\\.conda\\envs\\solol\\Lib\\site-packages\\sklearn\\base.py:493: UserWarning: X does not have valid feature names, but StandardScaler was fitted with feature names\n",
      "  warnings.warn(\n"
     ]
    },
    {
     "name": "stdout",
     "output_type": "stream",
     "text": [
      "1/1 [==============================] - 0s 19ms/step\n",
      "[[0.00608446 0.04539834 0.8436693  0.03575901 0.03585767 0.00473199\n",
      "  0.00970151 0.0089458  0.00110521 0.00874675]]\n",
      "['pullups_down']\n",
      "1/1 [==============================] - 0s 29ms/step\n",
      "[[0.00607996 0.04539638 0.8437424  0.03573564 0.03582196 0.00473091\n",
      "  0.00970357 0.00894548 0.00110419 0.00873962]]\n",
      "['pullups_down']\n"
     ]
    },
    {
     "name": "stderr",
     "output_type": "stream",
     "text": [
      "c:\\Users\\JR\\.conda\\envs\\solol\\Lib\\site-packages\\sklearn\\base.py:493: UserWarning: X does not have valid feature names, but StandardScaler was fitted with feature names\n",
      "  warnings.warn(\n",
      "c:\\Users\\JR\\.conda\\envs\\solol\\Lib\\site-packages\\sklearn\\base.py:493: UserWarning: X does not have valid feature names, but StandardScaler was fitted with feature names\n",
      "  warnings.warn(\n"
     ]
    },
    {
     "name": "stdout",
     "output_type": "stream",
     "text": [
      "1/1 [==============================] - 0s 35ms/step\n",
      "[[0.00609006 0.04539783 0.8435897  0.03575873 0.03590996 0.00473834\n",
      "  0.00971332 0.00894584 0.00110592 0.00875022]]\n",
      "['pullups_down']\n",
      "1/1 [==============================] - 0s 30ms/step\n",
      "[[0.00608615 0.04538521 0.8436476  0.03574359 0.03590036 0.00473249\n",
      "  0.00971175 0.00894238 0.00110555 0.00874493]]\n",
      "['pullups_down']\n",
      "1/1 [==============================] - ETA: 0s"
     ]
    },
    {
     "name": "stderr",
     "output_type": "stream",
     "text": [
      "c:\\Users\\JR\\.conda\\envs\\solol\\Lib\\site-packages\\sklearn\\base.py:493: UserWarning: X does not have valid feature names, but StandardScaler was fitted with feature names\n",
      "  warnings.warn(\n",
      "c:\\Users\\JR\\.conda\\envs\\solol\\Lib\\site-packages\\sklearn\\base.py:493: UserWarning: X does not have valid feature names, but StandardScaler was fitted with feature names\n",
      "  warnings.warn(\n"
     ]
    },
    {
     "name": "stdout",
     "output_type": "stream",
     "text": [
      "1/1 [==============================] - 0s 20ms/step\n",
      "[[0.00607526 0.04536624 0.84380955 0.03569783 0.03585197 0.00472063\n",
      "  0.00970791 0.00893637 0.00110423 0.00872998]]\n",
      "['pullups_down']\n",
      "1/1 [==============================] - 0s 25ms/step\n",
      "[[0.00606279 0.04538077 0.8440011  0.03567313 0.03571449 0.00471518\n",
      "  0.00969412 0.00893899 0.00110174 0.00871766]]\n",
      "['pullups_down']\n",
      "1/1 [==============================] - ETA: 0s"
     ]
    },
    {
     "name": "stderr",
     "output_type": "stream",
     "text": [
      "c:\\Users\\JR\\.conda\\envs\\solol\\Lib\\site-packages\\sklearn\\base.py:493: UserWarning: X does not have valid feature names, but StandardScaler was fitted with feature names\n",
      "  warnings.warn(\n",
      "c:\\Users\\JR\\.conda\\envs\\solol\\Lib\\site-packages\\sklearn\\base.py:493: UserWarning: X does not have valid feature names, but StandardScaler was fitted with feature names\n",
      "  warnings.warn(\n"
     ]
    },
    {
     "name": "stdout",
     "output_type": "stream",
     "text": [
      "1/1 [==============================] - 0s 29ms/step\n",
      "[[0.00605506 0.04533877 0.84410775 0.03565241 0.0357293  0.00469574\n",
      "  0.00968673 0.00892544 0.0011016  0.0087072 ]]\n",
      "['pullups_down']\n",
      "1/1 [==============================] - 0s 32ms/step\n",
      "[[0.00605382 0.04532978 0.8441247  0.03564331 0.03573913 0.00469244\n",
      "  0.00968752 0.00892314 0.0011017  0.00870445]]\n",
      "['pullups_down']\n"
     ]
    },
    {
     "name": "stderr",
     "output_type": "stream",
     "text": [
      "c:\\Users\\JR\\.conda\\envs\\solol\\Lib\\site-packages\\sklearn\\base.py:493: UserWarning: X does not have valid feature names, but StandardScaler was fitted with feature names\n",
      "  warnings.warn(\n",
      "c:\\Users\\JR\\.conda\\envs\\solol\\Lib\\site-packages\\sklearn\\base.py:493: UserWarning: X does not have valid feature names, but StandardScaler was fitted with feature names\n",
      "  warnings.warn(\n"
     ]
    },
    {
     "name": "stdout",
     "output_type": "stream",
     "text": [
      "1/1 [==============================] - 0s 30ms/step\n",
      "[[0.00604992 0.04531222 0.8441793  0.03563823 0.03573333 0.00468451\n",
      "  0.00968456 0.00891665 0.00110121 0.00870013]]\n",
      "['pullups_down']\n",
      "1/1 [==============================] - 0s 86ms/step\n",
      "[[0.00605419 0.04532604 0.8441134  0.03566761 0.03573364 0.00468998\n",
      "  0.00968363 0.00892195 0.00110171 0.00870785]]\n",
      "['pullups_down']\n"
     ]
    },
    {
     "name": "stderr",
     "output_type": "stream",
     "text": [
      "c:\\Users\\JR\\.conda\\envs\\solol\\Lib\\site-packages\\sklearn\\base.py:493: UserWarning: X does not have valid feature names, but StandardScaler was fitted with feature names\n",
      "  warnings.warn(\n",
      "c:\\Users\\JR\\.conda\\envs\\solol\\Lib\\site-packages\\sklearn\\base.py:493: UserWarning: X does not have valid feature names, but StandardScaler was fitted with feature names\n",
      "  warnings.warn(\n"
     ]
    },
    {
     "name": "stdout",
     "output_type": "stream",
     "text": [
      "1/1 [==============================] - 0s 33ms/step\n",
      "[[0.00606518 0.04532324 0.8439449  0.0357019  0.03582986 0.00469672\n",
      "  0.00969283 0.00892164 0.00110358 0.00872019]]\n",
      "['pullups_down']\n",
      "1/1 [==============================] - 0s 39ms/step\n",
      "[[0.00606306 0.04532058 0.84398013 0.03568212 0.03582499 0.00469576\n",
      "  0.00969366 0.00892073 0.00110328 0.00871575]]\n",
      "['pullups_down']\n"
     ]
    },
    {
     "name": "stderr",
     "output_type": "stream",
     "text": [
      "c:\\Users\\JR\\.conda\\envs\\solol\\Lib\\site-packages\\sklearn\\base.py:493: UserWarning: X does not have valid feature names, but StandardScaler was fitted with feature names\n",
      "  warnings.warn(\n",
      "c:\\Users\\JR\\.conda\\envs\\solol\\Lib\\site-packages\\sklearn\\base.py:493: UserWarning: X does not have valid feature names, but StandardScaler was fitted with feature names\n",
      "  warnings.warn(\n"
     ]
    },
    {
     "name": "stdout",
     "output_type": "stream",
     "text": [
      "1/1 [==============================] - 0s 30ms/step\n",
      "[[0.00605099 0.04534043 0.84418404 0.0356479  0.03568088 0.00469171\n",
      "  0.00967817 0.00892153 0.00110049 0.0087038 ]]\n",
      "['pullups_down']\n",
      "1/1 [==============================] - 0s 20ms/step\n",
      "[[0.00605306 0.04533999 0.8441506  0.03565157 0.03570542 0.00469238\n",
      "  0.00967899 0.00892113 0.00110101 0.00870593]]\n",
      "['pullups_down']\n",
      "1/1 [==============================] - ETA: 0s"
     ]
    },
    {
     "name": "stderr",
     "output_type": "stream",
     "text": [
      "c:\\Users\\JR\\.conda\\envs\\solol\\Lib\\site-packages\\sklearn\\base.py:493: UserWarning: X does not have valid feature names, but StandardScaler was fitted with feature names\n",
      "  warnings.warn(\n",
      "c:\\Users\\JR\\.conda\\envs\\solol\\Lib\\site-packages\\sklearn\\base.py:493: UserWarning: X does not have valid feature names, but StandardScaler was fitted with feature names\n",
      "  warnings.warn(\n"
     ]
    },
    {
     "name": "stdout",
     "output_type": "stream",
     "text": [
      "1/1 [==============================] - 0s 20ms/step\n",
      "[[0.00604729 0.04535268 0.84424466 0.03563994 0.03562591 0.00469184\n",
      "  0.00967293 0.00892455 0.00109962 0.00870061]]\n",
      "['pullups_down']\n",
      "1/1 [==============================] - 0s 36ms/step\n",
      "[[0.00605149 0.04534724 0.84417903 0.03564828 0.03567801 0.00469288\n",
      "  0.00967605 0.00892175 0.00110051 0.00870475]]\n",
      "['pullups_down']\n"
     ]
    },
    {
     "name": "stderr",
     "output_type": "stream",
     "text": [
      "c:\\Users\\JR\\.conda\\envs\\solol\\Lib\\site-packages\\sklearn\\base.py:493: UserWarning: X does not have valid feature names, but StandardScaler was fitted with feature names\n",
      "  warnings.warn(\n",
      "c:\\Users\\JR\\.conda\\envs\\solol\\Lib\\site-packages\\sklearn\\base.py:493: UserWarning: X does not have valid feature names, but StandardScaler was fitted with feature names\n",
      "  warnings.warn(\n"
     ]
    },
    {
     "name": "stdout",
     "output_type": "stream",
     "text": [
      "1/1 [==============================] - 0s 30ms/step\n",
      "[[0.00606246 0.04538112 0.8440164  0.03569399 0.03570593 0.00470747\n",
      "  0.00967872 0.00893147 0.00110179 0.00872063]]\n",
      "['pullups_down']\n",
      "1/1 [==============================] - 0s 20ms/step\n",
      "[[0.00607343 0.045373   0.84383965 0.03571982 0.03581912 0.00471385\n",
      "  0.00969219 0.00893356 0.00110409 0.00873126]]\n",
      "['pullups_down']\n",
      "1/1 [==============================] - ETA: 0s"
     ]
    },
    {
     "name": "stderr",
     "output_type": "stream",
     "text": [
      "c:\\Users\\JR\\.conda\\envs\\solol\\Lib\\site-packages\\sklearn\\base.py:493: UserWarning: X does not have valid feature names, but StandardScaler was fitted with feature names\n",
      "  warnings.warn(\n",
      "c:\\Users\\JR\\.conda\\envs\\solol\\Lib\\site-packages\\sklearn\\base.py:493: UserWarning: X does not have valid feature names, but StandardScaler was fitted with feature names\n",
      "  warnings.warn(\n"
     ]
    },
    {
     "name": "stdout",
     "output_type": "stream",
     "text": [
      "1/1 [==============================] - 0s 29ms/step\n",
      "[[0.00604999 0.04536285 0.8442132  0.03562933 0.03563893 0.00469863\n",
      "  0.0096796  0.00892675 0.00109966 0.00870113]]\n",
      "['pullups_down']\n",
      "1/1 [==============================] - 0s 21ms/step\n",
      "[[0.00605473 0.04535627 0.8441361  0.03564569 0.03569142 0.00469969\n",
      "  0.00968355 0.00892546 0.00110069 0.00870638]]\n",
      "['pullups_down']\n"
     ]
    },
    {
     "name": "stderr",
     "output_type": "stream",
     "text": [
      "c:\\Users\\JR\\.conda\\envs\\solol\\Lib\\site-packages\\sklearn\\base.py:493: UserWarning: X does not have valid feature names, but StandardScaler was fitted with feature names\n",
      "  warnings.warn(\n",
      "c:\\Users\\JR\\.conda\\envs\\solol\\Lib\\site-packages\\sklearn\\base.py:493: UserWarning: X does not have valid feature names, but StandardScaler was fitted with feature names\n",
      "  warnings.warn(\n"
     ]
    },
    {
     "name": "stdout",
     "output_type": "stream",
     "text": [
      "1/1 [==============================] - 0s 32ms/step\n",
      "[[0.00605447 0.04535009 0.8441353  0.03564034 0.03571067 0.00469691\n",
      "  0.00968264 0.00892306 0.00110107 0.00870549]]\n",
      "['pullups_down']\n",
      "1/1 [==============================] - 0s 38ms/step\n",
      "[[0.00604845 0.04535006 0.8442299  0.03562518 0.03565741 0.0046921\n",
      "  0.00967577 0.008922   0.00110002 0.00869928]]\n",
      "['pullups_down']\n"
     ]
    },
    {
     "name": "stderr",
     "output_type": "stream",
     "text": [
      "c:\\Users\\JR\\.conda\\envs\\solol\\Lib\\site-packages\\sklearn\\base.py:493: UserWarning: X does not have valid feature names, but StandardScaler was fitted with feature names\n",
      "  warnings.warn(\n",
      "c:\\Users\\JR\\.conda\\envs\\solol\\Lib\\site-packages\\sklearn\\base.py:493: UserWarning: X does not have valid feature names, but StandardScaler was fitted with feature names\n",
      "  warnings.warn(\n"
     ]
    },
    {
     "name": "stdout",
     "output_type": "stream",
     "text": [
      "1/1 [==============================] - 0s 31ms/step\n",
      "[[0.00605229 0.0453683  0.8441759  0.03564405 0.03565174 0.00469909\n",
      "  0.00967613 0.008927   0.0011002  0.00870535]]\n",
      "['pullups_down']\n",
      "1/1 [==============================] - 0s 29ms/step\n",
      "[[0.00606204 0.04537547 0.8440297  0.03567003 0.03572858 0.00470666\n",
      "  0.00968167 0.00892707 0.00110179 0.00871696]]\n",
      "['pullups_down']\n",
      "1/1 [==============================] - ETA: 0s"
     ]
    },
    {
     "name": "stderr",
     "output_type": "stream",
     "text": [
      "c:\\Users\\JR\\.conda\\envs\\solol\\Lib\\site-packages\\sklearn\\base.py:493: UserWarning: X does not have valid feature names, but StandardScaler was fitted with feature names\n",
      "  warnings.warn(\n",
      "c:\\Users\\JR\\.conda\\envs\\solol\\Lib\\site-packages\\sklearn\\base.py:493: UserWarning: X does not have valid feature names, but StandardScaler was fitted with feature names\n",
      "  warnings.warn(\n"
     ]
    },
    {
     "name": "stdout",
     "output_type": "stream",
     "text": [
      "1/1 [==============================] - 0s 30ms/step\n",
      "[[0.00607098 0.04538062 0.8438964  0.03570586 0.03578644 0.0047132\n",
      "  0.00968524 0.00892916 0.00110315 0.00872896]]\n",
      "['pullups_down']\n",
      "1/1 [==============================] - 0s 30ms/step\n",
      "[[0.00607803 0.04539016 0.84378123 0.03573749 0.03581818 0.00472193\n",
      "  0.0096928  0.00893759 0.0011042  0.00873833]]\n",
      "['pullups_down']\n"
     ]
    },
    {
     "name": "stderr",
     "output_type": "stream",
     "text": [
      "c:\\Users\\JR\\.conda\\envs\\solol\\Lib\\site-packages\\sklearn\\base.py:493: UserWarning: X does not have valid feature names, but StandardScaler was fitted with feature names\n",
      "  warnings.warn(\n",
      "c:\\Users\\JR\\.conda\\envs\\solol\\Lib\\site-packages\\sklearn\\base.py:493: UserWarning: X does not have valid feature names, but StandardScaler was fitted with feature names\n",
      "  warnings.warn(\n"
     ]
    },
    {
     "name": "stdout",
     "output_type": "stream",
     "text": [
      "1/1 [==============================] - 0s 30ms/step\n",
      "[[0.00607233 0.04534451 0.8438504  0.03571734 0.03584776 0.00470915\n",
      "  0.0096969  0.00892868 0.00110406 0.00872875]]\n",
      "['pullups_down']\n",
      "1/1 [==============================] - 0s 20ms/step\n",
      "[[0.00608019 0.04536721 0.84373003 0.03575468 0.03586428 0.00471999\n",
      "  0.00970148 0.00893673 0.00110496 0.00874039]]\n",
      "['pullups_down']\n",
      "1/1 [==============================] - 0s 21ms/step\n"
     ]
    },
    {
     "name": "stderr",
     "output_type": "stream",
     "text": [
      "c:\\Users\\JR\\.conda\\envs\\solol\\Lib\\site-packages\\sklearn\\base.py:493: UserWarning: X does not have valid feature names, but StandardScaler was fitted with feature names\n",
      "  warnings.warn(\n",
      "c:\\Users\\JR\\.conda\\envs\\solol\\Lib\\site-packages\\sklearn\\base.py:493: UserWarning: X does not have valid feature names, but StandardScaler was fitted with feature names\n",
      "  warnings.warn(\n"
     ]
    },
    {
     "name": "stdout",
     "output_type": "stream",
     "text": [
      "[[0.00607704 0.04538755 0.843785   0.03574855 0.03579597 0.00472354\n",
      "  0.00969833 0.00894241 0.00110388 0.00873782]]\n",
      "['pullups_down']\n",
      "1/1 [==============================] - 0s 29ms/step\n",
      "[[0.00607454 0.04538421 0.8438183  0.03573516 0.03578513 0.00472221\n",
      "  0.0096997  0.00894329 0.00110364 0.00873385]]\n",
      "['pullups_down']\n",
      "1/1 [==============================] - ETA: 0s"
     ]
    },
    {
     "name": "stderr",
     "output_type": "stream",
     "text": [
      "c:\\Users\\JR\\.conda\\envs\\solol\\Lib\\site-packages\\sklearn\\base.py:493: UserWarning: X does not have valid feature names, but StandardScaler was fitted with feature names\n",
      "  warnings.warn(\n",
      "c:\\Users\\JR\\.conda\\envs\\solol\\Lib\\site-packages\\sklearn\\base.py:493: UserWarning: X does not have valid feature names, but StandardScaler was fitted with feature names\n",
      "  warnings.warn(\n"
     ]
    },
    {
     "name": "stdout",
     "output_type": "stream",
     "text": [
      "1/1 [==============================] - 0s 22ms/step\n",
      "[[0.00607773 0.04537795 0.84376764 0.0357423  0.03582356 0.00472336\n",
      "  0.00970412 0.00894236 0.00110429 0.00873663]]\n",
      "['pullups_down']\n",
      "1/1 [==============================] - 0s 35ms/step\n",
      "[[0.00608523 0.04537425 0.8436524  0.03576333 0.03589857 0.00472671\n",
      "  0.00970823 0.00894013 0.00110571 0.00874542]]\n",
      "['pullups_down']\n"
     ]
    },
    {
     "name": "stderr",
     "output_type": "stream",
     "text": [
      "c:\\Users\\JR\\.conda\\envs\\solol\\Lib\\site-packages\\sklearn\\base.py:493: UserWarning: X does not have valid feature names, but StandardScaler was fitted with feature names\n",
      "  warnings.warn(\n",
      "c:\\Users\\JR\\.conda\\envs\\solol\\Lib\\site-packages\\sklearn\\base.py:493: UserWarning: X does not have valid feature names, but StandardScaler was fitted with feature names\n",
      "  warnings.warn(\n"
     ]
    },
    {
     "name": "stdout",
     "output_type": "stream",
     "text": [
      "1/1 [==============================] - 0s 25ms/step\n",
      "[[0.00608274 0.04536457 0.84368366 0.03575255 0.03589873 0.00472308\n",
      "  0.00970937 0.00893814 0.00110556 0.00874162]]\n",
      "['pullups_down']\n",
      "1/1 [==============================] - 0s 21ms/step\n",
      "[[0.00606185 0.04537347 0.8440189  0.03568714 0.03570111 0.00471125\n",
      "  0.00969112 0.00893595 0.00110142 0.00871789]]\n",
      "['pullups_down']\n",
      "1/1 [==============================] - ETA: 0s"
     ]
    },
    {
     "name": "stderr",
     "output_type": "stream",
     "text": [
      "c:\\Users\\JR\\.conda\\envs\\solol\\Lib\\site-packages\\sklearn\\base.py:493: UserWarning: X does not have valid feature names, but StandardScaler was fitted with feature names\n",
      "  warnings.warn(\n",
      "c:\\Users\\JR\\.conda\\envs\\solol\\Lib\\site-packages\\sklearn\\base.py:493: UserWarning: X does not have valid feature names, but StandardScaler was fitted with feature names\n",
      "  warnings.warn(\n"
     ]
    },
    {
     "name": "stdout",
     "output_type": "stream",
     "text": [
      "1/1 [==============================] - 0s 20ms/step\n",
      "[[0.00605374 0.04531989 0.8441353  0.03564245 0.0357484  0.00469045\n",
      "  0.00968556 0.00891884 0.0011015  0.00870391]]\n",
      "['pullups_down']\n",
      "1/1 [==============================] - 0s 21ms/step\n",
      "[[0.00605454 0.04530124 0.84411544 0.03563559 0.03579941 0.00468586\n",
      "  0.0096894  0.00891404 0.00110228 0.00870228]]\n",
      "['pullups_down']\n",
      "1/1 [==============================] - 0s 20ms/step\n"
     ]
    },
    {
     "name": "stderr",
     "output_type": "stream",
     "text": [
      "c:\\Users\\JR\\.conda\\envs\\solol\\Lib\\site-packages\\sklearn\\base.py:493: UserWarning: X does not have valid feature names, but StandardScaler was fitted with feature names\n",
      "  warnings.warn(\n",
      "c:\\Users\\JR\\.conda\\envs\\solol\\Lib\\site-packages\\sklearn\\base.py:493: UserWarning: X does not have valid feature names, but StandardScaler was fitted with feature names\n",
      "  warnings.warn(\n"
     ]
    },
    {
     "name": "stdout",
     "output_type": "stream",
     "text": [
      "[[0.0060686  0.04531924 0.8438963  0.03569372 0.03588289 0.00469782\n",
      "  0.00969596 0.00891962 0.00110453 0.00872128]]\n",
      "['pullups_down']\n",
      "1/1 [==============================] - 0s 30ms/step\n",
      "[[0.00607065 0.0453467  0.8438703  0.03571545 0.03583185 0.00470843\n",
      "  0.00969659 0.00892976 0.00110389 0.00872647]]\n",
      "['pullups_down']\n",
      "1/1 [==============================] - ETA: 0s"
     ]
    },
    {
     "name": "stderr",
     "output_type": "stream",
     "text": [
      "c:\\Users\\JR\\.conda\\envs\\solol\\Lib\\site-packages\\sklearn\\base.py:493: UserWarning: X does not have valid feature names, but StandardScaler was fitted with feature names\n",
      "  warnings.warn(\n",
      "c:\\Users\\JR\\.conda\\envs\\solol\\Lib\\site-packages\\sklearn\\base.py:493: UserWarning: X does not have valid feature names, but StandardScaler was fitted with feature names\n",
      "  warnings.warn(\n"
     ]
    },
    {
     "name": "stdout",
     "output_type": "stream",
     "text": [
      "1/1 [==============================] - 0s 30ms/step\n",
      "[[0.00607592 0.04536885 0.84379643 0.03574079 0.03583108 0.00471652\n",
      "  0.00969603 0.00893522 0.0011043  0.00873493]]\n",
      "['pullups_down']\n",
      "1/1 [==============================] - 0s 30ms/step\n",
      "[[0.00607585 0.04536106 0.8437938  0.0357377  0.0358498  0.0047146\n",
      "  0.00969554 0.00893249 0.00110449 0.00873461]]\n",
      "['pullups_down']\n"
     ]
    },
    {
     "name": "stderr",
     "output_type": "stream",
     "text": [
      "c:\\Users\\JR\\.conda\\envs\\solol\\Lib\\site-packages\\sklearn\\base.py:493: UserWarning: X does not have valid feature names, but StandardScaler was fitted with feature names\n",
      "  warnings.warn(\n",
      "c:\\Users\\JR\\.conda\\envs\\solol\\Lib\\site-packages\\sklearn\\base.py:493: UserWarning: X does not have valid feature names, but StandardScaler was fitted with feature names\n",
      "  warnings.warn(\n"
     ]
    },
    {
     "name": "stdout",
     "output_type": "stream",
     "text": [
      "1/1 [==============================] - 0s 21ms/step\n",
      "[[0.00607631 0.04535707 0.8437904  0.03573721 0.03586087 0.00471379\n",
      "  0.00969516 0.00892981 0.00110453 0.00873494]]\n",
      "['pullups_down']\n",
      "1/1 [==============================] - 0s 20ms/step\n",
      "[[0.00607302 0.04536906 0.8438467  0.03573547 0.03580372 0.00471363\n",
      "  0.00968985 0.00893187 0.00110364 0.00873308]]\n",
      "['pullups_down']\n"
     ]
    },
    {
     "name": "stderr",
     "output_type": "stream",
     "text": [
      "c:\\Users\\JR\\.conda\\envs\\solol\\Lib\\site-packages\\sklearn\\base.py:493: UserWarning: X does not have valid feature names, but StandardScaler was fitted with feature names\n",
      "  warnings.warn(\n",
      "c:\\Users\\JR\\.conda\\envs\\solol\\Lib\\site-packages\\sklearn\\base.py:493: UserWarning: X does not have valid feature names, but StandardScaler was fitted with feature names\n",
      "  warnings.warn(\n"
     ]
    },
    {
     "name": "stdout",
     "output_type": "stream",
     "text": [
      "1/1 [==============================] - 0s 30ms/step\n",
      "[[0.0060741  0.0453604  0.84382725 0.03573501 0.03582411 0.00471365\n",
      "  0.00969599 0.00893226 0.00110394 0.00873325]]\n",
      "['pullups_down']\n",
      "1/1 [==============================] - 0s 21ms/step\n",
      "[[0.00608639 0.04538369 0.8436312  0.03579009 0.035883   0.00472609\n",
      "  0.00970133 0.00894165 0.00110595 0.0087506 ]]\n",
      "['pullups_down']\n",
      "1/1 [==============================] - ETA: 0s"
     ]
    },
    {
     "name": "stderr",
     "output_type": "stream",
     "text": [
      "c:\\Users\\JR\\.conda\\envs\\solol\\Lib\\site-packages\\sklearn\\base.py:493: UserWarning: X does not have valid feature names, but StandardScaler was fitted with feature names\n",
      "  warnings.warn(\n",
      "c:\\Users\\JR\\.conda\\envs\\solol\\Lib\\site-packages\\sklearn\\base.py:493: UserWarning: X does not have valid feature names, but StandardScaler was fitted with feature names\n",
      "  warnings.warn(\n"
     ]
    },
    {
     "name": "stdout",
     "output_type": "stream",
     "text": [
      "1/1 [==============================] - 0s 32ms/step\n",
      "[[0.00608299 0.0453761  0.8436797  0.03577601 0.03586833 0.00472304\n",
      "  0.00970246 0.00894047 0.00110546 0.00874547]]\n",
      "['pullups_down']\n",
      "1/1 [==============================] - 0s 28ms/step\n",
      "[[0.00608281 0.04537852 0.8436891  0.03576606 0.03587189 0.0047221\n",
      "  0.00970102 0.00893864 0.0011055  0.00874442]]\n",
      "['pullups_down']\n",
      "1/1 [==============================] - 0s 21ms/step\n"
     ]
    },
    {
     "name": "stderr",
     "output_type": "stream",
     "text": [
      "c:\\Users\\JR\\.conda\\envs\\solol\\Lib\\site-packages\\sklearn\\base.py:493: UserWarning: X does not have valid feature names, but StandardScaler was fitted with feature names\n",
      "  warnings.warn(\n",
      "c:\\Users\\JR\\.conda\\envs\\solol\\Lib\\site-packages\\sklearn\\base.py:493: UserWarning: X does not have valid feature names, but StandardScaler was fitted with feature names\n",
      "  warnings.warn(\n"
     ]
    },
    {
     "name": "stdout",
     "output_type": "stream",
     "text": [
      "[[0.00607063 0.04534333 0.84387475 0.03570285 0.03584433 0.00470766\n",
      "  0.00969887 0.00892814 0.00110398 0.00872548]]\n",
      "['pullups_down']\n",
      "1/1 [==============================] - 0s 95ms/step\n"
     ]
    },
    {
     "name": "stderr",
     "output_type": "stream",
     "text": [
      "c:\\Users\\JR\\.conda\\envs\\solol\\Lib\\site-packages\\sklearn\\base.py:493: UserWarning: X does not have valid feature names, but StandardScaler was fitted with feature names\n",
      "  warnings.warn(\n",
      "c:\\Users\\JR\\.conda\\envs\\solol\\Lib\\site-packages\\sklearn\\base.py:493: UserWarning: X does not have valid feature names, but StandardScaler was fitted with feature names\n",
      "  warnings.warn(\n"
     ]
    },
    {
     "name": "stdout",
     "output_type": "stream",
     "text": [
      "[[0.00607343 0.04534923 0.84383637 0.03572251 0.03584526 0.00471041\n",
      "  0.00969922 0.00892893 0.00110409 0.00873056]]\n",
      "['pullups_down']\n",
      "1/1 [==============================] - 0s 30ms/step\n",
      "[[0.00608198 0.04537477 0.84370434 0.03576979 0.03586303 0.00472005\n",
      "  0.00969914 0.00893721 0.00110527 0.00874444]]\n",
      "['pullups_down']\n",
      "1/1 [==============================] - 0s 19ms/step\n",
      "[[0.00607246 0.04539558 0.8438595  0.03574688 0.03574057 0.00471787\n",
      "  0.00968877 0.00894022 0.00110309 0.008735  ]]\n",
      "['pullups_down']\n",
      "1/1 [==============================] - ETA: 0s"
     ]
    },
    {
     "name": "stderr",
     "output_type": "stream",
     "text": [
      "c:\\Users\\JR\\.conda\\envs\\solol\\Lib\\site-packages\\sklearn\\base.py:493: UserWarning: X does not have valid feature names, but StandardScaler was fitted with feature names\n",
      "  warnings.warn(\n",
      "c:\\Users\\JR\\.conda\\envs\\solol\\Lib\\site-packages\\sklearn\\base.py:493: UserWarning: X does not have valid feature names, but StandardScaler was fitted with feature names\n",
      "  warnings.warn(\n"
     ]
    },
    {
     "name": "stdout",
     "output_type": "stream",
     "text": [
      "1/1 [==============================] - 0s 30ms/step\n",
      "[[0.00605352 0.04532734 0.84413445 0.03565487 0.03572765 0.00469048\n",
      "  0.00968449 0.00892062 0.00110134 0.00870524]]\n",
      "['pullups_down']\n",
      "1/1 [==============================] - 0s 23ms/step\n",
      "[[0.00605497 0.04532067 0.84410447 0.03565576 0.03576679 0.00468799\n",
      "  0.00968215 0.00891835 0.0011022  0.00870668]]\n",
      "['pullups_down']\n",
      "1/1 [==============================] - ETA: 0s"
     ]
    },
    {
     "name": "stderr",
     "output_type": "stream",
     "text": [
      "c:\\Users\\JR\\.conda\\envs\\solol\\Lib\\site-packages\\sklearn\\base.py:493: UserWarning: X does not have valid feature names, but StandardScaler was fitted with feature names\n",
      "  warnings.warn(\n",
      "c:\\Users\\JR\\.conda\\envs\\solol\\Lib\\site-packages\\sklearn\\base.py:493: UserWarning: X does not have valid feature names, but StandardScaler was fitted with feature names\n",
      "  warnings.warn(\n"
     ]
    },
    {
     "name": "stdout",
     "output_type": "stream",
     "text": [
      "1/1 [==============================] - 0s 28ms/step\n",
      "[[0.00605569 0.04535636 0.8441138  0.03566819 0.03569278 0.00469751\n",
      "  0.00967784 0.00892622 0.00110111 0.00871049]]\n",
      "['pullups_down']\n",
      "1/1 [==============================] - 0s 22ms/step\n",
      "[[0.00606427 0.04536975 0.84398717 0.03569949 0.03573376 0.00470715\n",
      "  0.00968413 0.0089311  0.00110218 0.00872098]]\n",
      "['pullups_down']\n",
      "1/1 [==============================] - ETA: 0s"
     ]
    },
    {
     "name": "stderr",
     "output_type": "stream",
     "text": [
      "c:\\Users\\JR\\.conda\\envs\\solol\\Lib\\site-packages\\sklearn\\base.py:493: UserWarning: X does not have valid feature names, but StandardScaler was fitted with feature names\n",
      "  warnings.warn(\n",
      "c:\\Users\\JR\\.conda\\envs\\solol\\Lib\\site-packages\\sklearn\\base.py:493: UserWarning: X does not have valid feature names, but StandardScaler was fitted with feature names\n",
      "  warnings.warn(\n"
     ]
    },
    {
     "name": "stdout",
     "output_type": "stream",
     "text": [
      "1/1 [==============================] - 0s 27ms/step\n",
      "[[0.00607049 0.04538054 0.84388995 0.0357213  0.03576677 0.00471354\n",
      "  0.00968941 0.00893577 0.00110322 0.00872891]]\n",
      "['pullups_down']\n",
      "1/1 [==============================] - 0s 30ms/step\n",
      "[[0.0060715  0.04539299 0.8438789  0.03572538 0.03574975 0.00471744\n",
      "  0.00969097 0.00893951 0.00110311 0.0087305 ]]\n",
      "['pullups_down']\n"
     ]
    },
    {
     "name": "stderr",
     "output_type": "stream",
     "text": [
      "c:\\Users\\JR\\.conda\\envs\\solol\\Lib\\site-packages\\sklearn\\base.py:493: UserWarning: X does not have valid feature names, but StandardScaler was fitted with feature names\n",
      "  warnings.warn(\n",
      "c:\\Users\\JR\\.conda\\envs\\solol\\Lib\\site-packages\\sklearn\\base.py:493: UserWarning: X does not have valid feature names, but StandardScaler was fitted with feature names\n",
      "  warnings.warn(\n"
     ]
    },
    {
     "name": "stdout",
     "output_type": "stream",
     "text": [
      "1/1 [==============================] - 0s 49ms/step\n",
      "[[0.00606104 0.04539342 0.84405094 0.0356756  0.03566775 0.00471247\n",
      "  0.00968538 0.00893639 0.00110097 0.00871601]]\n",
      "['pullups_down']\n",
      "1/1 [==============================] - 0s 30ms/step\n",
      "[[0.00605523 0.0453982  0.8441394  0.0356669  0.03560381 0.00470889\n",
      "  0.00967873 0.00893819 0.00109993 0.00871072]]\n",
      "['pullups_down']\n"
     ]
    },
    {
     "name": "stderr",
     "output_type": "stream",
     "text": [
      "c:\\Users\\JR\\.conda\\envs\\solol\\Lib\\site-packages\\sklearn\\base.py:493: UserWarning: X does not have valid feature names, but StandardScaler was fitted with feature names\n",
      "  warnings.warn(\n",
      "c:\\Users\\JR\\.conda\\envs\\solol\\Lib\\site-packages\\sklearn\\base.py:493: UserWarning: X does not have valid feature names, but StandardScaler was fitted with feature names\n",
      "  warnings.warn(\n"
     ]
    },
    {
     "name": "stdout",
     "output_type": "stream",
     "text": [
      "1/1 [==============================] - 0s 30ms/step\n",
      "[[0.00605558 0.04536112 0.8441185  0.03565721 0.03568203 0.00470087\n",
      "  0.00968574 0.00893037 0.00110095 0.0087077 ]]\n",
      "['pullups_down']\n",
      "1/1 [==============================] - 0s 20ms/step\n",
      "[[0.0060594  0.04534863 0.84405375 0.03567176 0.0357332  0.00470089\n",
      "  0.00969029 0.00892862 0.00110182 0.00871164]]\n",
      "['pullups_down']\n",
      "1/1 [==============================] - ETA: 0s"
     ]
    },
    {
     "name": "stderr",
     "output_type": "stream",
     "text": [
      "c:\\Users\\JR\\.conda\\envs\\solol\\Lib\\site-packages\\sklearn\\base.py:493: UserWarning: X does not have valid feature names, but StandardScaler was fitted with feature names\n",
      "  warnings.warn(\n",
      "c:\\Users\\JR\\.conda\\envs\\solol\\Lib\\site-packages\\sklearn\\base.py:493: UserWarning: X does not have valid feature names, but StandardScaler was fitted with feature names\n",
      "  warnings.warn(\n"
     ]
    },
    {
     "name": "stdout",
     "output_type": "stream",
     "text": [
      "1/1 [==============================] - 0s 21ms/step\n",
      "[[0.00606006 0.0453305  0.84403735 0.03567147 0.03577059 0.004697\n",
      "  0.00969428 0.00892521 0.0011024  0.0087112 ]]\n",
      "['pullups_down']\n",
      "1/1 [==============================] - 0s 23ms/step\n",
      "[[0.00606277 0.0453364  0.8440009  0.03568034 0.03578062 0.00470031\n",
      "  0.00969535 0.00892605 0.00110261 0.00871478]]\n",
      "['pullups_down']\n",
      "1/1 [==============================] - ETA: 0s"
     ]
    },
    {
     "name": "stderr",
     "output_type": "stream",
     "text": [
      "c:\\Users\\JR\\.conda\\envs\\solol\\Lib\\site-packages\\sklearn\\base.py:493: UserWarning: X does not have valid feature names, but StandardScaler was fitted with feature names\n",
      "  warnings.warn(\n",
      "c:\\Users\\JR\\.conda\\envs\\solol\\Lib\\site-packages\\sklearn\\base.py:493: UserWarning: X does not have valid feature names, but StandardScaler was fitted with feature names\n",
      "  warnings.warn(\n"
     ]
    },
    {
     "name": "stdout",
     "output_type": "stream",
     "text": [
      "1/1 [==============================] - 0s 30ms/step\n",
      "[[0.00604738 0.04535573 0.8442454  0.03564518 0.03560852 0.0046924\n",
      "  0.00967771 0.00892829 0.00109957 0.00869978]]\n",
      "['pullups_down']\n",
      "1/1 [==============================] - 0s 30ms/step\n",
      "[[0.00604102 0.04535677 0.84434617 0.03562527 0.03555613 0.00468669\n",
      "  0.00967065 0.00892642 0.00109856 0.00869235]]\n",
      "['pullups_down']\n"
     ]
    },
    {
     "name": "stderr",
     "output_type": "stream",
     "text": [
      "c:\\Users\\JR\\.conda\\envs\\solol\\Lib\\site-packages\\sklearn\\base.py:493: UserWarning: X does not have valid feature names, but StandardScaler was fitted with feature names\n",
      "  warnings.warn(\n",
      "c:\\Users\\JR\\.conda\\envs\\solol\\Lib\\site-packages\\sklearn\\base.py:493: UserWarning: X does not have valid feature names, but StandardScaler was fitted with feature names\n",
      "  warnings.warn(\n"
     ]
    },
    {
     "name": "stdout",
     "output_type": "stream",
     "text": [
      "1/1 [==============================] - 0s 30ms/step\n",
      "[[0.00604498 0.04534953 0.8442819  0.03563347 0.03560722 0.00468802\n",
      "  0.00967454 0.00892482 0.00109943 0.00869612]]\n",
      "['pullups_down']\n",
      "1/1 [==============================] - 0s 20ms/step\n",
      "[[0.00605087 0.04535134 0.844198   0.03564613 0.0356583  0.00469253\n",
      "  0.00967664 0.00892326 0.00110027 0.00870264]]\n",
      "['pullups_down']\n",
      "1/1 [==============================] - ETA: 0s"
     ]
    },
    {
     "name": "stderr",
     "output_type": "stream",
     "text": [
      "c:\\Users\\JR\\.conda\\envs\\solol\\Lib\\site-packages\\sklearn\\base.py:493: UserWarning: X does not have valid feature names, but StandardScaler was fitted with feature names\n",
      "  warnings.warn(\n",
      "c:\\Users\\JR\\.conda\\envs\\solol\\Lib\\site-packages\\sklearn\\base.py:493: UserWarning: X does not have valid feature names, but StandardScaler was fitted with feature names\n",
      "  warnings.warn(\n"
     ]
    },
    {
     "name": "stdout",
     "output_type": "stream",
     "text": [
      "1/1 [==============================] - 0s 26ms/step\n",
      "[[0.00604448 0.04532859 0.8442881  0.03562252 0.03564744 0.00468309\n",
      "  0.00967402 0.00891809 0.00109974 0.00869394]]\n",
      "['pullups_down']\n",
      "1/1 [==============================] - 0s 30ms/step\n",
      "[[0.00604955 0.04532887 0.84420854 0.03565076 0.03568159 0.00468568\n",
      "  0.00967483 0.00891795 0.0011005  0.00870182]]\n",
      "['pullups_down']\n",
      "1/1 [==============================] - 0s 25ms/step\n"
     ]
    },
    {
     "name": "stderr",
     "output_type": "stream",
     "text": [
      "c:\\Users\\JR\\.conda\\envs\\solol\\Lib\\site-packages\\sklearn\\base.py:493: UserWarning: X does not have valid feature names, but StandardScaler was fitted with feature names\n",
      "  warnings.warn(\n",
      "c:\\Users\\JR\\.conda\\envs\\solol\\Lib\\site-packages\\sklearn\\base.py:493: UserWarning: X does not have valid feature names, but StandardScaler was fitted with feature names\n",
      "  warnings.warn(\n"
     ]
    },
    {
     "name": "stdout",
     "output_type": "stream",
     "text": [
      "[[0.00605134 0.04532819 0.8441784  0.03565993 0.03570118 0.00468537\n",
      "  0.00967308 0.0089167  0.00110097 0.00870487]]\n",
      "['pullups_down']\n",
      "1/1 [==============================] - 0s 30ms/step\n",
      "[[0.00606658 0.04532771 0.8439308  0.0357026  0.03584794 0.00469455\n",
      "  0.00968519 0.00891831 0.00110416 0.00872221]]\n",
      "['pullups_down']\n",
      "1/1 [==============================] - ETA: 0s"
     ]
    },
    {
     "name": "stderr",
     "output_type": "stream",
     "text": [
      "c:\\Users\\JR\\.conda\\envs\\solol\\Lib\\site-packages\\sklearn\\base.py:493: UserWarning: X does not have valid feature names, but StandardScaler was fitted with feature names\n",
      "  warnings.warn(\n",
      "c:\\Users\\JR\\.conda\\envs\\solol\\Lib\\site-packages\\sklearn\\base.py:493: UserWarning: X does not have valid feature names, but StandardScaler was fitted with feature names\n",
      "  warnings.warn(\n"
     ]
    },
    {
     "name": "stdout",
     "output_type": "stream",
     "text": [
      "1/1 [==============================] - 0s 30ms/step\n",
      "[[0.00607493 0.04532735 0.84380066 0.03572129 0.03590998 0.00470478\n",
      "  0.00970085 0.00892441 0.00110532 0.00873031]]\n",
      "['pullups_down']\n",
      "1/1 [==============================] - 0s 78ms/step\n"
     ]
    },
    {
     "name": "stderr",
     "output_type": "stream",
     "text": [
      "c:\\Users\\JR\\.conda\\envs\\solol\\Lib\\site-packages\\sklearn\\base.py:493: UserWarning: X does not have valid feature names, but StandardScaler was fitted with feature names\n",
      "  warnings.warn(\n",
      "c:\\Users\\JR\\.conda\\envs\\solol\\Lib\\site-packages\\sklearn\\base.py:493: UserWarning: X does not have valid feature names, but StandardScaler was fitted with feature names\n",
      "  warnings.warn(\n"
     ]
    },
    {
     "name": "stdout",
     "output_type": "stream",
     "text": [
      "[[0.00607949 0.04532341 0.84372634 0.0357407  0.03594832 0.00470813\n",
      "  0.0097058  0.00892594 0.0011061  0.00873576]]\n",
      "['pullups_down']\n",
      "1/1 [==============================] - 0s 20ms/step\n",
      "[[0.00607872 0.04533511 0.8437466  0.03573595 0.03592082 0.00471078\n",
      "  0.00970333 0.00892788 0.00110556 0.00873533]]\n",
      "['pullups_down']\n",
      "1/1 [==============================] - 0s 29ms/step\n",
      "[[0.00607514 0.04532686 0.84380007 0.03570494 0.03592168 0.00470693\n",
      "  0.00970513 0.00892599 0.00110543 0.00872794]]\n",
      "['pullups_down']\n"
     ]
    },
    {
     "name": "stderr",
     "output_type": "stream",
     "text": [
      "c:\\Users\\JR\\.conda\\envs\\solol\\Lib\\site-packages\\sklearn\\base.py:493: UserWarning: X does not have valid feature names, but StandardScaler was fitted with feature names\n",
      "  warnings.warn(\n",
      "c:\\Users\\JR\\.conda\\envs\\solol\\Lib\\site-packages\\sklearn\\base.py:493: UserWarning: X does not have valid feature names, but StandardScaler was fitted with feature names\n",
      "  warnings.warn(\n"
     ]
    },
    {
     "name": "stdout",
     "output_type": "stream",
     "text": [
      "1/1 [==============================] - 0s 30ms/step\n",
      "[[0.0060804  0.04535724 0.8437298  0.03573339 0.03590118 0.00471737\n",
      "  0.00970446 0.00893361 0.00110552 0.00873703]]\n",
      "['pullups_down']\n",
      "1/1 [==============================] - 0s 20ms/step\n",
      "[[0.006079   0.04535942 0.84374803 0.03573256 0.03588036 0.00471784\n",
      "  0.00970644 0.00893527 0.00110516 0.0087359 ]]\n",
      "['pullups_down']\n"
     ]
    },
    {
     "name": "stderr",
     "output_type": "stream",
     "text": [
      "c:\\Users\\JR\\.conda\\envs\\solol\\Lib\\site-packages\\sklearn\\base.py:493: UserWarning: X does not have valid feature names, but StandardScaler was fitted with feature names\n",
      "  warnings.warn(\n",
      "c:\\Users\\JR\\.conda\\envs\\solol\\Lib\\site-packages\\sklearn\\base.py:493: UserWarning: X does not have valid feature names, but StandardScaler was fitted with feature names\n",
      "  warnings.warn(\n"
     ]
    },
    {
     "name": "stdout",
     "output_type": "stream",
     "text": [
      "1/1 [==============================] - 0s 30ms/step\n",
      "[[0.00607843 0.04535742 0.8437594  0.03572329 0.03588184 0.00471803\n",
      "  0.00970801 0.00893471 0.00110499 0.00873396]]\n",
      "['pullups_down']\n",
      "1/1 [==============================] - 0s 20ms/step\n",
      "[[0.00605452 0.04537229 0.8441419  0.03566036 0.03564582 0.00470272\n",
      "  0.00968062 0.00893219 0.00110038 0.00870907]]\n",
      "['pullups_down']\n"
     ]
    },
    {
     "name": "stderr",
     "output_type": "stream",
     "text": [
      "c:\\Users\\JR\\.conda\\envs\\solol\\Lib\\site-packages\\sklearn\\base.py:493: UserWarning: X does not have valid feature names, but StandardScaler was fitted with feature names\n",
      "  warnings.warn(\n",
      "c:\\Users\\JR\\.conda\\envs\\solol\\Lib\\site-packages\\sklearn\\base.py:493: UserWarning: X does not have valid feature names, but StandardScaler was fitted with feature names\n",
      "  warnings.warn(\n"
     ]
    },
    {
     "name": "stdout",
     "output_type": "stream",
     "text": [
      "1/1 [==============================] - 0s 30ms/step\n",
      "[[0.00605279 0.04534329 0.844156   0.03564661 0.03570046 0.00469241\n",
      "  0.00967929 0.00892301 0.00110114 0.0087049 ]]\n",
      "['pullups_down']\n",
      "1/1 [==============================] - 0s 112ms/step\n"
     ]
    },
    {
     "name": "stderr",
     "output_type": "stream",
     "text": [
      "c:\\Users\\JR\\.conda\\envs\\solol\\Lib\\site-packages\\sklearn\\base.py:493: UserWarning: X does not have valid feature names, but StandardScaler was fitted with feature names\n",
      "  warnings.warn(\n"
     ]
    },
    {
     "name": "stdout",
     "output_type": "stream",
     "text": [
      "[[0.00605048 0.04532383 0.84418625 0.0356301  0.03572628 0.00468561\n",
      "  0.00967893 0.00891689 0.0011013  0.0087003 ]]\n",
      "['pullups_down']\n",
      "1/1 [==============================] - 0s 31ms/step\n",
      "[[0.00605199 0.0453386  0.844171   0.03563304 0.03570715 0.00469178\n",
      "  0.00968182 0.00892197 0.00110107 0.00870158]]\n",
      "['pullups_down']\n"
     ]
    },
    {
     "name": "stderr",
     "output_type": "stream",
     "text": [
      "c:\\Users\\JR\\.conda\\envs\\solol\\Lib\\site-packages\\sklearn\\base.py:493: UserWarning: X does not have valid feature names, but StandardScaler was fitted with feature names\n",
      "  warnings.warn(\n",
      "c:\\Users\\JR\\.conda\\envs\\solol\\Lib\\site-packages\\sklearn\\base.py:493: UserWarning: X does not have valid feature names, but StandardScaler was fitted with feature names\n",
      "  warnings.warn(\n"
     ]
    },
    {
     "name": "stdout",
     "output_type": "stream",
     "text": [
      "1/1 [==============================] - 0s 30ms/step\n",
      "[[0.00605251 0.04533946 0.84416324 0.03563901 0.03570465 0.0046927\n",
      "  0.009682   0.00892258 0.00110104 0.00870274]]\n",
      "['pullups_down']\n",
      "1/1 [==============================] - 0s 20ms/step\n",
      "[[0.00606224 0.04533951 0.84401494 0.03566615 0.03578852 0.00469971\n",
      "  0.0096904  0.00892256 0.0011026  0.00871335]]\n",
      "['pullups_down']\n",
      "1/1 [==============================] - ETA: 0s"
     ]
    },
    {
     "name": "stderr",
     "output_type": "stream",
     "text": [
      "c:\\Users\\JR\\.conda\\envs\\solol\\Lib\\site-packages\\sklearn\\base.py:493: UserWarning: X does not have valid feature names, but StandardScaler was fitted with feature names\n",
      "  warnings.warn(\n",
      "c:\\Users\\JR\\.conda\\envs\\solol\\Lib\\site-packages\\sklearn\\base.py:493: UserWarning: X does not have valid feature names, but StandardScaler was fitted with feature names\n",
      "  warnings.warn(\n"
     ]
    },
    {
     "name": "stdout",
     "output_type": "stream",
     "text": [
      "1/1 [==============================] - 0s 30ms/step\n",
      "[[0.00606504 0.04535875 0.8439763  0.03567305 0.0357854  0.00470467\n",
      "  0.00968891 0.00892726 0.00110305 0.00871755]]\n",
      "['pullups_down']\n",
      "1/1 [==============================] - 0s 20ms/step\n",
      "[[0.00606554 0.0453437  0.84396315 0.03567    0.03582174 0.00470091\n",
      "  0.00969093 0.00892364 0.00110358 0.00871694]]\n",
      "['pullups_down']\n",
      "1/1 [==============================] - ETA: 0s"
     ]
    },
    {
     "name": "stderr",
     "output_type": "stream",
     "text": [
      "c:\\Users\\JR\\.conda\\envs\\solol\\Lib\\site-packages\\sklearn\\base.py:493: UserWarning: X does not have valid feature names, but StandardScaler was fitted with feature names\n",
      "  warnings.warn(\n",
      "c:\\Users\\JR\\.conda\\envs\\solol\\Lib\\site-packages\\sklearn\\base.py:493: UserWarning: X does not have valid feature names, but StandardScaler was fitted with feature names\n",
      "  warnings.warn(\n"
     ]
    },
    {
     "name": "stdout",
     "output_type": "stream",
     "text": [
      "1/1 [==============================] - 0s 30ms/step\n",
      "[[0.00606977 0.04535484 0.843905   0.03569816 0.03581538 0.00470734\n",
      "  0.00969305 0.00892819 0.00110362 0.0087247 ]]\n",
      "['pullups_down']\n",
      "1/1 [==============================] - 0s 29ms/step\n",
      "[[0.00606968 0.04533169 0.84390235 0.03568611 0.03586338 0.0047022\n",
      "  0.00969641 0.00892184 0.00110411 0.00872213]]\n",
      "['pullups_down']\n"
     ]
    },
    {
     "name": "stderr",
     "output_type": "stream",
     "text": [
      "c:\\Users\\JR\\.conda\\envs\\solol\\Lib\\site-packages\\sklearn\\base.py:493: UserWarning: X does not have valid feature names, but StandardScaler was fitted with feature names\n",
      "  warnings.warn(\n",
      "c:\\Users\\JR\\.conda\\envs\\solol\\Lib\\site-packages\\sklearn\\base.py:493: UserWarning: X does not have valid feature names, but StandardScaler was fitted with feature names\n",
      "  warnings.warn(\n"
     ]
    },
    {
     "name": "stdout",
     "output_type": "stream",
     "text": [
      "1/1 [==============================] - 0s 45ms/step\n",
      "[[0.00608214 0.0453836  0.84371704 0.03574755 0.03586226 0.00472308\n",
      "  0.00969974 0.00893771 0.00110512 0.00874177]]\n",
      "['pullups_down']\n",
      "1/1 [==============================] - 0s 22ms/step\n",
      "[[0.00606465 0.04534996 0.84397954 0.03567221 0.03578319 0.0047055\n",
      "  0.00969536 0.00892972 0.00110284 0.00871695]]\n",
      "['pullups_down']\n",
      "1/1 [==============================] - ETA: 0s"
     ]
    },
    {
     "name": "stderr",
     "output_type": "stream",
     "text": [
      "c:\\Users\\JR\\.conda\\envs\\solol\\Lib\\site-packages\\sklearn\\base.py:493: UserWarning: X does not have valid feature names, but StandardScaler was fitted with feature names\n",
      "  warnings.warn(\n",
      "c:\\Users\\JR\\.conda\\envs\\solol\\Lib\\site-packages\\sklearn\\base.py:493: UserWarning: X does not have valid feature names, but StandardScaler was fitted with feature names\n",
      "  warnings.warn(\n"
     ]
    },
    {
     "name": "stdout",
     "output_type": "stream",
     "text": [
      "1/1 [==============================] - 0s 30ms/step\n",
      "[[0.00607602 0.0453636  0.84380543 0.03571564 0.03585074 0.00471588\n",
      "  0.00970214 0.0089344  0.00110455 0.00873163]]\n",
      "['pullups_down']\n",
      "1/1 [==============================] - 0s 31ms/step\n",
      "[[0.006075   0.04538419 0.84382606 0.03572685 0.03579411 0.00472032\n",
      "  0.00969818 0.00893861 0.00110364 0.00873308]]\n",
      "['pullups_down']\n",
      "1/1 [==============================] - ETA: 0s"
     ]
    },
    {
     "name": "stderr",
     "output_type": "stream",
     "text": [
      "c:\\Users\\JR\\.conda\\envs\\solol\\Lib\\site-packages\\sklearn\\base.py:493: UserWarning: X does not have valid feature names, but StandardScaler was fitted with feature names\n",
      "  warnings.warn(\n",
      "c:\\Users\\JR\\.conda\\envs\\solol\\Lib\\site-packages\\sklearn\\base.py:493: UserWarning: X does not have valid feature names, but StandardScaler was fitted with feature names\n",
      "  warnings.warn(\n"
     ]
    },
    {
     "name": "stdout",
     "output_type": "stream",
     "text": [
      "1/1 [==============================] - 0s 20ms/step\n",
      "[[0.00606035 0.04538696 0.8440553  0.03568249 0.03566458 0.004711\n",
      "  0.00968535 0.00893646 0.00110092 0.00871662]]\n",
      "['pullups_down']\n",
      "1/1 [==============================] - 0s 20ms/step\n",
      "[[0.00605157 0.04535202 0.8441882  0.03564248 0.03565516 0.00469757\n",
      "  0.00968332 0.00892676 0.00109998 0.00870288]]\n",
      "['pullups_down']\n",
      "1/1 [==============================] - ETA: 0s"
     ]
    },
    {
     "name": "stderr",
     "output_type": "stream",
     "text": [
      "c:\\Users\\JR\\.conda\\envs\\solol\\Lib\\site-packages\\sklearn\\base.py:493: UserWarning: X does not have valid feature names, but StandardScaler was fitted with feature names\n",
      "  warnings.warn(\n",
      "c:\\Users\\JR\\.conda\\envs\\solol\\Lib\\site-packages\\sklearn\\base.py:493: UserWarning: X does not have valid feature names, but StandardScaler was fitted with feature names\n",
      "  warnings.warn(\n"
     ]
    },
    {
     "name": "stdout",
     "output_type": "stream",
     "text": [
      "1/1 [==============================] - 0s 28ms/step\n",
      "[[0.00605752 0.04533937 0.84409004 0.03565456 0.03573726 0.00469817\n",
      "  0.0096893  0.00892404 0.0011015  0.00870823]]\n",
      "['pullups_down']\n",
      "1/1 [==============================] - 0s 22ms/step\n",
      "[[0.00605678 0.0453267  0.8440891  0.03564938 0.03576292 0.0046942\n",
      "  0.00969065 0.00892212 0.001102   0.00870627]]\n",
      "['pullups_down']\n"
     ]
    },
    {
     "name": "stderr",
     "output_type": "stream",
     "text": [
      "c:\\Users\\JR\\.conda\\envs\\solol\\Lib\\site-packages\\sklearn\\base.py:493: UserWarning: X does not have valid feature names, but StandardScaler was fitted with feature names\n",
      "  warnings.warn(\n",
      "c:\\Users\\JR\\.conda\\envs\\solol\\Lib\\site-packages\\sklearn\\base.py:493: UserWarning: X does not have valid feature names, but StandardScaler was fitted with feature names\n",
      "  warnings.warn(\n"
     ]
    },
    {
     "name": "stdout",
     "output_type": "stream",
     "text": [
      "1/1 [==============================] - 0s 28ms/step\n",
      "[[0.00606316 0.04533309 0.84399533 0.03566974 0.03580659 0.00469883\n",
      "  0.00969347 0.00892266 0.001103   0.0087141 ]]\n",
      "['pullups_down']\n",
      "1/1 [==============================] - 0s 29ms/step\n",
      "[[0.00606201 0.04534436 0.84401953 0.03567183 0.03577147 0.00470003\n",
      "  0.00968995 0.00892414 0.00110245 0.00871425]]\n",
      "['pullups_down']\n",
      "1/1 [==============================] - ETA: 0s"
     ]
    },
    {
     "name": "stderr",
     "output_type": "stream",
     "text": [
      "c:\\Users\\JR\\.conda\\envs\\solol\\Lib\\site-packages\\sklearn\\base.py:493: UserWarning: X does not have valid feature names, but StandardScaler was fitted with feature names\n",
      "  warnings.warn(\n",
      "c:\\Users\\JR\\.conda\\envs\\solol\\Lib\\site-packages\\sklearn\\base.py:493: UserWarning: X does not have valid feature names, but StandardScaler was fitted with feature names\n",
      "  warnings.warn(\n"
     ]
    },
    {
     "name": "stdout",
     "output_type": "stream",
     "text": [
      "1/1 [==============================] - 0s 25ms/step\n",
      "[[0.00605621 0.04535785 0.8441119  0.03566309 0.03569325 0.0046989\n",
      "  0.00968113 0.00892674 0.00110111 0.00870977]]\n",
      "['pullups_down']\n",
      "1/1 [==============================] - 0s 30ms/step\n",
      "[[0.00604754 0.04533882 0.8442399  0.03563407 0.0356539  0.00468834\n",
      "  0.00967669 0.00892222 0.0011001  0.00869847]]\n",
      "['pullups_down']\n",
      "1/1 [==============================] - ETA: 0s"
     ]
    },
    {
     "name": "stderr",
     "output_type": "stream",
     "text": [
      "c:\\Users\\JR\\.conda\\envs\\solol\\Lib\\site-packages\\sklearn\\base.py:493: UserWarning: X does not have valid feature names, but StandardScaler was fitted with feature names\n",
      "  warnings.warn(\n",
      "c:\\Users\\JR\\.conda\\envs\\solol\\Lib\\site-packages\\sklearn\\base.py:493: UserWarning: X does not have valid feature names, but StandardScaler was fitted with feature names\n",
      "  warnings.warn(\n"
     ]
    },
    {
     "name": "stdout",
     "output_type": "stream",
     "text": [
      "1/1 [==============================] - 0s 30ms/step\n",
      "[[0.00604834 0.04534116 0.84422874 0.03563623 0.03565533 0.00469003\n",
      "  0.0096777  0.0089229  0.0011001  0.00869939]]\n",
      "['pullups_down']\n",
      "1/1 [==============================] - 0s 20ms/step\n",
      "[[0.00604659 0.04533534 0.84425455 0.03562171 0.03566178 0.00468677\n",
      "  0.00967685 0.00892024 0.00110014 0.00869603]]\n",
      "['pullups_down']\n",
      "1/1 [==============================] - ETA: 0s"
     ]
    },
    {
     "name": "stderr",
     "output_type": "stream",
     "text": [
      "c:\\Users\\JR\\.conda\\envs\\solol\\Lib\\site-packages\\sklearn\\base.py:493: UserWarning: X does not have valid feature names, but StandardScaler was fitted with feature names\n",
      "  warnings.warn(\n",
      "c:\\Users\\JR\\.conda\\envs\\solol\\Lib\\site-packages\\sklearn\\base.py:493: UserWarning: X does not have valid feature names, but StandardScaler was fitted with feature names\n",
      "  warnings.warn(\n"
     ]
    },
    {
     "name": "stdout",
     "output_type": "stream",
     "text": [
      "1/1 [==============================] - 0s 30ms/step\n",
      "[[0.00605811 0.04535081 0.84408444 0.03565679 0.03573318 0.00469751\n",
      "  0.00968349 0.00892374 0.00110177 0.00871012]]\n",
      "['pullups_down']\n",
      "1/1 [==============================] - 0s 93ms/step\n"
     ]
    },
    {
     "name": "stderr",
     "output_type": "stream",
     "text": [
      "c:\\Users\\JR\\.conda\\envs\\solol\\Lib\\site-packages\\sklearn\\base.py:493: UserWarning: X does not have valid feature names, but StandardScaler was fitted with feature names\n",
      "  warnings.warn(\n",
      "c:\\Users\\JR\\.conda\\envs\\solol\\Lib\\site-packages\\sklearn\\base.py:493: UserWarning: X does not have valid feature names, but StandardScaler was fitted with feature names\n",
      "  warnings.warn(\n"
     ]
    },
    {
     "name": "stdout",
     "output_type": "stream",
     "text": [
      "[[0.00604781 0.04536252 0.84424865 0.03562825 0.03562365 0.00469301\n",
      "  0.00967132 0.00892545 0.00109974 0.00869967]]\n",
      "['pullups_down']\n",
      "1/1 [==============================] - 0s 26ms/step\n",
      "[[0.00604123 0.04533867 0.8443442  0.03560103 0.03561539 0.00468247\n",
      "  0.00966918 0.00891842 0.00109919 0.00869022]]\n",
      "['pullups_down']\n",
      "1/1 [==============================] - 0s 29ms/step\n",
      "[[0.00603785 0.0453211  0.84439105 0.03558786 0.03562064 0.00467553\n",
      "  0.00966842 0.00891345 0.00109904 0.008685  ]]\n",
      "['pullups_down']\n",
      "1/1 [==============================] - 0s 30ms/step\n"
     ]
    },
    {
     "name": "stderr",
     "output_type": "stream",
     "text": [
      "c:\\Users\\JR\\.conda\\envs\\solol\\Lib\\site-packages\\sklearn\\base.py:493: UserWarning: X does not have valid feature names, but StandardScaler was fitted with feature names\n",
      "  warnings.warn(\n",
      "c:\\Users\\JR\\.conda\\envs\\solol\\Lib\\site-packages\\sklearn\\base.py:493: UserWarning: X does not have valid feature names, but StandardScaler was fitted with feature names\n",
      "  warnings.warn(\n"
     ]
    },
    {
     "name": "stdout",
     "output_type": "stream",
     "text": [
      "[[0.00604011 0.04532474 0.8443549  0.03559506 0.03563515 0.00467788\n",
      "  0.00966987 0.00891512 0.00109944 0.00868761]]\n",
      "['pullups_down']\n",
      "1/1 [==============================] - 0s 27ms/step\n",
      "[[0.00605252 0.04532094 0.844162   0.03562811 0.03575128 0.00468585\n",
      "  0.00968202 0.00891497 0.00110163 0.00870078]]\n",
      "['pullups_down']\n",
      "1/1 [==============================] - ETA: 0s"
     ]
    },
    {
     "name": "stderr",
     "output_type": "stream",
     "text": [
      "c:\\Users\\JR\\.conda\\envs\\solol\\Lib\\site-packages\\sklearn\\base.py:493: UserWarning: X does not have valid feature names, but StandardScaler was fitted with feature names\n",
      "  warnings.warn(\n",
      "c:\\Users\\JR\\.conda\\envs\\solol\\Lib\\site-packages\\sklearn\\base.py:493: UserWarning: X does not have valid feature names, but StandardScaler was fitted with feature names\n",
      "  warnings.warn(\n"
     ]
    },
    {
     "name": "stdout",
     "output_type": "stream",
     "text": [
      "1/1 [==============================] - 0s 21ms/step\n",
      "[[0.00605787 0.04536057 0.84409404 0.03567197 0.03570302 0.00469741\n",
      "  0.0096769  0.0089242  0.0011014  0.0087127 ]]\n",
      "['pullups_down']\n",
      "1/1 [==============================] - 0s 24ms/step\n",
      "[[0.00603911 0.04528851 0.8443645  0.03557892 0.03570188 0.00466847\n",
      "  0.00967092 0.00890435 0.0011     0.00868332]]\n",
      "['pullups_down']\n",
      "1/1 [==============================] - ETA: 0s"
     ]
    },
    {
     "name": "stderr",
     "output_type": "stream",
     "text": [
      "c:\\Users\\JR\\.conda\\envs\\solol\\Lib\\site-packages\\sklearn\\base.py:493: UserWarning: X does not have valid feature names, but StandardScaler was fitted with feature names\n",
      "  warnings.warn(\n",
      "c:\\Users\\JR\\.conda\\envs\\solol\\Lib\\site-packages\\sklearn\\base.py:493: UserWarning: X does not have valid feature names, but StandardScaler was fitted with feature names\n",
      "  warnings.warn(\n"
     ]
    },
    {
     "name": "stdout",
     "output_type": "stream",
     "text": [
      "1/1 [==============================] - 0s 21ms/step\n",
      "[[0.00603981 0.0452956  0.84435827 0.03558573 0.03568927 0.00467094\n",
      "  0.00966947 0.00890595 0.00109979 0.00868526]]\n",
      "['pullups_down']\n",
      "1/1 [==============================] - 0s 32ms/step\n",
      "[[0.00604173 0.04529898 0.8443291  0.03559398 0.03569824 0.00467288\n",
      "  0.00967035 0.00890679 0.00110004 0.00868787]]\n",
      "['pullups_down']\n"
     ]
    },
    {
     "name": "stderr",
     "output_type": "stream",
     "text": [
      "c:\\Users\\JR\\.conda\\envs\\solol\\Lib\\site-packages\\sklearn\\base.py:493: UserWarning: X does not have valid feature names, but StandardScaler was fitted with feature names\n",
      "  warnings.warn(\n",
      "c:\\Users\\JR\\.conda\\envs\\solol\\Lib\\site-packages\\sklearn\\base.py:493: UserWarning: X does not have valid feature names, but StandardScaler was fitted with feature names\n",
      "  warnings.warn(\n"
     ]
    },
    {
     "name": "stdout",
     "output_type": "stream",
     "text": [
      "1/1 [==============================] - 0s 24ms/step\n",
      "[[0.006063   0.04536168 0.84401655 0.03569123 0.03574132 0.00470165\n",
      "  0.00967887 0.00892477 0.00110208 0.00871892]]\n",
      "['pullups_down']\n",
      "1/1 [==============================] - 0s 30ms/step\n",
      "[[0.0060652  0.04534407 0.8439686  0.03569137 0.03579469 0.00470039\n",
      "  0.00968863 0.00892473 0.00110307 0.00871927]]\n",
      "['pullups_down']\n",
      "1/1 [==============================] - ETA: 0s"
     ]
    },
    {
     "name": "stderr",
     "output_type": "stream",
     "text": [
      "c:\\Users\\JR\\.conda\\envs\\solol\\Lib\\site-packages\\sklearn\\base.py:493: UserWarning: X does not have valid feature names, but StandardScaler was fitted with feature names\n",
      "  warnings.warn(\n",
      "c:\\Users\\JR\\.conda\\envs\\solol\\Lib\\site-packages\\sklearn\\base.py:493: UserWarning: X does not have valid feature names, but StandardScaler was fitted with feature names\n",
      "  warnings.warn(\n"
     ]
    },
    {
     "name": "stdout",
     "output_type": "stream",
     "text": [
      "1/1 [==============================] - 0s 28ms/step\n",
      "[[0.00607389 0.04537268 0.84383976 0.03573415 0.03580358 0.00471388\n",
      "  0.00969118 0.00893412 0.0011038  0.00873293]]\n",
      "['pullups_down']\n",
      "1/1 [==============================] - 0s 30ms/step\n",
      "[[0.00606718 0.04535387 0.84393317 0.03570928 0.03578246 0.00470539\n",
      "  0.00969005 0.00893166 0.00110326 0.00872377]]\n",
      "['pullups_down']\n",
      "1/1 [==============================] - ETA: 0s"
     ]
    },
    {
     "name": "stderr",
     "output_type": "stream",
     "text": [
      "c:\\Users\\JR\\.conda\\envs\\solol\\Lib\\site-packages\\sklearn\\base.py:493: UserWarning: X does not have valid feature names, but StandardScaler was fitted with feature names\n",
      "  warnings.warn(\n",
      "c:\\Users\\JR\\.conda\\envs\\solol\\Lib\\site-packages\\sklearn\\base.py:493: UserWarning: X does not have valid feature names, but StandardScaler was fitted with feature names\n",
      "  warnings.warn(\n"
     ]
    },
    {
     "name": "stdout",
     "output_type": "stream",
     "text": [
      "1/1 [==============================] - 0s 27ms/step\n",
      "[[0.00606387 0.04531297 0.843973   0.03565864 0.0358549  0.00469671\n",
      "  0.00970156 0.00892269 0.00110375 0.00871195]]\n",
      "['pullups_down']\n",
      "1/1 [==============================] - 0s 30ms/step\n",
      "[[0.00605988 0.04532119 0.8440415  0.03564832 0.03580042 0.00469622\n",
      "  0.00969736 0.00892424 0.00110273 0.0087082 ]]\n",
      "['pullups_down']\n",
      "1/1 [==============================] - ETA: 0s"
     ]
    },
    {
     "name": "stderr",
     "output_type": "stream",
     "text": [
      "c:\\Users\\JR\\.conda\\envs\\solol\\Lib\\site-packages\\sklearn\\base.py:493: UserWarning: X does not have valid feature names, but StandardScaler was fitted with feature names\n",
      "  warnings.warn(\n",
      "c:\\Users\\JR\\.conda\\envs\\solol\\Lib\\site-packages\\sklearn\\base.py:493: UserWarning: X does not have valid feature names, but StandardScaler was fitted with feature names\n",
      "  warnings.warn(\n"
     ]
    },
    {
     "name": "stdout",
     "output_type": "stream",
     "text": [
      "1/1 [==============================] - 0s 30ms/step\n",
      "[[0.00605564 0.04532771 0.8441103  0.03563653 0.03574833 0.00469555\n",
      "  0.00969456 0.00892594 0.00110175 0.00870362]]\n",
      "['pullups_down']\n",
      "1/1 [==============================] - 0s 25ms/step\n",
      "[[0.00606288 0.04534445 0.84401155 0.03565872 0.03577507 0.0047048\n",
      "  0.00969845 0.00892884 0.00110235 0.00871279]]\n",
      "['pullups_down']\n"
     ]
    },
    {
     "name": "stderr",
     "output_type": "stream",
     "text": [
      "c:\\Users\\JR\\.conda\\envs\\solol\\Lib\\site-packages\\sklearn\\base.py:493: UserWarning: X does not have valid feature names, but StandardScaler was fitted with feature names\n",
      "  warnings.warn(\n",
      "c:\\Users\\JR\\.conda\\envs\\solol\\Lib\\site-packages\\sklearn\\base.py:493: UserWarning: X does not have valid feature names, but StandardScaler was fitted with feature names\n",
      "  warnings.warn(\n"
     ]
    },
    {
     "name": "stdout",
     "output_type": "stream",
     "text": [
      "1/1 [==============================] - 0s 21ms/step\n",
      "[[0.00605811 0.04535203 0.8440857  0.03563686 0.0357294  0.0047037\n",
      "  0.00969532 0.00893061 0.00110153 0.00870673]]\n",
      "['pullups_down']\n",
      "1/1 [==============================] - 0s 29ms/step\n",
      "[[0.0060612  0.04525691 0.84394157 0.03560408 0.03605974 0.00466956\n",
      "  0.00969317 0.00890181 0.00110795 0.00870409]]\n",
      "['pullups_down']\n",
      "1/1 [==============================] - ETA: 0s"
     ]
    },
    {
     "name": "stderr",
     "output_type": "stream",
     "text": [
      "c:\\Users\\JR\\.conda\\envs\\solol\\Lib\\site-packages\\sklearn\\base.py:493: UserWarning: X does not have valid feature names, but StandardScaler was fitted with feature names\n",
      "  warnings.warn(\n",
      "c:\\Users\\JR\\.conda\\envs\\solol\\Lib\\site-packages\\sklearn\\base.py:493: UserWarning: X does not have valid feature names, but StandardScaler was fitted with feature names\n",
      "  warnings.warn(\n"
     ]
    },
    {
     "name": "stdout",
     "output_type": "stream",
     "text": [
      "1/1 [==============================] - 0s 21ms/step\n",
      "[[0.00611535 0.04531471 0.8432581  0.03572314 0.03616992 0.00477958\n",
      "  0.00978693 0.00899337 0.00110984 0.00874912]]\n",
      "['pullups_down']\n",
      "1/1 [==============================] - 0s 30ms/step\n",
      "[[0.00610139 0.04531072 0.8434843  0.03570135 0.03602642 0.0047666\n",
      "  0.00977523 0.00899181 0.00110713 0.00873507]]\n",
      "['pullups_down']\n"
     ]
    },
    {
     "name": "stderr",
     "output_type": "stream",
     "text": [
      "c:\\Users\\JR\\.conda\\envs\\solol\\Lib\\site-packages\\sklearn\\base.py:493: UserWarning: X does not have valid feature names, but StandardScaler was fitted with feature names\n",
      "  warnings.warn(\n",
      "c:\\Users\\JR\\.conda\\envs\\solol\\Lib\\site-packages\\sklearn\\base.py:493: UserWarning: X does not have valid feature names, but StandardScaler was fitted with feature names\n",
      "  warnings.warn(\n"
     ]
    },
    {
     "name": "stdout",
     "output_type": "stream",
     "text": [
      "1/1 [==============================] - 0s 30ms/step\n",
      "[[0.00610227 0.0453647  0.8434985  0.03570797 0.03590653 0.00478748\n",
      "  0.00977956 0.00901064 0.00110512 0.00873718]]\n",
      "['pullups_down']\n",
      "1/1 [==============================] - 0s 30ms/step\n",
      "[[0.00608803 0.04532338 0.8437011  0.03565935 0.03586991 0.00476454\n",
      "  0.00977357 0.00899822 0.00110402 0.00871787]]\n",
      "['pullups_down']\n",
      "1/1 [==============================] - ETA: 0s"
     ]
    },
    {
     "name": "stderr",
     "output_type": "stream",
     "text": [
      "c:\\Users\\JR\\.conda\\envs\\solol\\Lib\\site-packages\\sklearn\\base.py:493: UserWarning: X does not have valid feature names, but StandardScaler was fitted with feature names\n",
      "  warnings.warn(\n",
      "c:\\Users\\JR\\.conda\\envs\\solol\\Lib\\site-packages\\sklearn\\base.py:493: UserWarning: X does not have valid feature names, but StandardScaler was fitted with feature names\n",
      "  warnings.warn(\n"
     ]
    },
    {
     "name": "stdout",
     "output_type": "stream",
     "text": [
      "1/1 [==============================] - 0s 30ms/step\n",
      "[[0.00606749 0.04535791 0.8440438  0.03560192 0.03562097 0.00475338\n",
      "  0.00975585 0.00900351 0.00109983 0.00869528]]\n",
      "['pullups_down']\n",
      "1/1 [==============================] - 0s 39ms/step\n"
     ]
    },
    {
     "name": "stderr",
     "output_type": "stream",
     "text": [
      "c:\\Users\\JR\\.conda\\envs\\solol\\Lib\\site-packages\\sklearn\\base.py:493: UserWarning: X does not have valid feature names, but StandardScaler was fitted with feature names\n",
      "  warnings.warn(\n",
      "c:\\Users\\JR\\.conda\\envs\\solol\\Lib\\site-packages\\sklearn\\base.py:493: UserWarning: X does not have valid feature names, but StandardScaler was fitted with feature names\n",
      "  warnings.warn(\n"
     ]
    },
    {
     "name": "stdout",
     "output_type": "stream",
     "text": [
      "[[0.00606791 0.04536727 0.8440331  0.03560002 0.03560549 0.00475597\n",
      "  0.00976434 0.00901323 0.00110021 0.00869248]]\n",
      "['pullups_down']\n",
      "1/1 [==============================] - 0s 30ms/step\n",
      "[[0.00604585 0.04534733 0.8443757  0.03554056 0.03543759 0.00473354\n",
      "  0.00974677 0.00900981 0.00109688 0.00866594]]\n",
      "['pullups_down']\n",
      "1/1 [==============================] - 0s 30ms/step\n",
      "[[0.00605083 0.04535641 0.8443154  0.03555571 0.03545229 0.00474\n",
      "  0.00974856 0.00901185 0.00109708 0.00867182]]\n",
      "['pullups_down']\n",
      "1/1 [==============================] - ETA: 0s"
     ]
    },
    {
     "name": "stderr",
     "output_type": "stream",
     "text": [
      "c:\\Users\\JR\\.conda\\envs\\solol\\Lib\\site-packages\\sklearn\\base.py:493: UserWarning: X does not have valid feature names, but StandardScaler was fitted with feature names\n",
      "  warnings.warn(\n",
      "c:\\Users\\JR\\.conda\\envs\\solol\\Lib\\site-packages\\sklearn\\base.py:493: UserWarning: X does not have valid feature names, but StandardScaler was fitted with feature names\n",
      "  warnings.warn(\n"
     ]
    },
    {
     "name": "stdout",
     "output_type": "stream",
     "text": [
      "1/1 [==============================] - 0s 30ms/step\n",
      "[[0.00606017 0.04536794 0.84419596 0.03558306 0.03550151 0.00474908\n",
      "  0.00975012 0.00901088 0.00109781 0.0086835 ]]\n",
      "['pullups_down']\n",
      "1/1 [==============================] - 0s 30ms/step\n",
      "[[0.00606169 0.04534635 0.8441713  0.03558039 0.03556795 0.00474131\n",
      "  0.00974651 0.00900122 0.00109884 0.00868437]]\n",
      "['pullups_down']\n",
      "1/1 [==============================] - ETA: 0s"
     ]
    },
    {
     "name": "stderr",
     "output_type": "stream",
     "text": [
      "c:\\Users\\JR\\.conda\\envs\\solol\\Lib\\site-packages\\sklearn\\base.py:493: UserWarning: X does not have valid feature names, but StandardScaler was fitted with feature names\n",
      "  warnings.warn(\n",
      "c:\\Users\\JR\\.conda\\envs\\solol\\Lib\\site-packages\\sklearn\\base.py:493: UserWarning: X does not have valid feature names, but StandardScaler was fitted with feature names\n",
      "  warnings.warn(\n"
     ]
    },
    {
     "name": "stdout",
     "output_type": "stream",
     "text": [
      "1/1 [==============================] - 0s 30ms/step\n",
      "[[0.00606518 0.04536676 0.8441169  0.0355908  0.0355578  0.00475181\n",
      "  0.00975233 0.00901127 0.00109897 0.00868813]]\n",
      "['pullups_down']\n",
      "1/1 [==============================] - 0s 30ms/step\n",
      "[[0.00607283 0.04535619 0.84397715 0.03560007 0.0356636  0.00475614\n",
      "  0.00976446 0.00901486 0.00110124 0.0086934 ]]\n",
      "['pullups_down']\n"
     ]
    },
    {
     "name": "stderr",
     "output_type": "stream",
     "text": [
      "c:\\Users\\JR\\.conda\\envs\\solol\\Lib\\site-packages\\sklearn\\base.py:493: UserWarning: X does not have valid feature names, but StandardScaler was fitted with feature names\n",
      "  warnings.warn(\n",
      "c:\\Users\\JR\\.conda\\envs\\solol\\Lib\\site-packages\\sklearn\\base.py:493: UserWarning: X does not have valid feature names, but StandardScaler was fitted with feature names\n",
      "  warnings.warn(\n"
     ]
    },
    {
     "name": "stdout",
     "output_type": "stream",
     "text": [
      "1/1 [==============================] - 0s 33ms/step\n",
      "[[0.00607317 0.04534375 0.8439666  0.03559525 0.03569558 0.00475397\n",
      "  0.00976557 0.00901187 0.00110165 0.00869256]]\n",
      "['pullups_down']\n",
      "1/1 [==============================] - 0s 30ms/step\n",
      "[[0.00607297 0.04533653 0.84397155 0.03559515 0.03570732 0.00475113\n",
      "  0.00976319 0.00900773 0.0011017  0.00869276]]\n",
      "['pullups_down']\n"
     ]
    },
    {
     "name": "stderr",
     "output_type": "stream",
     "text": [
      "c:\\Users\\JR\\.conda\\envs\\solol\\Lib\\site-packages\\sklearn\\base.py:493: UserWarning: X does not have valid feature names, but StandardScaler was fitted with feature names\n",
      "  warnings.warn(\n",
      "c:\\Users\\JR\\.conda\\envs\\solol\\Lib\\site-packages\\sklearn\\base.py:493: UserWarning: X does not have valid feature names, but StandardScaler was fitted with feature names\n",
      "  warnings.warn(\n"
     ]
    },
    {
     "name": "stdout",
     "output_type": "stream",
     "text": [
      "1/1 [==============================] - 0s 20ms/step\n",
      "[[0.00606968 0.04534017 0.8440131  0.03559114 0.03566802 0.00475101\n",
      "  0.00976381 0.00901253 0.00110118 0.00868933]]\n",
      "['pullups_down']\n",
      "1/1 [==============================] - 0s 25ms/step\n",
      "[[0.00607566 0.04534476 0.84392095 0.035609   0.03570695 0.00475772\n",
      "  0.00977119 0.00901569 0.00110203 0.00869602]]\n",
      "['pullups_down']\n",
      "1/1 [==============================] - ETA: 0s"
     ]
    },
    {
     "name": "stderr",
     "output_type": "stream",
     "text": [
      "c:\\Users\\JR\\.conda\\envs\\solol\\Lib\\site-packages\\sklearn\\base.py:493: UserWarning: X does not have valid feature names, but StandardScaler was fitted with feature names\n",
      "  warnings.warn(\n",
      "c:\\Users\\JR\\.conda\\envs\\solol\\Lib\\site-packages\\sklearn\\base.py:493: UserWarning: X does not have valid feature names, but StandardScaler was fitted with feature names\n",
      "  warnings.warn(\n"
     ]
    },
    {
     "name": "stdout",
     "output_type": "stream",
     "text": [
      "1/1 [==============================] - 0s 28ms/step\n",
      "[[0.00608111 0.04534001 0.84382993 0.03562312 0.03576229 0.00476171\n",
      "  0.00977997 0.00901702 0.00110313 0.00870173]]\n",
      "['pullups_down']\n",
      "1/1 [==============================] - 0s 30ms/step\n",
      "[[0.00608644 0.04534513 0.8437482  0.03563355 0.03580167 0.00476806\n",
      "  0.00978556 0.00902022 0.00110396 0.00870724]]\n",
      "['pullups_down']\n",
      "1/1 [==============================] - ETA: 0s"
     ]
    },
    {
     "name": "stderr",
     "output_type": "stream",
     "text": [
      "c:\\Users\\JR\\.conda\\envs\\solol\\Lib\\site-packages\\sklearn\\base.py:493: UserWarning: X does not have valid feature names, but StandardScaler was fitted with feature names\n",
      "  warnings.warn(\n",
      "c:\\Users\\JR\\.conda\\envs\\solol\\Lib\\site-packages\\sklearn\\base.py:493: UserWarning: X does not have valid feature names, but StandardScaler was fitted with feature names\n",
      "  warnings.warn(\n"
     ]
    },
    {
     "name": "stdout",
     "output_type": "stream",
     "text": [
      "1/1 [==============================] - 0s 19ms/step\n",
      "[[0.00608871 0.04535168 0.84372264 0.03564219 0.035802   0.00477195\n",
      "  0.00978528 0.00902082 0.00110386 0.0087108 ]]\n",
      "['pullups_down']\n",
      "1/1 [==============================] - 0s 21ms/step\n",
      "[[0.00608889 0.04534946 0.8437176  0.03564136 0.03580715 0.00477284\n",
      "  0.00978624 0.00902189 0.00110391 0.00871072]]\n",
      "['pullups_down']\n"
     ]
    },
    {
     "name": "stderr",
     "output_type": "stream",
     "text": [
      "c:\\Users\\JR\\.conda\\envs\\solol\\Lib\\site-packages\\sklearn\\base.py:493: UserWarning: X does not have valid feature names, but StandardScaler was fitted with feature names\n",
      "  warnings.warn(\n",
      "c:\\Users\\JR\\.conda\\envs\\solol\\Lib\\site-packages\\sklearn\\base.py:493: UserWarning: X does not have valid feature names, but StandardScaler was fitted with feature names\n",
      "  warnings.warn(\n"
     ]
    },
    {
     "name": "stdout",
     "output_type": "stream",
     "text": [
      "1/1 [==============================] - 0s 30ms/step\n",
      "[[0.00609659 0.04535723 0.8436034  0.03566147 0.03585685 0.00478171\n",
      "  0.00979358 0.00902504 0.00110489 0.00871926]]\n",
      "['pullups_down']\n",
      "1/1 [==============================] - 0s 31ms/step\n",
      "[[0.00609541 0.04534745 0.8436066  0.03565441 0.03587537 0.00477858\n",
      "  0.00979439 0.00902552 0.00110535 0.00871692]]\n",
      "['pullups_down']\n"
     ]
    },
    {
     "name": "stderr",
     "output_type": "stream",
     "text": [
      "c:\\Users\\JR\\.conda\\envs\\solol\\Lib\\site-packages\\sklearn\\base.py:493: UserWarning: X does not have valid feature names, but StandardScaler was fitted with feature names\n",
      "  warnings.warn(\n",
      "c:\\Users\\JR\\.conda\\envs\\solol\\Lib\\site-packages\\sklearn\\base.py:493: UserWarning: X does not have valid feature names, but StandardScaler was fitted with feature names\n",
      "  warnings.warn(\n"
     ]
    },
    {
     "name": "stdout",
     "output_type": "stream",
     "text": [
      "1/1 [==============================] - 0s 28ms/step\n",
      "[[0.00609946 0.04534966 0.8435406  0.03565839 0.03591043 0.00478389\n",
      "  0.00980124 0.00903    0.00110618 0.00872014]]\n",
      "['pullups_down']\n",
      "1/1 [==============================] - 0s 21ms/step\n",
      "[[0.00609871 0.04532555 0.8435382  0.03564623 0.03596272 0.00477693\n",
      "  0.00980262 0.00902464 0.00110701 0.00871727]]\n",
      "['pullups_down']\n",
      "1/1 [==============================] - ETA: 0s"
     ]
    },
    {
     "name": "stderr",
     "output_type": "stream",
     "text": [
      "c:\\Users\\JR\\.conda\\envs\\solol\\Lib\\site-packages\\sklearn\\base.py:493: UserWarning: X does not have valid feature names, but StandardScaler was fitted with feature names\n",
      "  warnings.warn(\n",
      "c:\\Users\\JR\\.conda\\envs\\solol\\Lib\\site-packages\\sklearn\\base.py:493: UserWarning: X does not have valid feature names, but StandardScaler was fitted with feature names\n",
      "  warnings.warn(\n"
     ]
    },
    {
     "name": "stdout",
     "output_type": "stream",
     "text": [
      "1/1 [==============================] - 0s 20ms/step\n",
      "[[0.0061021  0.04531693 0.84348977 0.03565165 0.03600855 0.00477733\n",
      "  0.00980397 0.00902126 0.00110764 0.00872077]]\n",
      "['pullups_down']\n",
      "1/1 [==============================] - 0s 30ms/step\n",
      "[[0.00610559 0.04532947 0.8434361  0.03566516 0.03601233 0.00478372\n",
      "  0.00980691 0.00902698 0.00110803 0.00872568]]\n",
      "['pullups_down']\n"
     ]
    },
    {
     "name": "stderr",
     "output_type": "stream",
     "text": [
      "c:\\Users\\JR\\.conda\\envs\\solol\\Lib\\site-packages\\sklearn\\base.py:493: UserWarning: X does not have valid feature names, but StandardScaler was fitted with feature names\n",
      "  warnings.warn(\n",
      "c:\\Users\\JR\\.conda\\envs\\solol\\Lib\\site-packages\\sklearn\\base.py:493: UserWarning: X does not have valid feature names, but StandardScaler was fitted with feature names\n",
      "  warnings.warn(\n"
     ]
    },
    {
     "name": "stdout",
     "output_type": "stream",
     "text": [
      "1/1 [==============================] - 0s 30ms/step\n",
      "[[0.00610595 0.04532744 0.843433   0.03566748 0.03601907 0.00478273\n",
      "  0.00980411 0.0090253  0.00110811 0.00872664]]\n",
      "['pullups_down']\n",
      "1/1 [==============================] - ETA: 0s"
     ]
    },
    {
     "name": "stderr",
     "output_type": "stream",
     "text": [
      "c:\\Users\\JR\\.conda\\envs\\solol\\Lib\\site-packages\\sklearn\\base.py:493: UserWarning: X does not have valid feature names, but StandardScaler was fitted with feature names\n",
      "  warnings.warn(\n"
     ]
    },
    {
     "name": "stdout",
     "output_type": "stream",
     "text": [
      "1/1 [==============================] - 0s 57ms/step\n",
      "[[0.00611028 0.0453321  0.8433704  0.03567762 0.03605001 0.00478767\n",
      "  0.00980516 0.00902624 0.00110865 0.00873185]]\n",
      "['pullups_down']\n",
      "1/1 [==============================] - 0s 19ms/step\n",
      "[[0.00611333 0.04533646 0.84333044 0.03569369 0.0360616  0.00478964\n",
      "  0.0098035  0.00902555 0.00110892 0.00873692]]\n",
      "['pullups_down']\n"
     ]
    },
    {
     "name": "stderr",
     "output_type": "stream",
     "text": [
      "c:\\Users\\JR\\.conda\\envs\\solol\\Lib\\site-packages\\sklearn\\base.py:493: UserWarning: X does not have valid feature names, but StandardScaler was fitted with feature names\n",
      "  warnings.warn(\n",
      "c:\\Users\\JR\\.conda\\envs\\solol\\Lib\\site-packages\\sklearn\\base.py:493: UserWarning: X does not have valid feature names, but StandardScaler was fitted with feature names\n",
      "  warnings.warn(\n"
     ]
    },
    {
     "name": "stdout",
     "output_type": "stream",
     "text": [
      "1/1 [==============================] - 0s 30ms/step\n",
      "[[0.00610625 0.04532502 0.8434346  0.03567334 0.03602517 0.00478083\n",
      "  0.00979631 0.00902134 0.00110806 0.00872912]]\n",
      "['pullups_down']\n"
     ]
    },
    {
     "name": "stderr",
     "output_type": "stream",
     "text": [
      "c:\\Users\\JR\\.conda\\envs\\solol\\Lib\\site-packages\\sklearn\\base.py:493: UserWarning: X does not have valid feature names, but StandardScaler was fitted with feature names\n",
      "  warnings.warn(\n"
     ]
    },
    {
     "name": "stdout",
     "output_type": "stream",
     "text": [
      "1/1 [==============================] - 0s 20ms/step\n",
      "[[0.0061131  0.04531885 0.84333503 0.03568675 0.03609776 0.0047842\n",
      "  0.00980103 0.00901838 0.0011092  0.00873576]]\n",
      "['pullups_down']\n",
      "1/1 [==============================] - 0s 26ms/step\n",
      "[[0.00611975 0.04533416 0.84323186 0.03570233 0.03611911 0.00479816\n",
      "  0.0098129  0.00902945 0.00110979 0.00874253]]\n",
      "['pullups_down']\n"
     ]
    },
    {
     "name": "stderr",
     "output_type": "stream",
     "text": [
      "c:\\Users\\JR\\.conda\\envs\\solol\\Lib\\site-packages\\sklearn\\base.py:493: UserWarning: X does not have valid feature names, but StandardScaler was fitted with feature names\n",
      "  warnings.warn(\n",
      "c:\\Users\\JR\\.conda\\envs\\solol\\Lib\\site-packages\\sklearn\\base.py:493: UserWarning: X does not have valid feature names, but StandardScaler was fitted with feature names\n",
      "  warnings.warn(\n"
     ]
    },
    {
     "name": "stdout",
     "output_type": "stream",
     "text": [
      "1/1 [==============================] - 0s 22ms/step\n",
      "[[0.00612798 0.04534934 0.84310305 0.03572821 0.03615947 0.00481013\n",
      "  0.00982186 0.00903679 0.00111083 0.0087524 ]]\n",
      "['pullups_down']\n",
      "1/1 [==============================] - 0s 22ms/step\n",
      "[[0.00612795 0.0453504  0.84310687 0.03572727 0.03615758 0.00480999\n",
      "  0.00982076 0.00903621 0.00111076 0.00875228]]\n",
      "['pullups_down']\n"
     ]
    },
    {
     "name": "stderr",
     "output_type": "stream",
     "text": [
      "c:\\Users\\JR\\.conda\\envs\\solol\\Lib\\site-packages\\sklearn\\base.py:493: UserWarning: X does not have valid feature names, but StandardScaler was fitted with feature names\n",
      "  warnings.warn(\n",
      "c:\\Users\\JR\\.conda\\envs\\solol\\Lib\\site-packages\\sklearn\\base.py:493: UserWarning: X does not have valid feature names, but StandardScaler was fitted with feature names\n",
      "  warnings.warn(\n"
     ]
    },
    {
     "name": "stdout",
     "output_type": "stream",
     "text": [
      "1/1 [==============================] - 0s 99ms/step\n",
      "[[0.0061248  0.04533469 0.8431477  0.03571703 0.0361621  0.00480317\n",
      "  0.00981939 0.00903253 0.00111076 0.00874784]]\n",
      "['pullups_down']\n",
      "1/1 [==============================] - 0s 22ms/step\n",
      "[[0.00612717 0.04534103 0.8431116  0.03572305 0.03617051 0.00480753\n",
      "  0.00982191 0.00903557 0.00111101 0.00875064]]\n",
      "['pullups_down']\n"
     ]
    },
    {
     "name": "stderr",
     "output_type": "stream",
     "text": [
      "c:\\Users\\JR\\.conda\\envs\\solol\\Lib\\site-packages\\sklearn\\base.py:493: UserWarning: X does not have valid feature names, but StandardScaler was fitted with feature names\n",
      "  warnings.warn(\n",
      "c:\\Users\\JR\\.conda\\envs\\solol\\Lib\\site-packages\\sklearn\\base.py:493: UserWarning: X does not have valid feature names, but StandardScaler was fitted with feature names\n",
      "  warnings.warn(\n"
     ]
    },
    {
     "name": "stdout",
     "output_type": "stream",
     "text": [
      "1/1 [==============================] - 0s 30ms/step\n",
      "[[0.00612466 0.0453437  0.84315073 0.03571715 0.03614305 0.00480644\n",
      "  0.00981906 0.00903635 0.00111053 0.00874836]]\n",
      "['pullups_down']\n",
      "1/1 [==============================] - 0s 30ms/step\n",
      "[[0.00612659 0.04534777 0.84312195 0.03573531 0.03614634 0.00480677\n",
      "  0.00981515 0.00903641 0.00111085 0.00875298]]\n",
      "['pullups_down']\n"
     ]
    },
    {
     "name": "stderr",
     "output_type": "stream",
     "text": [
      "c:\\Users\\JR\\.conda\\envs\\solol\\Lib\\site-packages\\sklearn\\base.py:493: UserWarning: X does not have valid feature names, but StandardScaler was fitted with feature names\n",
      "  warnings.warn(\n",
      "c:\\Users\\JR\\.conda\\envs\\solol\\Lib\\site-packages\\sklearn\\base.py:493: UserWarning: X does not have valid feature names, but StandardScaler was fitted with feature names\n",
      "  warnings.warn(\n"
     ]
    },
    {
     "name": "stdout",
     "output_type": "stream",
     "text": [
      "1/1 [==============================] - 0s 30ms/step\n",
      "[[0.00613407 0.04533978 0.8430039  0.03575669 0.03622476 0.00481051\n",
      "  0.00982251 0.00903502 0.00111221 0.00876059]]\n",
      "['pullups_down']\n",
      "1/1 [==============================] - 0s 21ms/step\n",
      "[[0.00613527 0.04534777 0.8429996  0.03575649 0.03622067 0.00481475\n",
      "  0.00981862 0.00903228 0.00111171 0.00876291]]\n",
      "['pullups_down']\n",
      "1/1 [==============================] - ETA: 0s"
     ]
    },
    {
     "name": "stderr",
     "output_type": "stream",
     "text": [
      "c:\\Users\\JR\\.conda\\envs\\solol\\Lib\\site-packages\\sklearn\\base.py:493: UserWarning: X does not have valid feature names, but StandardScaler was fitted with feature names\n",
      "  warnings.warn(\n",
      "c:\\Users\\JR\\.conda\\envs\\solol\\Lib\\site-packages\\sklearn\\base.py:493: UserWarning: X does not have valid feature names, but StandardScaler was fitted with feature names\n",
      "  warnings.warn(\n"
     ]
    },
    {
     "name": "stdout",
     "output_type": "stream",
     "text": [
      "1/1 [==============================] - 0s 20ms/step\n",
      "[[0.00613578 0.04535844 0.8430026  0.03575937 0.03620375 0.00481727\n",
      "  0.00981542 0.00903116 0.00111133 0.00876486]]\n",
      "['pullups_down']\n",
      "1/1 [==============================] - 0s 30ms/step\n",
      "[[0.00614797 0.04540217 0.84283215 0.03580083 0.03622318 0.00483753\n",
      "  0.0098213  0.00904116 0.00111218 0.00878162]]\n",
      "['pullups_down']\n",
      "1/1 [==============================] - ETA: 0s"
     ]
    },
    {
     "name": "stderr",
     "output_type": "stream",
     "text": [
      "c:\\Users\\JR\\.conda\\envs\\solol\\Lib\\site-packages\\sklearn\\base.py:493: UserWarning: X does not have valid feature names, but StandardScaler was fitted with feature names\n",
      "  warnings.warn(\n",
      "c:\\Users\\JR\\.conda\\envs\\solol\\Lib\\site-packages\\sklearn\\base.py:493: UserWarning: X does not have valid feature names, but StandardScaler was fitted with feature names\n",
      "  warnings.warn(\n"
     ]
    },
    {
     "name": "stdout",
     "output_type": "stream",
     "text": [
      "1/1 [==============================] - 0s 22ms/step\n",
      "[[0.00615239 0.04542843 0.8427706  0.03581075 0.03620757 0.00485137\n",
      "  0.00982936 0.00905062 0.00111204 0.00878683]]\n",
      "['pullups_down']\n",
      "1/1 [==============================] - 0s 28ms/step\n",
      "[[0.00613743 0.04541015 0.84299415 0.03575451 0.03612475 0.00483687\n",
      "  0.00982043 0.00904387 0.00110997 0.00876786]]\n",
      "['pullups_down']\n",
      "1/1 [==============================] - ETA: 0s"
     ]
    },
    {
     "name": "stderr",
     "output_type": "stream",
     "text": [
      "c:\\Users\\JR\\.conda\\envs\\solol\\Lib\\site-packages\\sklearn\\base.py:493: UserWarning: X does not have valid feature names, but StandardScaler was fitted with feature names\n",
      "  warnings.warn(\n",
      "c:\\Users\\JR\\.conda\\envs\\solol\\Lib\\site-packages\\sklearn\\base.py:493: UserWarning: X does not have valid feature names, but StandardScaler was fitted with feature names\n",
      "  warnings.warn(\n"
     ]
    },
    {
     "name": "stdout",
     "output_type": "stream",
     "text": [
      "1/1 [==============================] - 0s 30ms/step\n",
      "[[0.00612941 0.04540189 0.8431147  0.0357319  0.03607308 0.00482819\n",
      "  0.00981271 0.00904013 0.00110885 0.00875917]]\n",
      "['pullups_down']\n",
      "1/1 [==============================] - 0s 30ms/step\n"
     ]
    },
    {
     "name": "stderr",
     "output_type": "stream",
     "text": [
      "c:\\Users\\JR\\.conda\\envs\\solol\\Lib\\site-packages\\sklearn\\base.py:493: UserWarning: X does not have valid feature names, but StandardScaler was fitted with feature names\n",
      "  warnings.warn(\n"
     ]
    },
    {
     "name": "stdout",
     "output_type": "stream",
     "text": [
      "[[0.00612897 0.04538157 0.8431133  0.0357232  0.03611472 0.0048228\n",
      "  0.00981454 0.00903475 0.00110935 0.00875683]]\n",
      "['pullups_down']\n",
      "1/1 [==============================] - 0s 22ms/step\n",
      "[[0.00612829 0.04537291 0.8431221  0.03571581 0.03613099 0.0048195\n",
      "  0.00981447 0.00903111 0.00110948 0.00875528]]\n",
      "['pullups_down']\n"
     ]
    },
    {
     "name": "stderr",
     "output_type": "stream",
     "text": [
      "c:\\Users\\JR\\.conda\\envs\\solol\\Lib\\site-packages\\sklearn\\base.py:493: UserWarning: X does not have valid feature names, but StandardScaler was fitted with feature names\n",
      "  warnings.warn(\n",
      "c:\\Users\\JR\\.conda\\envs\\solol\\Lib\\site-packages\\sklearn\\base.py:493: UserWarning: X does not have valid feature names, but StandardScaler was fitted with feature names\n",
      "  warnings.warn(\n"
     ]
    },
    {
     "name": "stdout",
     "output_type": "stream",
     "text": [
      "1/1 [==============================] - 0s 31ms/step\n",
      "[[0.00612296 0.04536605 0.84321755 0.03570133 0.03609066 0.00481327\n",
      "  0.00980641 0.00902366 0.00110817 0.00875002]]\n",
      "['pullups_down']\n",
      "1/1 [==============================] - 0s 30ms/step\n",
      "[[0.0061188  0.04537588 0.84329873 0.03569547 0.0360242  0.00481262\n",
      "  0.00979943 0.00902095 0.00110659 0.00874722]]\n",
      "['pullups_down']\n"
     ]
    },
    {
     "name": "stderr",
     "output_type": "stream",
     "text": [
      "c:\\Users\\JR\\.conda\\envs\\solol\\Lib\\site-packages\\sklearn\\base.py:493: UserWarning: X does not have valid feature names, but StandardScaler was fitted with feature names\n",
      "  warnings.warn(\n",
      "c:\\Users\\JR\\.conda\\envs\\solol\\Lib\\site-packages\\sklearn\\base.py:493: UserWarning: X does not have valid feature names, but StandardScaler was fitted with feature names\n",
      "  warnings.warn(\n"
     ]
    },
    {
     "name": "stdout",
     "output_type": "stream",
     "text": [
      "1/1 [==============================] - 0s 19ms/step\n",
      "[[0.00612021 0.04537399 0.84326774 0.03569577 0.0360498  0.00481305\n",
      "  0.00980232 0.00902199 0.00110724 0.00874795]]\n",
      "['pullups_down']\n",
      "1/1 [==============================] - 0s 20ms/step\n",
      "[[0.00612524 0.04539498 0.8431848  0.03571177 0.03605811 0.00482224\n",
      "  0.00980971 0.00903147 0.00110804 0.00875359]]\n",
      "['pullups_down']\n"
     ]
    },
    {
     "name": "stderr",
     "output_type": "stream",
     "text": [
      "c:\\Users\\JR\\.conda\\envs\\solol\\Lib\\site-packages\\sklearn\\base.py:493: UserWarning: X does not have valid feature names, but StandardScaler was fitted with feature names\n",
      "  warnings.warn(\n",
      "c:\\Users\\JR\\.conda\\envs\\solol\\Lib\\site-packages\\sklearn\\base.py:493: UserWarning: X does not have valid feature names, but StandardScaler was fitted with feature names\n",
      "  warnings.warn(\n"
     ]
    },
    {
     "name": "stdout",
     "output_type": "stream",
     "text": [
      "1/1 [==============================] - 0s 30ms/step\n",
      "[[0.00611743 0.04539244 0.84329104 0.03569407 0.0359997  0.0048159\n",
      "  0.0098053  0.00903182 0.00110708 0.00874528]]\n",
      "['pullups_down']\n",
      "1/1 [==============================] - 0s 28ms/step\n",
      "[[0.00611277 0.04539079 0.8433655  0.03569699 0.03594773 0.00480955\n",
      "  0.00979996 0.00902857 0.00110613 0.00874202]]\n",
      "['pullups_down']\n"
     ]
    },
    {
     "name": "stderr",
     "output_type": "stream",
     "text": [
      "c:\\Users\\JR\\.conda\\envs\\solol\\Lib\\site-packages\\sklearn\\base.py:493: UserWarning: X does not have valid feature names, but StandardScaler was fitted with feature names\n",
      "  warnings.warn(\n",
      "c:\\Users\\JR\\.conda\\envs\\solol\\Lib\\site-packages\\sklearn\\base.py:493: UserWarning: X does not have valid feature names, but StandardScaler was fitted with feature names\n",
      "  warnings.warn(\n"
     ]
    },
    {
     "name": "stdout",
     "output_type": "stream",
     "text": [
      "1/1 [==============================] - 0s 29ms/step\n",
      "[[0.00611027 0.04539768 0.8434073  0.03569561 0.03590999 0.0048081\n",
      "  0.00979643 0.00902881 0.00110551 0.00874037]]\n",
      "['pullups_down']\n",
      "1/1 [==============================] - 0s 21ms/step\n",
      "[[0.00610863 0.04538742 0.8434083  0.03569495 0.03591911 0.00480407\n",
      "  0.00980205 0.00903197 0.0011061  0.00873741]]\n",
      "['pullups_down']\n"
     ]
    },
    {
     "name": "stderr",
     "output_type": "stream",
     "text": [
      "c:\\Users\\JR\\.conda\\envs\\solol\\Lib\\site-packages\\sklearn\\base.py:493: UserWarning: X does not have valid feature names, but StandardScaler was fitted with feature names\n",
      "  warnings.warn(\n",
      "c:\\Users\\JR\\.conda\\envs\\solol\\Lib\\site-packages\\sklearn\\base.py:493: UserWarning: X does not have valid feature names, but StandardScaler was fitted with feature names\n",
      "  warnings.warn(\n"
     ]
    },
    {
     "name": "stdout",
     "output_type": "stream",
     "text": [
      "1/1 [==============================] - 0s 29ms/step\n",
      "[[0.00610596 0.04539249 0.84344935 0.03568771 0.03588651 0.004804\n",
      "  0.00979978 0.00903407 0.00110554 0.00873465]]\n",
      "['pullups_down']\n",
      "1/1 [==============================] - 0s 30ms/step\n",
      "[[0.00610617 0.0453986  0.84345585 0.03570063 0.03586215 0.0048046\n",
      "  0.00979663 0.00903286 0.00110504 0.00873737]]\n",
      "['pullups_down']\n"
     ]
    },
    {
     "name": "stderr",
     "output_type": "stream",
     "text": [
      "c:\\Users\\JR\\.conda\\envs\\solol\\Lib\\site-packages\\sklearn\\base.py:493: UserWarning: X does not have valid feature names, but StandardScaler was fitted with feature names\n",
      "  warnings.warn(\n",
      "c:\\Users\\JR\\.conda\\envs\\solol\\Lib\\site-packages\\sklearn\\base.py:493: UserWarning: X does not have valid feature names, but StandardScaler was fitted with feature names\n",
      "  warnings.warn(\n"
     ]
    },
    {
     "name": "stdout",
     "output_type": "stream",
     "text": [
      "1/1 [==============================] - 0s 21ms/step\n",
      "[[0.00610949 0.04539525 0.8434034  0.035708   0.03589767 0.00480641\n",
      "  0.00980122 0.00903265 0.00110569 0.00874028]]\n",
      "['pullups_down']\n",
      "1/1 [==============================] - 0s 30ms/step\n",
      "[[0.00610797 0.04539256 0.8434295  0.03569845 0.03589059 0.00480521\n",
      "  0.00980092 0.00903189 0.00110541 0.00873752]]\n",
      "['pullups_down']\n",
      "1/1 [==============================] - ETA: 0s"
     ]
    },
    {
     "name": "stderr",
     "output_type": "stream",
     "text": [
      "c:\\Users\\JR\\.conda\\envs\\solol\\Lib\\site-packages\\sklearn\\base.py:493: UserWarning: X does not have valid feature names, but StandardScaler was fitted with feature names\n",
      "  warnings.warn(\n",
      "c:\\Users\\JR\\.conda\\envs\\solol\\Lib\\site-packages\\sklearn\\base.py:493: UserWarning: X does not have valid feature names, but StandardScaler was fitted with feature names\n",
      "  warnings.warn(\n"
     ]
    },
    {
     "name": "stdout",
     "output_type": "stream",
     "text": [
      "1/1 [==============================] - 0s 27ms/step\n",
      "[[0.00610405 0.04539213 0.8434969  0.03568466 0.03585682 0.00480186\n",
      "  0.00979568 0.00903052 0.00110465 0.00873281]]\n",
      "['pullups_down']\n",
      "1/1 [==============================] - 0s 30ms/step\n"
     ]
    },
    {
     "name": "stderr",
     "output_type": "stream",
     "text": [
      "c:\\Users\\JR\\.conda\\envs\\solol\\Lib\\site-packages\\sklearn\\base.py:493: UserWarning: X does not have valid feature names, but StandardScaler was fitted with feature names\n",
      "  warnings.warn(\n"
     ]
    },
    {
     "name": "stdout",
     "output_type": "stream",
     "text": [
      "[[0.00609991 0.04538588 0.8435613  0.03567347 0.03583542 0.00479509\n",
      "  0.00979039 0.00902632 0.00110417 0.00872811]]\n",
      "['pullups_down']\n",
      "1/1 [==============================] - 0s 21ms/step\n",
      "[[0.00609779 0.0453623  0.84358895 0.03565881 0.03586844 0.00478722\n",
      "  0.00978984 0.00901843 0.00110437 0.00872382]]\n",
      "['pullups_down']\n"
     ]
    },
    {
     "name": "stderr",
     "output_type": "stream",
     "text": [
      "c:\\Users\\JR\\.conda\\envs\\solol\\Lib\\site-packages\\sklearn\\base.py:493: UserWarning: X does not have valid feature names, but StandardScaler was fitted with feature names\n",
      "  warnings.warn(\n",
      "c:\\Users\\JR\\.conda\\envs\\solol\\Lib\\site-packages\\sklearn\\base.py:493: UserWarning: X does not have valid feature names, but StandardScaler was fitted with feature names\n",
      "  warnings.warn(\n"
     ]
    },
    {
     "name": "stdout",
     "output_type": "stream",
     "text": [
      "1/1 [==============================] - 0s 27ms/step\n",
      "[[0.00609751 0.04535643 0.8435893  0.03565618 0.0358801  0.00478535\n",
      "  0.00979033 0.00901721 0.00110456 0.00872298]]\n",
      "['pullups_down']\n",
      "1/1 [==============================] - 0s 30ms/step\n"
     ]
    },
    {
     "name": "stderr",
     "output_type": "stream",
     "text": [
      "c:\\Users\\JR\\.conda\\envs\\solol\\Lib\\site-packages\\sklearn\\base.py:493: UserWarning: X does not have valid feature names, but StandardScaler was fitted with feature names\n",
      "  warnings.warn(\n",
      "c:\\Users\\JR\\.conda\\envs\\solol\\Lib\\site-packages\\sklearn\\base.py:493: UserWarning: X does not have valid feature names, but StandardScaler was fitted with feature names\n",
      "  warnings.warn(\n"
     ]
    },
    {
     "name": "stdout",
     "output_type": "stream",
     "text": [
      "[[0.00608797 0.04534584 0.84373343 0.0356316  0.03581955 0.00477441\n",
      "  0.00977963 0.00901122 0.00110317 0.00871316]]\n",
      "['pullups_down']\n",
      "1/1 [==============================] - 0s 30ms/step\n",
      "[[0.00608457 0.0453579  0.8437953  0.03563162 0.03575419 0.00477465\n",
      "  0.00977518 0.0090134  0.00110204 0.00871111]]\n",
      "['pullups_down']\n",
      "1/1 [==============================] - 0s 26ms/step\n",
      "[[0.00608826 0.04535833 0.84373254 0.03564034 0.03578858 0.0047783\n",
      "  0.00978082 0.00901537 0.00110278 0.00871473]]\n",
      "['pullups_down']\n",
      "1/1 [==============================] - ETA: 0s"
     ]
    },
    {
     "name": "stderr",
     "output_type": "stream",
     "text": [
      "c:\\Users\\JR\\.conda\\envs\\solol\\Lib\\site-packages\\sklearn\\base.py:493: UserWarning: X does not have valid feature names, but StandardScaler was fitted with feature names\n",
      "  warnings.warn(\n",
      "c:\\Users\\JR\\.conda\\envs\\solol\\Lib\\site-packages\\sklearn\\base.py:493: UserWarning: X does not have valid feature names, but StandardScaler was fitted with feature names\n",
      "  warnings.warn(\n"
     ]
    },
    {
     "name": "stdout",
     "output_type": "stream",
     "text": [
      "1/1 [==============================] - 0s 30ms/step\n",
      "[[0.00609082 0.04535912 0.8436899  0.03564606 0.03581258 0.00478046\n",
      "  0.00978387 0.00901653 0.00110333 0.00871719]]\n",
      "['pullups_down']\n",
      "1/1 [==============================] - 0s 30ms/step\n",
      "[[0.00609131 0.04535663 0.84368116 0.03564423 0.03582393 0.00478076\n",
      "  0.00978501 0.00901624 0.00110347 0.00871722]]\n",
      "['pullups_down']\n",
      "1/1 [==============================] - ETA: 0s"
     ]
    },
    {
     "name": "stderr",
     "output_type": "stream",
     "text": [
      "c:\\Users\\JR\\.conda\\envs\\solol\\Lib\\site-packages\\sklearn\\base.py:493: UserWarning: X does not have valid feature names, but StandardScaler was fitted with feature names\n",
      "  warnings.warn(\n",
      "c:\\Users\\JR\\.conda\\envs\\solol\\Lib\\site-packages\\sklearn\\base.py:493: UserWarning: X does not have valid feature names, but StandardScaler was fitted with feature names\n",
      "  warnings.warn(\n"
     ]
    },
    {
     "name": "stdout",
     "output_type": "stream",
     "text": [
      "1/1 [==============================] - 0s 25ms/step\n",
      "[[0.00609213 0.04535033 0.84366304 0.03564778 0.03584288 0.00478011\n",
      "  0.00978722 0.00901465 0.00110374 0.00871814]]\n",
      "['pullups_down']\n",
      "1/1 [==============================] - 0s 29ms/step\n",
      "[[0.00609479 0.04534929 0.84362626 0.03565238 0.0358691  0.00478206\n",
      "  0.00978853 0.00901259 0.00110407 0.00872095]]\n",
      "['pullups_down']\n",
      "1/1 [==============================] - ETA: 0s"
     ]
    },
    {
     "name": "stderr",
     "output_type": "stream",
     "text": [
      "c:\\Users\\JR\\.conda\\envs\\solol\\Lib\\site-packages\\sklearn\\base.py:493: UserWarning: X does not have valid feature names, but StandardScaler was fitted with feature names\n",
      "  warnings.warn(\n",
      "c:\\Users\\JR\\.conda\\envs\\solol\\Lib\\site-packages\\sklearn\\base.py:493: UserWarning: X does not have valid feature names, but StandardScaler was fitted with feature names\n",
      "  warnings.warn(\n"
     ]
    },
    {
     "name": "stdout",
     "output_type": "stream",
     "text": [
      "1/1 [==============================] - 0s 19ms/step\n",
      "[[0.00609827 0.04535725 0.84357876 0.03566481 0.03587643 0.00478701\n",
      "  0.00979256 0.0090153  0.00110431 0.0087253 ]]\n",
      "['pullups_down']\n",
      "1/1 [==============================] - 0s 30ms/step\n",
      "[[0.00610148 0.04536736 0.8435362  0.03567485 0.03588001 0.00479276\n",
      "  0.00979498 0.00901863 0.00110444 0.00872927]]\n",
      "['pullups_down']\n",
      "1/1 [==============================] - ETA: 0s"
     ]
    },
    {
     "name": "stderr",
     "output_type": "stream",
     "text": [
      "c:\\Users\\JR\\.conda\\envs\\solol\\Lib\\site-packages\\sklearn\\base.py:493: UserWarning: X does not have valid feature names, but StandardScaler was fitted with feature names\n",
      "  warnings.warn(\n",
      "c:\\Users\\JR\\.conda\\envs\\solol\\Lib\\site-packages\\sklearn\\base.py:493: UserWarning: X does not have valid feature names, but StandardScaler was fitted with feature names\n",
      "  warnings.warn(\n"
     ]
    },
    {
     "name": "stdout",
     "output_type": "stream",
     "text": [
      "1/1 [==============================] - 0s 21ms/step\n",
      "[[0.00610308 0.04536764 0.84351176 0.03567958 0.03589316 0.0047938\n",
      "  0.00979617 0.00901906 0.00110474 0.00873105]]\n",
      "['pullups_down']\n",
      "1/1 [==============================] - 0s 20ms/step\n",
      "[[0.00610265 0.04537294 0.8435186  0.03567594 0.03588229 0.0047962\n",
      "  0.00979534 0.00902089 0.00110449 0.00873067]]\n",
      "['pullups_down']\n",
      "1/1 [==============================] - ETA: 0s"
     ]
    },
    {
     "name": "stderr",
     "output_type": "stream",
     "text": [
      "c:\\Users\\JR\\.conda\\envs\\solol\\Lib\\site-packages\\sklearn\\base.py:493: UserWarning: X does not have valid feature names, but StandardScaler was fitted with feature names\n",
      "  warnings.warn(\n",
      "c:\\Users\\JR\\.conda\\envs\\solol\\Lib\\site-packages\\sklearn\\base.py:493: UserWarning: X does not have valid feature names, but StandardScaler was fitted with feature names\n",
      "  warnings.warn(\n"
     ]
    },
    {
     "name": "stdout",
     "output_type": "stream",
     "text": [
      "1/1 [==============================] - 0s 21ms/step\n",
      "[[0.00609783 0.04536184 0.84359473 0.0356598  0.03586304 0.00479046\n",
      "  0.00978835 0.00901489 0.00110366 0.00872537]]\n",
      "['pullups_down']\n",
      "1/1 [==============================] - 0s 76ms/step\n",
      "[[0.00609842 0.04535447 0.84357727 0.0356626  0.035882   0.00478941\n",
      "  0.00979141 0.00901467 0.00110403 0.00872566]]\n",
      "['pullups_down']\n"
     ]
    },
    {
     "name": "stderr",
     "output_type": "stream",
     "text": [
      "c:\\Users\\JR\\.conda\\envs\\solol\\Lib\\site-packages\\sklearn\\base.py:493: UserWarning: X does not have valid feature names, but StandardScaler was fitted with feature names\n",
      "  warnings.warn(\n",
      "c:\\Users\\JR\\.conda\\envs\\solol\\Lib\\site-packages\\sklearn\\base.py:493: UserWarning: X does not have valid feature names, but StandardScaler was fitted with feature names\n",
      "  warnings.warn(\n"
     ]
    },
    {
     "name": "stdout",
     "output_type": "stream",
     "text": [
      "1/1 [==============================] - 0s 41ms/step\n",
      "[[0.00610168 0.04535617 0.8435238  0.03567136 0.03590725 0.00479257\n",
      "  0.00979593 0.00901771 0.00110471 0.00872876]]\n",
      "['pullups_down']\n",
      "1/1 [==============================] - 0s 30ms/step\n",
      "[[0.00610223 0.04535995 0.8435226  0.03567478 0.03590059 0.00479346\n",
      "  0.00979453 0.00901733 0.00110456 0.00872998]]\n",
      "['pullups_down']\n"
     ]
    },
    {
     "name": "stderr",
     "output_type": "stream",
     "text": [
      "c:\\Users\\JR\\.conda\\envs\\solol\\Lib\\site-packages\\sklearn\\base.py:493: UserWarning: X does not have valid feature names, but StandardScaler was fitted with feature names\n",
      "  warnings.warn(\n",
      "c:\\Users\\JR\\.conda\\envs\\solol\\Lib\\site-packages\\sklearn\\base.py:493: UserWarning: X does not have valid feature names, but StandardScaler was fitted with feature names\n",
      "  warnings.warn(\n"
     ]
    },
    {
     "name": "stdout",
     "output_type": "stream",
     "text": [
      "1/1 [==============================] - 0s 30ms/step\n",
      "[[0.00610175 0.04536558 0.8435298  0.03567734 0.0358841  0.00479356\n",
      "  0.00979411 0.00901923 0.00110448 0.00873007]]\n",
      "['pullups_down']\n",
      "1/1 [==============================] - 0s 25ms/step\n"
     ]
    },
    {
     "name": "stderr",
     "output_type": "stream",
     "text": [
      "c:\\Users\\JR\\.conda\\envs\\solol\\Lib\\site-packages\\sklearn\\base.py:493: UserWarning: X does not have valid feature names, but StandardScaler was fitted with feature names\n",
      "  warnings.warn(\n",
      "c:\\Users\\JR\\.conda\\envs\\solol\\Lib\\site-packages\\sklearn\\base.py:493: UserWarning: X does not have valid feature names, but StandardScaler was fitted with feature names\n",
      "  warnings.warn(\n"
     ]
    },
    {
     "name": "stdout",
     "output_type": "stream",
     "text": [
      "[[0.00610086 0.04536119 0.8435395  0.03567551 0.03588571 0.00479104\n",
      "  0.00979407 0.0090186  0.0011046  0.0087289 ]]\n",
      "['pullups_down']\n",
      "1/1 [==============================] - 0s 20ms/step\n",
      "[[0.00609401 0.045367   0.8436446  0.03566479 0.0358118  0.0047858\n",
      "  0.00978662 0.00901947 0.00110342 0.00872254]]\n",
      "['pullups_down']\n",
      "1/1 [==============================] - 0s 30ms/step\n",
      "[[0.00609535 0.04537181 0.84362483 0.03567044 0.03581452 0.00478731\n",
      "  0.00978738 0.00902037 0.00110359 0.00872438]]\n",
      "['pullups_down']\n"
     ]
    },
    {
     "name": "stderr",
     "output_type": "stream",
     "text": [
      "c:\\Users\\JR\\.conda\\envs\\solol\\Lib\\site-packages\\sklearn\\base.py:493: UserWarning: X does not have valid feature names, but StandardScaler was fitted with feature names\n",
      "  warnings.warn(\n",
      "c:\\Users\\JR\\.conda\\envs\\solol\\Lib\\site-packages\\sklearn\\base.py:493: UserWarning: X does not have valid feature names, but StandardScaler was fitted with feature names\n",
      "  warnings.warn(\n"
     ]
    },
    {
     "name": "stdout",
     "output_type": "stream",
     "text": [
      "1/1 [==============================] - 0s 30ms/step\n",
      "[[0.00609633 0.04537254 0.8436058  0.03567984 0.03581994 0.00478723\n",
      "  0.00978792 0.00902005 0.00110383 0.00872645]]\n",
      "['pullups_down']\n",
      "1/1 [==============================] - 0s 26ms/step\n",
      "[[0.00602531 0.04540492 0.8446602  0.03556193 0.03527043 0.00469196\n",
      "  0.00967522 0.00894931 0.0010937  0.00866697]]\n",
      "['pullups_down']\n",
      "1/1 [==============================] - ETA: 0s"
     ]
    },
    {
     "name": "stderr",
     "output_type": "stream",
     "text": [
      "c:\\Users\\JR\\.conda\\envs\\solol\\Lib\\site-packages\\sklearn\\base.py:493: UserWarning: X does not have valid feature names, but StandardScaler was fitted with feature names\n",
      "  warnings.warn(\n",
      "c:\\Users\\JR\\.conda\\envs\\solol\\Lib\\site-packages\\sklearn\\base.py:493: UserWarning: X does not have valid feature names, but StandardScaler was fitted with feature names\n",
      "  warnings.warn(\n"
     ]
    },
    {
     "name": "stdout",
     "output_type": "stream",
     "text": [
      "1/1 [==============================] - 0s 30ms/step\n",
      "[[0.00600443 0.04546148 0.84500396 0.03552353 0.03500118 0.00467892\n",
      "  0.00964175 0.00894436 0.00108902 0.00865134]]\n",
      "['pullups_down']\n",
      "1/1 [==============================] - 0s 25ms/step\n",
      "[[0.00602948 0.04544445 0.8445528  0.03565212 0.03526102 0.00468659\n",
      "  0.0096432  0.00894533 0.00109523 0.00868969]]\n",
      "['pullups_down']\n",
      "1/1 [==============================] - ETA: 0s"
     ]
    },
    {
     "name": "stderr",
     "output_type": "stream",
     "text": [
      "c:\\Users\\JR\\.conda\\envs\\solol\\Lib\\site-packages\\sklearn\\base.py:493: UserWarning: X does not have valid feature names, but StandardScaler was fitted with feature names\n",
      "  warnings.warn(\n",
      "c:\\Users\\JR\\.conda\\envs\\solol\\Lib\\site-packages\\sklearn\\base.py:493: UserWarning: X does not have valid feature names, but StandardScaler was fitted with feature names\n",
      "  warnings.warn(\n"
     ]
    },
    {
     "name": "stdout",
     "output_type": "stream",
     "text": [
      "1/1 [==============================] - 0s 20ms/step\n",
      "[[0.00601667 0.04545246 0.8447726  0.03562969 0.03511194 0.00467812\n",
      "  0.00962883 0.00893823 0.00109184 0.0086796 ]]\n",
      "['pullups_down']\n",
      "1/1 [==============================] - 0s 30ms/step\n",
      "[[0.00602013 0.04542986 0.84470206 0.03561549 0.03519867 0.00468052\n",
      "  0.00964249 0.00893891 0.00109313 0.00867876]]\n",
      "['pullups_down']\n",
      "1/1 [==============================] - ETA: 0s"
     ]
    },
    {
     "name": "stderr",
     "output_type": "stream",
     "text": [
      "c:\\Users\\JR\\.conda\\envs\\solol\\Lib\\site-packages\\sklearn\\base.py:493: UserWarning: X does not have valid feature names, but StandardScaler was fitted with feature names\n",
      "  warnings.warn(\n",
      "c:\\Users\\JR\\.conda\\envs\\solol\\Lib\\site-packages\\sklearn\\base.py:493: UserWarning: X does not have valid feature names, but StandardScaler was fitted with feature names\n",
      "  warnings.warn(\n"
     ]
    },
    {
     "name": "stdout",
     "output_type": "stream",
     "text": [
      "1/1 [==============================] - 0s 28ms/step\n",
      "[[0.00603515 0.0454252  0.84445226 0.03564401 0.03535813 0.00469126\n",
      "  0.0096605  0.00894338 0.00109658 0.00869357]]\n",
      "['pullups_down']\n",
      "1/1 [==============================] - 0s 30ms/step\n",
      "[[0.00603346 0.04542472 0.8444864  0.035638   0.03534136 0.00468842\n",
      "  0.00965952 0.00893982 0.00109616 0.00869198]]\n",
      "['pullups_down']\n"
     ]
    },
    {
     "name": "stderr",
     "output_type": "stream",
     "text": [
      "c:\\Users\\JR\\.conda\\envs\\solol\\Lib\\site-packages\\sklearn\\base.py:493: UserWarning: X does not have valid feature names, but StandardScaler was fitted with feature names\n",
      "  warnings.warn(\n",
      "c:\\Users\\JR\\.conda\\envs\\solol\\Lib\\site-packages\\sklearn\\base.py:493: UserWarning: X does not have valid feature names, but StandardScaler was fitted with feature names\n",
      "  warnings.warn(\n"
     ]
    },
    {
     "name": "stdout",
     "output_type": "stream",
     "text": [
      "1/1 [==============================] - 0s 49ms/step\n",
      "[[0.00603296 0.04542661 0.84449553 0.03562694 0.03533826 0.00469105\n",
      "  0.00966091 0.00894188 0.00109598 0.00868999]]\n",
      "['pullups_down']\n",
      "1/1 [==============================] - 0s 21ms/step\n",
      "[[0.00603873 0.04542633 0.84439504 0.03564227 0.03539599 0.00469586\n",
      "  0.00966793 0.0089444  0.00109727 0.00869613]]\n",
      "['pullups_down']\n"
     ]
    },
    {
     "name": "stderr",
     "output_type": "stream",
     "text": [
      "c:\\Users\\JR\\.conda\\envs\\solol\\Lib\\site-packages\\sklearn\\base.py:493: UserWarning: X does not have valid feature names, but StandardScaler was fitted with feature names\n",
      "  warnings.warn(\n",
      "c:\\Users\\JR\\.conda\\envs\\solol\\Lib\\site-packages\\sklearn\\base.py:493: UserWarning: X does not have valid feature names, but StandardScaler was fitted with feature names\n",
      "  warnings.warn(\n"
     ]
    },
    {
     "name": "stdout",
     "output_type": "stream",
     "text": [
      "1/1 [==============================] - 0s 23ms/step\n",
      "[[0.00603417 0.04542628 0.8444702  0.03563353 0.03534821 0.00469207\n",
      "  0.00966573 0.00894192 0.0010962  0.00869175]]\n",
      "['pullups_down']\n",
      "1/1 [==============================] - 0s 21ms/step\n",
      "[[0.00604121 0.04541256 0.8443419  0.03564644 0.0354467  0.00469531\n",
      "  0.00967772 0.00894235 0.00109811 0.00869774]]\n",
      "['pullups_down']\n"
     ]
    },
    {
     "name": "stderr",
     "output_type": "stream",
     "text": [
      "c:\\Users\\JR\\.conda\\envs\\solol\\Lib\\site-packages\\sklearn\\base.py:493: UserWarning: X does not have valid feature names, but StandardScaler was fitted with feature names\n",
      "  warnings.warn(\n",
      "c:\\Users\\JR\\.conda\\envs\\solol\\Lib\\site-packages\\sklearn\\base.py:493: UserWarning: X does not have valid feature names, but StandardScaler was fitted with feature names\n",
      "  warnings.warn(\n"
     ]
    },
    {
     "name": "stdout",
     "output_type": "stream",
     "text": [
      "1/1 [==============================] - 0s 86ms/step\n",
      "[[0.00603785 0.04539368 0.8443897  0.03562016 0.03545954 0.00469055\n",
      "  0.00968181 0.00893873 0.00109786 0.00869016]]\n",
      "['pullups_down']\n",
      "1/1 [==============================] - 0s 20ms/step\n",
      "[[0.00603888 0.04540214 0.84437907 0.03563401 0.0354414  0.00469268\n",
      "  0.00967961 0.00894101 0.00109776 0.00869339]]\n",
      "['pullups_down']\n",
      "1/1 [==============================] - ETA: 0s"
     ]
    },
    {
     "name": "stderr",
     "output_type": "stream",
     "text": [
      "c:\\Users\\JR\\.conda\\envs\\solol\\Lib\\site-packages\\sklearn\\base.py:493: UserWarning: X does not have valid feature names, but StandardScaler was fitted with feature names\n",
      "  warnings.warn(\n",
      "c:\\Users\\JR\\.conda\\envs\\solol\\Lib\\site-packages\\sklearn\\base.py:493: UserWarning: X does not have valid feature names, but StandardScaler was fitted with feature names\n",
      "  warnings.warn(\n"
     ]
    },
    {
     "name": "stdout",
     "output_type": "stream",
     "text": [
      "1/1 [==============================] - 0s 29ms/step\n",
      "[[0.0060292  0.04538779 0.84453547 0.03560286 0.03536857 0.00468527\n",
      "  0.00967623 0.00893784 0.00109578 0.00868096]]\n",
      "['pullups_down']\n",
      "1/1 [==============================] - 0s 30ms/step\n",
      "[[0.00602269 0.04538553 0.8446419  0.03558633 0.035309   0.00468005\n",
      "  0.00967092 0.00893505 0.00109443 0.00867406]]\n",
      "['pullups_down']\n",
      "1/1 [==============================] - ETA: 0s"
     ]
    },
    {
     "name": "stderr",
     "output_type": "stream",
     "text": [
      "c:\\Users\\JR\\.conda\\envs\\solol\\Lib\\site-packages\\sklearn\\base.py:493: UserWarning: X does not have valid feature names, but StandardScaler was fitted with feature names\n",
      "  warnings.warn(\n",
      "c:\\Users\\JR\\.conda\\envs\\solol\\Lib\\site-packages\\sklearn\\base.py:493: UserWarning: X does not have valid feature names, but StandardScaler was fitted with feature names\n",
      "  warnings.warn(\n"
     ]
    },
    {
     "name": "stdout",
     "output_type": "stream",
     "text": [
      "1/1 [==============================] - 0s 27ms/step\n",
      "[[0.0060239  0.04538219 0.8446195  0.03559086 0.03533199 0.00467839\n",
      "  0.00967077 0.00893205 0.00109489 0.00867555]]\n",
      "['pullups_down']\n",
      "1/1 [==============================] - 0s 29ms/step\n",
      "[[0.00602082 0.04539604 0.8446841  0.03558337 0.03526305 0.00468207\n",
      "  0.00967013 0.00893472 0.00109332 0.0086723 ]]\n",
      "['pullups_down']\n"
     ]
    },
    {
     "name": "stderr",
     "output_type": "stream",
     "text": [
      "c:\\Users\\JR\\.conda\\envs\\solol\\Lib\\site-packages\\sklearn\\base.py:493: UserWarning: X does not have valid feature names, but StandardScaler was fitted with feature names\n",
      "  warnings.warn(\n",
      "c:\\Users\\JR\\.conda\\envs\\solol\\Lib\\site-packages\\sklearn\\base.py:493: UserWarning: X does not have valid feature names, but StandardScaler was fitted with feature names\n",
      "  warnings.warn(\n"
     ]
    },
    {
     "name": "stdout",
     "output_type": "stream",
     "text": [
      "1/1 [==============================] - 0s 41ms/step\n",
      "[[0.00601998 0.04538658 0.8446954  0.03557147 0.03528005 0.0046799\n",
      "  0.00967258 0.00893122 0.00109333 0.00866951]]\n",
      "['pullups_down']\n",
      "1/1 [==============================] - 0s 26ms/step\n",
      "[[0.00602414 0.04537521 0.8446234  0.03557777 0.03534878 0.00467941\n",
      "  0.00967532 0.0089281  0.0010946  0.00867323]]\n",
      "['pullups_down']\n",
      "1/1 [==============================] - ETA: 0s"
     ]
    },
    {
     "name": "stderr",
     "output_type": "stream",
     "text": [
      "c:\\Users\\JR\\.conda\\envs\\solol\\Lib\\site-packages\\sklearn\\base.py:493: UserWarning: X does not have valid feature names, but StandardScaler was fitted with feature names\n",
      "  warnings.warn(\n",
      "c:\\Users\\JR\\.conda\\envs\\solol\\Lib\\site-packages\\sklearn\\base.py:493: UserWarning: X does not have valid feature names, but StandardScaler was fitted with feature names\n",
      "  warnings.warn(\n"
     ]
    },
    {
     "name": "stdout",
     "output_type": "stream",
     "text": [
      "1/1 [==============================] - 0s 20ms/step\n",
      "[[0.00602521 0.04539299 0.8446221  0.03558706 0.03532217 0.00468135\n",
      "  0.00966989 0.00892859 0.00109435 0.00867644]]\n",
      "['pullups_down']\n",
      "1/1 [==============================] - 0s 19ms/step\n",
      "[[0.00602832 0.04538526 0.84455794 0.03559155 0.0353784  0.00468129\n",
      "  0.00967426 0.00892861 0.00109558 0.00867877]]\n",
      "['pullups_down']\n",
      "1/1 [==============================] - ETA: 0s"
     ]
    },
    {
     "name": "stderr",
     "output_type": "stream",
     "text": [
      "c:\\Users\\JR\\.conda\\envs\\solol\\Lib\\site-packages\\sklearn\\base.py:493: UserWarning: X does not have valid feature names, but StandardScaler was fitted with feature names\n",
      "  warnings.warn(\n",
      "c:\\Users\\JR\\.conda\\envs\\solol\\Lib\\site-packages\\sklearn\\base.py:493: UserWarning: X does not have valid feature names, but StandardScaler was fitted with feature names\n",
      "  warnings.warn(\n"
     ]
    },
    {
     "name": "stdout",
     "output_type": "stream",
     "text": [
      "1/1 [==============================] - 0s 29ms/step\n",
      "[[0.00603095 0.04538336 0.84450805 0.03560224 0.0354096  0.00468191\n",
      "  0.00967553 0.00892979 0.00109644 0.00868213]]\n",
      "['pullups_down']\n",
      "1/1 [==============================] - 0s 79ms/step\n"
     ]
    },
    {
     "name": "stderr",
     "output_type": "stream",
     "text": [
      "c:\\Users\\JR\\.conda\\envs\\solol\\Lib\\site-packages\\sklearn\\base.py:493: UserWarning: X does not have valid feature names, but StandardScaler was fitted with feature names\n",
      "  warnings.warn(\n",
      "c:\\Users\\JR\\.conda\\envs\\solol\\Lib\\site-packages\\sklearn\\base.py:493: UserWarning: X does not have valid feature names, but StandardScaler was fitted with feature names\n",
      "  warnings.warn(\n"
     ]
    },
    {
     "name": "stdout",
     "output_type": "stream",
     "text": [
      "[[0.00603339 0.04536756 0.844467   0.03559966 0.03546461 0.00468106\n",
      "  0.00968174 0.00892529 0.00109705 0.00868266]]\n",
      "['pullups_down']\n",
      "1/1 [==============================] - 0s 21ms/step\n",
      "[[0.00603518 0.04537227 0.84443986 0.03560297 0.03547195 0.00468456\n",
      "  0.00968328 0.0089281  0.00109726 0.00868456]]\n",
      "['pullups_down']\n",
      "1/1 [==============================] - 0s 30ms/step\n",
      "[[0.00603241 0.04536546 0.84447795 0.03559725 0.03546118 0.00468019\n",
      "  0.00968065 0.00892611 0.00109707 0.00868168]]\n",
      "['pullups_down']\n",
      "1/1 [==============================] - ETA: 0s"
     ]
    },
    {
     "name": "stderr",
     "output_type": "stream",
     "text": [
      "c:\\Users\\JR\\.conda\\envs\\solol\\Lib\\site-packages\\sklearn\\base.py:493: UserWarning: X does not have valid feature names, but StandardScaler was fitted with feature names\n",
      "  warnings.warn(\n",
      "c:\\Users\\JR\\.conda\\envs\\solol\\Lib\\site-packages\\sklearn\\base.py:493: UserWarning: X does not have valid feature names, but StandardScaler was fitted with feature names\n",
      "  warnings.warn(\n"
     ]
    },
    {
     "name": "stdout",
     "output_type": "stream",
     "text": [
      "1/1 [==============================] - 0s 20ms/step\n",
      "[[0.00602888 0.04536354 0.8445335  0.03558857 0.03543401 0.00467659\n",
      "  0.00967602 0.0089243  0.00109649 0.00867807]]\n",
      "['pullups_down']\n",
      "1/1 [==============================] - 0s 21ms/step\n",
      "[[0.00603673 0.0453622  0.844408   0.03561386 0.03550628 0.0046811\n",
      "  0.00968166 0.00892502 0.00109804 0.00868711]]\n",
      "['pullups_down']\n"
     ]
    },
    {
     "name": "stderr",
     "output_type": "stream",
     "text": [
      "c:\\Users\\JR\\.conda\\envs\\solol\\Lib\\site-packages\\sklearn\\base.py:493: UserWarning: X does not have valid feature names, but StandardScaler was fitted with feature names\n",
      "  warnings.warn(\n",
      "c:\\Users\\JR\\.conda\\envs\\solol\\Lib\\site-packages\\sklearn\\base.py:493: UserWarning: X does not have valid feature names, but StandardScaler was fitted with feature names\n",
      "  warnings.warn(\n"
     ]
    },
    {
     "name": "stdout",
     "output_type": "stream",
     "text": [
      "1/1 [==============================] - 0s 21ms/step\n",
      "[[0.00603245 0.04537888 0.84448844 0.03561082 0.03542592 0.00468111\n",
      "  0.00967413 0.0089268  0.00109661 0.00868475]]\n",
      "['pullups_down']\n",
      "1/1 [==============================] - 0s 30ms/step\n"
     ]
    },
    {
     "name": "stderr",
     "output_type": "stream",
     "text": [
      "c:\\Users\\JR\\.conda\\envs\\solol\\Lib\\site-packages\\sklearn\\base.py:493: UserWarning: X does not have valid feature names, but StandardScaler was fitted with feature names\n",
      "  warnings.warn(\n",
      "c:\\Users\\JR\\.conda\\envs\\solol\\Lib\\site-packages\\sklearn\\base.py:493: UserWarning: X does not have valid feature names, but StandardScaler was fitted with feature names\n",
      "  warnings.warn(\n"
     ]
    },
    {
     "name": "stdout",
     "output_type": "stream",
     "text": [
      "[[0.00602077 0.04539967 0.8446921  0.03558468 0.03527036 0.00467657\n",
      "  0.00966092 0.00892753 0.00109363 0.00867373]]\n",
      "['pullups_down']\n",
      "1/1 [==============================] - 0s 23ms/step\n",
      "[[0.00602112 0.04540024 0.8446869  0.03558248 0.03527402 0.00467747\n",
      "  0.00966212 0.00892835 0.00109371 0.00867351]]\n",
      "['pullups_down']\n",
      "1/1 [==============================] - 0s 22ms/step\n",
      "[[0.00602552 0.0453859  0.84459686 0.03559209 0.03535089 0.00467751\n",
      "  0.00966898 0.00893005 0.00109543 0.00867679]]\n",
      "['pullups_down']\n",
      "1/1 [==============================] - 0s 19ms/step\n"
     ]
    },
    {
     "name": "stderr",
     "output_type": "stream",
     "text": [
      "c:\\Users\\JR\\.conda\\envs\\solol\\Lib\\site-packages\\sklearn\\base.py:493: UserWarning: X does not have valid feature names, but StandardScaler was fitted with feature names\n",
      "  warnings.warn(\n",
      "c:\\Users\\JR\\.conda\\envs\\solol\\Lib\\site-packages\\sklearn\\base.py:493: UserWarning: X does not have valid feature names, but StandardScaler was fitted with feature names\n",
      "  warnings.warn(\n"
     ]
    },
    {
     "name": "stdout",
     "output_type": "stream",
     "text": [
      "[[0.006028   0.0453859  0.84455097 0.03560592 0.03537391 0.00467816\n",
      "  0.00966891 0.00893158 0.00109618 0.00868037]]\n",
      "['pullups_down']\n",
      "1/1 [==============================] - 0s 30ms/step\n",
      "[[0.00603162 0.04536712 0.844486   0.03560383 0.03545036 0.00467734\n",
      "  0.00967626 0.00892834 0.00109739 0.00868174]]\n",
      "['pullups_down']\n"
     ]
    },
    {
     "name": "stderr",
     "output_type": "stream",
     "text": [
      "c:\\Users\\JR\\.conda\\envs\\solol\\Lib\\site-packages\\sklearn\\base.py:493: UserWarning: X does not have valid feature names, but StandardScaler was fitted with feature names\n",
      "  warnings.warn(\n",
      "c:\\Users\\JR\\.conda\\envs\\solol\\Lib\\site-packages\\sklearn\\base.py:493: UserWarning: X does not have valid feature names, but StandardScaler was fitted with feature names\n",
      "  warnings.warn(\n"
     ]
    },
    {
     "name": "stdout",
     "output_type": "stream",
     "text": [
      "1/1 [==============================] - 0s 26ms/step\n",
      "[[0.006032   0.0453645  0.84447885 0.03560437 0.03545664 0.00467831\n",
      "  0.00967763 0.00892847 0.00109739 0.00868186]]\n",
      "['pullups_down']\n",
      "1/1 [==============================] - 0s 30ms/step\n",
      "[[0.0060296  0.04537941 0.84453267 0.03560713 0.03539071 0.00468055\n",
      "  0.00967284 0.00892945 0.00109602 0.0086816 ]]\n",
      "['pullups_down']\n"
     ]
    },
    {
     "name": "stderr",
     "output_type": "stream",
     "text": [
      "c:\\Users\\JR\\.conda\\envs\\solol\\Lib\\site-packages\\sklearn\\base.py:493: UserWarning: X does not have valid feature names, but StandardScaler was fitted with feature names\n",
      "  warnings.warn(\n",
      "c:\\Users\\JR\\.conda\\envs\\solol\\Lib\\site-packages\\sklearn\\base.py:493: UserWarning: X does not have valid feature names, but StandardScaler was fitted with feature names\n",
      "  warnings.warn(\n"
     ]
    },
    {
     "name": "stdout",
     "output_type": "stream",
     "text": [
      "1/1 [==============================] - 0s 30ms/step\n",
      "[[0.00603583 0.04539501 0.84444094 0.03562    0.03542123 0.0046891\n",
      "  0.00967759 0.00893475 0.00109688 0.00868877]]\n",
      "['pullups_down']\n",
      "1/1 [==============================] - 0s 30ms/step\n",
      "[[0.00603304 0.04541794 0.84450865 0.03561985 0.03533633 0.00469193\n",
      "  0.00967251 0.00893629 0.00109527 0.00868822]]\n",
      "['pullups_down']\n",
      "1/1 [==============================] - ETA: 0s"
     ]
    },
    {
     "name": "stderr",
     "output_type": "stream",
     "text": [
      "c:\\Users\\JR\\.conda\\envs\\solol\\Lib\\site-packages\\sklearn\\base.py:493: UserWarning: X does not have valid feature names, but StandardScaler was fitted with feature names\n",
      "  warnings.warn(\n",
      "c:\\Users\\JR\\.conda\\envs\\solol\\Lib\\site-packages\\sklearn\\base.py:493: UserWarning: X does not have valid feature names, but StandardScaler was fitted with feature names\n",
      "  warnings.warn(\n"
     ]
    },
    {
     "name": "stdout",
     "output_type": "stream",
     "text": [
      "1/1 [==============================] - 0s 28ms/step\n",
      "[[0.00603941 0.04539514 0.8443795  0.0356206  0.03546439 0.00469155\n",
      "  0.00968394 0.00893648 0.00109788 0.0086911 ]]\n",
      "['pullups_down']\n",
      "1/1 [==============================] - 0s 29ms/step\n",
      "[[0.00603787 0.04538859 0.8444036  0.03560846 0.0354671  0.00468926\n",
      "  0.00968578 0.00893363 0.0010977  0.008688  ]]\n",
      "['pullups_down']\n",
      "1/1 [==============================] - ETA: 0s"
     ]
    },
    {
     "name": "stderr",
     "output_type": "stream",
     "text": [
      "c:\\Users\\JR\\.conda\\envs\\solol\\Lib\\site-packages\\sklearn\\base.py:493: UserWarning: X does not have valid feature names, but StandardScaler was fitted with feature names\n",
      "  warnings.warn(\n",
      "c:\\Users\\JR\\.conda\\envs\\solol\\Lib\\site-packages\\sklearn\\base.py:493: UserWarning: X does not have valid feature names, but StandardScaler was fitted with feature names\n",
      "  warnings.warn(\n"
     ]
    },
    {
     "name": "stdout",
     "output_type": "stream",
     "text": [
      "1/1 [==============================] - 0s 30ms/step\n",
      "[[0.0060357  0.04538145 0.8444314  0.03559922 0.03546665 0.00468628\n",
      "  0.00968437 0.00893235 0.00109762 0.00868497]]\n",
      "['pullups_down']\n",
      "1/1 [==============================] - 0s 29ms/step\n",
      "[[0.00604228 0.0453879  0.8443296  0.03562082 0.03550911 0.00469384\n",
      "  0.00968792 0.00893706 0.00109862 0.00869279]]\n",
      "['pullups_down']\n",
      "1/1 [==============================] - ETA: 0s"
     ]
    },
    {
     "name": "stderr",
     "output_type": "stream",
     "text": [
      "c:\\Users\\JR\\.conda\\envs\\solol\\Lib\\site-packages\\sklearn\\base.py:493: UserWarning: X does not have valid feature names, but StandardScaler was fitted with feature names\n",
      "  warnings.warn(\n",
      "c:\\Users\\JR\\.conda\\envs\\solol\\Lib\\site-packages\\sklearn\\base.py:493: UserWarning: X does not have valid feature names, but StandardScaler was fitted with feature names\n",
      "  warnings.warn(\n"
     ]
    },
    {
     "name": "stdout",
     "output_type": "stream",
     "text": [
      "1/1 [==============================] - 0s 25ms/step\n",
      "[[0.00605244 0.04538638 0.8441728  0.03565468 0.03559485 0.00470119\n",
      "  0.00969579 0.00893718 0.00110019 0.00870452]]\n",
      "['pullups_down']\n",
      "1/1 [==============================] - 0s 21ms/step\n",
      "[[0.00605001 0.04537914 0.8442013  0.03564547 0.0355944  0.00469736\n",
      "  0.0096948  0.0089362  0.00110023 0.00870111]]\n",
      "['pullups_down']\n",
      "1/1 [==============================] - ETA: 0s"
     ]
    },
    {
     "name": "stderr",
     "output_type": "stream",
     "text": [
      "c:\\Users\\JR\\.conda\\envs\\solol\\Lib\\site-packages\\sklearn\\base.py:493: UserWarning: X does not have valid feature names, but StandardScaler was fitted with feature names\n",
      "  warnings.warn(\n",
      "c:\\Users\\JR\\.conda\\envs\\solol\\Lib\\site-packages\\sklearn\\base.py:493: UserWarning: X does not have valid feature names, but StandardScaler was fitted with feature names\n",
      "  warnings.warn(\n"
     ]
    },
    {
     "name": "stdout",
     "output_type": "stream",
     "text": [
      "1/1 [==============================] - 0s 27ms/step\n",
      "[[0.00605081 0.04538276 0.8441866  0.03565252 0.03559318 0.00469883\n",
      "  0.00969419 0.0089379  0.00110035 0.00870287]]\n",
      "['pullups_down']\n",
      "1/1 [==============================] - 0s 32ms/step\n",
      "[[0.00605017 0.04537839 0.84420115 0.03563998 0.03559897 0.00469868\n",
      "  0.00969655 0.00893551 0.0011001  0.00870052]]\n",
      "['pullups_down']\n"
     ]
    },
    {
     "name": "stderr",
     "output_type": "stream",
     "text": [
      "c:\\Users\\JR\\.conda\\envs\\solol\\Lib\\site-packages\\sklearn\\base.py:493: UserWarning: X does not have valid feature names, but StandardScaler was fitted with feature names\n",
      "  warnings.warn(\n",
      "c:\\Users\\JR\\.conda\\envs\\solol\\Lib\\site-packages\\sklearn\\base.py:493: UserWarning: X does not have valid feature names, but StandardScaler was fitted with feature names\n",
      "  warnings.warn(\n"
     ]
    },
    {
     "name": "stdout",
     "output_type": "stream",
     "text": [
      "1/1 [==============================] - 0s 32ms/step\n",
      "[[0.00604125 0.04538511 0.844347   0.03561752 0.03550288 0.0046943\n",
      "  0.00968684 0.00893534 0.00109816 0.00869161]]\n",
      "['pullups_down']\n",
      "1/1 [==============================] - 0s 21ms/step\n",
      "[[0.00604421 0.04539289 0.8443008  0.0356288  0.03551557 0.00469763\n",
      "  0.00968793 0.00893792 0.00109864 0.00869555]]\n",
      "['pullups_down']\n",
      "1/1 [==============================] - ETA: 0s"
     ]
    },
    {
     "name": "stderr",
     "output_type": "stream",
     "text": [
      "c:\\Users\\JR\\.conda\\envs\\solol\\Lib\\site-packages\\sklearn\\base.py:493: UserWarning: X does not have valid feature names, but StandardScaler was fitted with feature names\n",
      "  warnings.warn(\n",
      "c:\\Users\\JR\\.conda\\envs\\solol\\Lib\\site-packages\\sklearn\\base.py:493: UserWarning: X does not have valid feature names, but StandardScaler was fitted with feature names\n",
      "  warnings.warn(\n"
     ]
    },
    {
     "name": "stdout",
     "output_type": "stream",
     "text": [
      "1/1 [==============================] - 0s 19ms/step\n",
      "[[0.00604702 0.04539285 0.8442511  0.03564984 0.03553742 0.00469694\n",
      "  0.00968665 0.00893804 0.00109947 0.0087007 ]]\n",
      "['pullups_down']\n",
      "1/1 [==============================] - 0s 19ms/step\n",
      "[[0.00604051 0.04539004 0.84435993 0.035631   0.03547945 0.00469176\n",
      "  0.00968145 0.00893433 0.00109801 0.00869356]]\n",
      "['pullups_down']\n"
     ]
    },
    {
     "name": "stderr",
     "output_type": "stream",
     "text": [
      "c:\\Users\\JR\\.conda\\envs\\solol\\Lib\\site-packages\\sklearn\\base.py:493: UserWarning: X does not have valid feature names, but StandardScaler was fitted with feature names\n",
      "  warnings.warn(\n",
      "c:\\Users\\JR\\.conda\\envs\\solol\\Lib\\site-packages\\sklearn\\base.py:493: UserWarning: X does not have valid feature names, but StandardScaler was fitted with feature names\n",
      "  warnings.warn(\n"
     ]
    },
    {
     "name": "stdout",
     "output_type": "stream",
     "text": [
      "1/1 [==============================] - 0s 36ms/step\n",
      "[[0.0060411  0.04539016 0.8443515  0.0356288  0.03548614 0.00469294\n",
      "  0.00968278 0.00893482 0.00109809 0.00869374]]\n",
      "['pullups_down']\n",
      "1/1 [==============================] - 0s 30ms/step\n",
      "[[0.0060309  0.04538868 0.84452367 0.03558383 0.03539934 0.00468794\n",
      "  0.00967807 0.00893164 0.00109579 0.00868004]]\n",
      "['pullups_down']\n",
      "1/1 [==============================] - 0s 21ms/step\n"
     ]
    },
    {
     "name": "stderr",
     "output_type": "stream",
     "text": [
      "c:\\Users\\JR\\.conda\\envs\\solol\\Lib\\site-packages\\sklearn\\base.py:493: UserWarning: X does not have valid feature names, but StandardScaler was fitted with feature names\n",
      "  warnings.warn(\n",
      "c:\\Users\\JR\\.conda\\envs\\solol\\Lib\\site-packages\\sklearn\\base.py:493: UserWarning: X does not have valid feature names, but StandardScaler was fitted with feature names\n",
      "  warnings.warn(\n"
     ]
    },
    {
     "name": "stdout",
     "output_type": "stream",
     "text": [
      "[[0.00603973 0.04542658 0.84439826 0.03563041 0.03539242 0.00470198\n",
      "  0.00967752 0.00894175 0.00109637 0.00869495]]\n",
      "['pullups_down']\n",
      "1/1 [==============================] - 0s 30ms/step\n",
      "[[0.00605614 0.04543963 0.8441291  0.03570062 0.03551348 0.00471249\n",
      "  0.00968348 0.00894789 0.00109969 0.00871749]]\n",
      "['pullups_down']\n"
     ]
    },
    {
     "name": "stderr",
     "output_type": "stream",
     "text": [
      "c:\\Users\\JR\\.conda\\envs\\solol\\Lib\\site-packages\\sklearn\\base.py:493: UserWarning: X does not have valid feature names, but StandardScaler was fitted with feature names\n",
      "  warnings.warn(\n",
      "c:\\Users\\JR\\.conda\\envs\\solol\\Lib\\site-packages\\sklearn\\base.py:493: UserWarning: X does not have valid feature names, but StandardScaler was fitted with feature names\n",
      "  warnings.warn(\n"
     ]
    },
    {
     "name": "stdout",
     "output_type": "stream",
     "text": [
      "1/1 [==============================] - 0s 30ms/step\n",
      "[[0.00604761 0.04543145 0.8442585  0.03566874 0.03545592 0.00470606\n",
      "  0.00968021 0.00894683 0.00109834 0.00870638]]\n",
      "['pullups_down']\n",
      "1/1 [==============================] - 0s 29ms/step\n",
      "[[0.00604918 0.04540941 0.8442225  0.03565742 0.0355279  0.00470179\n",
      "  0.00968501 0.00894271 0.00109955 0.00870461]]\n",
      "['pullups_down']\n",
      "1/1 [==============================] - 0s 29ms/step\n"
     ]
    },
    {
     "name": "stderr",
     "output_type": "stream",
     "text": [
      "c:\\Users\\JR\\.conda\\envs\\solol\\Lib\\site-packages\\sklearn\\base.py:493: UserWarning: X does not have valid feature names, but StandardScaler was fitted with feature names\n",
      "  warnings.warn(\n",
      "c:\\Users\\JR\\.conda\\envs\\solol\\Lib\\site-packages\\sklearn\\base.py:493: UserWarning: X does not have valid feature names, but StandardScaler was fitted with feature names\n",
      "  warnings.warn(\n"
     ]
    },
    {
     "name": "stdout",
     "output_type": "stream",
     "text": [
      "[[0.00604966 0.04539537 0.84420365 0.03565199 0.03556175 0.00470131\n",
      "  0.00968986 0.0089434  0.00110006 0.008703  ]]\n",
      "['pullups_down']\n",
      "1/1 [==============================] - 0s 32ms/step\n",
      "[[0.00604622 0.04540451 0.8442687  0.03564251 0.03551067 0.00470033\n",
      "  0.00968433 0.00894389 0.00109913 0.00869968]]\n"
     ]
    },
    {
     "name": "stderr",
     "output_type": "stream",
     "text": [
      "c:\\Users\\JR\\.conda\\envs\\solol\\Lib\\site-packages\\sklearn\\base.py:493: UserWarning: X does not have valid feature names, but StandardScaler was fitted with feature names\n",
      "  warnings.warn(\n"
     ]
    },
    {
     "name": "stdout",
     "output_type": "stream",
     "text": [
      "['pullups_down']\n",
      "1/1 [==============================] - 0s 29ms/step\n",
      "[[0.00603458 0.04540464 0.8444683  0.03560358 0.03540766 0.00469036\n",
      "  0.00966932 0.00893828 0.00109677 0.00868652]]\n",
      "['pullups_down']\n",
      "1/1 [==============================] - ETA: 0s"
     ]
    },
    {
     "name": "stderr",
     "output_type": "stream",
     "text": [
      "c:\\Users\\JR\\.conda\\envs\\solol\\Lib\\site-packages\\sklearn\\base.py:493: UserWarning: X does not have valid feature names, but StandardScaler was fitted with feature names\n",
      "  warnings.warn(\n",
      "c:\\Users\\JR\\.conda\\envs\\solol\\Lib\\site-packages\\sklearn\\base.py:493: UserWarning: X does not have valid feature names, but StandardScaler was fitted with feature names\n",
      "  warnings.warn(\n"
     ]
    },
    {
     "name": "stdout",
     "output_type": "stream",
     "text": [
      "1/1 [==============================] - 0s 27ms/step\n",
      "[[0.00604426 0.04541706 0.8443112  0.03564192 0.03547218 0.0046987\n",
      "  0.00967314 0.00894362 0.00109861 0.00869928]]\n",
      "['pullups_down']\n",
      "1/1 [==============================] - 0s 33ms/step\n",
      "[[0.00605409 0.04539189 0.8441486  0.03566293 0.03560806 0.00470024\n",
      "  0.00968655 0.00893833 0.00110091 0.00870843]]\n",
      "['pullups_down']\n"
     ]
    },
    {
     "name": "stderr",
     "output_type": "stream",
     "text": [
      "c:\\Users\\JR\\.conda\\envs\\solol\\Lib\\site-packages\\sklearn\\base.py:493: UserWarning: X does not have valid feature names, but StandardScaler was fitted with feature names\n",
      "  warnings.warn(\n",
      "c:\\Users\\JR\\.conda\\envs\\solol\\Lib\\site-packages\\sklearn\\base.py:493: UserWarning: X does not have valid feature names, but StandardScaler was fitted with feature names\n",
      "  warnings.warn(\n"
     ]
    },
    {
     "name": "stdout",
     "output_type": "stream",
     "text": [
      "1/1 [==============================] - 0s 30ms/step\n",
      "[[0.00605519 0.04539132 0.84412867 0.03566507 0.03561737 0.00470304\n",
      "  0.00968933 0.00893924 0.00110096 0.00870972]]\n",
      "['pullups_down']\n",
      "1/1 [==============================] - 0s 20ms/step\n",
      "[[0.00605843 0.04539878 0.8440733  0.03568172 0.03562492 0.004709\n",
      "  0.00969426 0.00894451 0.00110131 0.00871383]]\n",
      "['pullups_down']\n"
     ]
    },
    {
     "name": "stderr",
     "output_type": "stream",
     "text": [
      "c:\\Users\\JR\\.conda\\envs\\solol\\Lib\\site-packages\\sklearn\\base.py:493: UserWarning: X does not have valid feature names, but StandardScaler was fitted with feature names\n",
      "  warnings.warn(\n",
      "c:\\Users\\JR\\.conda\\envs\\solol\\Lib\\site-packages\\sklearn\\base.py:493: UserWarning: X does not have valid feature names, but StandardScaler was fitted with feature names\n",
      "  warnings.warn(\n"
     ]
    },
    {
     "name": "stdout",
     "output_type": "stream",
     "text": [
      "1/1 [==============================] - 0s 31ms/step\n",
      "[[0.00605562 0.0454036  0.8441184  0.03567706 0.03558848 0.00470773\n",
      "  0.00969172 0.00894531 0.0011007  0.00871129]]\n",
      "['pullups_down']\n",
      "1/1 [==============================] - 0s 29ms/step\n",
      "[[0.00604472 0.04539139 0.8442998  0.0356275  0.03551714 0.00469931\n",
      "  0.00968645 0.00893906 0.00109857 0.00869613]]\n",
      "['pullups_down']\n"
     ]
    },
    {
     "name": "stderr",
     "output_type": "stream",
     "text": [
      "c:\\Users\\JR\\.conda\\envs\\solol\\Lib\\site-packages\\sklearn\\base.py:493: UserWarning: X does not have valid feature names, but StandardScaler was fitted with feature names\n",
      "  warnings.warn(\n",
      "c:\\Users\\JR\\.conda\\envs\\solol\\Lib\\site-packages\\sklearn\\base.py:493: UserWarning: X does not have valid feature names, but StandardScaler was fitted with feature names\n",
      "  warnings.warn(\n"
     ]
    },
    {
     "name": "stdout",
     "output_type": "stream",
     "text": [
      "1/1 [==============================] - 0s 40ms/step\n",
      "[[0.0060439  0.04539002 0.8443298  0.03562368 0.03550814 0.00469666\n",
      "  0.00968052 0.00893393 0.0010981  0.00869523]]\n",
      "['pullups_down']\n",
      "1/1 [==============================] - 0s 22ms/step\n",
      "[[0.00603258 0.04538697 0.8444905  0.03558643 0.03543066 0.00468748\n",
      "  0.00967181 0.00893514 0.00109682 0.00868168]]\n",
      "['pullups_down']\n",
      "1/1 [==============================] - ETA: 0s"
     ]
    },
    {
     "name": "stderr",
     "output_type": "stream",
     "text": [
      "c:\\Users\\JR\\.conda\\envs\\solol\\Lib\\site-packages\\sklearn\\base.py:493: UserWarning: X does not have valid feature names, but StandardScaler was fitted with feature names\n",
      "  warnings.warn(\n",
      "c:\\Users\\JR\\.conda\\envs\\solol\\Lib\\site-packages\\sklearn\\base.py:493: UserWarning: X does not have valid feature names, but StandardScaler was fitted with feature names\n",
      "  warnings.warn(\n"
     ]
    },
    {
     "name": "stdout",
     "output_type": "stream",
     "text": [
      "1/1 [==============================] - 0s 37ms/step\n",
      "[[0.00602823 0.04537289 0.84455836 0.03557536 0.03541175 0.00468077\n",
      "  0.00966928 0.00893099 0.00109621 0.00867624]]\n",
      "['pullups_down']\n",
      "1/1 [==============================] - ETA: 0s"
     ]
    },
    {
     "name": "stderr",
     "output_type": "stream",
     "text": [
      "c:\\Users\\JR\\.conda\\envs\\solol\\Lib\\site-packages\\sklearn\\base.py:493: UserWarning: X does not have valid feature names, but StandardScaler was fitted with feature names\n",
      "  warnings.warn(\n"
     ]
    },
    {
     "name": "stdout",
     "output_type": "stream",
     "text": [
      "1/1 [==============================] - 0s 70ms/step\n",
      "[[0.00602556 0.04539004 0.844609   0.03558573 0.03534057 0.00468144\n",
      "  0.00966313 0.00893313 0.00109507 0.00867629]]\n",
      "['pullups_down']\n",
      "1/1 [==============================] - 0s 30ms/step\n",
      "[[0.0060285  0.04539074 0.8445604  0.03559359 0.03536497 0.00468546\n",
      "  0.00966678 0.00893472 0.00109548 0.00867948]]\n",
      "['pullups_down']\n",
      "1/1 [==============================] - ETA: 0s"
     ]
    },
    {
     "name": "stderr",
     "output_type": "stream",
     "text": [
      "c:\\Users\\JR\\.conda\\envs\\solol\\Lib\\site-packages\\sklearn\\base.py:493: UserWarning: X does not have valid feature names, but StandardScaler was fitted with feature names\n",
      "  warnings.warn(\n",
      "c:\\Users\\JR\\.conda\\envs\\solol\\Lib\\site-packages\\sklearn\\base.py:493: UserWarning: X does not have valid feature names, but StandardScaler was fitted with feature names\n",
      "  warnings.warn(\n"
     ]
    },
    {
     "name": "stdout",
     "output_type": "stream",
     "text": [
      "1/1 [==============================] - 0s 30ms/step\n",
      "[[0.00602337 0.04536839 0.84463567 0.03556187 0.03537193 0.00467766\n",
      "  0.00966745 0.00892818 0.00109506 0.00867044]]\n",
      "['pullups_down']\n",
      "1/1 [==============================] - 0s 51ms/step\n"
     ]
    },
    {
     "name": "stderr",
     "output_type": "stream",
     "text": [
      "c:\\Users\\JR\\.conda\\envs\\solol\\Lib\\site-packages\\sklearn\\base.py:493: UserWarning: X does not have valid feature names, but StandardScaler was fitted with feature names\n",
      "  warnings.warn(\n",
      "c:\\Users\\JR\\.conda\\envs\\solol\\Lib\\site-packages\\sklearn\\base.py:493: UserWarning: X does not have valid feature names, but StandardScaler was fitted with feature names\n",
      "  warnings.warn(\n"
     ]
    },
    {
     "name": "stdout",
     "output_type": "stream",
     "text": [
      "[[0.00602564 0.0453702  0.8445994  0.03556769 0.03539098 0.00467993\n",
      "  0.00966866 0.00892907 0.00109546 0.00867296]]\n",
      "['pullups_down']\n",
      "1/1 [==============================] - 0s 50ms/step\n",
      "[[0.00604408 0.04541826 0.84431916 0.03566029 0.03545022 0.00469979\n",
      "  0.00966654 0.0089417  0.00109792 0.00870202]]\n",
      "['pullups_down']\n",
      "1/1 [==============================] - 0s 32ms/step\n",
      "[[0.00602453 0.04550293 0.8446934  0.03570211 0.03504205 0.00469195\n",
      "  0.00961203 0.00894053 0.00109086 0.00869959]]\n",
      "['pullups_down']\n"
     ]
    },
    {
     "name": "stderr",
     "output_type": "stream",
     "text": [
      "c:\\Users\\JR\\.conda\\envs\\solol\\Lib\\site-packages\\sklearn\\base.py:493: UserWarning: X does not have valid feature names, but StandardScaler was fitted with feature names\n",
      "  warnings.warn(\n",
      "c:\\Users\\JR\\.conda\\envs\\solol\\Lib\\site-packages\\sklearn\\base.py:493: UserWarning: X does not have valid feature names, but StandardScaler was fitted with feature names\n",
      "  warnings.warn(\n"
     ]
    },
    {
     "name": "stdout",
     "output_type": "stream",
     "text": [
      "1/1 [==============================] - 0s 30ms/step\n",
      "[[0.00602639 0.04556236 0.84468734 0.03575571 0.03493682 0.00469605\n",
      "  0.00958796 0.00894522 0.00109013 0.00871198]]\n",
      "['pullups_down']\n",
      "1/1 [==============================] - 0s 41ms/step\n",
      "[[0.00602104 0.0455263  0.8447566  0.03572207 0.0349681  0.00468553\n",
      "  0.00959029 0.00893859 0.00109017 0.00870126]]\n",
      "['pullups_down']\n"
     ]
    },
    {
     "name": "stderr",
     "output_type": "stream",
     "text": [
      "c:\\Users\\JR\\.conda\\envs\\solol\\Lib\\site-packages\\sklearn\\base.py:493: UserWarning: X does not have valid feature names, but StandardScaler was fitted with feature names\n",
      "  warnings.warn(\n",
      "c:\\Users\\JR\\.conda\\envs\\solol\\Lib\\site-packages\\sklearn\\base.py:493: UserWarning: X does not have valid feature names, but StandardScaler was fitted with feature names\n",
      "  warnings.warn(\n"
     ]
    },
    {
     "name": "stdout",
     "output_type": "stream",
     "text": [
      "1/1 [==============================] - 0s 19ms/step\n",
      "[[0.00602989 0.04553604 0.8446263  0.03574206 0.03503457 0.00469341\n",
      "  0.009594   0.00894077 0.00109161 0.0087114 ]]\n",
      "['pullups_down']\n",
      "1/1 [==============================] - 0s 29ms/step\n",
      "[[0.00602977 0.04552413 0.8446184  0.03574333 0.03505696 0.0046908\n",
      "  0.00959451 0.00893903 0.00109194 0.00871104]]\n",
      "['pullups_down']\n"
     ]
    },
    {
     "name": "stderr",
     "output_type": "stream",
     "text": [
      "c:\\Users\\JR\\.conda\\envs\\solol\\Lib\\site-packages\\sklearn\\base.py:493: UserWarning: X does not have valid feature names, but StandardScaler was fitted with feature names\n",
      "  warnings.warn(\n",
      "c:\\Users\\JR\\.conda\\envs\\solol\\Lib\\site-packages\\sklearn\\base.py:493: UserWarning: X does not have valid feature names, but StandardScaler was fitted with feature names\n",
      "  warnings.warn(\n"
     ]
    },
    {
     "name": "stdout",
     "output_type": "stream",
     "text": [
      "1/1 [==============================] - 0s 30ms/step\n",
      "[[0.00601836 0.04566331 0.8448683  0.03580044 0.0346344  0.00470283\n",
      "  0.00954831 0.0089619  0.00108588 0.00871622]]\n",
      "['pullups_down']\n",
      "1/1 [==============================] - 0s 30ms/step\n",
      "[[0.00595204 0.04544039 0.84587187 0.03543804 0.03456045 0.00460733\n",
      "  0.0095493  0.00889277 0.00107939 0.00860841]]\n",
      "['pullups_down']\n",
      "1/1 [==============================] - ETA: 0s"
     ]
    },
    {
     "name": "stderr",
     "output_type": "stream",
     "text": [
      "c:\\Users\\JR\\.conda\\envs\\solol\\Lib\\site-packages\\sklearn\\base.py:493: UserWarning: X does not have valid feature names, but StandardScaler was fitted with feature names\n",
      "  warnings.warn(\n",
      "c:\\Users\\JR\\.conda\\envs\\solol\\Lib\\site-packages\\sklearn\\base.py:493: UserWarning: X does not have valid feature names, but StandardScaler was fitted with feature names\n",
      "  warnings.warn(\n"
     ]
    },
    {
     "name": "stdout",
     "output_type": "stream",
     "text": [
      "1/1 [==============================] - 0s 30ms/step\n",
      "[[0.0059294  0.04542701 0.846231   0.03538635 0.0343867  0.00457805\n",
      "  0.00952384 0.00887737 0.0010759  0.00858437]]\n",
      "['pullups_down']\n"
     ]
    },
    {
     "name": "stderr",
     "output_type": "stream",
     "text": [
      "c:\\Users\\JR\\.conda\\envs\\solol\\Lib\\site-packages\\sklearn\\base.py:493: UserWarning: X does not have valid feature names, but StandardScaler was fitted with feature names\n",
      "  warnings.warn(\n"
     ]
    },
    {
     "name": "stdout",
     "output_type": "stream",
     "text": [
      "1/1 [==============================] - 0s 175ms/step\n",
      "[[0.00590891 0.04539932 0.8465399  0.0353424  0.03426325 0.00454787\n",
      "  0.00949899 0.00886398 0.00107362 0.00856179]]\n",
      "['pullups_down']\n",
      "1/1 [==============================] - 0s 24ms/step\n",
      "[[0.00586033 0.04530334 0.8473136  0.03517896 0.03401256 0.00448839\n",
      "  0.00945495 0.00882205 0.00106606 0.00849983]]\n",
      "['pullups_down']\n",
      "1/1 [==============================] - 0s 20ms/step\n"
     ]
    },
    {
     "name": "stderr",
     "output_type": "stream",
     "text": [
      "c:\\Users\\JR\\.conda\\envs\\solol\\Lib\\site-packages\\sklearn\\base.py:493: UserWarning: X does not have valid feature names, but StandardScaler was fitted with feature names\n",
      "  warnings.warn(\n",
      "c:\\Users\\JR\\.conda\\envs\\solol\\Lib\\site-packages\\sklearn\\base.py:493: UserWarning: X does not have valid feature names, but StandardScaler was fitted with feature names\n",
      "  warnings.warn(\n"
     ]
    },
    {
     "name": "stdout",
     "output_type": "stream",
     "text": [
      "[[0.00583852 0.04528426 0.8476654  0.03513864 0.03385276 0.00446176\n",
      "  0.00941505 0.00880406 0.00106233 0.00847711]]\n",
      "['pullups_down']\n",
      "1/1 [==============================] - 0s 37ms/step\n",
      "[[0.00584706 0.04533561 0.84753996 0.03512282 0.03387913 0.00447529\n",
      "  0.00942869 0.00882688 0.00106483 0.00847982]]\n",
      "['pullups_down']\n"
     ]
    },
    {
     "name": "stderr",
     "output_type": "stream",
     "text": [
      "c:\\Users\\JR\\.conda\\envs\\solol\\Lib\\site-packages\\sklearn\\base.py:493: UserWarning: X does not have valid feature names, but StandardScaler was fitted with feature names\n",
      "  warnings.warn(\n",
      "c:\\Users\\JR\\.conda\\envs\\solol\\Lib\\site-packages\\sklearn\\base.py:493: UserWarning: X does not have valid feature names, but StandardScaler was fitted with feature names\n",
      "  warnings.warn(\n"
     ]
    },
    {
     "name": "stdout",
     "output_type": "stream",
     "text": [
      "1/1 [==============================] - 0s 30ms/step\n",
      "[[0.00585776 0.04523584 0.8473826  0.03510023 0.03412067 0.00447331\n",
      "  0.00944314 0.00884537 0.00106979 0.00847125]]\n",
      "['pullups_down']\n",
      "1/1 [==============================] - 0s 30ms/step\n",
      "[[0.00585019 0.04522508 0.8475283  0.03507758 0.03405221 0.00446731\n",
      "  0.00942554 0.00884565 0.00106806 0.00846004]]\n",
      "['pullups_down']\n",
      "1/1 [==============================] - ETA: 0s"
     ]
    },
    {
     "name": "stderr",
     "output_type": "stream",
     "text": [
      "c:\\Users\\JR\\.conda\\envs\\solol\\Lib\\site-packages\\sklearn\\base.py:493: UserWarning: X does not have valid feature names, but StandardScaler was fitted with feature names\n",
      "  warnings.warn(\n",
      "c:\\Users\\JR\\.conda\\envs\\solol\\Lib\\site-packages\\sklearn\\base.py:493: UserWarning: X does not have valid feature names, but StandardScaler was fitted with feature names\n",
      "  warnings.warn(\n"
     ]
    },
    {
     "name": "stdout",
     "output_type": "stream",
     "text": [
      "1/1 [==============================] - 0s 30ms/step\n",
      "[[0.00585371 0.04515881 0.84746736 0.03505623 0.03419654 0.00446799\n",
      "  0.00944082 0.00883556 0.00106889 0.00845415]]\n",
      "['pullups_down']\n",
      "1/1 [==============================] - 0s 30ms/step\n",
      "[[0.00584202 0.04512704 0.8476431  0.03500729 0.03416667 0.00444923\n",
      "  0.00943532 0.00882523 0.00106804 0.00843609]]\n",
      "['pullups_down']\n"
     ]
    },
    {
     "name": "stderr",
     "output_type": "stream",
     "text": [
      "c:\\Users\\JR\\.conda\\envs\\solol\\Lib\\site-packages\\sklearn\\base.py:493: UserWarning: X does not have valid feature names, but StandardScaler was fitted with feature names\n",
      "  warnings.warn(\n",
      "c:\\Users\\JR\\.conda\\envs\\solol\\Lib\\site-packages\\sklearn\\base.py:493: UserWarning: X does not have valid feature names, but StandardScaler was fitted with feature names\n",
      "  warnings.warn(\n"
     ]
    },
    {
     "name": "stdout",
     "output_type": "stream",
     "text": [
      "1/1 [==============================] - 0s 30ms/step\n",
      "[[0.00583766 0.04512523 0.84772134 0.03501125 0.03411318 0.00444155\n",
      "  0.00942728 0.0088227  0.00106727 0.00843259]]\n",
      "['pullups_down']\n",
      "1/1 [==============================] - 0s 25ms/step\n",
      "[[0.00582945 0.04511892 0.8478562  0.03499273 0.03404181 0.00443142\n",
      "  0.00942072 0.00882031 0.00106598 0.00842242]]\n",
      "['pullups_down']\n"
     ]
    },
    {
     "name": "stderr",
     "output_type": "stream",
     "text": [
      "c:\\Users\\JR\\.conda\\envs\\solol\\Lib\\site-packages\\sklearn\\base.py:493: UserWarning: X does not have valid feature names, but StandardScaler was fitted with feature names\n",
      "  warnings.warn(\n",
      "c:\\Users\\JR\\.conda\\envs\\solol\\Lib\\site-packages\\sklearn\\base.py:493: UserWarning: X does not have valid feature names, but StandardScaler was fitted with feature names\n",
      "  warnings.warn(\n"
     ]
    },
    {
     "name": "stdout",
     "output_type": "stream",
     "text": [
      "1/1 [==============================] - 0s 31ms/step\n",
      "[[0.00583035 0.04510682 0.8478427  0.03499719 0.03406125 0.00443034\n",
      "  0.00942178 0.00882142 0.00106639 0.00842173]]\n",
      "['pullups_down']\n",
      "1/1 [==============================] - 0s 39ms/step\n"
     ]
    },
    {
     "name": "stderr",
     "output_type": "stream",
     "text": [
      "c:\\Users\\JR\\.conda\\envs\\solol\\Lib\\site-packages\\sklearn\\base.py:493: UserWarning: X does not have valid feature names, but StandardScaler was fitted with feature names\n",
      "  warnings.warn(\n",
      "c:\\Users\\JR\\.conda\\envs\\solol\\Lib\\site-packages\\sklearn\\base.py:493: UserWarning: X does not have valid feature names, but StandardScaler was fitted with feature names\n",
      "  warnings.warn(\n"
     ]
    },
    {
     "name": "stdout",
     "output_type": "stream",
     "text": [
      "[[0.00582661 0.0451044  0.847911   0.03499451 0.03401922 0.00442621\n",
      "  0.0094158  0.00881833 0.0010654  0.00841847]]\n",
      "['pullups_down']\n",
      "1/1 [==============================] - 0s 112ms/step\n",
      "[[0.0058271  0.04511654 0.8479049  0.0349976  0.03400976 0.00442665\n",
      "  0.00941321 0.00881901 0.00106549 0.00841972]]\n",
      "['pullups_down']\n",
      "1/1 [==============================] - 0s 25ms/step\n",
      "[[0.00583512 0.04512164 0.8477851  0.03501337 0.03406907 0.00443505\n",
      "  0.00942211 0.00882383 0.00106677 0.00842798]]\n",
      "['pullups_down']\n"
     ]
    },
    {
     "name": "stderr",
     "output_type": "stream",
     "text": [
      "c:\\Users\\JR\\.conda\\envs\\solol\\Lib\\site-packages\\sklearn\\base.py:493: UserWarning: X does not have valid feature names, but StandardScaler was fitted with feature names\n",
      "  warnings.warn(\n",
      "c:\\Users\\JR\\.conda\\envs\\solol\\Lib\\site-packages\\sklearn\\base.py:493: UserWarning: X does not have valid feature names, but StandardScaler was fitted with feature names\n",
      "  warnings.warn(\n"
     ]
    },
    {
     "name": "stdout",
     "output_type": "stream",
     "text": [
      "1/1 [==============================] - 0s 19ms/step\n",
      "[[0.0058132  0.04503774 0.8480754  0.03494437 0.03414001 0.00437546\n",
      "  0.00937591 0.00875984 0.00106667 0.00841138]]\n",
      "['pullups_down']\n",
      "1/1 [==============================] - 0s 24ms/step\n",
      "[[0.00580767 0.04499382 0.8481425  0.03492593 0.03414635 0.00436715\n",
      "  0.00938565 0.0087624  0.00106681 0.00840177]]\n",
      "['pullups_down']\n"
     ]
    },
    {
     "name": "stderr",
     "output_type": "stream",
     "text": [
      "c:\\Users\\JR\\.conda\\envs\\solol\\Lib\\site-packages\\sklearn\\base.py:493: UserWarning: X does not have valid feature names, but StandardScaler was fitted with feature names\n",
      "  warnings.warn(\n",
      "c:\\Users\\JR\\.conda\\envs\\solol\\Lib\\site-packages\\sklearn\\base.py:493: UserWarning: X does not have valid feature names, but StandardScaler was fitted with feature names\n",
      "  warnings.warn(\n"
     ]
    },
    {
     "name": "stdout",
     "output_type": "stream",
     "text": [
      "1/1 [==============================] - 0s 24ms/step\n",
      "[[0.00581658 0.04510099 0.84802806 0.03497576 0.03399726 0.00440525\n",
      "  0.00939845 0.00879676 0.00106508 0.00841574]]\n",
      "['pullups_down']\n",
      "1/1 [==============================] - 0s 24ms/step\n",
      "[[0.00581822 0.04511354 0.8480199  0.03497956 0.03398584 0.00440864\n",
      "  0.00939566 0.00879578 0.00106477 0.00841808]]\n",
      "['pullups_down']\n"
     ]
    },
    {
     "name": "stderr",
     "output_type": "stream",
     "text": [
      "c:\\Users\\JR\\.conda\\envs\\solol\\Lib\\site-packages\\sklearn\\base.py:493: UserWarning: X does not have valid feature names, but StandardScaler was fitted with feature names\n",
      "  warnings.warn(\n",
      "c:\\Users\\JR\\.conda\\envs\\solol\\Lib\\site-packages\\sklearn\\base.py:493: UserWarning: X does not have valid feature names, but StandardScaler was fitted with feature names\n",
      "  warnings.warn(\n"
     ]
    },
    {
     "name": "stdout",
     "output_type": "stream",
     "text": [
      "1/1 [==============================] - 0s 30ms/step\n",
      "[[0.00582305 0.04510804 0.84794223 0.0349957  0.03402678 0.00441342\n",
      "  0.00940323 0.00879875 0.00106557 0.00842315]]\n",
      "['pullups_down']\n",
      "1/1 [==============================] - 0s 30ms/step\n",
      "[[0.0058186  0.04512361 0.84801143 0.0349987  0.03396176 0.00440752\n",
      "  0.00939525 0.00879752 0.00106489 0.00842073]]\n",
      "['pullups_down']\n",
      "1/1 [==============================] - ETA: 0s"
     ]
    },
    {
     "name": "stderr",
     "output_type": "stream",
     "text": [
      "c:\\Users\\JR\\.conda\\envs\\solol\\Lib\\site-packages\\sklearn\\base.py:493: UserWarning: X does not have valid feature names, but StandardScaler was fitted with feature names\n",
      "  warnings.warn(\n",
      "c:\\Users\\JR\\.conda\\envs\\solol\\Lib\\site-packages\\sklearn\\base.py:493: UserWarning: X does not have valid feature names, but StandardScaler was fitted with feature names\n",
      "  warnings.warn(\n"
     ]
    },
    {
     "name": "stdout",
     "output_type": "stream",
     "text": [
      "1/1 [==============================] - 0s 30ms/step\n",
      "[[0.00581711 0.04509826 0.8480447  0.03499354 0.03398067 0.00440002\n",
      "  0.00939166 0.00878926 0.00106477 0.00841995]]\n",
      "['pullups_down']\n",
      "1/1 [==============================] - 0s 30ms/step\n",
      "[[0.0057946  0.04504114 0.8483954  0.03494268 0.03386672 0.00436457\n",
      "  0.00936943 0.0087692  0.00106194 0.0083943 ]]\n",
      "['pullups_down']\n",
      "1/1 [==============================] - ETA: 0s"
     ]
    },
    {
     "name": "stderr",
     "output_type": "stream",
     "text": [
      "c:\\Users\\JR\\.conda\\envs\\solol\\Lib\\site-packages\\sklearn\\base.py:493: UserWarning: X does not have valid feature names, but StandardScaler was fitted with feature names\n",
      "  warnings.warn(\n",
      "c:\\Users\\JR\\.conda\\envs\\solol\\Lib\\site-packages\\sklearn\\base.py:493: UserWarning: X does not have valid feature names, but StandardScaler was fitted with feature names\n",
      "  warnings.warn(\n"
     ]
    },
    {
     "name": "stdout",
     "output_type": "stream",
     "text": [
      "1/1 [==============================] - 0s 29ms/step\n",
      "[[0.00577576 0.04497051 0.8486709  0.03488134 0.03382552 0.00433151\n",
      "  0.00935839 0.00875851 0.00106109 0.00836646]]\n",
      "['pullups_down']\n",
      "1/1 [==============================] - 0s 22ms/step\n",
      "[[0.00576861 0.04496711 0.8487747  0.0348868  0.03374936 0.0043216\n",
      "  0.0093529  0.00876057 0.00106023 0.00835816]]\n",
      "['pullups_down']\n",
      "1/1 [==============================] - ETA: 0s"
     ]
    },
    {
     "name": "stderr",
     "output_type": "stream",
     "text": [
      "c:\\Users\\JR\\.conda\\envs\\solol\\Lib\\site-packages\\sklearn\\base.py:493: UserWarning: X does not have valid feature names, but StandardScaler was fitted with feature names\n",
      "  warnings.warn(\n",
      "c:\\Users\\JR\\.conda\\envs\\solol\\Lib\\site-packages\\sklearn\\base.py:493: UserWarning: X does not have valid feature names, but StandardScaler was fitted with feature names\n",
      "  warnings.warn(\n"
     ]
    },
    {
     "name": "stdout",
     "output_type": "stream",
     "text": [
      "1/1 [==============================] - 0s 30ms/step\n",
      "[[0.00576397 0.04497579 0.84885204 0.03488123 0.03367331 0.00432189\n",
      "  0.00935196 0.0087679  0.001059   0.00835288]]\n",
      "['pullups_down']\n",
      "1/1 [==============================] - 0s 20ms/step\n",
      "[[0.00575658 0.04499722 0.8489727  0.03486718 0.0335581  0.00432234\n",
      "  0.00934877 0.0087749  0.00105705 0.00834518]]\n"
     ]
    },
    {
     "name": "stderr",
     "output_type": "stream",
     "text": [
      "c:\\Users\\JR\\.conda\\envs\\solol\\Lib\\site-packages\\sklearn\\base.py:493: UserWarning: X does not have valid feature names, but StandardScaler was fitted with feature names\n",
      "  warnings.warn(\n",
      "c:\\Users\\JR\\.conda\\envs\\solol\\Lib\\site-packages\\sklearn\\base.py:493: UserWarning: X does not have valid feature names, but StandardScaler was fitted with feature names\n",
      "  warnings.warn(\n"
     ]
    },
    {
     "name": "stdout",
     "output_type": "stream",
     "text": [
      "['pullups_down']\n",
      "1/1 [==============================] - 0s 22ms/step\n",
      "[[0.00576323 0.04498693 0.8488726  0.03486995 0.03363088 0.00432874\n",
      "  0.00936078 0.00877949 0.00105832 0.00834911]]\n",
      "['pullups_down']\n",
      "1/1 [==============================] - 0s 33ms/step\n"
     ]
    },
    {
     "name": "stderr",
     "output_type": "stream",
     "text": [
      "c:\\Users\\JR\\.conda\\envs\\solol\\Lib\\site-packages\\sklearn\\base.py:493: UserWarning: X does not have valid feature names, but StandardScaler was fitted with feature names\n",
      "  warnings.warn(\n"
     ]
    },
    {
     "name": "stdout",
     "output_type": "stream",
     "text": [
      "[[0.00576212 0.04499086 0.8488935  0.03486603 0.03361636 0.00432866\n",
      "  0.00935774 0.00877766 0.00105789 0.00834912]]\n",
      "['pullups_down']\n",
      "1/1 [==============================] - 0s 20ms/step\n",
      "[[0.00575856 0.04499889 0.84895384 0.03486924 0.03356319 0.00432562\n",
      "  0.00935081 0.00877503 0.00105691 0.00834793]]\n",
      "['pullups_down']\n",
      "1/1 [==============================] - ETA: 0s"
     ]
    },
    {
     "name": "stderr",
     "output_type": "stream",
     "text": [
      "c:\\Users\\JR\\.conda\\envs\\solol\\Lib\\site-packages\\sklearn\\base.py:493: UserWarning: X does not have valid feature names, but StandardScaler was fitted with feature names\n",
      "  warnings.warn(\n",
      "c:\\Users\\JR\\.conda\\envs\\solol\\Lib\\site-packages\\sklearn\\base.py:493: UserWarning: X does not have valid feature names, but StandardScaler was fitted with feature names\n",
      "  warnings.warn(\n"
     ]
    },
    {
     "name": "stdout",
     "output_type": "stream",
     "text": [
      "1/1 [==============================] - 0s 30ms/step\n",
      "[[0.00575989 0.04498932 0.8489249  0.03487243 0.03359209 0.00432538\n",
      "  0.00935544 0.00877442 0.0010574  0.0083488 ]]\n",
      "['pullups_down']\n",
      "1/1 [==============================] - 0s 30ms/step\n",
      "[[0.00575994 0.04499285 0.84892446 0.03487592 0.03358725 0.00432695\n",
      "  0.00934889 0.0087756  0.00105734 0.00835074]]\n",
      "['pullups_down']\n",
      "1/1 [==============================] - 0s 20ms/step\n"
     ]
    },
    {
     "name": "stderr",
     "output_type": "stream",
     "text": [
      "c:\\Users\\JR\\.conda\\envs\\solol\\Lib\\site-packages\\sklearn\\base.py:493: UserWarning: X does not have valid feature names, but StandardScaler was fitted with feature names\n",
      "  warnings.warn(\n",
      "c:\\Users\\JR\\.conda\\envs\\solol\\Lib\\site-packages\\sklearn\\base.py:493: UserWarning: X does not have valid feature names, but StandardScaler was fitted with feature names\n",
      "  warnings.warn(\n"
     ]
    },
    {
     "name": "stdout",
     "output_type": "stream",
     "text": [
      "[[0.00576365 0.04498271 0.84886384 0.03487671 0.033647   0.00433047\n",
      "  0.00935256 0.00877114 0.00105787 0.00835409]]\n",
      "['pullups_down']\n",
      "1/1 [==============================] - 0s 24ms/step\n",
      "[[0.00579136 0.04499021 0.84840655 0.03491313 0.03389112 0.00436658\n",
      "  0.00940513 0.00879894 0.00106298 0.00837396]]\n",
      "['pullups_down']\n",
      "1/1 [==============================] - ETA: 0s"
     ]
    },
    {
     "name": "stderr",
     "output_type": "stream",
     "text": [
      "c:\\Users\\JR\\.conda\\envs\\solol\\Lib\\site-packages\\sklearn\\base.py:493: UserWarning: X does not have valid feature names, but StandardScaler was fitted with feature names\n",
      "  warnings.warn(\n",
      "c:\\Users\\JR\\.conda\\envs\\solol\\Lib\\site-packages\\sklearn\\base.py:493: UserWarning: X does not have valid feature names, but StandardScaler was fitted with feature names\n",
      "  warnings.warn(\n"
     ]
    },
    {
     "name": "stdout",
     "output_type": "stream",
     "text": [
      "1/1 [==============================] - 0s 22ms/step\n",
      "[[0.00579902 0.04499707 0.8482911  0.03492223 0.0339398  0.00438014\n",
      "  0.00942082 0.00880614 0.00106366 0.00838005]]\n",
      "['pullups_down']\n",
      "1/1 [==============================] - 0s 20ms/step\n",
      "[[0.00580319 0.04500956 0.8482281  0.03493093 0.03395518 0.00438734\n",
      "  0.00942466 0.00881224 0.0010642  0.00838446]]\n",
      "['pullups_down']\n",
      "1/1 [==============================] - 0s 30ms/step\n"
     ]
    },
    {
     "name": "stderr",
     "output_type": "stream",
     "text": [
      "c:\\Users\\JR\\.conda\\envs\\solol\\Lib\\site-packages\\sklearn\\base.py:493: UserWarning: X does not have valid feature names, but StandardScaler was fitted with feature names\n",
      "  warnings.warn(\n",
      "c:\\Users\\JR\\.conda\\envs\\solol\\Lib\\site-packages\\sklearn\\base.py:493: UserWarning: X does not have valid feature names, but StandardScaler was fitted with feature names\n",
      "  warnings.warn(\n"
     ]
    },
    {
     "name": "stdout",
     "output_type": "stream",
     "text": [
      "[[0.00580627 0.0450059  0.8481706  0.03492487 0.03400015 0.00439036\n",
      "  0.00943684 0.00881648 0.00106526 0.00838323]]\n",
      "['pullups_down']\n",
      "1/1 [==============================] - 0s 29ms/step\n",
      "[[0.00580419 0.04501705 0.8482038  0.03492048 0.03396102 0.00439063\n",
      "  0.00943739 0.00882019 0.0010648  0.00838047]]\n",
      "['pullups_down']\n",
      "1/1 [==============================] - 0s 20ms/step\n"
     ]
    },
    {
     "name": "stderr",
     "output_type": "stream",
     "text": [
      "c:\\Users\\JR\\.conda\\envs\\solol\\Lib\\site-packages\\sklearn\\base.py:493: UserWarning: X does not have valid feature names, but StandardScaler was fitted with feature names\n",
      "  warnings.warn(\n",
      "c:\\Users\\JR\\.conda\\envs\\solol\\Lib\\site-packages\\sklearn\\base.py:493: UserWarning: X does not have valid feature names, but StandardScaler was fitted with feature names\n",
      "  warnings.warn(\n"
     ]
    },
    {
     "name": "stdout",
     "output_type": "stream",
     "text": [
      "[[0.00580221 0.04502553 0.84824216 0.03491141 0.03392817 0.00439141\n",
      "  0.00943505 0.00882176 0.00106414 0.00837817]]\n",
      "['pullups_down']\n",
      "1/1 [==============================] - 0s 26ms/step\n",
      "[[0.00580212 0.04502512 0.8482425  0.03491455 0.03393091 0.00438915\n",
      "  0.00943214 0.00882045 0.00106434 0.00837869]]\n",
      "['pullups_down']\n",
      "1/1 [==============================] - 0s 21ms/step\n"
     ]
    },
    {
     "name": "stderr",
     "output_type": "stream",
     "text": [
      "c:\\Users\\JR\\.conda\\envs\\solol\\Lib\\site-packages\\sklearn\\base.py:493: UserWarning: X does not have valid feature names, but StandardScaler was fitted with feature names\n",
      "  warnings.warn(\n",
      "c:\\Users\\JR\\.conda\\envs\\solol\\Lib\\site-packages\\sklearn\\base.py:493: UserWarning: X does not have valid feature names, but StandardScaler was fitted with feature names\n",
      "  warnings.warn(\n"
     ]
    },
    {
     "name": "stdout",
     "output_type": "stream",
     "text": [
      "[[0.00580515 0.04501635 0.8481878  0.03491394 0.0339863  0.00438919\n",
      "  0.00943566 0.00881984 0.00106544 0.00838037]]\n",
      "['pullups_down']\n",
      "1/1 [==============================] - 0s 26ms/step\n",
      "[[0.00580614 0.04501    0.8481717  0.03491222 0.03400944 0.00438897\n",
      "  0.00943625 0.00881877 0.00106579 0.00838072]]\n",
      "['pullups_down']\n"
     ]
    },
    {
     "name": "stderr",
     "output_type": "stream",
     "text": [
      "c:\\Users\\JR\\.conda\\envs\\solol\\Lib\\site-packages\\sklearn\\base.py:493: UserWarning: X does not have valid feature names, but StandardScaler was fitted with feature names\n",
      "  warnings.warn(\n",
      "c:\\Users\\JR\\.conda\\envs\\solol\\Lib\\site-packages\\sklearn\\base.py:493: UserWarning: X does not have valid feature names, but StandardScaler was fitted with feature names\n",
      "  warnings.warn(\n"
     ]
    },
    {
     "name": "stdout",
     "output_type": "stream",
     "text": [
      "1/1 [==============================] - 0s 29ms/step\n",
      "[[0.00579346 0.04501652 0.848373   0.03489712 0.03387713 0.00438047\n",
      "  0.00941552 0.0088135  0.00106295 0.00837036]]\n",
      "['pullups_down']\n",
      "1/1 [==============================] - 0s 30ms/step\n",
      "[[0.00578875 0.0450176  0.84845704 0.03488132 0.03383422 0.00437591\n",
      "  0.00940747 0.00881052 0.00106197 0.00836521]]\n",
      "['pullups_down']\n"
     ]
    },
    {
     "name": "stderr",
     "output_type": "stream",
     "text": [
      "c:\\Users\\JR\\.conda\\envs\\solol\\Lib\\site-packages\\sklearn\\base.py:493: UserWarning: X does not have valid feature names, but StandardScaler was fitted with feature names\n",
      "  warnings.warn(\n",
      "c:\\Users\\JR\\.conda\\envs\\solol\\Lib\\site-packages\\sklearn\\base.py:493: UserWarning: X does not have valid feature names, but StandardScaler was fitted with feature names\n",
      "  warnings.warn(\n"
     ]
    },
    {
     "name": "stdout",
     "output_type": "stream",
     "text": [
      "1/1 [==============================] - 0s 29ms/step\n",
      "[[0.00579055 0.04501175 0.84842104 0.03488429 0.03386948 0.00437415\n",
      "  0.00940923 0.00881014 0.00106288 0.00836652]]\n",
      "['pullups_down']\n",
      "1/1 [==============================] - 0s 20ms/step\n",
      "[[0.00578781 0.04500892 0.8484662  0.03487305 0.03384931 0.00437291\n",
      "  0.00940775 0.00880912 0.00106223 0.00836278]]\n",
      "['pullups_down']\n",
      "1/1 [==============================] - ETA: 0s"
     ]
    },
    {
     "name": "stderr",
     "output_type": "stream",
     "text": [
      "c:\\Users\\JR\\.conda\\envs\\solol\\Lib\\site-packages\\sklearn\\base.py:493: UserWarning: X does not have valid feature names, but StandardScaler was fitted with feature names\n",
      "  warnings.warn(\n",
      "c:\\Users\\JR\\.conda\\envs\\solol\\Lib\\site-packages\\sklearn\\base.py:493: UserWarning: X does not have valid feature names, but StandardScaler was fitted with feature names\n",
      "  warnings.warn(\n"
     ]
    },
    {
     "name": "stdout",
     "output_type": "stream",
     "text": [
      "1/1 [==============================] - 0s 23ms/step\n",
      "[[0.00578823 0.04500182 0.84845805 0.03487632 0.03386278 0.00437168\n",
      "  0.00940818 0.00880702 0.00106237 0.00836349]]\n",
      "['pullups_down']\n",
      "1/1 [==============================] - 0s 28ms/step\n",
      "[[0.00578529 0.04501661 0.8485217  0.03487388 0.03379513 0.00437313\n",
      "  0.00940332 0.00880805 0.00106095 0.00836186]]\n",
      "['pullups_down']\n",
      "1/1 [==============================] - ETA: 0s"
     ]
    },
    {
     "name": "stderr",
     "output_type": "stream",
     "text": [
      "c:\\Users\\JR\\.conda\\envs\\solol\\Lib\\site-packages\\sklearn\\base.py:493: UserWarning: X does not have valid feature names, but StandardScaler was fitted with feature names\n",
      "  warnings.warn(\n",
      "c:\\Users\\JR\\.conda\\envs\\solol\\Lib\\site-packages\\sklearn\\base.py:493: UserWarning: X does not have valid feature names, but StandardScaler was fitted with feature names\n",
      "  warnings.warn(\n"
     ]
    },
    {
     "name": "stdout",
     "output_type": "stream",
     "text": [
      "1/1 [==============================] - 0s 29ms/step\n",
      "[[0.00578807 0.04501347 0.8484733  0.0348804  0.03382982 0.0043739\n",
      "  0.00940623 0.00880858 0.00106176 0.00836443]]\n",
      "['pullups_down']\n",
      "1/1 [==============================] - 0s 31ms/step\n",
      "[[0.00578736 0.04501587 0.8484857  0.03488095 0.03381716 0.00437368\n",
      "  0.00940483 0.0088088  0.00106154 0.00836409]]\n",
      "['pullups_down']\n",
      "1/1 [==============================] - 0s 30ms/step\n"
     ]
    },
    {
     "name": "stderr",
     "output_type": "stream",
     "text": [
      "c:\\Users\\JR\\.conda\\envs\\solol\\Lib\\site-packages\\sklearn\\base.py:493: UserWarning: X does not have valid feature names, but StandardScaler was fitted with feature names\n",
      "  warnings.warn(\n",
      "c:\\Users\\JR\\.conda\\envs\\solol\\Lib\\site-packages\\sklearn\\base.py:493: UserWarning: X does not have valid feature names, but StandardScaler was fitted with feature names\n",
      "  warnings.warn(\n"
     ]
    },
    {
     "name": "stdout",
     "output_type": "stream",
     "text": [
      "[[0.00578708 0.04501519 0.8484854  0.03489482 0.03381071 0.0043701\n",
      "  0.00940065 0.00880806 0.00106181 0.00836618]]\n",
      "['pullups_down']\n",
      "1/1 [==============================] - 0s 25ms/step\n",
      "[[0.00573788 0.04512909 0.8493058  0.03484428 0.03317139 0.0043218\n",
      "  0.00931953 0.00878485 0.00105133 0.00833399]]\n",
      "['pullups_down']\n"
     ]
    },
    {
     "name": "stderr",
     "output_type": "stream",
     "text": [
      "c:\\Users\\JR\\.conda\\envs\\solol\\Lib\\site-packages\\sklearn\\base.py:493: UserWarning: X does not have valid feature names, but StandardScaler was fitted with feature names\n",
      "  warnings.warn(\n",
      "c:\\Users\\JR\\.conda\\envs\\solol\\Lib\\site-packages\\sklearn\\base.py:493: UserWarning: X does not have valid feature names, but StandardScaler was fitted with feature names\n",
      "  warnings.warn(\n"
     ]
    },
    {
     "name": "stdout",
     "output_type": "stream",
     "text": [
      "1/1 [==============================] - 0s 80ms/step\n",
      "[[0.00570118 0.04512323 0.8498756  0.03474496 0.03288657 0.00428867\n",
      "  0.0092777  0.00876478 0.00104491 0.00829237]]\n",
      "['pullups_down']\n",
      "1/1 [==============================] - 0s 21ms/step\n",
      "[[0.00569669 0.04515614 0.84993476 0.03474596 0.03283373 0.00428194\n",
      "  0.00926003 0.00875124 0.00104402 0.0082955 ]]\n",
      "['pullups_down']\n",
      "1/1 [==============================] - ETA: 0s"
     ]
    },
    {
     "name": "stderr",
     "output_type": "stream",
     "text": [
      "c:\\Users\\JR\\.conda\\envs\\solol\\Lib\\site-packages\\sklearn\\base.py:493: UserWarning: X does not have valid feature names, but StandardScaler was fitted with feature names\n",
      "  warnings.warn(\n",
      "c:\\Users\\JR\\.conda\\envs\\solol\\Lib\\site-packages\\sklearn\\base.py:493: UserWarning: X does not have valid feature names, but StandardScaler was fitted with feature names\n",
      "  warnings.warn(\n"
     ]
    },
    {
     "name": "stdout",
     "output_type": "stream",
     "text": [
      "1/1 [==============================] - 0s 19ms/step\n",
      "[[0.00569805 0.04509318 0.8498299  0.03473142 0.03307882 0.00424416\n",
      "  0.00925884 0.00872049 0.00104998 0.00829523]]\n",
      "['pullups_down']\n",
      "1/1 [==============================] - 0s 28ms/step\n",
      "[[0.00570047 0.04509389 0.8497802  0.03473612 0.03311297 0.00424412\n",
      "  0.00926171 0.00872143 0.00105097 0.00829802]]\n",
      "['pullups_down']\n",
      "1/1 [==============================] - ETA: 0s"
     ]
    },
    {
     "name": "stderr",
     "output_type": "stream",
     "text": [
      "c:\\Users\\JR\\.conda\\envs\\solol\\Lib\\site-packages\\sklearn\\base.py:493: UserWarning: X does not have valid feature names, but StandardScaler was fitted with feature names\n",
      "  warnings.warn(\n",
      "c:\\Users\\JR\\.conda\\envs\\solol\\Lib\\site-packages\\sklearn\\base.py:493: UserWarning: X does not have valid feature names, but StandardScaler was fitted with feature names\n",
      "  warnings.warn(\n"
     ]
    },
    {
     "name": "stdout",
     "output_type": "stream",
     "text": [
      "1/1 [==============================] - 0s 30ms/step\n",
      "[[0.00571104 0.04510476 0.84959835 0.0347807  0.03319353 0.00425181\n",
      "  0.00926778 0.00872544 0.00105315 0.00831354]]\n",
      "['pullups_down']\n",
      "1/1 [==============================] - 0s 30ms/step\n",
      "[[0.00570595 0.04509397 0.8496896  0.03477778 0.03314876 0.00424491\n",
      "  0.00925882 0.00871838 0.0010519  0.00831001]]\n",
      "['pullups_down']\n",
      "1/1 [==============================] - ETA: 0s"
     ]
    },
    {
     "name": "stderr",
     "output_type": "stream",
     "text": [
      "c:\\Users\\JR\\.conda\\envs\\solol\\Lib\\site-packages\\sklearn\\base.py:493: UserWarning: X does not have valid feature names, but StandardScaler was fitted with feature names\n",
      "  warnings.warn(\n",
      "c:\\Users\\JR\\.conda\\envs\\solol\\Lib\\site-packages\\sklearn\\base.py:493: UserWarning: X does not have valid feature names, but StandardScaler was fitted with feature names\n",
      "  warnings.warn(\n"
     ]
    },
    {
     "name": "stdout",
     "output_type": "stream",
     "text": [
      "1/1 [==============================] - 0s 30ms/step\n",
      "[[0.00569509 0.04505729 0.8498555  0.03472566 0.03312375 0.00423241\n",
      "  0.0092556  0.00871042 0.00105064 0.00829365]]\n",
      "['pullups_down']\n",
      "1/1 [==============================] - 0s 29ms/step\n",
      "[[0.00569558 0.04506161 0.84984744 0.034738   0.03311453 0.00423292\n",
      "  0.00925259 0.00871065 0.00105053 0.00829613]]\n",
      "['pullups_down']\n",
      "1/1 [==============================] - 0s 20ms/step\n"
     ]
    },
    {
     "name": "stderr",
     "output_type": "stream",
     "text": [
      "c:\\Users\\JR\\.conda\\envs\\solol\\Lib\\site-packages\\sklearn\\base.py:493: UserWarning: X does not have valid feature names, but StandardScaler was fitted with feature names\n",
      "  warnings.warn(\n",
      "c:\\Users\\JR\\.conda\\envs\\solol\\Lib\\site-packages\\sklearn\\base.py:493: UserWarning: X does not have valid feature names, but StandardScaler was fitted with feature names\n",
      "  warnings.warn(\n"
     ]
    },
    {
     "name": "stdout",
     "output_type": "stream",
     "text": [
      "[[0.0056834  0.04503545 0.8500379  0.03468331 0.03305883 0.00422188\n",
      "  0.00924793 0.00870408 0.00104866 0.00827865]]\n",
      "['pullups_down']\n",
      "1/1 [==============================] - 0s 28ms/step\n",
      "[[0.00568385 0.04505237 0.85004616 0.03469155 0.03302051 0.00422685\n",
      "  0.00924391 0.00870608 0.0010478  0.00828096]]\n",
      "['pullups_down']\n"
     ]
    },
    {
     "name": "stderr",
     "output_type": "stream",
     "text": [
      "c:\\Users\\JR\\.conda\\envs\\solol\\Lib\\site-packages\\sklearn\\base.py:493: UserWarning: X does not have valid feature names, but StandardScaler was fitted with feature names\n",
      "  warnings.warn(\n",
      "c:\\Users\\JR\\.conda\\envs\\solol\\Lib\\site-packages\\sklearn\\base.py:493: UserWarning: X does not have valid feature names, but StandardScaler was fitted with feature names\n",
      "  warnings.warn(\n"
     ]
    },
    {
     "name": "stdout",
     "output_type": "stream",
     "text": [
      "1/1 [==============================] - 0s 24ms/step\n",
      "[[0.00568411 0.04506199 0.85005033 0.03469857 0.03299648 0.00422946\n",
      "  0.00924165 0.00870758 0.00104731 0.00828238]]\n",
      "['pullups_down']\n",
      "1/1 [==============================] - 0s 20ms/step\n",
      "[[0.00568365 0.04504944 0.85005546 0.03469293 0.03301414 0.0042271\n",
      "  0.00924319 0.00870611 0.00104753 0.00828041]]\n",
      "['pullups_down']\n"
     ]
    },
    {
     "name": "stderr",
     "output_type": "stream",
     "text": [
      "c:\\Users\\JR\\.conda\\envs\\solol\\Lib\\site-packages\\sklearn\\base.py:493: UserWarning: X does not have valid feature names, but StandardScaler was fitted with feature names\n",
      "  warnings.warn(\n",
      "c:\\Users\\JR\\.conda\\envs\\solol\\Lib\\site-packages\\sklearn\\base.py:493: UserWarning: X does not have valid feature names, but StandardScaler was fitted with feature names\n",
      "  warnings.warn(\n"
     ]
    },
    {
     "name": "stdout",
     "output_type": "stream",
     "text": [
      "1/1 [==============================] - 0s 40ms/step\n",
      "[[0.00568278 0.04503272 0.8500619  0.03468451 0.03304125 0.004223\n",
      "  0.00924535 0.0087028  0.00104789 0.00827778]]\n",
      "['pullups_down']\n",
      "1/1 [==============================] - 0s 23ms/step\n",
      "[[0.00567927 0.04501452 0.85011065 0.03466606 0.03304899 0.0042166\n",
      "  0.00924516 0.00869905 0.00104789 0.00827181]]\n",
      "['pullups_down']\n"
     ]
    },
    {
     "name": "stderr",
     "output_type": "stream",
     "text": [
      "c:\\Users\\JR\\.conda\\envs\\solol\\Lib\\site-packages\\sklearn\\base.py:493: UserWarning: X does not have valid feature names, but StandardScaler was fitted with feature names\n",
      "  warnings.warn(\n",
      "c:\\Users\\JR\\.conda\\envs\\solol\\Lib\\site-packages\\sklearn\\base.py:493: UserWarning: X does not have valid feature names, but StandardScaler was fitted with feature names\n",
      "  warnings.warn(\n"
     ]
    },
    {
     "name": "stdout",
     "output_type": "stream",
     "text": [
      "1/1 [==============================] - 0s 29ms/step\n",
      "[[0.00568124 0.04502183 0.85008216 0.03467591 0.03304959 0.00421956\n",
      "  0.00924596 0.00870114 0.00104801 0.00827465]]\n",
      "['pullups_down']\n",
      "1/1 [==============================] - 0s 21ms/step\n",
      "[[0.00567955 0.04500799 0.8501064  0.03466132 0.03306455 0.00421606\n",
      "  0.00924718 0.00869811 0.00104806 0.00827082]]\n",
      "['pullups_down']\n"
     ]
    },
    {
     "name": "stderr",
     "output_type": "stream",
     "text": [
      "c:\\Users\\JR\\.conda\\envs\\solol\\Lib\\site-packages\\sklearn\\base.py:493: UserWarning: X does not have valid feature names, but StandardScaler was fitted with feature names\n",
      "  warnings.warn(\n",
      "c:\\Users\\JR\\.conda\\envs\\solol\\Lib\\site-packages\\sklearn\\base.py:493: UserWarning: X does not have valid feature names, but StandardScaler was fitted with feature names\n",
      "  warnings.warn(\n"
     ]
    },
    {
     "name": "stdout",
     "output_type": "stream",
     "text": [
      "1/1 [==============================] - 0s 19ms/step\n",
      "[[0.00567935 0.04500597 0.85010874 0.03466119 0.03306659 0.00421515\n",
      "  0.0092466  0.00869774 0.00104813 0.0082705 ]]\n",
      "['pullups_down']\n",
      "1/1 [==============================] - 0s 29ms/step\n",
      "[[0.00567963 0.0450094  0.8501066  0.03466302 0.03306319 0.00421576\n",
      "  0.00924511 0.00869797 0.0010481  0.00827124]]\n",
      "['pullups_down']\n",
      "1/1 [==============================] - ETA: 0s"
     ]
    },
    {
     "name": "stderr",
     "output_type": "stream",
     "text": [
      "c:\\Users\\JR\\.conda\\envs\\solol\\Lib\\site-packages\\sklearn\\base.py:493: UserWarning: X does not have valid feature names, but StandardScaler was fitted with feature names\n",
      "  warnings.warn(\n",
      "c:\\Users\\JR\\.conda\\envs\\solol\\Lib\\site-packages\\sklearn\\base.py:493: UserWarning: X does not have valid feature names, but StandardScaler was fitted with feature names\n",
      "  warnings.warn(\n"
     ]
    },
    {
     "name": "stdout",
     "output_type": "stream",
     "text": [
      "1/1 [==============================] - 0s 29ms/step\n",
      "[[0.00567727 0.04499436 0.85013753 0.03464858 0.03307338 0.00421166\n",
      "  0.00924652 0.0086958  0.00104814 0.00826675]]\n",
      "['pullups_down']\n",
      "1/1 [==============================] - 0s 30ms/step\n",
      "[[0.00567605 0.04499387 0.85015726 0.03464486 0.03306242 0.0042111\n",
      "  0.00924563 0.00869551 0.00104785 0.00826542]]\n",
      "['pullups_down']\n",
      "1/1 [==============================] - 0s 21ms/step\n"
     ]
    },
    {
     "name": "stderr",
     "output_type": "stream",
     "text": [
      "c:\\Users\\JR\\.conda\\envs\\solol\\Lib\\site-packages\\sklearn\\base.py:493: UserWarning: X does not have valid feature names, but StandardScaler was fitted with feature names\n",
      "  warnings.warn(\n",
      "c:\\Users\\JR\\.conda\\envs\\solol\\Lib\\site-packages\\sklearn\\base.py:493: UserWarning: X does not have valid feature names, but StandardScaler was fitted with feature names\n",
      "  warnings.warn(\n"
     ]
    },
    {
     "name": "stdout",
     "output_type": "stream",
     "text": [
      "[[0.00567685 0.04498333 0.85013825 0.03464302 0.03309316 0.00420945\n",
      "  0.00924817 0.00869431 0.00104843 0.00826512]]\n",
      "['pullups_down']\n",
      "1/1 [==============================] - 0s 30ms/step\n",
      "[[0.00567624 0.0449844  0.85015124 0.03463976 0.03308394 0.00420969\n",
      "  0.00924825 0.00869402 0.00104815 0.00826432]]\n",
      "['pullups_down']\n",
      "1/1 [==============================] - ETA: 0s"
     ]
    },
    {
     "name": "stderr",
     "output_type": "stream",
     "text": [
      "c:\\Users\\JR\\.conda\\envs\\solol\\Lib\\site-packages\\sklearn\\base.py:493: UserWarning: X does not have valid feature names, but StandardScaler was fitted with feature names\n",
      "  warnings.warn(\n",
      "c:\\Users\\JR\\.conda\\envs\\solol\\Lib\\site-packages\\sklearn\\base.py:493: UserWarning: X does not have valid feature names, but StandardScaler was fitted with feature names\n",
      "  warnings.warn(\n"
     ]
    },
    {
     "name": "stdout",
     "output_type": "stream",
     "text": [
      "1/1 [==============================] - 0s 22ms/step\n",
      "[[0.00567707 0.04499093 0.85014683 0.03464419 0.03306938 0.00421315\n",
      "  0.00924836 0.00869648 0.00104779 0.00826571]]\n",
      "['pullups_down']\n",
      "1/1 [==============================] - 0s 20ms/step\n",
      "[[0.00570079 0.04502811 0.8498005  0.03472969 0.03317406 0.00424516\n",
      "  0.00926464 0.00871053 0.00104982 0.00829661]]\n",
      "['pullups_down']\n",
      "1/1 [==============================] - 0s 21ms/step\n"
     ]
    },
    {
     "name": "stderr",
     "output_type": "stream",
     "text": [
      "c:\\Users\\JR\\.conda\\envs\\solol\\Lib\\site-packages\\sklearn\\base.py:493: UserWarning: X does not have valid feature names, but StandardScaler was fitted with feature names\n",
      "  warnings.warn(\n",
      "c:\\Users\\JR\\.conda\\envs\\solol\\Lib\\site-packages\\sklearn\\base.py:493: UserWarning: X does not have valid feature names, but StandardScaler was fitted with feature names\n",
      "  warnings.warn(\n"
     ]
    },
    {
     "name": "stdout",
     "output_type": "stream",
     "text": [
      "[[0.00570831 0.04501914 0.8497049  0.03472577 0.03323783 0.00425741\n",
      "  0.0092793  0.00871623 0.0010503  0.00830081]]\n",
      "['pullups_down']\n",
      "1/1 [==============================] - 0s 31ms/step\n",
      "[[0.00579524 0.04498256 0.84835935 0.0349186  0.03395335 0.00436614\n",
      "  0.00939335 0.00878751 0.00106342 0.00838042]]\n",
      "['pullups_down']\n"
     ]
    },
    {
     "name": "stderr",
     "output_type": "stream",
     "text": [
      "c:\\Users\\JR\\.conda\\envs\\solol\\Lib\\site-packages\\sklearn\\base.py:493: UserWarning: X does not have valid feature names, but StandardScaler was fitted with feature names\n",
      "  warnings.warn(\n",
      "c:\\Users\\JR\\.conda\\envs\\solol\\Lib\\site-packages\\sklearn\\base.py:493: UserWarning: X does not have valid feature names, but StandardScaler was fitted with feature names\n",
      "  warnings.warn(\n"
     ]
    },
    {
     "name": "stdout",
     "output_type": "stream",
     "text": [
      "1/1 [==============================] - 0s 22ms/step\n",
      "[[0.00580668 0.04495471 0.84817016 0.03491994 0.03410659 0.00438125\n",
      "  0.00941565 0.00879394 0.00106545 0.00838567]]\n",
      "['pullups_down']\n",
      "1/1 [==============================] - 0s 30ms/step\n",
      "[[0.00580735 0.04492849 0.8481573  0.0348993  0.03417252 0.00437998\n",
      "  0.00941931 0.00878769 0.0010659  0.00838213]]\n",
      "['pullups_down']\n"
     ]
    },
    {
     "name": "stderr",
     "output_type": "stream",
     "text": [
      "c:\\Users\\JR\\.conda\\envs\\solol\\Lib\\site-packages\\sklearn\\base.py:493: UserWarning: X does not have valid feature names, but StandardScaler was fitted with feature names\n",
      "  warnings.warn(\n",
      "c:\\Users\\JR\\.conda\\envs\\solol\\Lib\\site-packages\\sklearn\\base.py:493: UserWarning: X does not have valid feature names, but StandardScaler was fitted with feature names\n",
      "  warnings.warn(\n"
     ]
    },
    {
     "name": "stdout",
     "output_type": "stream",
     "text": [
      "1/1 [==============================] - 0s 162ms/step\n",
      "[[0.0058105  0.04492711 0.8481118  0.03492293 0.03417832 0.00438557\n",
      "  0.00942372 0.00878671 0.00106552 0.00838783]]\n",
      "['pullups_down']\n",
      "1/1 [==============================] - 0s 30ms/step\n",
      "[[0.00582833 0.04495252 0.8478616  0.03500729 0.03424104 0.00440522\n",
      "  0.00943295 0.00878879 0.00106647 0.00841582]]\n",
      "['pullups_down']\n"
     ]
    },
    {
     "name": "stderr",
     "output_type": "stream",
     "text": [
      "c:\\Users\\JR\\.conda\\envs\\solol\\Lib\\site-packages\\sklearn\\base.py:493: UserWarning: X does not have valid feature names, but StandardScaler was fitted with feature names\n",
      "  warnings.warn(\n",
      "c:\\Users\\JR\\.conda\\envs\\solol\\Lib\\site-packages\\sklearn\\base.py:493: UserWarning: X does not have valid feature names, but StandardScaler was fitted with feature names\n",
      "  warnings.warn(\n"
     ]
    },
    {
     "name": "stdout",
     "output_type": "stream",
     "text": [
      "1/1 [==============================] - 0s 22ms/step\n",
      "[[0.0058386  0.04497468 0.84768856 0.03506543 0.03428413 0.00441318\n",
      "  0.00944091 0.00879435 0.00106823 0.00843189]]\n",
      "['pullups_down']\n",
      "1/1 [==============================] - 0s 22ms/step\n",
      "[[0.00584188 0.04495889 0.84762317 0.03508141 0.03433157 0.00441468\n",
      "  0.0094485  0.00879513 0.00106904 0.00843576]]\n",
      "['pullups_down']\n",
      "1/1 [==============================] - ETA: 0s"
     ]
    },
    {
     "name": "stderr",
     "output_type": "stream",
     "text": [
      "c:\\Users\\JR\\.conda\\envs\\solol\\Lib\\site-packages\\sklearn\\base.py:493: UserWarning: X does not have valid feature names, but StandardScaler was fitted with feature names\n",
      "  warnings.warn(\n",
      "c:\\Users\\JR\\.conda\\envs\\solol\\Lib\\site-packages\\sklearn\\base.py:493: UserWarning: X does not have valid feature names, but StandardScaler was fitted with feature names\n",
      "  warnings.warn(\n"
     ]
    },
    {
     "name": "stdout",
     "output_type": "stream",
     "text": [
      "1/1 [==============================] - 0s 27ms/step\n",
      "[[0.00584306 0.04497949 0.8476047  0.03508564 0.03430539 0.00442058\n",
      "  0.00945487 0.00880029 0.00106886 0.00843714]]\n",
      "['pullups_down']\n",
      "1/1 [==============================] - 0s 30ms/step\n",
      "[[0.00583669 0.04496762 0.84769344 0.03505305 0.03428107 0.00441685\n",
      "  0.00945568 0.00880002 0.00106807 0.00842742]]\n",
      "['pullups_down']\n",
      "1/1 [==============================] - 0s 29ms/step\n"
     ]
    },
    {
     "name": "stderr",
     "output_type": "stream",
     "text": [
      "c:\\Users\\JR\\.conda\\envs\\solol\\Lib\\site-packages\\sklearn\\base.py:493: UserWarning: X does not have valid feature names, but StandardScaler was fitted with feature names\n",
      "  warnings.warn(\n",
      "c:\\Users\\JR\\.conda\\envs\\solol\\Lib\\site-packages\\sklearn\\base.py:493: UserWarning: X does not have valid feature names, but StandardScaler was fitted with feature names\n",
      "  warnings.warn(\n"
     ]
    },
    {
     "name": "stdout",
     "output_type": "stream",
     "text": [
      "[[0.00583645 0.04496955 0.8476878  0.03505593 0.03428522 0.00441514\n",
      "  0.00945499 0.00879856 0.00106835 0.00842809]]\n",
      "['pullups_down']\n",
      "1/1 [==============================] - 0s 30ms/step\n",
      "[[0.00583078 0.04493073 0.84776616 0.03502535 0.03431566 0.00440734\n",
      "  0.00945148 0.00878532 0.00106755 0.00841955]]\n",
      "['pullups_down']\n",
      "1/1 [==============================] - ETA: 0s"
     ]
    },
    {
     "name": "stderr",
     "output_type": "stream",
     "text": [
      "c:\\Users\\JR\\.conda\\envs\\solol\\Lib\\site-packages\\sklearn\\base.py:493: UserWarning: X does not have valid feature names, but StandardScaler was fitted with feature names\n",
      "  warnings.warn(\n",
      "c:\\Users\\JR\\.conda\\envs\\solol\\Lib\\site-packages\\sklearn\\base.py:493: UserWarning: X does not have valid feature names, but StandardScaler was fitted with feature names\n",
      "  warnings.warn(\n"
     ]
    },
    {
     "name": "stdout",
     "output_type": "stream",
     "text": [
      "1/1 [==============================] - 0s 20ms/step\n",
      "[[0.00583258 0.04490817 0.8477293  0.03501873 0.03437833 0.00440759\n",
      "  0.00945713 0.00878065 0.00106805 0.00841942]]\n",
      "['pullups_down']\n",
      "1/1 [==============================] - 0s 28ms/step\n",
      "[[0.0058372  0.04491844 0.8476548  0.03502537 0.03440339 0.00441516\n",
      "  0.00946586 0.0087872  0.00106877 0.0084238 ]]\n",
      "['pullups_down']\n",
      "1/1 [==============================] - 0s 20ms/step\n"
     ]
    },
    {
     "name": "stderr",
     "output_type": "stream",
     "text": [
      "c:\\Users\\JR\\.conda\\envs\\solol\\Lib\\site-packages\\sklearn\\base.py:493: UserWarning: X does not have valid feature names, but StandardScaler was fitted with feature names\n",
      "  warnings.warn(\n",
      "c:\\Users\\JR\\.conda\\envs\\solol\\Lib\\site-packages\\sklearn\\base.py:493: UserWarning: X does not have valid feature names, but StandardScaler was fitted with feature names\n",
      "  warnings.warn(\n"
     ]
    },
    {
     "name": "stdout",
     "output_type": "stream",
     "text": [
      "[[0.00584542 0.04492602 0.84753156 0.03504448 0.03445902 0.00442428\n",
      "  0.00947598 0.00879101 0.00106989 0.00843248]]\n",
      "['pullups_down']\n",
      "1/1 [==============================] - 0s 39ms/step\n",
      "[[0.00584494 0.04491976 0.8475394  0.03504028 0.0344701  0.0044229\n",
      "  0.00947356 0.00878762 0.00106981 0.00843163]]\n",
      "['pullups_down']\n"
     ]
    },
    {
     "name": "stderr",
     "output_type": "stream",
     "text": [
      "c:\\Users\\JR\\.conda\\envs\\solol\\Lib\\site-packages\\sklearn\\base.py:493: UserWarning: X does not have valid feature names, but StandardScaler was fitted with feature names\n",
      "  warnings.warn(\n",
      "c:\\Users\\JR\\.conda\\envs\\solol\\Lib\\site-packages\\sklearn\\base.py:493: UserWarning: X does not have valid feature names, but StandardScaler was fitted with feature names\n",
      "  warnings.warn(\n"
     ]
    },
    {
     "name": "stdout",
     "output_type": "stream",
     "text": [
      "1/1 [==============================] - 0s 36ms/step\n",
      "[[0.00584389 0.04492122 0.847557   0.03503397 0.03445955 0.00442391\n",
      "  0.00947258 0.00878812 0.00106947 0.00843031]]\n",
      "['pullups_down']\n",
      "1/1 [==============================] - 0s 30ms/step\n",
      "[[0.00584778 0.04491942 0.8474886  0.0350447  0.03450114 0.00442716\n",
      "  0.00947672 0.00878972 0.00107033 0.00843446]]\n",
      "['pullups_down']\n"
     ]
    },
    {
     "name": "stderr",
     "output_type": "stream",
     "text": [
      "c:\\Users\\JR\\.conda\\envs\\solol\\Lib\\site-packages\\sklearn\\base.py:493: UserWarning: X does not have valid feature names, but StandardScaler was fitted with feature names\n",
      "  warnings.warn(\n",
      "c:\\Users\\JR\\.conda\\envs\\solol\\Lib\\site-packages\\sklearn\\base.py:493: UserWarning: X does not have valid feature names, but StandardScaler was fitted with feature names\n",
      "  warnings.warn(\n"
     ]
    },
    {
     "name": "stdout",
     "output_type": "stream",
     "text": [
      "1/1 [==============================] - 0s 41ms/step\n",
      "[[0.005849   0.044918   0.8474713  0.03505346 0.03450827 0.00442763\n",
      "  0.00947686 0.00878845 0.00107039 0.00843664]]\n",
      "['pullups_down']\n"
     ]
    },
    {
     "name": "stderr",
     "output_type": "stream",
     "text": [
      "c:\\Users\\JR\\.conda\\envs\\solol\\Lib\\site-packages\\sklearn\\base.py:493: UserWarning: X does not have valid feature names, but StandardScaler was fitted with feature names\n",
      "  warnings.warn(\n"
     ]
    },
    {
     "name": "stdout",
     "output_type": "stream",
     "text": [
      "1/1 [==============================] - 0s 79ms/step\n",
      "[[0.00584413 0.04492773 0.8475473  0.03504487 0.03444644 0.00442596\n",
      "  0.00947132 0.0087906  0.00106938 0.00843241]]\n",
      "['pullups_down']\n",
      "1/1 [==============================] - 0s 30ms/step\n",
      "[[0.00584327 0.04492577 0.8475602  0.03504378 0.03444237 0.00442487\n",
      "  0.0094693  0.00878912 0.00106919 0.00843202]]\n",
      "['pullups_down']\n",
      "1/1 [==============================] - ETA: 0s"
     ]
    },
    {
     "name": "stderr",
     "output_type": "stream",
     "text": [
      "c:\\Users\\JR\\.conda\\envs\\solol\\Lib\\site-packages\\sklearn\\base.py:493: UserWarning: X does not have valid feature names, but StandardScaler was fitted with feature names\n",
      "  warnings.warn(\n",
      "c:\\Users\\JR\\.conda\\envs\\solol\\Lib\\site-packages\\sklearn\\base.py:493: UserWarning: X does not have valid feature names, but StandardScaler was fitted with feature names\n",
      "  warnings.warn(\n"
     ]
    },
    {
     "name": "stdout",
     "output_type": "stream",
     "text": [
      "1/1 [==============================] - 0s 23ms/step\n",
      "[[0.00584345 0.04492052 0.8475579  0.03504214 0.03445396 0.00442453\n",
      "  0.00946911 0.00878716 0.0010692  0.00843203]]\n",
      "['pullups_down']\n",
      "1/1 [==============================] - 0s 30ms/step\n",
      "[[0.00584749 0.04492722 0.84749705 0.03506393 0.03446973 0.00442828\n",
      "  0.00946914 0.00878888 0.00106969 0.00843852]]\n",
      "['pullups_down']\n",
      "1/1 [==============================] - ETA: 0s"
     ]
    },
    {
     "name": "stderr",
     "output_type": "stream",
     "text": [
      "c:\\Users\\JR\\.conda\\envs\\solol\\Lib\\site-packages\\sklearn\\base.py:493: UserWarning: X does not have valid feature names, but StandardScaler was fitted with feature names\n",
      "  warnings.warn(\n",
      "c:\\Users\\JR\\.conda\\envs\\solol\\Lib\\site-packages\\sklearn\\base.py:493: UserWarning: X does not have valid feature names, but StandardScaler was fitted with feature names\n",
      "  warnings.warn(\n"
     ]
    },
    {
     "name": "stdout",
     "output_type": "stream",
     "text": [
      "1/1 [==============================] - 0s 29ms/step\n",
      "[[0.00584327 0.04493018 0.84756386 0.03505134 0.03442721 0.00442648\n",
      "  0.00946572 0.00878915 0.00106882 0.00843402]]\n",
      "['pullups_down']\n",
      "1/1 [==============================] - 0s 28ms/step\n",
      "[[0.00583755 0.04492512 0.8476565  0.03502122 0.03439024 0.00442359\n",
      "  0.00946673 0.00878626 0.00106763 0.00842516]]\n",
      "['pullups_down']\n"
     ]
    },
    {
     "name": "stderr",
     "output_type": "stream",
     "text": [
      "c:\\Users\\JR\\.conda\\envs\\solol\\Lib\\site-packages\\sklearn\\base.py:493: UserWarning: X does not have valid feature names, but StandardScaler was fitted with feature names\n",
      "  warnings.warn(\n",
      "c:\\Users\\JR\\.conda\\envs\\solol\\Lib\\site-packages\\sklearn\\base.py:493: UserWarning: X does not have valid feature names, but StandardScaler was fitted with feature names\n",
      "  warnings.warn(\n"
     ]
    },
    {
     "name": "stdout",
     "output_type": "stream",
     "text": [
      "1/1 [==============================] - 0s 29ms/step\n",
      "[[0.00583926 0.0449274  0.84762573 0.03502794 0.03440186 0.00442592\n",
      "  0.00946933 0.00878742 0.00106788 0.00842728]]\n",
      "['pullups_down']\n",
      "1/1 [==============================] - 0s 21ms/step\n",
      "[[0.00584932 0.04492132 0.8474497  0.03506855 0.03450537 0.00442922\n",
      "  0.0094775  0.00878944 0.00107047 0.00843922]]\n",
      "['pullups_down']\n",
      "1/1 [==============================] - ETA: 0s"
     ]
    },
    {
     "name": "stderr",
     "output_type": "stream",
     "text": [
      "c:\\Users\\JR\\.conda\\envs\\solol\\Lib\\site-packages\\sklearn\\base.py:493: UserWarning: X does not have valid feature names, but StandardScaler was fitted with feature names\n",
      "  warnings.warn(\n",
      "c:\\Users\\JR\\.conda\\envs\\solol\\Lib\\site-packages\\sklearn\\base.py:493: UserWarning: X does not have valid feature names, but StandardScaler was fitted with feature names\n",
      "  warnings.warn(\n"
     ]
    },
    {
     "name": "stdout",
     "output_type": "stream",
     "text": [
      "1/1 [==============================] - 0s 30ms/step\n",
      "[[0.00584136 0.04505436 0.8475525  0.0351418  0.03424248 0.00442856\n",
      "  0.00942943 0.00879027 0.00106805 0.0084513 ]]\n",
      "['pullups_down']\n",
      "1/1 [==============================] - 0s 29ms/step\n",
      "[[0.0058424  0.04494397 0.84741443 0.035093   0.03460187 0.00439155\n",
      "  0.0094409  0.00875378 0.00107465 0.00844351]]\n",
      "['pullups_down']\n",
      "1/1 [==============================] - 0s 21ms/step\n"
     ]
    },
    {
     "name": "stderr",
     "output_type": "stream",
     "text": [
      "c:\\Users\\JR\\.conda\\envs\\solol\\Lib\\site-packages\\sklearn\\base.py:493: UserWarning: X does not have valid feature names, but StandardScaler was fitted with feature names\n",
      "  warnings.warn(\n",
      "c:\\Users\\JR\\.conda\\envs\\solol\\Lib\\site-packages\\sklearn\\base.py:493: UserWarning: X does not have valid feature names, but StandardScaler was fitted with feature names\n",
      "  warnings.warn(\n"
     ]
    },
    {
     "name": "stdout",
     "output_type": "stream",
     "text": [
      "[[0.00585337 0.04499654 0.8473069  0.03514382 0.03455989 0.00441141\n",
      "  0.00943497 0.00875706 0.0010735  0.00846255]]\n",
      "['pullups_down']\n",
      "1/1 [==============================] - 0s 21ms/step\n",
      "[[0.00586159 0.04500282 0.8471862  0.03518745 0.03461143 0.00441371\n",
      "  0.00943074 0.00875572 0.00107489 0.00847549]]\n",
      "['pullups_down']\n"
     ]
    },
    {
     "name": "stderr",
     "output_type": "stream",
     "text": [
      "c:\\Users\\JR\\.conda\\envs\\solol\\Lib\\site-packages\\sklearn\\base.py:493: UserWarning: X does not have valid feature names, but StandardScaler was fitted with feature names\n",
      "  warnings.warn(\n",
      "c:\\Users\\JR\\.conda\\envs\\solol\\Lib\\site-packages\\sklearn\\base.py:493: UserWarning: X does not have valid feature names, but StandardScaler was fitted with feature names\n",
      "  warnings.warn(\n"
     ]
    },
    {
     "name": "stdout",
     "output_type": "stream",
     "text": [
      "1/1 [==============================] - 0s 30ms/step\n",
      "[[0.00585464 0.04499292 0.8473073  0.0351609  0.03455992 0.00440726\n",
      "  0.00942573 0.00875138 0.00107343 0.00846647]]\n",
      "['pullups_down']\n",
      "1/1 [==============================] - 0s 30ms/step\n",
      "[[0.00585622 0.04501711 0.84729093 0.03517992 0.03452119 0.00441261\n",
      "  0.00942144 0.00875621 0.00107305 0.00847141]]\n",
      "['pullups_down']\n",
      "1/1 [==============================] - ETA: 0s"
     ]
    },
    {
     "name": "stderr",
     "output_type": "stream",
     "text": [
      "c:\\Users\\JR\\.conda\\envs\\solol\\Lib\\site-packages\\sklearn\\base.py:493: UserWarning: X does not have valid feature names, but StandardScaler was fitted with feature names\n",
      "  warnings.warn(\n",
      "c:\\Users\\JR\\.conda\\envs\\solol\\Lib\\site-packages\\sklearn\\base.py:493: UserWarning: X does not have valid feature names, but StandardScaler was fitted with feature names\n",
      "  warnings.warn(\n"
     ]
    },
    {
     "name": "stdout",
     "output_type": "stream",
     "text": [
      "1/1 [==============================] - 0s 31ms/step\n",
      "[[0.00585596 0.04502594 0.84729505 0.03517865 0.0345064  0.00441414\n",
      "  0.00941967 0.00876012 0.00107305 0.00847112]]\n",
      "['pullups_down']\n",
      "1/1 [==============================] - 0s 34ms/step\n",
      "[[0.00585146 0.04500714 0.847367   0.03515081 0.03449959 0.00441107\n",
      "  0.00942119 0.0087559  0.00107217 0.00846372]]\n",
      "['pullups_down']\n"
     ]
    },
    {
     "name": "stderr",
     "output_type": "stream",
     "text": [
      "c:\\Users\\JR\\.conda\\envs\\solol\\Lib\\site-packages\\sklearn\\base.py:493: UserWarning: X does not have valid feature names, but StandardScaler was fitted with feature names\n",
      "  warnings.warn(\n",
      "c:\\Users\\JR\\.conda\\envs\\solol\\Lib\\site-packages\\sklearn\\base.py:493: UserWarning: X does not have valid feature names, but StandardScaler was fitted with feature names\n",
      "  warnings.warn(\n"
     ]
    },
    {
     "name": "stdout",
     "output_type": "stream",
     "text": [
      "1/1 [==============================] - 0s 29ms/step\n",
      "[[0.00584865 0.04499386 0.8474117  0.03513705 0.03449644 0.00440715\n",
      "  0.00942115 0.00875325 0.00107183 0.00845894]]\n",
      "['pullups_down']\n",
      "1/1 [==============================] - 0s 30ms/step\n",
      "[[0.00584162 0.0449757  0.8475134  0.03509716 0.03448035 0.00440024\n",
      "  0.00942254 0.00875089 0.00107116 0.00844703]]\n",
      "['pullups_down']\n"
     ]
    },
    {
     "name": "stderr",
     "output_type": "stream",
     "text": [
      "c:\\Users\\JR\\.conda\\envs\\solol\\Lib\\site-packages\\sklearn\\base.py:493: UserWarning: X does not have valid feature names, but StandardScaler was fitted with feature names\n",
      "  warnings.warn(\n",
      "c:\\Users\\JR\\.conda\\envs\\solol\\Lib\\site-packages\\sklearn\\base.py:493: UserWarning: X does not have valid feature names, but StandardScaler was fitted with feature names\n",
      "  warnings.warn(\n"
     ]
    },
    {
     "name": "stdout",
     "output_type": "stream",
     "text": [
      "1/1 [==============================] - 0s 30ms/step\n",
      "[[0.00584015 0.04497233 0.8475426  0.03508227 0.03447098 0.00440197\n",
      "  0.00942571 0.00874963 0.00107044 0.00844383]]\n",
      "['pullups_down']\n",
      "1/1 [==============================] - 0s 30ms/step\n",
      "[[0.00584008 0.044948   0.84752905 0.03506347 0.03453083 0.00439777\n",
      "  0.0094333  0.00874633 0.00107133 0.00843983]]\n",
      "['pullups_down']\n"
     ]
    },
    {
     "name": "stderr",
     "output_type": "stream",
     "text": [
      "c:\\Users\\JR\\.conda\\envs\\solol\\Lib\\site-packages\\sklearn\\base.py:493: UserWarning: X does not have valid feature names, but StandardScaler was fitted with feature names\n",
      "  warnings.warn(\n",
      "c:\\Users\\JR\\.conda\\envs\\solol\\Lib\\site-packages\\sklearn\\base.py:493: UserWarning: X does not have valid feature names, but StandardScaler was fitted with feature names\n",
      "  warnings.warn(\n"
     ]
    },
    {
     "name": "stdout",
     "output_type": "stream",
     "text": [
      "1/1 [==============================] - 0s 31ms/step\n",
      "[[0.00583834 0.04495922 0.8475684  0.03506488 0.03448291 0.00439935\n",
      "  0.00942941 0.00874767 0.00107039 0.00843949]]\n",
      "['pullups_down']\n",
      "1/1 [==============================] - 0s 30ms/step\n",
      "[[0.00583659 0.04495485 0.8475958  0.03506295 0.03447249 0.00439694\n",
      "  0.00942715 0.00874518 0.00107005 0.00843802]]\n",
      "['pullups_down']\n"
     ]
    },
    {
     "name": "stderr",
     "output_type": "stream",
     "text": [
      "c:\\Users\\JR\\.conda\\envs\\solol\\Lib\\site-packages\\sklearn\\base.py:493: UserWarning: X does not have valid feature names, but StandardScaler was fitted with feature names\n",
      "  warnings.warn(\n",
      "c:\\Users\\JR\\.conda\\envs\\solol\\Lib\\site-packages\\sklearn\\base.py:493: UserWarning: X does not have valid feature names, but StandardScaler was fitted with feature names\n",
      "  warnings.warn(\n"
     ]
    },
    {
     "name": "stdout",
     "output_type": "stream",
     "text": [
      "1/1 [==============================] - 0s 29ms/step\n",
      "[[0.00583518 0.04495093 0.84761584 0.03506032 0.03446609 0.00439548\n",
      "  0.00942617 0.00874382 0.0010698  0.00843643]]\n",
      "['pullups_down']\n",
      "1/1 [==============================] - 0s 27ms/step\n",
      "[[0.00583562 0.0449538  0.847608   0.03506474 0.03446355 0.00439649\n",
      "  0.00942598 0.00874462 0.0010698  0.00843744]]\n",
      "['pullups_down']\n"
     ]
    },
    {
     "name": "stderr",
     "output_type": "stream",
     "text": [
      "c:\\Users\\JR\\.conda\\envs\\solol\\Lib\\site-packages\\sklearn\\base.py:493: UserWarning: X does not have valid feature names, but StandardScaler was fitted with feature names\n",
      "  warnings.warn(\n",
      "c:\\Users\\JR\\.conda\\envs\\solol\\Lib\\site-packages\\sklearn\\base.py:493: UserWarning: X does not have valid feature names, but StandardScaler was fitted with feature names\n",
      "  warnings.warn(\n"
     ]
    },
    {
     "name": "stdout",
     "output_type": "stream",
     "text": [
      "1/1 [==============================] - 0s 29ms/step\n",
      "[[0.00583205 0.04496123 0.8476709  0.03505964 0.03440762 0.00439619\n",
      "  0.00942328 0.00874616 0.00106874 0.00843424]]\n",
      "['pullups_down']\n",
      "1/1 [==============================] - 0s 30ms/step\n",
      "[[0.00583186 0.04496308 0.8476768  0.03506248 0.03439672 0.00439674\n",
      "  0.00942304 0.00874643 0.00106851 0.00843439]]\n",
      "['pullups_down']\n",
      "1/1 [==============================] - ETA: 0s"
     ]
    },
    {
     "name": "stderr",
     "output_type": "stream",
     "text": [
      "c:\\Users\\JR\\.conda\\envs\\solol\\Lib\\site-packages\\sklearn\\base.py:493: UserWarning: X does not have valid feature names, but StandardScaler was fitted with feature names\n",
      "  warnings.warn(\n",
      "c:\\Users\\JR\\.conda\\envs\\solol\\Lib\\site-packages\\sklearn\\base.py:493: UserWarning: X does not have valid feature names, but StandardScaler was fitted with feature names\n",
      "  warnings.warn(\n"
     ]
    },
    {
     "name": "stdout",
     "output_type": "stream",
     "text": [
      "1/1 [==============================] - 0s 30ms/step\n",
      "[[0.0058293  0.04496015 0.8477135  0.03505125 0.0343832  0.00439456\n",
      "  0.0094233  0.00874586 0.0010682  0.0084307 ]]\n",
      "['pullups_down']\n",
      "1/1 [==============================] - 0s 30ms/step\n",
      "[[0.00582946 0.04496108 0.84770894 0.03505436 0.03438371 0.00439385\n",
      "  0.0094233  0.00874593 0.00106835 0.00843115]]\n",
      "['pullups_down']\n",
      "1/1 [==============================] - 0s 22ms/step\n"
     ]
    },
    {
     "name": "stderr",
     "output_type": "stream",
     "text": [
      "c:\\Users\\JR\\.conda\\envs\\solol\\Lib\\site-packages\\sklearn\\base.py:493: UserWarning: X does not have valid feature names, but StandardScaler was fitted with feature names\n",
      "  warnings.warn(\n",
      "c:\\Users\\JR\\.conda\\envs\\solol\\Lib\\site-packages\\sklearn\\base.py:493: UserWarning: X does not have valid feature names, but StandardScaler was fitted with feature names\n",
      "  warnings.warn(\n"
     ]
    },
    {
     "name": "stdout",
     "output_type": "stream",
     "text": [
      "[[0.00583093 0.04496649 0.84768385 0.03506623 0.03438466 0.00439506\n",
      "  0.00942283 0.00874729 0.0010686  0.00843403]]\n",
      "['pullups_down']\n",
      "1/1 [==============================] - 0s 27ms/step\n",
      "[[0.00583322 0.0449767  0.8476488  0.03507494 0.03438696 0.00439846\n",
      "  0.00942443 0.00875047 0.0010689  0.00843718]]\n",
      "['pullups_down']\n",
      "1/1 [==============================] - ETA: 0s"
     ]
    },
    {
     "name": "stderr",
     "output_type": "stream",
     "text": [
      "c:\\Users\\JR\\.conda\\envs\\solol\\Lib\\site-packages\\sklearn\\base.py:493: UserWarning: X does not have valid feature names, but StandardScaler was fitted with feature names\n",
      "  warnings.warn(\n",
      "c:\\Users\\JR\\.conda\\envs\\solol\\Lib\\site-packages\\sklearn\\base.py:493: UserWarning: X does not have valid feature names, but StandardScaler was fitted with feature names\n",
      "  warnings.warn(\n"
     ]
    },
    {
     "name": "stdout",
     "output_type": "stream",
     "text": [
      "1/1 [==============================] - 0s 30ms/step\n",
      "[[0.0058335  0.04497511 0.84764177 0.03507459 0.03439377 0.00439845\n",
      "  0.0094259  0.00875061 0.00106905 0.00843725]]\n",
      "['pullups_down']\n",
      "1/1 [==============================] - 0s 30ms/step\n",
      "[[0.00583397 0.04496811 0.84763485 0.03507496 0.03440933 0.00439797\n",
      "  0.0094259  0.00874826 0.00106911 0.00843751]]\n",
      "['pullups_down']\n"
     ]
    },
    {
     "name": "stderr",
     "output_type": "stream",
     "text": [
      "c:\\Users\\JR\\.conda\\envs\\solol\\Lib\\site-packages\\sklearn\\base.py:493: UserWarning: X does not have valid feature names, but StandardScaler was fitted with feature names\n",
      "  warnings.warn(\n",
      "c:\\Users\\JR\\.conda\\envs\\solol\\Lib\\site-packages\\sklearn\\base.py:493: UserWarning: X does not have valid feature names, but StandardScaler was fitted with feature names\n",
      "  warnings.warn(\n"
     ]
    },
    {
     "name": "stdout",
     "output_type": "stream",
     "text": [
      "1/1 [==============================] - 0s 30ms/step\n",
      "[[0.00583365 0.04496548 0.8476386  0.0350737  0.03441218 0.00439732\n",
      "  0.00942543 0.00874745 0.0010691  0.00843706]]\n",
      "['pullups_down']\n",
      "1/1 [==============================] - 0s 30ms/step\n",
      "[[0.00583425 0.04496571 0.8476296  0.03507468 0.03441834 0.00439739\n",
      "  0.0094256  0.00874744 0.00106926 0.00843766]]\n",
      "['pullups_down']\n",
      "1/1 [==============================] - ETA: 0s"
     ]
    },
    {
     "name": "stderr",
     "output_type": "stream",
     "text": [
      "c:\\Users\\JR\\.conda\\envs\\solol\\Lib\\site-packages\\sklearn\\base.py:493: UserWarning: X does not have valid feature names, but StandardScaler was fitted with feature names\n",
      "  warnings.warn(\n",
      "c:\\Users\\JR\\.conda\\envs\\solol\\Lib\\site-packages\\sklearn\\base.py:493: UserWarning: X does not have valid feature names, but StandardScaler was fitted with feature names\n",
      "  warnings.warn(\n"
     ]
    },
    {
     "name": "stdout",
     "output_type": "stream",
     "text": [
      "1/1 [==============================] - 0s 30ms/step\n",
      "[[0.00583504 0.04496584 0.84761703 0.03507639 0.0344256  0.00439782\n",
      "  0.00942662 0.00874784 0.00106944 0.00843841]]\n",
      "['pullups_down']\n",
      "1/1 [==============================] - 0s 30ms/step\n",
      "[[0.00583283 0.04496361 0.8476504  0.0350714  0.03440992 0.00439555\n",
      "  0.00942396 0.00874706 0.00106913 0.00843612]]\n",
      "['pullups_down']\n"
     ]
    },
    {
     "name": "stderr",
     "output_type": "stream",
     "text": [
      "c:\\Users\\JR\\.conda\\envs\\solol\\Lib\\site-packages\\sklearn\\base.py:493: UserWarning: X does not have valid feature names, but StandardScaler was fitted with feature names\n",
      "  warnings.warn(\n",
      "c:\\Users\\JR\\.conda\\envs\\solol\\Lib\\site-packages\\sklearn\\base.py:493: UserWarning: X does not have valid feature names, but StandardScaler was fitted with feature names\n",
      "  warnings.warn(\n"
     ]
    },
    {
     "name": "stdout",
     "output_type": "stream",
     "text": [
      "1/1 [==============================] - 0s 63ms/step\n",
      "[[0.00583249 0.04496694 0.84765786 0.03507065 0.03440098 0.00439601\n",
      "  0.00942283 0.00874741 0.00106897 0.00843592]]\n",
      "['pullups_down']\n",
      "1/1 [==============================] - 0s 19ms/step\n",
      "[[0.00583911 0.04497376 0.8475559  0.03509184 0.03444711 0.00440188\n",
      "  0.00942741 0.00874903 0.00106999 0.00844402]]\n",
      "['pullups_down']\n"
     ]
    },
    {
     "name": "stderr",
     "output_type": "stream",
     "text": [
      "c:\\Users\\JR\\.conda\\envs\\solol\\Lib\\site-packages\\sklearn\\base.py:493: UserWarning: X does not have valid feature names, but StandardScaler was fitted with feature names\n",
      "  warnings.warn(\n",
      "c:\\Users\\JR\\.conda\\envs\\solol\\Lib\\site-packages\\sklearn\\base.py:493: UserWarning: X does not have valid feature names, but StandardScaler was fitted with feature names\n",
      "  warnings.warn(\n"
     ]
    },
    {
     "name": "stdout",
     "output_type": "stream",
     "text": [
      "1/1 [==============================] - 0s 21ms/step\n",
      "[[0.00583824 0.04498073 0.8475688  0.03508925 0.03442674 0.00440328\n",
      "  0.00942831 0.00875197 0.00106974 0.008443  ]]\n",
      "['pullups_down']\n",
      "1/1 [==============================] - 0s 30ms/step\n",
      "[[0.00583728 0.04498331 0.8475796  0.03508582 0.03441904 0.00440293\n",
      "  0.00942748 0.00875294 0.0010697  0.00844193]]\n",
      "['pullups_down']\n",
      "1/1 [==============================] - ETA: 0s"
     ]
    },
    {
     "name": "stderr",
     "output_type": "stream",
     "text": [
      "c:\\Users\\JR\\.conda\\envs\\solol\\Lib\\site-packages\\sklearn\\base.py:493: UserWarning: X does not have valid feature names, but StandardScaler was fitted with feature names\n",
      "  warnings.warn(\n",
      "c:\\Users\\JR\\.conda\\envs\\solol\\Lib\\site-packages\\sklearn\\base.py:493: UserWarning: X does not have valid feature names, but StandardScaler was fitted with feature names\n",
      "  warnings.warn(\n"
     ]
    },
    {
     "name": "stdout",
     "output_type": "stream",
     "text": [
      "1/1 [==============================] - 0s 29ms/step\n",
      "[[0.00583892 0.04498589 0.8475463  0.03509408 0.03443142 0.00440425\n",
      "  0.00942968 0.00875513 0.00107019 0.00844415]]\n",
      "['pullups_down']\n",
      "1/1 [==============================] - 0s 29ms/step\n",
      "[[0.00584523 0.04500109 0.8474507  0.03511881 0.0344596  0.00441053\n",
      "  0.00943224 0.00875771 0.00107106 0.00845317]]\n",
      "['pullups_down']\n"
     ]
    },
    {
     "name": "stderr",
     "output_type": "stream",
     "text": [
      "c:\\Users\\JR\\.conda\\envs\\solol\\Lib\\site-packages\\sklearn\\base.py:493: UserWarning: X does not have valid feature names, but StandardScaler was fitted with feature names\n",
      "  warnings.warn(\n",
      "c:\\Users\\JR\\.conda\\envs\\solol\\Lib\\site-packages\\sklearn\\base.py:493: UserWarning: X does not have valid feature names, but StandardScaler was fitted with feature names\n",
      "  warnings.warn(\n"
     ]
    },
    {
     "name": "stdout",
     "output_type": "stream",
     "text": [
      "1/1 [==============================] - 0s 38ms/step\n",
      "[[0.00583643 0.04504105 0.8476129  0.03515477 0.03420899 0.00441792\n",
      "  0.00942106 0.00879394 0.00106812 0.00844481]]\n",
      "['pullups_down']\n",
      "1/1 [==============================] - 0s 28ms/step\n",
      "[[0.0058399  0.04496158 0.8476047  0.03504207 0.03435225 0.00443112\n",
      "  0.00946821 0.00880476 0.00106844 0.00842705]]\n",
      "['pullups_down']\n"
     ]
    },
    {
     "name": "stderr",
     "output_type": "stream",
     "text": [
      "c:\\Users\\JR\\.conda\\envs\\solol\\Lib\\site-packages\\sklearn\\base.py:493: UserWarning: X does not have valid feature names, but StandardScaler was fitted with feature names\n",
      "  warnings.warn(\n"
     ]
    }
   ],
   "source": [
    "\n",
    "# Initialize the webcam\n",
    "cap = cv2.VideoCapture(0)  # '0' is typically the default value for the primary camera\n",
    "\n",
    "\n",
    "#Print out what each label corresponds to\n",
    "print(label_encoder.classes_)\n",
    "mp_pose = mp.solutions.pose\n",
    "pose = mp_pose.Pose()\n",
    "\n",
    "while True:\n",
    "    ret, frame = cap.read()\n",
    "    if not ret:\n",
    "        continue\n",
    "\n",
    "    # Convert the frame to RGB\n",
    "    frame_rgb = cv2.cvtColor(frame, cv2.COLOR_BGR2RGB)\n",
    "\n",
    "    # Process the frame with MediaPipe Pose\n",
    "    results = pose.process(frame_rgb)\n",
    "\n",
    "    if results.pose_landmarks:\n",
    "        # Draw the pose annotations on the frame\n",
    "        mp.solutions.drawing_utils.draw_landmarks(\n",
    "            frame, results.pose_landmarks, mp_pose.POSE_CONNECTIONS)\n",
    "\n",
    "        # Extract landmarks\n",
    "        landmarks = []\n",
    "        for landmark in results.pose_landmarks.landmark:\n",
    "            landmarks.extend([landmark.x, landmark.y, landmark.z])\n",
    "\n",
    "        # Flatten the landmarks into a single array\n",
    "        landmarks = np.array(landmarks).flatten()\n",
    "\n",
    "        landmarks_scaled = scaler.transform(landmarks.reshape(1, -1)) \n",
    "        # The expected shape is (1, 1, 99), where num_features should match the number of columns used during training\n",
    "        landmarks = np.expand_dims(landmarks_scaled, axis=0)  # Add the batch dimension\n",
    "        landmarks = np.expand_dims(landmarks_scaled, axis=1)  # Add the extra dimension the model expects\n",
    "\n",
    "        # Make a prediction\n",
    "        predictions = model.predict(landmarks)\n",
    "        print(predictions)\n",
    "        pose_id = np.argmax(predictions, axis=1)[0]\n",
    "        print(label_encoder.inverse_transform([pose_id]))\n",
    "        pose_name = label_encoder.inverse_transform([pose_id])[0]  # Decode the pose ID to pose name\n",
    "\n",
    "        # Display the predicted pose name or id on the frame\n",
    "        cv2.putText(frame, f'Pose: {pose_name}', (10, 30), cv2.FONT_HERSHEY_SIMPLEX, 1, (0, 0, 255), 2, cv2.LINE_AA)\n",
    "        # cv2.putText(frame, f'Pose: {pose_name}', (10, 30), cv2.FONT_HERSHEY_SIMPLEX, 1, (0, 0, 255), 2, cv2.LINE_AA)\n",
    "\n",
    "    cv2.imshow('Pose Detection', frame)\n",
    "\n",
    "    if cv2.waitKey(1) & 0xFF == ord('q'):\n",
    "        break\n",
    "\n",
    "# Release the webcam and destroy all OpenCV windows\n",
    "cap.release()\n",
    "cv2.destroyAllWindows()"
   ]
  },
  {
   "cell_type": "code",
   "execution_count": null,
   "metadata": {},
   "outputs": [
    {
     "data": {
      "text/plain": [
       "array([[[ 0.26054379,  0.27339801, -0.81787694,  0.28732353,\n",
       "          0.23460752, -0.73942465,  0.30171403,  0.23916629,\n",
       "         -0.73986179,  0.31434199,  0.24424215, -0.74045146,\n",
       "          0.24057028,  0.22294797, -0.76293576,  0.22146563,\n",
       "          0.22028966, -0.76310015,  0.20332363,  0.2188184 ,\n",
       "         -0.76350045,  0.32044059,  0.2727558 , -0.30056068,\n",
       "          0.16837372,  0.23945126, -0.39480817,  0.27565575,\n",
       "          0.33464929, -0.64646685,  0.22469099,  0.32388127,\n",
       "         -0.67412817,  0.34888095,  0.5182879 , -0.03408255,\n",
       "          0.04618039,  0.51008612, -0.17931218,  0.37016612,\n",
       "          0.79774719, -0.21422908,  0.0231182 ,  0.83531505,\n",
       "         -0.21906202,  0.28025764,  0.84382588, -0.82558268,\n",
       "          0.21511443,  0.84004474, -0.47364059,  0.26017785,\n",
       "          0.88497388, -0.97119647,  0.27362484,  0.89215916,\n",
       "         -0.55421996,  0.24527773,  0.8341077 , -0.97693169,\n",
       "          0.27890456,  0.8375811 , -0.59184057,  0.2404395 ,\n",
       "          0.82104784, -0.84497613,  0.26041144,  0.82487446,\n",
       "         -0.48736778,  0.25523764,  1.05315137,  0.01473806,\n",
       "          0.06142695,  1.06380594, -0.01288662,  0.33296198,\n",
       "          0.89983171, -0.99430525,  0.05182241,  1.09884775,\n",
       "         -0.87861192,  0.27107593,  1.45254779, -0.59653032,\n",
       "          0.09635615,  1.55293953, -0.62700492,  0.25634423,\n",
       "          1.52332819, -0.56670731,  0.09741542,  1.60094523,\n",
       "         -0.60796231,  0.25537089,  1.61766982, -0.90550882,\n",
       "          0.11293794,  1.71980715, -0.98163354]]])"
      ]
     },
     "execution_count": 9,
     "metadata": {},
     "output_type": "execute_result"
    }
   ],
   "source": [
    "landmarks"
   ]
  }
 ],
 "metadata": {
  "kernelspec": {
   "display_name": "sololeveling",
   "language": "python",
   "name": "python3"
  },
  "language_info": {
   "codemirror_mode": {
    "name": "ipython",
    "version": 3
   },
   "file_extension": ".py",
   "mimetype": "text/x-python",
   "name": "python",
   "nbconvert_exporter": "python",
   "pygments_lexer": "ipython3",
   "version": "3.11.7"
  }
 },
 "nbformat": 4,
 "nbformat_minor": 2
}
