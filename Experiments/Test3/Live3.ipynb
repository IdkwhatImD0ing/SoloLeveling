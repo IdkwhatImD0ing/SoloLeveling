{
 "cells": [
  {
   "cell_type": "code",
   "execution_count": 3,
   "metadata": {},
   "outputs": [],
   "source": [
    "import mediapipe as mp\n",
    "import cv2\n",
    "import numpy as np\n",
    "import tensorflow as tf\n",
    "from tensorflow.keras.models import load_model\n",
    "import joblib\n",
    "from sklearn.preprocessing import StandardScaler\n",
    "\n",
    "mp_pose = mp.solutions.pose\n",
    "pose = mp_pose.Pose()"
   ]
  },
  {
   "cell_type": "markdown",
   "metadata": {},
   "source": [
    "<h5>Load Models</h5>"
   ]
  },
  {
   "cell_type": "code",
   "execution_count": 6,
   "metadata": {},
   "outputs": [],
   "source": [
    "model = load_model('saves/exercise_recognition_model.keras')\n",
    "label_encoder = joblib.load('saves/label_encoder.joblib')\n",
    "scaler = joblib.load('saves/scaler.save')"
   ]
  },
  {
   "cell_type": "code",
   "execution_count": 15,
   "metadata": {},
   "outputs": [
    {
     "name": "stdout",
     "output_type": "stream",
     "text": [
      "1/1 [==============================] - 0s 22ms/step\n"
     ]
    },
    {
     "name": "stderr",
     "output_type": "stream",
     "text": [
      "c:\\Users\\JR\\.conda\\envs\\solol\\Lib\\site-packages\\sklearn\\base.py:493: UserWarning: X does not have valid feature names, but StandardScaler was fitted with feature names\n",
      "  warnings.warn(\n",
      "c:\\Users\\JR\\.conda\\envs\\solol\\Lib\\site-packages\\sklearn\\base.py:493: UserWarning: X does not have valid feature names, but StandardScaler was fitted with feature names\n",
      "  warnings.warn(\n"
     ]
    },
    {
     "name": "stdout",
     "output_type": "stream",
     "text": [
      "[[0.01622075 0.15679401 0.40498856 0.2748645  0.04463455 0.01932655\n",
      "  0.02874043 0.01176593 0.00607216 0.03659257]]\n",
      "1/1 [==============================] - 0s 31ms/step\n",
      "[[0.01626486 0.1565327  0.4052877  0.27506667 0.04456635 0.01939266\n",
      "  0.02859046 0.01169614 0.00604173 0.03656058]]\n",
      "1/1 [==============================] - 0s 26ms/step\n",
      "[[0.0163317  0.15665898 0.40471148 0.27523956 0.044602   0.01944024\n",
      "  0.02859849 0.01172046 0.00606782 0.03662923]]\n"
     ]
    },
    {
     "name": "stderr",
     "output_type": "stream",
     "text": [
      "c:\\Users\\JR\\.conda\\envs\\solol\\Lib\\site-packages\\sklearn\\base.py:493: UserWarning: X does not have valid feature names, but StandardScaler was fitted with feature names\n",
      "  warnings.warn(\n",
      "c:\\Users\\JR\\.conda\\envs\\solol\\Lib\\site-packages\\sklearn\\base.py:493: UserWarning: X does not have valid feature names, but StandardScaler was fitted with feature names\n",
      "  warnings.warn(\n"
     ]
    },
    {
     "name": "stdout",
     "output_type": "stream",
     "text": [
      "1/1 [==============================] - 0s 31ms/step\n",
      "[[0.01633462 0.15659858 0.4047938  0.27534598 0.04455497 0.01944601\n",
      "  0.02854952 0.01170305 0.00605657 0.03661689]]\n",
      "1/1 [==============================] - 0s 66ms/step\n"
     ]
    },
    {
     "name": "stderr",
     "output_type": "stream",
     "text": [
      "c:\\Users\\JR\\.conda\\envs\\solol\\Lib\\site-packages\\sklearn\\base.py:493: UserWarning: X does not have valid feature names, but StandardScaler was fitted with feature names\n",
      "  warnings.warn(\n",
      "c:\\Users\\JR\\.conda\\envs\\solol\\Lib\\site-packages\\sklearn\\base.py:493: UserWarning: X does not have valid feature names, but StandardScaler was fitted with feature names\n",
      "  warnings.warn(\n"
     ]
    },
    {
     "name": "stdout",
     "output_type": "stream",
     "text": [
      "[[0.01628999 0.15650204 0.40513903 0.27523038 0.04457653 0.01941366\n",
      "  0.02856054 0.01168165 0.00603983 0.0365663 ]]\n",
      "1/1 [==============================] - 0s 32ms/step\n",
      "[[0.01629009 0.1565307  0.40517622 0.27520484 0.04457845 0.01941868\n",
      "  0.02852967 0.01166621 0.00603267 0.03657246]]\n",
      "1/1 [==============================] - 0s 31ms/step\n",
      "[[0.01633373 0.15656799 0.40483683 0.27528477 0.04462288 0.01945498\n",
      "  0.02854904 0.01168047 0.00605065 0.03661858]]\n"
     ]
    },
    {
     "name": "stderr",
     "output_type": "stream",
     "text": [
      "c:\\Users\\JR\\.conda\\envs\\solol\\Lib\\site-packages\\sklearn\\base.py:493: UserWarning: X does not have valid feature names, but StandardScaler was fitted with feature names\n",
      "  warnings.warn(\n",
      "c:\\Users\\JR\\.conda\\envs\\solol\\Lib\\site-packages\\sklearn\\base.py:493: UserWarning: X does not have valid feature names, but StandardScaler was fitted with feature names\n",
      "  warnings.warn(\n"
     ]
    },
    {
     "name": "stdout",
     "output_type": "stream",
     "text": [
      "1/1 [==============================] - 0s 41ms/step\n",
      "[[0.01624855 0.1564719  0.40517974 0.27506295 0.04476684 0.01940486\n",
      "  0.0286058  0.01165308 0.00602933 0.03657689]]\n",
      "1/1 [==============================] - 0s 36ms/step\n"
     ]
    },
    {
     "name": "stderr",
     "output_type": "stream",
     "text": [
      "c:\\Users\\JR\\.conda\\envs\\solol\\Lib\\site-packages\\sklearn\\base.py:493: UserWarning: X does not have valid feature names, but StandardScaler was fitted with feature names\n",
      "  warnings.warn(\n",
      "c:\\Users\\JR\\.conda\\envs\\solol\\Lib\\site-packages\\sklearn\\base.py:493: UserWarning: X does not have valid feature names, but StandardScaler was fitted with feature names\n",
      "  warnings.warn(\n"
     ]
    },
    {
     "name": "stdout",
     "output_type": "stream",
     "text": [
      "[[0.01634958 0.15706456 0.40486887 0.27465206 0.0446343  0.01941078\n",
      "  0.02851723 0.01168648 0.00606367 0.0367524 ]]\n",
      "1/1 [==============================] - 0s 31ms/step\n",
      "[[0.01614102 0.15672189 0.4064217  0.27420312 0.04458441 0.0192414\n",
      "  0.02853637 0.01162991 0.00599518 0.03652498]]\n",
      "1/1 [==============================] - 0s 34ms/step\n",
      "[[0.0158404  0.15596409 0.40875942 0.27376667 0.04463665 0.01905453\n",
      "  0.02850043 0.01146325 0.00585728 0.03615727]]\n"
     ]
    },
    {
     "name": "stderr",
     "output_type": "stream",
     "text": [
      "c:\\Users\\JR\\.conda\\envs\\solol\\Lib\\site-packages\\sklearn\\base.py:493: UserWarning: X does not have valid feature names, but StandardScaler was fitted with feature names\n",
      "  warnings.warn(\n",
      "c:\\Users\\JR\\.conda\\envs\\solol\\Lib\\site-packages\\sklearn\\base.py:493: UserWarning: X does not have valid feature names, but StandardScaler was fitted with feature names\n",
      "  warnings.warn(\n"
     ]
    },
    {
     "name": "stdout",
     "output_type": "stream",
     "text": [
      "1/1 [==============================] - 0s 53ms/step\n",
      "[[0.01567152 0.15557984 0.41003612 0.27373546 0.04451099 0.01893828\n",
      "  0.02843184 0.01138271 0.00577453 0.03593873]]\n",
      "1/1 [==============================] - 0s 37ms/step\n",
      "[[0.01542622 0.15493956 0.4112345  0.27379736 0.04465827 0.01879611\n",
      "  0.02850641 0.0112909  0.00568668 0.03566396]]\n"
     ]
    },
    {
     "name": "stderr",
     "output_type": "stream",
     "text": [
      "c:\\Users\\JR\\.conda\\envs\\solol\\Lib\\site-packages\\sklearn\\base.py:493: UserWarning: X does not have valid feature names, but StandardScaler was fitted with feature names\n",
      "  warnings.warn(\n",
      "c:\\Users\\JR\\.conda\\envs\\solol\\Lib\\site-packages\\sklearn\\base.py:493: UserWarning: X does not have valid feature names, but StandardScaler was fitted with feature names\n",
      "  warnings.warn(\n"
     ]
    },
    {
     "name": "stdout",
     "output_type": "stream",
     "text": [
      "1/1 [==============================] - 0s 30ms/step\n",
      "[[0.01544367 0.15491894 0.41082075 0.27410462 0.04467417 0.01880202\n",
      "  0.02854624 0.01131394 0.00569921 0.03567648]]\n",
      "1/1 [==============================] - 0s 26ms/step\n",
      "[[0.01539292 0.15474933 0.41146663 0.27394655 0.04459293 0.01875399\n",
      "  0.02854305 0.01129826 0.00567694 0.03557936]]\n"
     ]
    },
    {
     "name": "stderr",
     "output_type": "stream",
     "text": [
      "c:\\Users\\JR\\.conda\\envs\\solol\\Lib\\site-packages\\sklearn\\base.py:493: UserWarning: X does not have valid feature names, but StandardScaler was fitted with feature names\n",
      "  warnings.warn(\n",
      "c:\\Users\\JR\\.conda\\envs\\solol\\Lib\\site-packages\\sklearn\\base.py:493: UserWarning: X does not have valid feature names, but StandardScaler was fitted with feature names\n",
      "  warnings.warn(\n"
     ]
    },
    {
     "name": "stdout",
     "output_type": "stream",
     "text": [
      "1/1 [==============================] - 0s 78ms/step\n",
      "[[0.01529561 0.15459737 0.41274938 0.27341878 0.04456267 0.01869536\n",
      "  0.02841459 0.01119195 0.00560762 0.03546664]]\n",
      "1/1 [==============================] - 0s 29ms/step\n",
      "[[0.01535106 0.15478227 0.41223785 0.27342698 0.04459514 0.01872655\n",
      "  0.02846259 0.01123916 0.00564363 0.03553475]]\n"
     ]
    },
    {
     "name": "stderr",
     "output_type": "stream",
     "text": [
      "c:\\Users\\JR\\.conda\\envs\\solol\\Lib\\site-packages\\sklearn\\base.py:493: UserWarning: X does not have valid feature names, but StandardScaler was fitted with feature names\n",
      "  warnings.warn(\n",
      "c:\\Users\\JR\\.conda\\envs\\solol\\Lib\\site-packages\\sklearn\\base.py:493: UserWarning: X does not have valid feature names, but StandardScaler was fitted with feature names\n",
      "  warnings.warn(\n"
     ]
    },
    {
     "name": "stdout",
     "output_type": "stream",
     "text": [
      "1/1 [==============================] - 0s 32ms/step\n",
      "[[0.01545784 0.15518236 0.411577   0.27335024 0.04455183 0.01877508\n",
      "  0.02845827 0.01129266 0.00569316 0.03566164]]\n",
      "1/1 [==============================] - 0s 27ms/step\n",
      "[[0.01539938 0.15508732 0.41223827 0.27316958 0.04450401 0.01872539\n",
      "  0.02839143 0.01124134 0.005657   0.03558625]]\n"
     ]
    },
    {
     "name": "stderr",
     "output_type": "stream",
     "text": [
      "c:\\Users\\JR\\.conda\\envs\\solol\\Lib\\site-packages\\sklearn\\base.py:493: UserWarning: X does not have valid feature names, but StandardScaler was fitted with feature names\n",
      "  warnings.warn(\n",
      "c:\\Users\\JR\\.conda\\envs\\solol\\Lib\\site-packages\\sklearn\\base.py:493: UserWarning: X does not have valid feature names, but StandardScaler was fitted with feature names\n",
      "  warnings.warn(\n"
     ]
    },
    {
     "name": "stdout",
     "output_type": "stream",
     "text": [
      "1/1 [==============================] - 0s 26ms/step\n",
      "[[0.01539518 0.15493362 0.4124828  0.2732868  0.04445089 0.01873319\n",
      "  0.02834373 0.01121237 0.00564085 0.03552053]]\n",
      "1/1 [==============================] - 0s 25ms/step\n",
      "[[0.01544753 0.15506855 0.41177896 0.27355596 0.04449123 0.01878079\n",
      "  0.02837237 0.01125277 0.0056717  0.03558016]]\n",
      "1/1 [==============================] - ETA: 0s"
     ]
    },
    {
     "name": "stderr",
     "output_type": "stream",
     "text": [
      "c:\\Users\\JR\\.conda\\envs\\solol\\Lib\\site-packages\\sklearn\\base.py:493: UserWarning: X does not have valid feature names, but StandardScaler was fitted with feature names\n",
      "  warnings.warn(\n",
      "c:\\Users\\JR\\.conda\\envs\\solol\\Lib\\site-packages\\sklearn\\base.py:493: UserWarning: X does not have valid feature names, but StandardScaler was fitted with feature names\n",
      "  warnings.warn(\n"
     ]
    },
    {
     "name": "stdout",
     "output_type": "stream",
     "text": [
      "1/1 [==============================] - 0s 28ms/step\n",
      "[[0.01553066 0.15532377 0.41110995 0.27366737 0.04444176 0.01883796\n",
      "  0.02840303 0.01131339 0.00571566 0.03565639]]\n",
      "1/1 [==============================] - 0s 28ms/step\n",
      "[[0.01563383 0.15538086 0.41011047 0.2741694  0.04452543 0.01894858\n",
      "  0.02840282 0.01133093 0.00574676 0.0357509 ]]\n"
     ]
    },
    {
     "name": "stderr",
     "output_type": "stream",
     "text": [
      "c:\\Users\\JR\\.conda\\envs\\solol\\Lib\\site-packages\\sklearn\\base.py:493: UserWarning: X does not have valid feature names, but StandardScaler was fitted with feature names\n",
      "  warnings.warn(\n",
      "c:\\Users\\JR\\.conda\\envs\\solol\\Lib\\site-packages\\sklearn\\base.py:493: UserWarning: X does not have valid feature names, but StandardScaler was fitted with feature names\n",
      "  warnings.warn(\n"
     ]
    },
    {
     "name": "stdout",
     "output_type": "stream",
     "text": [
      "1/1 [==============================] - 0s 27ms/step\n",
      "[[0.0156313  0.15551892 0.40978822 0.27402738 0.04467768 0.01895791\n",
      "  0.02847834 0.0113509  0.00575956 0.03580988]]\n",
      "1/1 [==============================] - 0s 29ms/step\n",
      "[[0.01569716 0.15564062 0.40939403 0.27401313 0.04472499 0.01901313\n",
      "  0.02848486 0.01136886 0.0057822  0.03588106]]\n"
     ]
    },
    {
     "name": "stderr",
     "output_type": "stream",
     "text": [
      "c:\\Users\\JR\\.conda\\envs\\solol\\Lib\\site-packages\\sklearn\\base.py:493: UserWarning: X does not have valid feature names, but StandardScaler was fitted with feature names\n",
      "  warnings.warn(\n",
      "c:\\Users\\JR\\.conda\\envs\\solol\\Lib\\site-packages\\sklearn\\base.py:493: UserWarning: X does not have valid feature names, but StandardScaler was fitted with feature names\n",
      "  warnings.warn(\n"
     ]
    },
    {
     "name": "stdout",
     "output_type": "stream",
     "text": [
      "1/1 [==============================] - 0s 29ms/step\n",
      "[[0.01569543 0.15570752 0.40936494 0.27391472 0.04477821 0.01902375\n",
      "  0.0284727  0.01135723 0.00577857 0.03590691]]\n",
      "1/1 [==============================] - 0s 27ms/step\n",
      "[[0.01573381 0.15564446 0.40909302 0.27413306 0.04479686 0.01906567\n",
      "  0.02845475 0.01135673 0.00578307 0.03593858]]\n"
     ]
    },
    {
     "name": "stderr",
     "output_type": "stream",
     "text": [
      "c:\\Users\\JR\\.conda\\envs\\solol\\Lib\\site-packages\\sklearn\\base.py:493: UserWarning: X does not have valid feature names, but StandardScaler was fitted with feature names\n",
      "  warnings.warn(\n",
      "c:\\Users\\JR\\.conda\\envs\\solol\\Lib\\site-packages\\sklearn\\base.py:493: UserWarning: X does not have valid feature names, but StandardScaler was fitted with feature names\n",
      "  warnings.warn(\n"
     ]
    },
    {
     "name": "stdout",
     "output_type": "stream",
     "text": [
      "1/1 [==============================] - 0s 25ms/step\n",
      "[[0.01576911 0.15570383 0.40875518 0.27426916 0.04482096 0.01909595\n",
      "  0.02844953 0.01136279 0.00579528 0.03597824]]\n",
      "1/1 [==============================] - 0s 28ms/step\n",
      "[[0.015772   0.15582849 0.40856448 0.27421194 0.04483903 0.01908001\n",
      "  0.0285003  0.01139196 0.00581356 0.03599827]]\n"
     ]
    },
    {
     "name": "stderr",
     "output_type": "stream",
     "text": [
      "c:\\Users\\JR\\.conda\\envs\\solol\\Lib\\site-packages\\sklearn\\base.py:493: UserWarning: X does not have valid feature names, but StandardScaler was fitted with feature names\n",
      "  warnings.warn(\n",
      "c:\\Users\\JR\\.conda\\envs\\solol\\Lib\\site-packages\\sklearn\\base.py:493: UserWarning: X does not have valid feature names, but StandardScaler was fitted with feature names\n",
      "  warnings.warn(\n"
     ]
    },
    {
     "name": "stdout",
     "output_type": "stream",
     "text": [
      "1/1 [==============================] - 0s 42ms/step\n",
      "[[0.01573825 0.15577066 0.4089302  0.27407968 0.04480805 0.01904891\n",
      "  0.02848688 0.01137631 0.00579736 0.0359636 ]]\n",
      "1/1 [==============================] - 0s 25ms/step\n",
      "[[0.01573593 0.1558192  0.40887663 0.27406952 0.04480769 0.01904598\n",
      "  0.02849097 0.01138044 0.00579986 0.03597376]]\n"
     ]
    },
    {
     "name": "stderr",
     "output_type": "stream",
     "text": [
      "c:\\Users\\JR\\.conda\\envs\\solol\\Lib\\site-packages\\sklearn\\base.py:493: UserWarning: X does not have valid feature names, but StandardScaler was fitted with feature names\n",
      "  warnings.warn(\n",
      "c:\\Users\\JR\\.conda\\envs\\solol\\Lib\\site-packages\\sklearn\\base.py:493: UserWarning: X does not have valid feature names, but StandardScaler was fitted with feature names\n",
      "  warnings.warn(\n"
     ]
    },
    {
     "name": "stdout",
     "output_type": "stream",
     "text": [
      "1/1 [==============================] - 0s 29ms/step\n",
      "[[0.01569062 0.15577614 0.40902457 0.27411273 0.04480143 0.01901995\n",
      "  0.02847387 0.01136435 0.00578113 0.03595521]]\n",
      "1/1 [==============================] - 0s 49ms/step\n",
      "[[0.01557988 0.15564086 0.40980467 0.2738172  0.04480431 0.01893379\n",
      "  0.02848346 0.01133145 0.00574274 0.03586164]]\n"
     ]
    },
    {
     "name": "stderr",
     "output_type": "stream",
     "text": [
      "c:\\Users\\JR\\.conda\\envs\\solol\\Lib\\site-packages\\sklearn\\base.py:493: UserWarning: X does not have valid feature names, but StandardScaler was fitted with feature names\n",
      "  warnings.warn(\n",
      "c:\\Users\\JR\\.conda\\envs\\solol\\Lib\\site-packages\\sklearn\\base.py:493: UserWarning: X does not have valid feature names, but StandardScaler was fitted with feature names\n",
      "  warnings.warn(\n"
     ]
    },
    {
     "name": "stdout",
     "output_type": "stream",
     "text": [
      "1/1 [==============================] - 0s 32ms/step\n",
      "[[0.01532014 0.1553719  0.41196832 0.2727185  0.04475719 0.01871422\n",
      "  0.02853363 0.01129651 0.00566538 0.03565422]]\n",
      "1/1 [==============================] - 0s 27ms/step\n",
      "[[0.01498051 0.15458421 0.41483504 0.27190164 0.04464458 0.01843568\n",
      "  0.02859628 0.01121386 0.00554993 0.03525826]]\n"
     ]
    },
    {
     "name": "stderr",
     "output_type": "stream",
     "text": [
      "c:\\Users\\JR\\.conda\\envs\\solol\\Lib\\site-packages\\sklearn\\base.py:493: UserWarning: X does not have valid feature names, but StandardScaler was fitted with feature names\n",
      "  warnings.warn(\n",
      "c:\\Users\\JR\\.conda\\envs\\solol\\Lib\\site-packages\\sklearn\\base.py:493: UserWarning: X does not have valid feature names, but StandardScaler was fitted with feature names\n",
      "  warnings.warn(\n"
     ]
    },
    {
     "name": "stdout",
     "output_type": "stream",
     "text": [
      "1/1 [==============================] - 0s 26ms/step\n",
      "[[0.01500067 0.15454425 0.4146412  0.27207184 0.04466372 0.01846369\n",
      "  0.02858537 0.01121025 0.00555244 0.03526651]]\n",
      "1/1 [==============================] - 0s 29ms/step\n",
      "[[0.01511811 0.15486193 0.41363642 0.2722112  0.04476776 0.01857225\n",
      "  0.02857232 0.01123935 0.00559203 0.03542868]]\n"
     ]
    },
    {
     "name": "stderr",
     "output_type": "stream",
     "text": [
      "c:\\Users\\JR\\.conda\\envs\\solol\\Lib\\site-packages\\sklearn\\base.py:493: UserWarning: X does not have valid feature names, but StandardScaler was fitted with feature names\n",
      "  warnings.warn(\n",
      "c:\\Users\\JR\\.conda\\envs\\solol\\Lib\\site-packages\\sklearn\\base.py:493: UserWarning: X does not have valid feature names, but StandardScaler was fitted with feature names\n",
      "  warnings.warn(\n"
     ]
    },
    {
     "name": "stdout",
     "output_type": "stream",
     "text": [
      "1/1 [==============================] - 0s 28ms/step\n",
      "[[0.01522609 0.15541954 0.41252515 0.27225965 0.04480363 0.0186315\n",
      "  0.02858322 0.01129332 0.00564703 0.03561084]]\n",
      "1/1 [==============================] - 0s 33ms/step\n",
      "[[0.01540697 0.15552878 0.4110753  0.2729426  0.04486233 0.01879674\n",
      "  0.02858559 0.01133994 0.00570628 0.03575539]]\n"
     ]
    },
    {
     "name": "stderr",
     "output_type": "stream",
     "text": [
      "c:\\Users\\JR\\.conda\\envs\\solol\\Lib\\site-packages\\sklearn\\base.py:493: UserWarning: X does not have valid feature names, but StandardScaler was fitted with feature names\n",
      "  warnings.warn(\n",
      "c:\\Users\\JR\\.conda\\envs\\solol\\Lib\\site-packages\\sklearn\\base.py:493: UserWarning: X does not have valid feature names, but StandardScaler was fitted with feature names\n",
      "  warnings.warn(\n"
     ]
    },
    {
     "name": "stdout",
     "output_type": "stream",
     "text": [
      "1/1 [==============================] - 0s 28ms/step\n",
      "[[0.01533644 0.15541063 0.4116141  0.27284896 0.04478862 0.0187185\n",
      "  0.0285944  0.01132916 0.00568553 0.03567363]]\n",
      "1/1 [==============================] - 0s 28ms/step\n",
      "[[0.01522635 0.15527608 0.41278204 0.27242878 0.04466779 0.01862224\n",
      "  0.02851918 0.01128139 0.0056344  0.0355617 ]]\n"
     ]
    },
    {
     "name": "stderr",
     "output_type": "stream",
     "text": [
      "c:\\Users\\JR\\.conda\\envs\\solol\\Lib\\site-packages\\sklearn\\base.py:493: UserWarning: X does not have valid feature names, but StandardScaler was fitted with feature names\n",
      "  warnings.warn(\n",
      "c:\\Users\\JR\\.conda\\envs\\solol\\Lib\\site-packages\\sklearn\\base.py:493: UserWarning: X does not have valid feature names, but StandardScaler was fitted with feature names\n",
      "  warnings.warn(\n"
     ]
    },
    {
     "name": "stdout",
     "output_type": "stream",
     "text": [
      "1/1 [==============================] - 0s 30ms/step\n",
      "[[0.01507202 0.15478249 0.41420102 0.27213705 0.04462126 0.01850123\n",
      "  0.02853299 0.01122232 0.00557209 0.03535749]]\n",
      "1/1 [==============================] - 0s 28ms/step\n",
      "[[0.01503707 0.15470287 0.41443554 0.2721309  0.04459251 0.01847022\n",
      "  0.02854149 0.01121774 0.00556275 0.03530892]]\n"
     ]
    },
    {
     "name": "stderr",
     "output_type": "stream",
     "text": [
      "c:\\Users\\JR\\.conda\\envs\\solol\\Lib\\site-packages\\sklearn\\base.py:493: UserWarning: X does not have valid feature names, but StandardScaler was fitted with feature names\n",
      "  warnings.warn(\n",
      "c:\\Users\\JR\\.conda\\envs\\solol\\Lib\\site-packages\\sklearn\\base.py:493: UserWarning: X does not have valid feature names, but StandardScaler was fitted with feature names\n",
      "  warnings.warn(\n"
     ]
    },
    {
     "name": "stdout",
     "output_type": "stream",
     "text": [
      "1/1 [==============================] - 0s 34ms/step\n",
      "[[0.01500818 0.15456645 0.4144365  0.27226606 0.04465348 0.01846041\n",
      "  0.02857995 0.0112064  0.00555594 0.03526666]]\n",
      "1/1 [==============================] - 0s 27ms/step\n",
      "[[0.01498039 0.15448293 0.41486785 0.272232   0.04449923 0.01840694\n",
      "  0.02856154 0.01121413 0.00554605 0.03520893]]\n"
     ]
    },
    {
     "name": "stderr",
     "output_type": "stream",
     "text": [
      "c:\\Users\\JR\\.conda\\envs\\solol\\Lib\\site-packages\\sklearn\\base.py:493: UserWarning: X does not have valid feature names, but StandardScaler was fitted with feature names\n",
      "  warnings.warn(\n",
      "c:\\Users\\JR\\.conda\\envs\\solol\\Lib\\site-packages\\sklearn\\base.py:493: UserWarning: X does not have valid feature names, but StandardScaler was fitted with feature names\n",
      "  warnings.warn(\n"
     ]
    },
    {
     "name": "stdout",
     "output_type": "stream",
     "text": [
      "1/1 [==============================] - 0s 26ms/step\n",
      "[[0.01502144 0.15480635 0.41448653 0.27208498 0.04452946 0.01843622\n",
      "  0.02852654 0.01122862 0.00556183 0.03531801]]\n",
      "1/1 [==============================] - 0s 27ms/step\n",
      "[[0.01525082 0.15547667 0.41216645 0.27256435 0.04472167 0.01861964\n",
      "  0.02858448 0.01132168 0.00566176 0.0356325 ]]\n"
     ]
    },
    {
     "name": "stderr",
     "output_type": "stream",
     "text": [
      "c:\\Users\\JR\\.conda\\envs\\solol\\Lib\\site-packages\\sklearn\\base.py:493: UserWarning: X does not have valid feature names, but StandardScaler was fitted with feature names\n",
      "  warnings.warn(\n",
      "c:\\Users\\JR\\.conda\\envs\\solol\\Lib\\site-packages\\sklearn\\base.py:493: UserWarning: X does not have valid feature names, but StandardScaler was fitted with feature names\n",
      "  warnings.warn(\n"
     ]
    },
    {
     "name": "stdout",
     "output_type": "stream",
     "text": [
      "1/1 [==============================] - 0s 27ms/step\n",
      "[[0.01577126 0.15576702 0.40816164 0.27469602 0.04483844 0.01911007\n",
      "  0.02844107 0.01138007 0.00579727 0.03603722]]\n",
      "1/1 [==============================] - 0s 25ms/step\n",
      "[[0.01576622 0.15573414 0.4082449  0.27473572 0.04481614 0.01910727\n",
      "  0.0284188  0.0113662  0.00579096 0.03601967]]\n"
     ]
    },
    {
     "name": "stderr",
     "output_type": "stream",
     "text": [
      "c:\\Users\\JR\\.conda\\envs\\solol\\Lib\\site-packages\\sklearn\\base.py:493: UserWarning: X does not have valid feature names, but StandardScaler was fitted with feature names\n",
      "  warnings.warn(\n",
      "c:\\Users\\JR\\.conda\\envs\\solol\\Lib\\site-packages\\sklearn\\base.py:493: UserWarning: X does not have valid feature names, but StandardScaler was fitted with feature names\n",
      "  warnings.warn(\n"
     ]
    },
    {
     "name": "stdout",
     "output_type": "stream",
     "text": [
      "1/1 [==============================] - 0s 30ms/step\n",
      "[[0.0154697  0.1556083  0.41075617 0.27336806 0.04468932 0.0188114\n",
      "  0.02847594 0.01132924 0.00570998 0.03578185]]\n",
      "1/1 [==============================] - 0s 29ms/step\n",
      "[[0.01523003 0.15525508 0.41292354 0.2724508  0.04461654 0.01862226\n",
      "  0.02846247 0.0112616  0.00562308 0.03555463]]\n"
     ]
    },
    {
     "name": "stderr",
     "output_type": "stream",
     "text": [
      "c:\\Users\\JR\\.conda\\envs\\solol\\Lib\\site-packages\\sklearn\\base.py:493: UserWarning: X does not have valid feature names, but StandardScaler was fitted with feature names\n",
      "  warnings.warn(\n",
      "c:\\Users\\JR\\.conda\\envs\\solol\\Lib\\site-packages\\sklearn\\base.py:493: UserWarning: X does not have valid feature names, but StandardScaler was fitted with feature names\n",
      "  warnings.warn(\n"
     ]
    },
    {
     "name": "stdout",
     "output_type": "stream",
     "text": [
      "1/1 [==============================] - 0s 24ms/step\n",
      "[[0.01508206 0.15477964 0.4141481  0.27210692 0.04465599 0.018522\n",
      "  0.02854152 0.01122569 0.00557537 0.03536274]]\n",
      "1/1 [==============================] - 0s 28ms/step\n",
      "[[0.01504509 0.15462959 0.41428465 0.27217993 0.04468608 0.01850009\n",
      "  0.02858077 0.01121936 0.00556814 0.03530627]]\n"
     ]
    },
    {
     "name": "stderr",
     "output_type": "stream",
     "text": [
      "c:\\Users\\JR\\.conda\\envs\\solol\\Lib\\site-packages\\sklearn\\base.py:493: UserWarning: X does not have valid feature names, but StandardScaler was fitted with feature names\n",
      "  warnings.warn(\n",
      "c:\\Users\\JR\\.conda\\envs\\solol\\Lib\\site-packages\\sklearn\\base.py:493: UserWarning: X does not have valid feature names, but StandardScaler was fitted with feature names\n",
      "  warnings.warn(\n"
     ]
    },
    {
     "name": "stdout",
     "output_type": "stream",
     "text": [
      "1/1 [==============================] - 0s 40ms/step\n",
      "[[0.01508289 0.15469658 0.41424236 0.2721831  0.04462816 0.01852755\n",
      "  0.02852    0.01121302 0.00556802 0.03533828]]\n",
      "1/1 [==============================] - 0s 34ms/step\n"
     ]
    },
    {
     "name": "stderr",
     "output_type": "stream",
     "text": [
      "c:\\Users\\JR\\.conda\\envs\\solol\\Lib\\site-packages\\sklearn\\base.py:493: UserWarning: X does not have valid feature names, but StandardScaler was fitted with feature names\n",
      "  warnings.warn(\n",
      "c:\\Users\\JR\\.conda\\envs\\solol\\Lib\\site-packages\\sklearn\\base.py:493: UserWarning: X does not have valid feature names, but StandardScaler was fitted with feature names\n",
      "  warnings.warn(\n"
     ]
    },
    {
     "name": "stdout",
     "output_type": "stream",
     "text": [
      "[[0.01524297 0.15530041 0.41272554 0.2723246  0.04473304 0.01864107\n",
      "  0.02854045 0.01127582 0.00563831 0.03557776]]\n",
      "1/1 [==============================] - 0s 29ms/step\n",
      "[[0.01572758 0.1555871  0.40853998 0.27464595 0.04484172 0.01908562\n",
      "  0.02846546 0.01136318 0.00578131 0.03596211]]\n",
      "1/1 [==============================] - 0s 37ms/step\n"
     ]
    },
    {
     "name": "stderr",
     "output_type": "stream",
     "text": [
      "c:\\Users\\JR\\.conda\\envs\\solol\\Lib\\site-packages\\sklearn\\base.py:493: UserWarning: X does not have valid feature names, but StandardScaler was fitted with feature names\n",
      "  warnings.warn(\n",
      "c:\\Users\\JR\\.conda\\envs\\solol\\Lib\\site-packages\\sklearn\\base.py:493: UserWarning: X does not have valid feature names, but StandardScaler was fitted with feature names\n",
      "  warnings.warn(\n"
     ]
    },
    {
     "name": "stdout",
     "output_type": "stream",
     "text": [
      "[[0.01573008 0.15557367 0.4084891  0.274696   0.04484749 0.01908885\n",
      "  0.02846623 0.01136311 0.00578236 0.03596316]]\n",
      "1/1 [==============================] - 0s 32ms/step\n",
      "[[0.0154259  0.15542164 0.41117114 0.2732418  0.04473595 0.01880739\n",
      "  0.02849031 0.01130386 0.00569182 0.03571026]]\n",
      "1/1 [==============================] - 0s 27ms/step\n",
      "[[0.01510993 0.15498698 0.41393086 0.27202883 0.04466426 0.01854019\n",
      "  0.02850908 0.01122679 0.00558441 0.03541863]]\n"
     ]
    },
    {
     "name": "stderr",
     "output_type": "stream",
     "text": [
      "c:\\Users\\JR\\.conda\\envs\\solol\\Lib\\site-packages\\sklearn\\base.py:493: UserWarning: X does not have valid feature names, but StandardScaler was fitted with feature names\n",
      "  warnings.warn(\n",
      "c:\\Users\\JR\\.conda\\envs\\solol\\Lib\\site-packages\\sklearn\\base.py:493: UserWarning: X does not have valid feature names, but StandardScaler was fitted with feature names\n",
      "  warnings.warn(\n"
     ]
    },
    {
     "name": "stdout",
     "output_type": "stream",
     "text": [
      "1/1 [==============================] - 0s 25ms/step\n",
      "[[0.01502685 0.15461309 0.4146754  0.27177024 0.04474788 0.01849315\n",
      "  0.02858755 0.01121284 0.00555793 0.0353151 ]]\n",
      "1/1 [==============================] - 0s 26ms/step\n",
      "[[0.01503249 0.1546325  0.4146308  0.2716894  0.04479203 0.018504\n",
      "  0.02860548 0.01121748 0.00556132 0.03533452]]\n"
     ]
    },
    {
     "name": "stderr",
     "output_type": "stream",
     "text": [
      "c:\\Users\\JR\\.conda\\envs\\solol\\Lib\\site-packages\\sklearn\\base.py:493: UserWarning: X does not have valid feature names, but StandardScaler was fitted with feature names\n",
      "  warnings.warn(\n",
      "c:\\Users\\JR\\.conda\\envs\\solol\\Lib\\site-packages\\sklearn\\base.py:493: UserWarning: X does not have valid feature names, but StandardScaler was fitted with feature names\n",
      "  warnings.warn(\n"
     ]
    },
    {
     "name": "stdout",
     "output_type": "stream",
     "text": [
      "1/1 [==============================] - 0s 26ms/step\n",
      "[[0.01507438 0.15473343 0.4143856  0.2717093  0.04479316 0.01853626\n",
      "  0.0285902  0.01122366 0.00557311 0.03538096]]\n",
      "1/1 [==============================] - 0s 25ms/step\n",
      "[[0.01517376 0.15500338 0.41353917 0.27200198 0.04479943 0.0186154\n",
      "  0.02853739 0.01123256 0.00560129 0.03549567]]\n"
     ]
    },
    {
     "name": "stderr",
     "output_type": "stream",
     "text": [
      "c:\\Users\\JR\\.conda\\envs\\solol\\Lib\\site-packages\\sklearn\\base.py:493: UserWarning: X does not have valid feature names, but StandardScaler was fitted with feature names\n",
      "  warnings.warn(\n",
      "c:\\Users\\JR\\.conda\\envs\\solol\\Lib\\site-packages\\sklearn\\base.py:493: UserWarning: X does not have valid feature names, but StandardScaler was fitted with feature names\n",
      "  warnings.warn(\n"
     ]
    },
    {
     "name": "stdout",
     "output_type": "stream",
     "text": [
      "1/1 [==============================] - 0s 29ms/step\n",
      "[[0.01524778 0.15509939 0.4130825  0.27210012 0.04481976 0.01865974\n",
      "  0.02855161 0.0112503  0.00562617 0.03556256]]\n",
      "1/1 [==============================] - 0s 25ms/step\n",
      "[[0.0156348  0.15574253 0.40945658 0.27387628 0.0448245  0.01897389\n",
      "  0.02846456 0.01134139 0.00575694 0.03592857]]\n"
     ]
    },
    {
     "name": "stderr",
     "output_type": "stream",
     "text": [
      "c:\\Users\\JR\\.conda\\envs\\solol\\Lib\\site-packages\\sklearn\\base.py:493: UserWarning: X does not have valid feature names, but StandardScaler was fitted with feature names\n",
      "  warnings.warn(\n",
      "c:\\Users\\JR\\.conda\\envs\\solol\\Lib\\site-packages\\sklearn\\base.py:493: UserWarning: X does not have valid feature names, but StandardScaler was fitted with feature names\n",
      "  warnings.warn(\n"
     ]
    },
    {
     "name": "stdout",
     "output_type": "stream",
     "text": [
      "1/1 [==============================] - 0s 27ms/step\n",
      "[[0.01578146 0.1556968  0.40799248 0.27479032 0.04488998 0.01912261\n",
      "  0.02849296 0.01139111 0.00580646 0.03603586]]\n",
      "1/1 [==============================] - 0s 25ms/step\n",
      "[[0.01578885 0.15571262 0.40791345 0.27482218 0.04490479 0.01913381\n",
      "  0.02848333 0.01138729 0.00580638 0.03604742]]\n"
     ]
    },
    {
     "name": "stderr",
     "output_type": "stream",
     "text": [
      "c:\\Users\\JR\\.conda\\envs\\solol\\Lib\\site-packages\\sklearn\\base.py:493: UserWarning: X does not have valid feature names, but StandardScaler was fitted with feature names\n",
      "  warnings.warn(\n",
      "c:\\Users\\JR\\.conda\\envs\\solol\\Lib\\site-packages\\sklearn\\base.py:493: UserWarning: X does not have valid feature names, but StandardScaler was fitted with feature names\n",
      "  warnings.warn(\n"
     ]
    },
    {
     "name": "stdout",
     "output_type": "stream",
     "text": [
      "1/1 [==============================] - 0s 24ms/step\n",
      "[[0.01566712 0.15575017 0.40905935 0.27414614 0.04483551 0.01900882\n",
      "  0.02846824 0.01134837 0.00576837 0.03594784]]\n",
      "1/1 [==============================] - 0s 24ms/step\n",
      "[[0.01561199 0.15579696 0.40945604 0.27381587 0.04482063 0.01894297\n",
      "  0.02851561 0.01136015 0.00576396 0.03591583]]\n"
     ]
    },
    {
     "name": "stderr",
     "output_type": "stream",
     "text": [
      "c:\\Users\\JR\\.conda\\envs\\solol\\Lib\\site-packages\\sklearn\\base.py:493: UserWarning: X does not have valid feature names, but StandardScaler was fitted with feature names\n",
      "  warnings.warn(\n",
      "c:\\Users\\JR\\.conda\\envs\\solol\\Lib\\site-packages\\sklearn\\base.py:493: UserWarning: X does not have valid feature names, but StandardScaler was fitted with feature names\n",
      "  warnings.warn(\n"
     ]
    },
    {
     "name": "stdout",
     "output_type": "stream",
     "text": [
      "1/1 [==============================] - 0s 25ms/step\n",
      "[[0.01574422 0.15576796 0.40825355 0.27457115 0.04489579 0.01907972\n",
      "  0.02848959 0.0113781  0.00579656 0.03602335]]\n",
      "1/1 [==============================] - 0s 39ms/step\n"
     ]
    },
    {
     "name": "stderr",
     "output_type": "stream",
     "text": [
      "c:\\Users\\JR\\.conda\\envs\\solol\\Lib\\site-packages\\sklearn\\base.py:493: UserWarning: X does not have valid feature names, but StandardScaler was fitted with feature names\n",
      "  warnings.warn(\n",
      "c:\\Users\\JR\\.conda\\envs\\solol\\Lib\\site-packages\\sklearn\\base.py:493: UserWarning: X does not have valid feature names, but StandardScaler was fitted with feature names\n",
      "  warnings.warn(\n"
     ]
    },
    {
     "name": "stdout",
     "output_type": "stream",
     "text": [
      "[[0.01560234 0.15554284 0.40925393 0.27454564 0.04467512 0.01893468\n",
      "  0.02849348 0.01136397 0.00575833 0.03582963]]\n",
      "1/1 [==============================] - 0s 30ms/step\n",
      "[[0.01556905 0.15529236 0.40969485 0.27466777 0.04457025 0.01892049\n",
      "  0.02846413 0.01134783 0.00573691 0.03573638]]\n",
      "1/1 [==============================] - 0s 30ms/step\n",
      "[[0.01546793 0.15506929 0.4104141  0.27462614 0.04447165 0.01882877\n",
      "  0.02847161 0.01133157 0.00570204 0.03561686]]\n"
     ]
    },
    {
     "name": "stderr",
     "output_type": "stream",
     "text": [
      "c:\\Users\\JR\\.conda\\envs\\solol\\Lib\\site-packages\\sklearn\\base.py:493: UserWarning: X does not have valid feature names, but StandardScaler was fitted with feature names\n",
      "  warnings.warn(\n",
      "c:\\Users\\JR\\.conda\\envs\\solol\\Lib\\site-packages\\sklearn\\base.py:493: UserWarning: X does not have valid feature names, but StandardScaler was fitted with feature names\n",
      "  warnings.warn(\n"
     ]
    },
    {
     "name": "stdout",
     "output_type": "stream",
     "text": [
      "1/1 [==============================] - 0s 29ms/step\n",
      "[[0.01538769 0.15501504 0.41090083 0.27424297 0.04455936 0.01878023\n",
      "  0.02852242 0.01132611 0.00568171 0.03558362]]\n",
      "1/1 [==============================] - 0s 31ms/step\n"
     ]
    },
    {
     "name": "stderr",
     "output_type": "stream",
     "text": [
      "c:\\Users\\JR\\.conda\\envs\\solol\\Lib\\site-packages\\sklearn\\base.py:493: UserWarning: X does not have valid feature names, but StandardScaler was fitted with feature names\n",
      "  warnings.warn(\n"
     ]
    },
    {
     "name": "stdout",
     "output_type": "stream",
     "text": [
      "[[0.01542145 0.15504111 0.41080338 0.2743206  0.04448522 0.01879675\n",
      "  0.02850362 0.01133742 0.00569095 0.03559957]]\n",
      "1/1 [==============================] - 0s 25ms/step\n",
      "[[0.01546929 0.15513772 0.41049308 0.27439737 0.04442782 0.01880511\n",
      "  0.02853864 0.01137901 0.00571877 0.0356332 ]]\n"
     ]
    },
    {
     "name": "stderr",
     "output_type": "stream",
     "text": [
      "c:\\Users\\JR\\.conda\\envs\\solol\\Lib\\site-packages\\sklearn\\base.py:493: UserWarning: X does not have valid feature names, but StandardScaler was fitted with feature names\n",
      "  warnings.warn(\n",
      "c:\\Users\\JR\\.conda\\envs\\solol\\Lib\\site-packages\\sklearn\\base.py:493: UserWarning: X does not have valid feature names, but StandardScaler was fitted with feature names\n",
      "  warnings.warn(\n"
     ]
    },
    {
     "name": "stdout",
     "output_type": "stream",
     "text": [
      "1/1 [==============================] - 0s 25ms/step\n",
      "[[0.01553157 0.15531278 0.4100036  0.27447638 0.04443877 0.01884683\n",
      "  0.0285348  0.01140174 0.00574303 0.03571052]]\n",
      "1/1 [==============================] - 0s 24ms/step\n",
      "[[0.0156235  0.15555081 0.40919852 0.27473104 0.04446201 0.01891187\n",
      "  0.02850188 0.01141504 0.00577446 0.0358309 ]]\n"
     ]
    },
    {
     "name": "stderr",
     "output_type": "stream",
     "text": [
      "c:\\Users\\JR\\.conda\\envs\\solol\\Lib\\site-packages\\sklearn\\base.py:493: UserWarning: X does not have valid feature names, but StandardScaler was fitted with feature names\n",
      "  warnings.warn(\n",
      "c:\\Users\\JR\\.conda\\envs\\solol\\Lib\\site-packages\\sklearn\\base.py:493: UserWarning: X does not have valid feature names, but StandardScaler was fitted with feature names\n",
      "  warnings.warn(\n"
     ]
    },
    {
     "name": "stdout",
     "output_type": "stream",
     "text": [
      "1/1 [==============================] - 0s 31ms/step\n",
      "[[0.01580827 0.15590668 0.4076831  0.27499127 0.0446468  0.01907214\n",
      "  0.02850952 0.01146157 0.00584154 0.03607923]]\n",
      "1/1 [==============================] - 0s 28ms/step\n",
      "[[0.01592981 0.15611804 0.40687048 0.27513555 0.04462833 0.01914671\n",
      "  0.02854236 0.01152629 0.0058961  0.03620635]]\n"
     ]
    },
    {
     "name": "stderr",
     "output_type": "stream",
     "text": [
      "c:\\Users\\JR\\.conda\\envs\\solol\\Lib\\site-packages\\sklearn\\base.py:493: UserWarning: X does not have valid feature names, but StandardScaler was fitted with feature names\n",
      "  warnings.warn(\n",
      "c:\\Users\\JR\\.conda\\envs\\solol\\Lib\\site-packages\\sklearn\\base.py:493: UserWarning: X does not have valid feature names, but StandardScaler was fitted with feature names\n",
      "  warnings.warn(\n"
     ]
    },
    {
     "name": "stdout",
     "output_type": "stream",
     "text": [
      "1/1 [==============================] - 0s 30ms/step\n",
      "[[0.01595633 0.15612845 0.40669727 0.27517807 0.04468082 0.01918136\n",
      "  0.02852306 0.01151529 0.00590091 0.03623842]]\n",
      "1/1 [==============================] - 0s 25ms/step\n",
      "[[0.01599992 0.15622483 0.40633434 0.2752236  0.04474032 0.01922701\n",
      "  0.02851608 0.0115186  0.00591548 0.03629978]]\n"
     ]
    },
    {
     "name": "stderr",
     "output_type": "stream",
     "text": [
      "c:\\Users\\JR\\.conda\\envs\\solol\\Lib\\site-packages\\sklearn\\base.py:493: UserWarning: X does not have valid feature names, but StandardScaler was fitted with feature names\n",
      "  warnings.warn(\n",
      "c:\\Users\\JR\\.conda\\envs\\solol\\Lib\\site-packages\\sklearn\\base.py:493: UserWarning: X does not have valid feature names, but StandardScaler was fitted with feature names\n",
      "  warnings.warn(\n"
     ]
    },
    {
     "name": "stdout",
     "output_type": "stream",
     "text": [
      "1/1 [==============================] - 0s 26ms/step\n",
      "[[0.01607367 0.15627918 0.4058189  0.27537435 0.04476409 0.01929403\n",
      "  0.02854501 0.01154748 0.00594504 0.03635823]]\n",
      "1/1 [==============================] - 0s 65ms/step\n"
     ]
    },
    {
     "name": "stderr",
     "output_type": "stream",
     "text": [
      "c:\\Users\\JR\\.conda\\envs\\solol\\Lib\\site-packages\\sklearn\\base.py:493: UserWarning: X does not have valid feature names, but StandardScaler was fitted with feature names\n",
      "  warnings.warn(\n",
      "c:\\Users\\JR\\.conda\\envs\\solol\\Lib\\site-packages\\sklearn\\base.py:493: UserWarning: X does not have valid feature names, but StandardScaler was fitted with feature names\n",
      "  warnings.warn(\n"
     ]
    },
    {
     "name": "stdout",
     "output_type": "stream",
     "text": [
      "[[0.01609452 0.15626994 0.40574223 0.27545723 0.04473628 0.01931075\n",
      "  0.02852028 0.01154544 0.0059474  0.03637588]]\n",
      "1/1 [==============================] - 0s 25ms/step\n",
      "[[0.01612304 0.15631521 0.40486866 0.27580565 0.04489053 0.01935737\n",
      "  0.02860985 0.01158681 0.00597564 0.03646723]]\n",
      "1/1 [==============================] - 0s 27ms/step\n",
      "[[0.01609485 0.15629813 0.40518782 0.27557528 0.04483046 0.01933159\n",
      "  0.02863561 0.01161046 0.00597259 0.0364633 ]]\n"
     ]
    },
    {
     "name": "stderr",
     "output_type": "stream",
     "text": [
      "c:\\Users\\JR\\.conda\\envs\\solol\\Lib\\site-packages\\sklearn\\base.py:493: UserWarning: X does not have valid feature names, but StandardScaler was fitted with feature names\n",
      "  warnings.warn(\n",
      "c:\\Users\\JR\\.conda\\envs\\solol\\Lib\\site-packages\\sklearn\\base.py:493: UserWarning: X does not have valid feature names, but StandardScaler was fitted with feature names\n",
      "  warnings.warn(\n"
     ]
    },
    {
     "name": "stdout",
     "output_type": "stream",
     "text": [
      "1/1 [==============================] - 0s 28ms/step\n",
      "[[0.01615169 0.15639588 0.40442652 0.27589875 0.04495741 0.01941146\n",
      "  0.02860858 0.01159775 0.00598362 0.03656831]]\n",
      "1/1 [==============================] - 0s 25ms/step\n",
      "[[0.01616342 0.15650636 0.4041382  0.27591896 0.0450073  0.01941189\n",
      "  0.02862536 0.01160973 0.00599256 0.03662627]]\n"
     ]
    },
    {
     "name": "stderr",
     "output_type": "stream",
     "text": [
      "c:\\Users\\JR\\.conda\\envs\\solol\\Lib\\site-packages\\sklearn\\base.py:493: UserWarning: X does not have valid feature names, but StandardScaler was fitted with feature names\n",
      "  warnings.warn(\n",
      "c:\\Users\\JR\\.conda\\envs\\solol\\Lib\\site-packages\\sklearn\\base.py:493: UserWarning: X does not have valid feature names, but StandardScaler was fitted with feature names\n",
      "  warnings.warn(\n"
     ]
    },
    {
     "name": "stdout",
     "output_type": "stream",
     "text": [
      "1/1 [==============================] - 0s 27ms/step\n",
      "[[0.0161394  0.15659043 0.4041266  0.27585405 0.04500745 0.01936939\n",
      "  0.02863434 0.01162374 0.00599347 0.03666107]]\n",
      "1/1 [==============================] - 0s 25ms/step\n",
      "[[0.01619242 0.15675707 0.40376014 0.2758088  0.04506213 0.01941305\n",
      "  0.02863559 0.01162755 0.00601258 0.03673058]]\n"
     ]
    },
    {
     "name": "stderr",
     "output_type": "stream",
     "text": [
      "c:\\Users\\JR\\.conda\\envs\\solol\\Lib\\site-packages\\sklearn\\base.py:493: UserWarning: X does not have valid feature names, but StandardScaler was fitted with feature names\n",
      "  warnings.warn(\n",
      "c:\\Users\\JR\\.conda\\envs\\solol\\Lib\\site-packages\\sklearn\\base.py:493: UserWarning: X does not have valid feature names, but StandardScaler was fitted with feature names\n",
      "  warnings.warn(\n"
     ]
    },
    {
     "name": "stdout",
     "output_type": "stream",
     "text": [
      "1/1 [==============================] - 0s 31ms/step\n",
      "[[0.01622045 0.15676397 0.40364957 0.275832   0.04506094 0.01944243\n",
      "  0.02863147 0.01163208 0.00601934 0.03674775]]\n",
      "1/1 [==============================] - 0s 28ms/step\n",
      "[[0.01631633 0.15665811 0.40329346 0.27617344 0.04502866 0.01953978\n",
      "  0.02857438 0.01162245 0.00603223 0.03676118]]\n"
     ]
    },
    {
     "name": "stderr",
     "output_type": "stream",
     "text": [
      "c:\\Users\\JR\\.conda\\envs\\solol\\Lib\\site-packages\\sklearn\\base.py:493: UserWarning: X does not have valid feature names, but StandardScaler was fitted with feature names\n",
      "  warnings.warn(\n",
      "c:\\Users\\JR\\.conda\\envs\\solol\\Lib\\site-packages\\sklearn\\base.py:493: UserWarning: X does not have valid feature names, but StandardScaler was fitted with feature names\n",
      "  warnings.warn(\n"
     ]
    },
    {
     "name": "stdout",
     "output_type": "stream",
     "text": [
      "1/1 [==============================] - 0s 30ms/step\n",
      "[[0.01633449 0.15661545 0.40321633 0.2762564  0.04503138 0.0195598\n",
      "  0.02857958 0.01162241 0.00603758 0.03674648]]\n",
      "1/1 [==============================] - 0s 26ms/step\n",
      "[[0.01628592 0.15658274 0.4035535  0.27613398 0.04503454 0.0195172\n",
      "  0.02856945 0.01159916 0.00601836 0.03670515]]\n"
     ]
    },
    {
     "name": "stderr",
     "output_type": "stream",
     "text": [
      "c:\\Users\\JR\\.conda\\envs\\solol\\Lib\\site-packages\\sklearn\\base.py:493: UserWarning: X does not have valid feature names, but StandardScaler was fitted with feature names\n",
      "  warnings.warn(\n",
      "c:\\Users\\JR\\.conda\\envs\\solol\\Lib\\site-packages\\sklearn\\base.py:493: UserWarning: X does not have valid feature names, but StandardScaler was fitted with feature names\n",
      "  warnings.warn(\n"
     ]
    },
    {
     "name": "stdout",
     "output_type": "stream",
     "text": [
      "1/1 [==============================] - 0s 39ms/step\n",
      "[[0.01629241 0.15658225 0.4035385  0.27612236 0.04503006 0.01952145\n",
      "  0.02857845 0.01160669 0.00602301 0.03670477]]\n",
      "1/1 [==============================] - 0s 26ms/step\n",
      "[[0.01630612 0.15653762 0.4035726  0.27618232 0.04500997 0.01953579\n",
      "  0.02854834 0.01159269 0.0060182  0.03669638]]\n"
     ]
    },
    {
     "name": "stderr",
     "output_type": "stream",
     "text": [
      "c:\\Users\\JR\\.conda\\envs\\solol\\Lib\\site-packages\\sklearn\\base.py:493: UserWarning: X does not have valid feature names, but StandardScaler was fitted with feature names\n",
      "  warnings.warn(\n",
      "c:\\Users\\JR\\.conda\\envs\\solol\\Lib\\site-packages\\sklearn\\base.py:493: UserWarning: X does not have valid feature names, but StandardScaler was fitted with feature names\n",
      "  warnings.warn(\n"
     ]
    },
    {
     "name": "stdout",
     "output_type": "stream",
     "text": [
      "1/1 [==============================] - 0s 39ms/step\n",
      "[[0.01629711 0.15654889 0.4034858  0.27618805 0.04504866 0.01953347\n",
      "  0.02857758 0.01160036 0.00602079 0.03669926]]\n",
      "1/1 [==============================] - 0s 27ms/step\n",
      "[[0.01615494 0.15643357 0.40423074 0.27601248 0.04502365 0.01940338\n",
      "  0.0285983  0.01157737 0.00597963 0.03658586]]\n"
     ]
    },
    {
     "name": "stderr",
     "output_type": "stream",
     "text": [
      "c:\\Users\\JR\\.conda\\envs\\solol\\Lib\\site-packages\\sklearn\\base.py:493: UserWarning: X does not have valid feature names, but StandardScaler was fitted with feature names\n",
      "  warnings.warn(\n",
      "c:\\Users\\JR\\.conda\\envs\\solol\\Lib\\site-packages\\sklearn\\base.py:493: UserWarning: X does not have valid feature names, but StandardScaler was fitted with feature names\n",
      "  warnings.warn(\n"
     ]
    },
    {
     "name": "stdout",
     "output_type": "stream",
     "text": [
      "1/1 [==============================] - 0s 29ms/step\n",
      "[[0.01617102 0.15649328 0.40420797 0.2759504  0.04499688 0.01940299\n",
      "  0.0285946  0.01158705 0.00598799 0.0366079 ]]\n",
      "1/1 [==============================] - 0s 24ms/step\n",
      "[[0.01591272 0.15634792 0.40625075 0.27457485 0.04500911 0.01917534\n",
      "  0.02875339 0.01160153 0.00593696 0.03643746]]\n"
     ]
    },
    {
     "name": "stderr",
     "output_type": "stream",
     "text": [
      "c:\\Users\\JR\\.conda\\envs\\solol\\Lib\\site-packages\\sklearn\\base.py:493: UserWarning: X does not have valid feature names, but StandardScaler was fitted with feature names\n",
      "  warnings.warn(\n",
      "c:\\Users\\JR\\.conda\\envs\\solol\\Lib\\site-packages\\sklearn\\base.py:493: UserWarning: X does not have valid feature names, but StandardScaler was fitted with feature names\n",
      "  warnings.warn(\n"
     ]
    },
    {
     "name": "stdout",
     "output_type": "stream",
     "text": [
      "1/1 [==============================] - 0s 28ms/step\n",
      "[[0.01584034 0.15619317 0.40719205 0.27432057 0.04484577 0.0190998\n",
      "  0.02869296 0.01157565 0.00590189 0.03633781]]\n",
      "1/1 [==============================] - 0s 26ms/step\n",
      "[[0.01583965 0.15607406 0.40775496 0.27414447 0.0447519  0.01909944\n",
      "  0.02863423 0.01154364 0.00588699 0.03627067]]\n"
     ]
    },
    {
     "name": "stderr",
     "output_type": "stream",
     "text": [
      "c:\\Users\\JR\\.conda\\envs\\solol\\Lib\\site-packages\\sklearn\\base.py:493: UserWarning: X does not have valid feature names, but StandardScaler was fitted with feature names\n",
      "  warnings.warn(\n",
      "c:\\Users\\JR\\.conda\\envs\\solol\\Lib\\site-packages\\sklearn\\base.py:493: UserWarning: X does not have valid feature names, but StandardScaler was fitted with feature names\n",
      "  warnings.warn(\n"
     ]
    },
    {
     "name": "stdout",
     "output_type": "stream",
     "text": [
      "1/1 [==============================] - 0s 29ms/step\n",
      "[[0.01567174 0.15563233 0.40917835 0.27376676 0.04469844 0.01897817\n",
      "  0.02868605 0.01150597 0.0058337  0.03604842]]\n",
      "1/1 [==============================] - 0s 28ms/step\n",
      "[[0.0155319  0.15557778 0.41013244 0.2731165  0.04484507 0.01887522\n",
      "  0.028715   0.01144537 0.00578763 0.03597302]]\n"
     ]
    },
    {
     "name": "stderr",
     "output_type": "stream",
     "text": [
      "c:\\Users\\JR\\.conda\\envs\\solol\\Lib\\site-packages\\sklearn\\base.py:493: UserWarning: X does not have valid feature names, but StandardScaler was fitted with feature names\n",
      "  warnings.warn(\n",
      "c:\\Users\\JR\\.conda\\envs\\solol\\Lib\\site-packages\\sklearn\\base.py:493: UserWarning: X does not have valid feature names, but StandardScaler was fitted with feature names\n",
      "  warnings.warn(\n"
     ]
    },
    {
     "name": "stdout",
     "output_type": "stream",
     "text": [
      "1/1 [==============================] - 0s 29ms/step\n",
      "[[0.01569365 0.15611136 0.4093382  0.27264342 0.04501695 0.01899806\n",
      "  0.02867518 0.01145647 0.00582969 0.03623698]]\n",
      "1/1 [==============================] - 0s 32ms/step\n",
      "[[0.01572739 0.15623683 0.4086491  0.27342612 0.04487522 0.01900074\n",
      "  0.02855308 0.01143829 0.00582666 0.03626655]]\n"
     ]
    },
    {
     "name": "stderr",
     "output_type": "stream",
     "text": [
      "c:\\Users\\JR\\.conda\\envs\\solol\\Lib\\site-packages\\sklearn\\base.py:493: UserWarning: X does not have valid feature names, but StandardScaler was fitted with feature names\n",
      "  warnings.warn(\n",
      "c:\\Users\\JR\\.conda\\envs\\solol\\Lib\\site-packages\\sklearn\\base.py:493: UserWarning: X does not have valid feature names, but StandardScaler was fitted with feature names\n",
      "  warnings.warn(\n"
     ]
    },
    {
     "name": "stdout",
     "output_type": "stream",
     "text": [
      "1/1 [==============================] - 0s 26ms/step\n",
      "[[0.01575304 0.15637328 0.40856367 0.27332962 0.04486944 0.01902036\n",
      "  0.02851035 0.0114329  0.0058278  0.03631956]]\n",
      "1/1 [==============================] - 0s 25ms/step\n",
      "[[0.01581191 0.1565346  0.40801463 0.27341914 0.04493399 0.01906954\n",
      "  0.02851605 0.01144698 0.0058499  0.03640329]]\n"
     ]
    },
    {
     "name": "stderr",
     "output_type": "stream",
     "text": [
      "c:\\Users\\JR\\.conda\\envs\\solol\\Lib\\site-packages\\sklearn\\base.py:493: UserWarning: X does not have valid feature names, but StandardScaler was fitted with feature names\n",
      "  warnings.warn(\n",
      "c:\\Users\\JR\\.conda\\envs\\solol\\Lib\\site-packages\\sklearn\\base.py:493: UserWarning: X does not have valid feature names, but StandardScaler was fitted with feature names\n",
      "  warnings.warn(\n"
     ]
    },
    {
     "name": "stdout",
     "output_type": "stream",
     "text": [
      "1/1 [==============================] - 0s 28ms/step\n",
      "[[0.01578064 0.1564963  0.40834236 0.2733102  0.04490267 0.01903774\n",
      "  0.02849273 0.01142852 0.00583325 0.03637562]]\n",
      "1/1 [==============================] - 0s 56ms/step\n",
      "[[0.01580798 0.15656267 0.40805885 0.2733188  0.04495257 0.01906057\n",
      "  0.02852611 0.01144691 0.00585015 0.03641543]]\n"
     ]
    },
    {
     "name": "stderr",
     "output_type": "stream",
     "text": [
      "c:\\Users\\JR\\.conda\\envs\\solol\\Lib\\site-packages\\sklearn\\base.py:493: UserWarning: X does not have valid feature names, but StandardScaler was fitted with feature names\n",
      "  warnings.warn(\n",
      "c:\\Users\\JR\\.conda\\envs\\solol\\Lib\\site-packages\\sklearn\\base.py:493: UserWarning: X does not have valid feature names, but StandardScaler was fitted with feature names\n",
      "  warnings.warn(\n"
     ]
    },
    {
     "name": "stdout",
     "output_type": "stream",
     "text": [
      "1/1 [==============================] - 0s 30ms/step\n",
      "[[0.01587422 0.15667264 0.40761217 0.27325025 0.0450382  0.01911955\n",
      "  0.02857433 0.01148097 0.00588127 0.03649637]]\n",
      "1/1 [==============================] - 0s 26ms/step\n",
      "[[0.01585137 0.15665029 0.4078741  0.27314392 0.04498569 0.01909501\n",
      "  0.02857892 0.01148325 0.0058762  0.03646126]]\n",
      "1/1 [==============================] - ETA: 0s"
     ]
    },
    {
     "name": "stderr",
     "output_type": "stream",
     "text": [
      "c:\\Users\\JR\\.conda\\envs\\solol\\Lib\\site-packages\\sklearn\\base.py:493: UserWarning: X does not have valid feature names, but StandardScaler was fitted with feature names\n",
      "  warnings.warn(\n",
      "c:\\Users\\JR\\.conda\\envs\\solol\\Lib\\site-packages\\sklearn\\base.py:493: UserWarning: X does not have valid feature names, but StandardScaler was fitted with feature names\n",
      "  warnings.warn(\n"
     ]
    },
    {
     "name": "stdout",
     "output_type": "stream",
     "text": [
      "1/1 [==============================] - 0s 27ms/step\n",
      "[[0.01581387 0.15657529 0.4081861  0.27306086 0.04495937 0.01906221\n",
      "  0.02858993 0.01147798 0.00586626 0.03640815]]\n",
      "1/1 [==============================] - 0s 28ms/step\n"
     ]
    },
    {
     "name": "stderr",
     "output_type": "stream",
     "text": [
      "c:\\Users\\JR\\.conda\\envs\\solol\\Lib\\site-packages\\sklearn\\base.py:493: UserWarning: X does not have valid feature names, but StandardScaler was fitted with feature names\n",
      "  warnings.warn(\n",
      "c:\\Users\\JR\\.conda\\envs\\solol\\Lib\\site-packages\\sklearn\\base.py:493: UserWarning: X does not have valid feature names, but StandardScaler was fitted with feature names\n",
      "  warnings.warn(\n"
     ]
    },
    {
     "name": "stdout",
     "output_type": "stream",
     "text": [
      "[[0.01518403 0.15530176 0.41320565 0.2710358  0.04500975 0.01857107\n",
      "  0.02888465 0.0113819  0.00568963 0.03573574]]\n",
      "1/1 [==============================] - 0s 28ms/step\n",
      "[[0.01519768 0.15532051 0.41252226 0.2713169  0.04515171 0.01859486\n",
      "  0.0289937  0.01141495 0.00571557 0.03577184]]\n",
      "1/1 [==============================] - 0s 26ms/step\n",
      "[[0.01520256 0.1552939  0.4125769  0.27134794 0.04514381 0.01859767\n",
      "  0.02896033 0.0113979  0.00570903 0.03576995]]\n"
     ]
    },
    {
     "name": "stderr",
     "output_type": "stream",
     "text": [
      "c:\\Users\\JR\\.conda\\envs\\solol\\Lib\\site-packages\\sklearn\\base.py:493: UserWarning: X does not have valid feature names, but StandardScaler was fitted with feature names\n",
      "  warnings.warn(\n",
      "c:\\Users\\JR\\.conda\\envs\\solol\\Lib\\site-packages\\sklearn\\base.py:493: UserWarning: X does not have valid feature names, but StandardScaler was fitted with feature names\n",
      "  warnings.warn(\n"
     ]
    },
    {
     "name": "stdout",
     "output_type": "stream",
     "text": [
      "1/1 [==============================] - 0s 29ms/step\n",
      "[[0.01520822 0.15532875 0.41263792 0.2713132  0.04510109 0.01859213\n",
      "  0.02893919 0.01139758 0.0057079  0.03577399]]\n",
      "1/1 [==============================] - 0s 25ms/step\n",
      "[[0.01519954 0.15525873 0.41280755 0.27132252 0.04507007 0.01858389\n",
      "  0.02892593 0.01138835 0.00570123 0.03574215]]\n",
      "1/1 [==============================] - ETA: 0s"
     ]
    },
    {
     "name": "stderr",
     "output_type": "stream",
     "text": [
      "c:\\Users\\JR\\.conda\\envs\\solol\\Lib\\site-packages\\sklearn\\base.py:493: UserWarning: X does not have valid feature names, but StandardScaler was fitted with feature names\n",
      "  warnings.warn(\n",
      "c:\\Users\\JR\\.conda\\envs\\solol\\Lib\\site-packages\\sklearn\\base.py:493: UserWarning: X does not have valid feature names, but StandardScaler was fitted with feature names\n",
      "  warnings.warn(\n"
     ]
    },
    {
     "name": "stdout",
     "output_type": "stream",
     "text": [
      "1/1 [==============================] - 0s 26ms/step\n",
      "[[0.01520853 0.15530539 0.41258925 0.27138743 0.04510847 0.01859975\n",
      "  0.02893605 0.01139446 0.00570784 0.03576278]]\n",
      "1/1 [==============================] - 0s 34ms/step\n",
      "[[0.01525091 0.15541373 0.4121889  0.27156168 0.04509282 0.01862922\n",
      "  0.0289237  0.01140936 0.00572501 0.03580467]]\n"
     ]
    },
    {
     "name": "stderr",
     "output_type": "stream",
     "text": [
      "c:\\Users\\JR\\.conda\\envs\\solol\\Lib\\site-packages\\sklearn\\base.py:493: UserWarning: X does not have valid feature names, but StandardScaler was fitted with feature names\n",
      "  warnings.warn(\n",
      "c:\\Users\\JR\\.conda\\envs\\solol\\Lib\\site-packages\\sklearn\\base.py:493: UserWarning: X does not have valid feature names, but StandardScaler was fitted with feature names\n",
      "  warnings.warn(\n"
     ]
    },
    {
     "name": "stdout",
     "output_type": "stream",
     "text": [
      "1/1 [==============================] - 0s 33ms/step\n",
      "[[0.0154984  0.15575337 0.40997654 0.27257296 0.0451083  0.0188317\n",
      "  0.02890109 0.01149639 0.00581488 0.03604627]]\n",
      "1/1 [==============================] - 0s 27ms/step\n",
      "[[0.01556595 0.15587038 0.40953    0.27285543 0.04502755 0.01889499\n",
      "  0.02882142 0.0115046  0.00582631 0.03610336]]\n",
      "1/1 [==============================] - ETA: 0s"
     ]
    },
    {
     "name": "stderr",
     "output_type": "stream",
     "text": [
      "c:\\Users\\JR\\.conda\\envs\\solol\\Lib\\site-packages\\sklearn\\base.py:493: UserWarning: X does not have valid feature names, but StandardScaler was fitted with feature names\n",
      "  warnings.warn(\n",
      "c:\\Users\\JR\\.conda\\envs\\solol\\Lib\\site-packages\\sklearn\\base.py:493: UserWarning: X does not have valid feature names, but StandardScaler was fitted with feature names\n",
      "  warnings.warn(\n"
     ]
    },
    {
     "name": "stdout",
     "output_type": "stream",
     "text": [
      "1/1 [==============================] - 0s 26ms/step\n",
      "[[0.01558923 0.1558672  0.40929678 0.27300695 0.04501677 0.0189111\n",
      "  0.02883861 0.01152247 0.00583848 0.03611241]]\n",
      "1/1 [==============================] - 0s 26ms/step\n",
      "[[0.0155608  0.15576103 0.4094062  0.27297667 0.04508332 0.01889317\n",
      "  0.0288882  0.01151733 0.00583357 0.03607976]]\n"
     ]
    },
    {
     "name": "stderr",
     "output_type": "stream",
     "text": [
      "c:\\Users\\JR\\.conda\\envs\\solol\\Lib\\site-packages\\sklearn\\base.py:493: UserWarning: X does not have valid feature names, but StandardScaler was fitted with feature names\n",
      "  warnings.warn(\n",
      "c:\\Users\\JR\\.conda\\envs\\solol\\Lib\\site-packages\\sklearn\\base.py:493: UserWarning: X does not have valid feature names, but StandardScaler was fitted with feature names\n",
      "  warnings.warn(\n"
     ]
    },
    {
     "name": "stdout",
     "output_type": "stream",
     "text": [
      "1/1 [==============================] - 0s 29ms/step\n",
      "[[0.01548377 0.15575494 0.41021752 0.27260137 0.0449578  0.01881697\n",
      "  0.02885367 0.01150032 0.00580739 0.03600624]]\n",
      "1/1 [==============================] - 0s 26ms/step\n",
      "[[0.01535683 0.15556571 0.41128796 0.27210173 0.0449881  0.01871275\n",
      "  0.0288757  0.01145739 0.00576191 0.03589191]]\n",
      "1/1 [==============================] - ETA: 0s"
     ]
    },
    {
     "name": "stderr",
     "output_type": "stream",
     "text": [
      "c:\\Users\\JR\\.conda\\envs\\solol\\Lib\\site-packages\\sklearn\\base.py:493: UserWarning: X does not have valid feature names, but StandardScaler was fitted with feature names\n",
      "  warnings.warn(\n",
      "c:\\Users\\JR\\.conda\\envs\\solol\\Lib\\site-packages\\sklearn\\base.py:493: UserWarning: X does not have valid feature names, but StandardScaler was fitted with feature names\n",
      "  warnings.warn(\n"
     ]
    },
    {
     "name": "stdout",
     "output_type": "stream",
     "text": [
      "1/1 [==============================] - 0s 30ms/step\n",
      "[[0.01531731 0.15545681 0.41152388 0.27204397 0.04503493 0.0186864\n",
      "  0.02890028 0.01144006 0.00574955 0.03584677]]\n",
      "1/1 [==============================] - 0s 30ms/step\n",
      "[[0.01551846 0.1558075  0.41010037 0.27271408 0.04494389 0.01884109\n",
      "  0.0287676  0.01146524 0.00579939 0.03604231]]\n"
     ]
    },
    {
     "name": "stderr",
     "output_type": "stream",
     "text": [
      "c:\\Users\\JR\\.conda\\envs\\solol\\Lib\\site-packages\\sklearn\\base.py:493: UserWarning: X does not have valid feature names, but StandardScaler was fitted with feature names\n",
      "  warnings.warn(\n",
      "c:\\Users\\JR\\.conda\\envs\\solol\\Lib\\site-packages\\sklearn\\base.py:493: UserWarning: X does not have valid feature names, but StandardScaler was fitted with feature names\n",
      "  warnings.warn(\n"
     ]
    },
    {
     "name": "stdout",
     "output_type": "stream",
     "text": [
      "1/1 [==============================] - 0s 28ms/step\n",
      "[[0.01550246 0.155712   0.41022992 0.27269676 0.04496085 0.01884498\n",
      "  0.02877166 0.01146598 0.00579215 0.03602328]]\n",
      "1/1 [==============================] - 0s 26ms/step\n",
      "[[0.01550884 0.15584019 0.4103808  0.2723947  0.04494265 0.0188426\n",
      "  0.02876489 0.01147535 0.00579573 0.03605427]]\n"
     ]
    },
    {
     "name": "stderr",
     "output_type": "stream",
     "text": [
      "c:\\Users\\JR\\.conda\\envs\\solol\\Lib\\site-packages\\sklearn\\base.py:493: UserWarning: X does not have valid feature names, but StandardScaler was fitted with feature names\n",
      "  warnings.warn(\n",
      "c:\\Users\\JR\\.conda\\envs\\solol\\Lib\\site-packages\\sklearn\\base.py:493: UserWarning: X does not have valid feature names, but StandardScaler was fitted with feature names\n",
      "  warnings.warn(\n"
     ]
    },
    {
     "name": "stdout",
     "output_type": "stream",
     "text": [
      "1/1 [==============================] - 0s 28ms/step\n",
      "[[0.01553043 0.15590991 0.4102901  0.27236518 0.04489319 0.01884908\n",
      "  0.02877441 0.01150088 0.0058092  0.0360776 ]]\n",
      "1/1 [==============================] - 0s 27ms/step\n",
      "[[0.01561465 0.15604633 0.4091156  0.27282143 0.04509639 0.0189484\n",
      "  0.02881406 0.01151357 0.00584228 0.03618721]]\n"
     ]
    },
    {
     "name": "stderr",
     "output_type": "stream",
     "text": [
      "c:\\Users\\JR\\.conda\\envs\\solol\\Lib\\site-packages\\sklearn\\base.py:493: UserWarning: X does not have valid feature names, but StandardScaler was fitted with feature names\n",
      "  warnings.warn(\n",
      "c:\\Users\\JR\\.conda\\envs\\solol\\Lib\\site-packages\\sklearn\\base.py:493: UserWarning: X does not have valid feature names, but StandardScaler was fitted with feature names\n",
      "  warnings.warn(\n"
     ]
    },
    {
     "name": "stdout",
     "output_type": "stream",
     "text": [
      "1/1 [==============================] - 0s 29ms/step\n",
      "[[0.01587454 0.15623388 0.40761304 0.2738539  0.0448556  0.0191348\n",
      "  0.02865935 0.01154001 0.00590071 0.03633421]]\n",
      "1/1 [==============================] - 0s 43ms/step\n"
     ]
    },
    {
     "name": "stderr",
     "output_type": "stream",
     "text": [
      "c:\\Users\\JR\\.conda\\envs\\solol\\Lib\\site-packages\\sklearn\\base.py:493: UserWarning: X does not have valid feature names, but StandardScaler was fitted with feature names\n",
      "  warnings.warn(\n"
     ]
    },
    {
     "name": "stdout",
     "output_type": "stream",
     "text": [
      "[[0.01627027 0.15694477 0.40399396 0.27526844 0.04500823 0.01943734\n",
      "  0.02862906 0.01163907 0.00604272 0.03676613]]\n",
      "1/1 [==============================] - 0s 28ms/step\n",
      "[[0.01627551 0.1569261  0.40389442 0.27528688 0.04502089 0.01943295\n",
      "  0.02868323 0.01166111 0.00605257 0.03676636]]\n"
     ]
    },
    {
     "name": "stderr",
     "output_type": "stream",
     "text": [
      "c:\\Users\\JR\\.conda\\envs\\solol\\Lib\\site-packages\\sklearn\\base.py:493: UserWarning: X does not have valid feature names, but StandardScaler was fitted with feature names\n",
      "  warnings.warn(\n",
      "c:\\Users\\JR\\.conda\\envs\\solol\\Lib\\site-packages\\sklearn\\base.py:493: UserWarning: X does not have valid feature names, but StandardScaler was fitted with feature names\n",
      "  warnings.warn(\n"
     ]
    },
    {
     "name": "stdout",
     "output_type": "stream",
     "text": [
      "1/1 [==============================] - 0s 31ms/step\n",
      "[[0.01643988 0.15703721 0.40295786 0.27568144 0.0449419  0.01954814\n",
      "  0.02869066 0.01172404 0.00611146 0.03686741]]\n",
      "1/1 [==============================] - 0s 29ms/step\n",
      "[[0.016587   0.15723717 0.40232855 0.27579486 0.04488203 0.01965105\n",
      "  0.02863573 0.01174853 0.00615372 0.03698134]]\n"
     ]
    },
    {
     "name": "stderr",
     "output_type": "stream",
     "text": [
      "c:\\Users\\JR\\.conda\\envs\\solol\\Lib\\site-packages\\sklearn\\base.py:493: UserWarning: X does not have valid feature names, but StandardScaler was fitted with feature names\n",
      "  warnings.warn(\n",
      "c:\\Users\\JR\\.conda\\envs\\solol\\Lib\\site-packages\\sklearn\\base.py:493: UserWarning: X does not have valid feature names, but StandardScaler was fitted with feature names\n",
      "  warnings.warn(\n"
     ]
    },
    {
     "name": "stdout",
     "output_type": "stream",
     "text": [
      "1/1 [==============================] - 0s 31ms/step\n",
      "[[0.01660638 0.15711671 0.40258512 0.27587286 0.04482127 0.01967857\n",
      "  0.02853234 0.0117013  0.00613453 0.03695095]]\n",
      "1/1 [==============================] - 0s 26ms/step\n",
      "[[0.01661577 0.1574228  0.40203664 0.2756991  0.04510733 0.01972384\n",
      "  0.02852084 0.01166339 0.00613319 0.03707702]]\n"
     ]
    },
    {
     "name": "stderr",
     "output_type": "stream",
     "text": [
      "c:\\Users\\JR\\.conda\\envs\\solol\\Lib\\site-packages\\sklearn\\base.py:493: UserWarning: X does not have valid feature names, but StandardScaler was fitted with feature names\n",
      "  warnings.warn(\n",
      "c:\\Users\\JR\\.conda\\envs\\solol\\Lib\\site-packages\\sklearn\\base.py:493: UserWarning: X does not have valid feature names, but StandardScaler was fitted with feature names\n",
      "  warnings.warn(\n"
     ]
    },
    {
     "name": "stdout",
     "output_type": "stream",
     "text": [
      "1/1 [==============================] - 0s 36ms/step\n",
      "[[0.01666373 0.15765801 0.4016649  0.27554935 0.04516109 0.01974433\n",
      "  0.02854965 0.01169149 0.00615878 0.03715865]]\n",
      "1/1 [==============================] - 0s 29ms/step\n",
      "[[0.01649388 0.15755324 0.4026741  0.27505863 0.04516114 0.01960755\n",
      "  0.02860001 0.01168817 0.00611565 0.03704764]]\n"
     ]
    },
    {
     "name": "stderr",
     "output_type": "stream",
     "text": [
      "c:\\Users\\JR\\.conda\\envs\\solol\\Lib\\site-packages\\sklearn\\base.py:493: UserWarning: X does not have valid feature names, but StandardScaler was fitted with feature names\n",
      "  warnings.warn(\n",
      "c:\\Users\\JR\\.conda\\envs\\solol\\Lib\\site-packages\\sklearn\\base.py:493: UserWarning: X does not have valid feature names, but StandardScaler was fitted with feature names\n",
      "  warnings.warn(\n"
     ]
    },
    {
     "name": "stdout",
     "output_type": "stream",
     "text": [
      "1/1 [==============================] - 0s 32ms/step\n",
      "[[0.0165764  0.1574204  0.40183222 0.27571547 0.04524557 0.0197187\n",
      "  0.028582   0.0116854  0.00612941 0.03709443]]\n",
      "1/1 [==============================] - 0s 25ms/step\n",
      "[[0.01660632 0.15744267 0.4009966  0.276144   0.04532177 0.01978248\n",
      "  0.0286405  0.01174164 0.00615763 0.03716642]]\n"
     ]
    },
    {
     "name": "stderr",
     "output_type": "stream",
     "text": [
      "c:\\Users\\JR\\.conda\\envs\\solol\\Lib\\site-packages\\sklearn\\base.py:493: UserWarning: X does not have valid feature names, but StandardScaler was fitted with feature names\n",
      "  warnings.warn(\n",
      "c:\\Users\\JR\\.conda\\envs\\solol\\Lib\\site-packages\\sklearn\\base.py:493: UserWarning: X does not have valid feature names, but StandardScaler was fitted with feature names\n",
      "  warnings.warn(\n"
     ]
    },
    {
     "name": "stdout",
     "output_type": "stream",
     "text": [
      "1/1 [==============================] - 0s 32ms/step\n",
      "[[0.01659756 0.15744412 0.4009197  0.27621943 0.04532371 0.01979021\n",
      "  0.02862918 0.01174381 0.00615266 0.03717969]]\n",
      "1/1 [==============================] - 0s 30ms/step\n",
      "[[0.01658685 0.15747884 0.40072173 0.27634904 0.04539414 0.01981008\n",
      "  0.02859461 0.01171514 0.00613957 0.03720995]]\n"
     ]
    },
    {
     "name": "stderr",
     "output_type": "stream",
     "text": [
      "c:\\Users\\JR\\.conda\\envs\\solol\\Lib\\site-packages\\sklearn\\base.py:493: UserWarning: X does not have valid feature names, but StandardScaler was fitted with feature names\n",
      "  warnings.warn(\n",
      "c:\\Users\\JR\\.conda\\envs\\solol\\Lib\\site-packages\\sklearn\\base.py:493: UserWarning: X does not have valid feature names, but StandardScaler was fitted with feature names\n",
      "  warnings.warn(\n"
     ]
    },
    {
     "name": "stdout",
     "output_type": "stream",
     "text": [
      "1/1 [==============================] - 0s 32ms/step\n",
      "[[0.01644667 0.15769441 0.4013705  0.27577612 0.04540123 0.0196526\n",
      "  0.02864585 0.01171463 0.00611529 0.03718261]]\n",
      "1/1 [==============================] - 0s 29ms/step\n",
      "[[0.01661342 0.15792556 0.40031415 0.2759715  0.04545027 0.0197867\n",
      "  0.02864821 0.01176398 0.00617581 0.03735037]]\n"
     ]
    },
    {
     "name": "stderr",
     "output_type": "stream",
     "text": [
      "c:\\Users\\JR\\.conda\\envs\\solol\\Lib\\site-packages\\sklearn\\base.py:493: UserWarning: X does not have valid feature names, but StandardScaler was fitted with feature names\n",
      "  warnings.warn(\n",
      "c:\\Users\\JR\\.conda\\envs\\solol\\Lib\\site-packages\\sklearn\\base.py:493: UserWarning: X does not have valid feature names, but StandardScaler was fitted with feature names\n",
      "  warnings.warn(\n"
     ]
    },
    {
     "name": "stdout",
     "output_type": "stream",
     "text": [
      "1/1 [==============================] - 0s 27ms/step\n",
      "[[0.01668655 0.15797849 0.39987645 0.27620038 0.04541883 0.01984768\n",
      "  0.02860678 0.01177818 0.00619437 0.03741236]]\n",
      "1/1 [==============================] - 0s 24ms/step\n",
      "[[0.01658458 0.15797694 0.4003579  0.27599847 0.04542652 0.0197641\n",
      "  0.02860414 0.01176014 0.00616488 0.03736228]]\n"
     ]
    },
    {
     "name": "stderr",
     "output_type": "stream",
     "text": [
      "c:\\Users\\JR\\.conda\\envs\\solol\\Lib\\site-packages\\sklearn\\base.py:493: UserWarning: X does not have valid feature names, but StandardScaler was fitted with feature names\n",
      "  warnings.warn(\n",
      "c:\\Users\\JR\\.conda\\envs\\solol\\Lib\\site-packages\\sklearn\\base.py:493: UserWarning: X does not have valid feature names, but StandardScaler was fitted with feature names\n",
      "  warnings.warn(\n"
     ]
    },
    {
     "name": "stdout",
     "output_type": "stream",
     "text": [
      "1/1 [==============================] - 0s 28ms/step\n",
      "[[0.0167409  0.15814994 0.3995899  0.27616137 0.04542369 0.01988683\n",
      "  0.02856166 0.01178435 0.00620641 0.0374949 ]]\n",
      "1/1 [==============================] - 0s 47ms/step\n"
     ]
    },
    {
     "name": "stderr",
     "output_type": "stream",
     "text": [
      "c:\\Users\\JR\\.conda\\envs\\solol\\Lib\\site-packages\\sklearn\\base.py:493: UserWarning: X does not have valid feature names, but StandardScaler was fitted with feature names\n",
      "  warnings.warn(\n"
     ]
    },
    {
     "name": "stdout",
     "output_type": "stream",
     "text": [
      "[[0.01669876 0.15812504 0.39983258 0.27607128 0.04541902 0.01984749\n",
      "  0.02857628 0.01177804 0.00619652 0.03745502]]\n",
      "1/1 [==============================] - 0s 27ms/step\n",
      "[[0.01674568 0.1582     0.39946583 0.27626404 0.04540287 0.01988707\n",
      "  0.02854419 0.01178406 0.00620784 0.03749853]]\n"
     ]
    },
    {
     "name": "stderr",
     "output_type": "stream",
     "text": [
      "c:\\Users\\JR\\.conda\\envs\\solol\\Lib\\site-packages\\sklearn\\base.py:493: UserWarning: X does not have valid feature names, but StandardScaler was fitted with feature names\n",
      "  warnings.warn(\n",
      "c:\\Users\\JR\\.conda\\envs\\solol\\Lib\\site-packages\\sklearn\\base.py:493: UserWarning: X does not have valid feature names, but StandardScaler was fitted with feature names\n",
      "  warnings.warn(\n"
     ]
    },
    {
     "name": "stdout",
     "output_type": "stream",
     "text": [
      "1/1 [==============================] - 0s 29ms/step\n",
      "[[0.01676488 0.15826927 0.39949343 0.27612552 0.04539134 0.01989423\n",
      "  0.02854054 0.01178839 0.00621404 0.03751832]]\n",
      "1/1 [==============================] - 0s 26ms/step\n",
      "[[0.01679708 0.15837103 0.3992951  0.27610165 0.04539429 0.01991636\n",
      "  0.02853773 0.01179972 0.0062269  0.03756015]]\n",
      "1/1 [==============================] - ETA: 0s"
     ]
    },
    {
     "name": "stderr",
     "output_type": "stream",
     "text": [
      "c:\\Users\\JR\\.conda\\envs\\solol\\Lib\\site-packages\\sklearn\\base.py:493: UserWarning: X does not have valid feature names, but StandardScaler was fitted with feature names\n",
      "  warnings.warn(\n",
      "c:\\Users\\JR\\.conda\\envs\\solol\\Lib\\site-packages\\sklearn\\base.py:493: UserWarning: X does not have valid feature names, but StandardScaler was fitted with feature names\n",
      "  warnings.warn(\n"
     ]
    },
    {
     "name": "stdout",
     "output_type": "stream",
     "text": [
      "1/1 [==============================] - 0s 27ms/step\n",
      "[[0.01697106 0.15857945 0.39796883 0.27661553 0.04541573 0.02005538\n",
      "  0.02852366 0.01185533 0.00628911 0.0377259 ]]\n",
      "1/1 [==============================] - 0s 24ms/step\n",
      "[[0.0169232  0.15865435 0.3983653  0.2763252  0.0453909  0.02000798\n",
      "  0.02850813 0.0118409  0.00627202 0.03771205]]\n",
      "1/1 [==============================] - ETA: 0s"
     ]
    },
    {
     "name": "stderr",
     "output_type": "stream",
     "text": [
      "c:\\Users\\JR\\.conda\\envs\\solol\\Lib\\site-packages\\sklearn\\base.py:493: UserWarning: X does not have valid feature names, but StandardScaler was fitted with feature names\n",
      "  warnings.warn(\n",
      "c:\\Users\\JR\\.conda\\envs\\solol\\Lib\\site-packages\\sklearn\\base.py:493: UserWarning: X does not have valid feature names, but StandardScaler was fitted with feature names\n",
      "  warnings.warn(\n"
     ]
    },
    {
     "name": "stdout",
     "output_type": "stream",
     "text": [
      "1/1 [==============================] - 0s 25ms/step\n",
      "[[0.01693779 0.15857989 0.39826545 0.27643844 0.04540079 0.02001673\n",
      "  0.02853055 0.01185055 0.00628013 0.03769962]]\n"
     ]
    },
    {
     "name": "stderr",
     "output_type": "stream",
     "text": [
      "c:\\Users\\JR\\.conda\\envs\\solol\\Lib\\site-packages\\sklearn\\base.py:493: UserWarning: X does not have valid feature names, but StandardScaler was fitted with feature names\n",
      "  warnings.warn(\n"
     ]
    },
    {
     "name": "stdout",
     "output_type": "stream",
     "text": [
      "1/1 [==============================] - 0s 51ms/step\n",
      "[[0.01691696 0.15851462 0.39836267 0.27649233 0.04540573 0.02000618\n",
      "  0.02852293 0.01183551 0.00626875 0.03767429]]\n",
      "1/1 [==============================] - 0s 30ms/step\n"
     ]
    },
    {
     "name": "stderr",
     "output_type": "stream",
     "text": [
      "c:\\Users\\JR\\.conda\\envs\\solol\\Lib\\site-packages\\sklearn\\base.py:493: UserWarning: X does not have valid feature names, but StandardScaler was fitted with feature names\n",
      "  warnings.warn(\n",
      "c:\\Users\\JR\\.conda\\envs\\solol\\Lib\\site-packages\\sklearn\\base.py:493: UserWarning: X does not have valid feature names, but StandardScaler was fitted with feature names\n",
      "  warnings.warn(\n"
     ]
    },
    {
     "name": "stdout",
     "output_type": "stream",
     "text": [
      "[[0.01681887 0.15845957 0.39893395 0.27625236 0.04544304 0.0199398\n",
      "  0.0285097  0.01179169 0.00622916 0.03762187]]\n",
      "1/1 [==============================] - 0s 34ms/step\n",
      "[[0.01677446 0.15839563 0.39919686 0.27619156 0.0454379  0.01990416\n",
      "  0.0285209  0.01178315 0.00621542 0.03757991]]\n",
      "1/1 [==============================] - 0s 26ms/step\n",
      "[[0.01678906 0.15843782 0.3989251  0.27630225 0.04547262 0.01992076\n",
      "  0.02852547 0.01179068 0.00622279 0.03761341]]\n"
     ]
    },
    {
     "name": "stderr",
     "output_type": "stream",
     "text": [
      "c:\\Users\\JR\\.conda\\envs\\solol\\Lib\\site-packages\\sklearn\\base.py:493: UserWarning: X does not have valid feature names, but StandardScaler was fitted with feature names\n",
      "  warnings.warn(\n",
      "c:\\Users\\JR\\.conda\\envs\\solol\\Lib\\site-packages\\sklearn\\base.py:493: UserWarning: X does not have valid feature names, but StandardScaler was fitted with feature names\n",
      "  warnings.warn(\n"
     ]
    },
    {
     "name": "stdout",
     "output_type": "stream",
     "text": [
      "1/1 [==============================] - 0s 27ms/step\n",
      "[[0.01675756 0.15832064 0.3991309  0.27638158 0.04544095 0.01989299\n",
      "  0.0285213  0.01177967 0.00620894 0.03756546]]\n",
      "1/1 [==============================] - 0s 65ms/step\n",
      "[[0.01683892 0.1583481  0.39851588 0.27665105 0.04547459 0.01996393\n",
      "  0.02853183 0.01180616 0.00623762 0.03763192]]\n"
     ]
    },
    {
     "name": "stderr",
     "output_type": "stream",
     "text": [
      "c:\\Users\\JR\\.conda\\envs\\solol\\Lib\\site-packages\\sklearn\\base.py:493: UserWarning: X does not have valid feature names, but StandardScaler was fitted with feature names\n",
      "  warnings.warn(\n",
      "c:\\Users\\JR\\.conda\\envs\\solol\\Lib\\site-packages\\sklearn\\base.py:493: UserWarning: X does not have valid feature names, but StandardScaler was fitted with feature names\n",
      "  warnings.warn(\n"
     ]
    },
    {
     "name": "stdout",
     "output_type": "stream",
     "text": [
      "1/1 [==============================] - 0s 31ms/step\n",
      "[[0.01681127 0.15830612 0.39873487 0.27661365 0.04545643 0.01994373\n",
      "  0.02851863 0.01179121 0.00622383 0.03760026]]\n",
      "1/1 [==============================] - 0s 24ms/step\n",
      "[[0.01685469 0.15838021 0.3984024  0.27671337 0.04545629 0.01997698\n",
      "  0.02852196 0.01181071 0.00624268 0.03764067]]\n",
      "1/1 [==============================] - ETA: 0s"
     ]
    },
    {
     "name": "stderr",
     "output_type": "stream",
     "text": [
      "c:\\Users\\JR\\.conda\\envs\\solol\\Lib\\site-packages\\sklearn\\base.py:493: UserWarning: X does not have valid feature names, but StandardScaler was fitted with feature names\n",
      "  warnings.warn(\n",
      "c:\\Users\\JR\\.conda\\envs\\solol\\Lib\\site-packages\\sklearn\\base.py:493: UserWarning: X does not have valid feature names, but StandardScaler was fitted with feature names\n",
      "  warnings.warn(\n"
     ]
    },
    {
     "name": "stdout",
     "output_type": "stream",
     "text": [
      "1/1 [==============================] - 0s 29ms/step\n",
      "[[0.01685519 0.15840839 0.39840353 0.2766868  0.04544431 0.01997019\n",
      "  0.02852904 0.01181647 0.00624626 0.03763977]]\n",
      "1/1 [==============================] - 0s 23ms/step\n",
      "[[0.01685731 0.15832715 0.39842293 0.27674726 0.04543145 0.01996856\n",
      "  0.02854825 0.01182702 0.00624951 0.03762062]]\n",
      "1/1 [==============================] - ETA: 0s"
     ]
    },
    {
     "name": "stderr",
     "output_type": "stream",
     "text": [
      "c:\\Users\\JR\\.conda\\envs\\solol\\Lib\\site-packages\\sklearn\\base.py:493: UserWarning: X does not have valid feature names, but StandardScaler was fitted with feature names\n",
      "  warnings.warn(\n",
      "c:\\Users\\JR\\.conda\\envs\\solol\\Lib\\site-packages\\sklearn\\base.py:493: UserWarning: X does not have valid feature names, but StandardScaler was fitted with feature names\n",
      "  warnings.warn(\n"
     ]
    },
    {
     "name": "stdout",
     "output_type": "stream",
     "text": [
      "1/1 [==============================] - 0s 24ms/step\n",
      "[[0.01686339 0.15829146 0.39841846 0.2767965  0.04542093 0.01997225\n",
      "  0.02854599 0.01182729 0.00625    0.03761386]]\n",
      "1/1 [==============================] - 0s 36ms/step\n"
     ]
    },
    {
     "name": "stderr",
     "output_type": "stream",
     "text": [
      "c:\\Users\\JR\\.conda\\envs\\solol\\Lib\\site-packages\\sklearn\\base.py:493: UserWarning: X does not have valid feature names, but StandardScaler was fitted with feature names\n",
      "  warnings.warn(\n",
      "c:\\Users\\JR\\.conda\\envs\\solol\\Lib\\site-packages\\sklearn\\base.py:493: UserWarning: X does not have valid feature names, but StandardScaler was fitted with feature names\n",
      "  warnings.warn(\n"
     ]
    },
    {
     "name": "stdout",
     "output_type": "stream",
     "text": [
      "[[0.01688015 0.15830895 0.39835432 0.27680904 0.04540372 0.01998176\n",
      "  0.02854878 0.0118363  0.00625769 0.03761929]]\n",
      "1/1 [==============================] - 0s 32ms/step\n",
      "[[0.01691501 0.15829131 0.39819664 0.27688134 0.04541076 0.02001056\n",
      "  0.0285484  0.01184018 0.00626641 0.03763936]]\n",
      "1/1 [==============================] - 0s 27ms/step\n",
      "[[0.01696667 0.15830433 0.39779875 0.27703536 0.04544828 0.02006122\n",
      "  0.02855807 0.01185608 0.0062852  0.03768608]]\n"
     ]
    },
    {
     "name": "stderr",
     "output_type": "stream",
     "text": [
      "c:\\Users\\JR\\.conda\\envs\\solol\\Lib\\site-packages\\sklearn\\base.py:493: UserWarning: X does not have valid feature names, but StandardScaler was fitted with feature names\n",
      "  warnings.warn(\n",
      "c:\\Users\\JR\\.conda\\envs\\solol\\Lib\\site-packages\\sklearn\\base.py:493: UserWarning: X does not have valid feature names, but StandardScaler was fitted with feature names\n",
      "  warnings.warn(\n"
     ]
    },
    {
     "name": "stdout",
     "output_type": "stream",
     "text": [
      "1/1 [==============================] - 0s 26ms/step\n",
      "[[0.0169342  0.15827401 0.3981404  0.27688965 0.04543078 0.02003646\n",
      "  0.02853618 0.01183452 0.00626835 0.03765549]]\n",
      "1/1 [==============================] - 0s 27ms/step\n",
      "[[0.01688825 0.15824993 0.39855802 0.27670562 0.04539288 0.019992\n",
      "  0.02853201 0.01182178 0.00625296 0.03760655]]\n"
     ]
    },
    {
     "name": "stderr",
     "output_type": "stream",
     "text": [
      "c:\\Users\\JR\\.conda\\envs\\solol\\Lib\\site-packages\\sklearn\\base.py:493: UserWarning: X does not have valid feature names, but StandardScaler was fitted with feature names\n",
      "  warnings.warn(\n",
      "c:\\Users\\JR\\.conda\\envs\\solol\\Lib\\site-packages\\sklearn\\base.py:493: UserWarning: X does not have valid feature names, but StandardScaler was fitted with feature names\n",
      "  warnings.warn(\n"
     ]
    },
    {
     "name": "stdout",
     "output_type": "stream",
     "text": [
      "1/1 [==============================] - 0s 24ms/step\n",
      "[[0.01689546 0.15827043 0.39849252 0.27671015 0.04539911 0.0199958\n",
      "  0.02853696 0.01182612 0.00625702 0.03761639]]\n"
     ]
    }
   ],
   "source": [
    "# Initialize the webcam\n",
    "cap = cv2.VideoCapture(0)  # '0' is typically the default value for the primary camera\n",
    "\n",
    "#Print out what each label corresponds to\n",
    "mp_pose = mp.solutions.pose\n",
    "pose = mp_pose.Pose()\n",
    "\n",
    "while True:\n",
    "    ret, frame = cap.read()\n",
    "    if not ret:\n",
    "        continue\n",
    "\n",
    "    # Convert the frame to RGB\n",
    "    frame_rgb = cv2.cvtColor(frame, cv2.COLOR_BGR2RGB)\n",
    "\n",
    "    # Process the frame with MediaPipe Pose\n",
    "    results = pose.process(frame_rgb)\n",
    "\n",
    "    if results.pose_landmarks:\n",
    "        # Draw the pose annotations on the frame\n",
    "        mp.solutions.drawing_utils.draw_landmarks(\n",
    "            frame, results.pose_landmarks, mp_pose.POSE_CONNECTIONS)\n",
    "\n",
    "        # Extract landmarks\n",
    "        landmarks = []\n",
    "        for landmark in results.pose_landmarks.landmark:\n",
    "            landmarks.extend([landmark.x, landmark.y, landmark.z])\n",
    "\n",
    "        # Flatten the landmarks into a single array and scale\n",
    "        landmarks = np.array(landmarks).flatten()\n",
    "        landmarks_scaled = scaler.transform(landmarks.reshape(1, -1)) \n",
    "        # Make a prediction directly with the correctly shaped input\n",
    "        predictions = model.predict(landmarks_scaled)\n",
    "        \n",
    "        pose_id = np.argmax(predictions, axis=1)[0]\n",
    "        pose_name = label_encoder.inverse_transform([pose_id])[0]  # Decode the pose ID to pose name\n",
    "\n",
    "        # Display the predicted pose name on the frame\n",
    "        cv2.putText(frame, f'Pose: {pose_name}', (10, 30), cv2.FONT_HERSHEY_SIMPLEX, 1, (0, 0, 255), 2, cv2.LINE_AA)\n",
    "\n",
    "\n",
    "        # # Flatten the landmarks into a single array\n",
    "        # landmarks = np.array(landmarks).flatten()\n",
    "\n",
    "        # landmarks_scaled = scaler.transform(landmarks.reshape(1, -1)) \n",
    "        # # The expected shape is (1, 1, 99), where num_features should match the number of columns used during training\n",
    "        # landmarks = np.expand_dims(landmarks_scaled, axis=0)  # Add the batch dimension\n",
    "        # landmarks = np.expand_dims(landmarks_scaled, axis=1)  # Add the extra dimension the model expects\n",
    "\n",
    "        # # Make a prediction\n",
    "        # predictions = model.predict(landmarks)\n",
    "        # print(predictions)\n",
    "        # pose_id = np.argmax(predictions, axis=1)[0]\n",
    "        # print(label_encoder.inverse_transform([pose_id]))\n",
    "        # pose_name = label_encoder.inverse_transform([pose_id])[0]  # Decode the pose ID to pose name\n",
    "\n",
    "        # # Display the predicted pose name or id on the frame\n",
    "        # cv2.putText(frame, f'Pose: {pose_name}', (10, 30), cv2.FONT_HERSHEY_SIMPLEX, 1, (0, 0, 255), 2, cv2.LINE_AA)\n",
    "        # # cv2.putText(frame, f'Pose: {pose_name}', (10, 30), cv2.FONT_HERSHEY_SIMPLEX, 1, (0, 0, 255), 2, cv2.LINE_AA)\n",
    "\n",
    "    cv2.imshow('Pose Detection', frame)\n",
    "\n",
    "    if cv2.waitKey(1) & 0xFF == ord('q'):\n",
    "        break\n",
    "\n",
    "# Release the webcam and destroy all OpenCV windows\n",
    "cap.release()\n",
    "cv2.destroyAllWindows()"
   ]
  },
  {
   "cell_type": "code",
   "execution_count": null,
   "metadata": {},
   "outputs": [],
   "source": []
  },
  {
   "cell_type": "code",
   "execution_count": 17,
   "metadata": {},
   "outputs": [
    {
     "data": {
      "text/plain": [
       "array([[-0.01158827,  1.23560489,  0.56795577, -0.02897438,  1.2975292 ,\n",
       "         0.56202248, -0.04082212,  1.30494096,  0.56207536, -0.05168885,\n",
       "         1.31383956,  0.56220097,  0.00500048,  1.299144  ,  0.55945009,\n",
       "         0.01679921,  1.30954633,  0.55948465,  0.02782047,  1.31831854,\n",
       "         0.55963443, -0.07116156,  1.39747999,  0.45516499,  0.04362011,\n",
       "         1.39327827,  0.44426089, -0.03495807,  1.23252423,  0.5312899 ,\n",
       "         0.01025006,  1.23636145,  0.52851059, -0.21485541,  1.4741873 ,\n",
       "         0.3896439 ,  0.19997572,  1.45725771,  0.35638038, -0.29487272,\n",
       "         0.89928207,  0.39657445,  0.33814699,  0.87955843,  0.3739565 ,\n",
       "        -0.20544165,  0.54439317,  0.42859189,  0.27420116,  0.52148871,\n",
       "         0.40883246, -0.18549335,  0.50394157,  0.4651473 ,  0.25671285,\n",
       "         0.48092817,  0.44460735, -0.17298614,  0.51153652,  0.48221146,\n",
       "         0.2414523 ,  0.48812777,  0.46245632, -0.17243129,  0.52061755,\n",
       "         0.43932868,  0.24184514,  0.49871914,  0.4210512 , -0.46745625,\n",
       "         0.28204761,  0.02969037,  0.85982695,  0.23541451, -0.0296317 ,\n",
       "        -0.13014526, -0.64617631, -0.02122624,  0.34592351, -0.68576304,\n",
       "        -0.06604239, -0.0628856 , -1.16641334, -0.40375821,  0.23314451,\n",
       "        -1.20802547, -0.4224055 , -0.05137731, -1.19108797, -0.41611446,\n",
       "         0.21546236, -1.23397983, -0.43345055, -0.04721112, -1.27443511,\n",
       "        -0.23017629,  0.2164611 , -1.31201808, -0.24586242]])"
      ]
     },
     "execution_count": 17,
     "metadata": {},
     "output_type": "execute_result"
    }
   ],
   "source": [
    "landmarks_scaled"
   ]
  }
 ],
 "metadata": {
  "kernelspec": {
   "display_name": "solol",
   "language": "python",
   "name": "python3"
  },
  "language_info": {
   "codemirror_mode": {
    "name": "ipython",
    "version": 3
   },
   "file_extension": ".py",
   "mimetype": "text/x-python",
   "name": "python",
   "nbconvert_exporter": "python",
   "pygments_lexer": "ipython3",
   "version": "3.11.7"
  }
 },
 "nbformat": 4,
 "nbformat_minor": 2
}
